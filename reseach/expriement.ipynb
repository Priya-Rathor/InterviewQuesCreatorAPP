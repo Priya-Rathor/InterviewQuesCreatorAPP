{
 "cells": [
  {
   "cell_type": "code",
   "execution_count": 3,
   "metadata": {},
   "outputs": [
    {
     "name": "stdout",
     "output_type": "stream",
     "text": [
      "Collecting dotenv\n",
      "  Using cached dotenv-0.0.5-py3-none-any.whl\n",
      "Installing collected packages: dotenv\n",
      "Successfully installed dotenv-0.0.5\n"
     ]
    },
    {
     "name": "stderr",
     "output_type": "stream",
     "text": [
      "WARNING: You are using pip version 22.0.4; however, version 25.0 is available.\n",
      "You should consider upgrading via the 'C:\\Users\\USER\\Projects\\InterviewQuesCreatorAPP\\env\\Scripts\\python.exe -m pip install --upgrade pip' command.\n"
     ]
    }
   ],
   "source": [
    "! pip install dotenv"
   ]
  },
  {
   "cell_type": "code",
   "execution_count": 1,
   "metadata": {},
   "outputs": [],
   "source": [
    "import os\n",
    "from dotenv import load_dotenv"
   ]
  },
  {
   "cell_type": "code",
   "execution_count": 8,
   "metadata": {},
   "outputs": [],
   "source": [
    "load_dotenv()\n",
    "\n",
    "OPENAI_API_KEY=os.getenv(\"OPENAI_API_KEY\")\n"
   ]
  },
  {
   "cell_type": "code",
   "execution_count": 9,
   "metadata": {},
   "outputs": [],
   "source": [
    "os.environ[\"OPENAI_API_KEY\"] = OPENAI_API_KEY"
   ]
  },
  {
   "cell_type": "code",
   "execution_count": 10,
   "metadata": {},
   "outputs": [],
   "source": [
    "\n",
    "from langchain.document_loaders import PyPDFLoader\n"
   ]
  },
  {
   "cell_type": "code",
   "execution_count": 11,
   "metadata": {},
   "outputs": [
    {
     "data": {
      "text/plain": [
       "'c:\\\\Users\\\\USER\\\\Projects\\\\InterviewQuesCreatorAPP\\\\reseach'"
      ]
     },
     "execution_count": 11,
     "metadata": {},
     "output_type": "execute_result"
    }
   ],
   "source": [
    "%pwd"
   ]
  },
  {
   "cell_type": "code",
   "execution_count": 12,
   "metadata": {},
   "outputs": [
    {
     "name": "stdout",
     "output_type": "stream",
     "text": [
      "c:\\Users\\USER\\Projects\\InterviewQuesCreatorAPP\n"
     ]
    },
    {
     "name": "stderr",
     "output_type": "stream",
     "text": [
      "c:\\Users\\USER\\AppData\\Local\\Programs\\Python\\Python310\\lib\\site-packages\\IPython\\core\\magics\\osm.py:417: UserWarning: This is now an optional IPython functionality, setting dhist requires you to install the `pickleshare` library.\n",
      "  self.shell.db['dhist'] = compress_dhist(dhist)[-100:]\n"
     ]
    }
   ],
   "source": [
    "%cd .."
   ]
  },
  {
   "cell_type": "code",
   "execution_count": 13,
   "metadata": {},
   "outputs": [
    {
     "data": {
      "text/plain": [
       "'c:\\\\Users\\\\USER\\\\Projects\\\\InterviewQuesCreatorAPP'"
      ]
     },
     "execution_count": 13,
     "metadata": {},
     "output_type": "execute_result"
    }
   ],
   "source": [
    "%pwd"
   ]
  },
  {
   "cell_type": "code",
   "execution_count": 15,
   "metadata": {},
   "outputs": [],
   "source": [
    "file_path=\"data/english.pdf\"\n",
    "loader = PyPDFLoader(file_path)\n",
    "data = loader.load()"
   ]
  },
  {
   "cell_type": "code",
   "execution_count": 16,
   "metadata": {},
   "outputs": [
    {
     "data": {
      "text/plain": [
       "[Document(metadata={'source': 'data/english.pdf', 'page': 0}, page_content='izsepan / 1\\nx|&[kaM\\nx|&[kaM\\n2024-25\\n'),\n",
       " Document(metadata={'source': 'data/english.pdf', 'page': 1}, page_content='2 / varjk\\n2024-25\\n'),\n",
       " Document(metadata={'source': 'data/english.pdf', 'page': 2}, page_content='izsepan / 3\\nizsepan dk tUe okjk.klh f”kys osQ yegh xzke esa gqvk FkkA\\nmudk ewy uke èkuirjk; FkkA iszepan dh izkjafHkd f\\'k{kk\\nokjk.klh esa gqbZA eSfVªd osQ ckn os vè;kiu djus yxsA\\nLokè;k; osQ :i esa gh mUgksaus ch-,- rd f\\'k{kk xzg.k dhA\\nvlg;ksx vkanksyu osQ nkSjku mUgksaus ljdkjh ukSdjh ls\\nR;kxi=k ns fn;k vkSj iwjh rjg ys[ku&dk;Z osQ izfr lefiZr\\ngks x,A\\nizsepan us vius ys[ku dh \\'kq #vkr igys mnwZ esa\\nuokcjk; osQ uke ls dh] ckn esa ¯gnh esa fy[kus yxsA\\nmUgksaus vius lkfgR; esa fdlkuksa] nfyrksa] ukfj;ksa dh osnuk\\nvkSj o.kZ&O;oLFkk dh oqQjhfr;ksa dk ekfeZd fp=k.k fd;k\\ngSA os lkfgR; dks Lokar% lq[kk; u ekudj lkekftd\\nifjorZu dk ,d l\\'kDr ekè;e ekurs FksA os ,d ,sls\\nlkfgR;dkj Fks] tks lekt dh okLrfod fLFkfr dks iSuh\\nn`f\"V ls ns[kus dh \\'kfDr j[krs FksA mUgksaus lekt&lqèkkj\\nvkSj jk\"Vªh;&Hkkouk ls vksrizksr vusd miU;klksa ,oa dgkfu;ksa\\ndh jpuk dhA dFkk&laxBu] pfj=k&fp=k.k] dFkksidFku\\nvkfn dh n`f\"V ls mudh jpuk,¡ cstksM+ gSaA mudh Hkk\"kk\\ncgqr ltho] eqgkojsnkj vkSj cksypky osQ fudV gSA ¯gnh\\nHkk\"kk dks yksdfiz; cukus esa mudk fo\\'ks\"k ;ksxnku gSA\\nlaLÑr osQ izpfyr \\'kCnksa osQ lkFk&lkFk mnwZ dh jokuh bldh\\nfo\\'ks\"krk gS] ftlus ¯gnh dFkk Hkk\"kk dks u;k vk;ke fn;kA\\nmudh izeq[k o`Qfr;k¡ gSa µ ekuljksoj (vkB Hkkx)]\\nxqIrèku (nks Hkkx) (dgkuh laxzg)_  fueZyk] lsoklnu]\\niszekJe] jaxHkwfe] deZHkwfe] xcu] xksnku (miU;kl)_ dcZyk]\\nlaxzke] izse dh osnh (ukVd)_ fofoèk izlax (rhu [kaMksa eas]\\nlkfgfR;d vkSj jktuhfrd fucaèkksa dk laxzg)_ oqQN fopkj\\n(lu~ 1880&1936)\\nizsepan\\n2024-25\\n'),\n",
       " Document(metadata={'source': 'data/english.pdf', 'page': 3}, page_content='4 / varjk\\n(lkfgfR;d fucaèk)A mUgksaus ekèkqjh] gal] e;kZnk] tkxj.k vkfn if=kdkvksa dk laiknu\\nHkh fd;kA bl ikB~;iqLrd esa mudh bZnxkg dgkuh nh xbZ gSA\\n¯gnh esa cky&euksfoKku ls lacaf/r dgkfu;k¡ cgqr de fy[kh xbZ gSaA izsepan\\nmu nqyZHk dFkkdkjksa esa ls gSa ftUgksaus iwjh izkekf.kdrk ,oa rUe;rk osQ lkFk\\ncky&thou dks viuh dgkfu;ksa esa txg nh gSA mudh dgkfu;k¡ Hkkjr dh lk>h\\nlaLÑfr ,oa xzkeh.k thou osQ fofo/ jaxksa ls ljkcksj gSaA\\nbZnxkg izsepan dh bUgha fo\\'ks\"krkvksa dks vfHkO;Dr djus okyh izfrfuf/\\ndgkuh gSA bl dgkuh esa bZn tSls egÙoiw.kZ R;ksgkj dks vk/kj cukdj xzkeh.k\\neqfLye thou dk lqanj fp=k izLrqr fd;k x;k gSA gkfen dk pfj=k gesa crkrk gS\\nfd vHkko mez ls igys cPpksa esa oSQls cM+kas tSlh le>nkjh iSnk dj nsrk gSA esys\\nesa gkfen viuh gj pkg ij la;e j[kus esa fot;h gksrk gSA lkFk gh #Lres ¯gn\\nfpeVs osQ ekè;e ls izsepan us Je osQ lkSan;Z ,oa egÙo dks Hkh mn~?kkfVr fd;k\\ngSA fp=kkRed Hkk\"kk dh n`f\"V ls Hkh ;g dgkuh vuwBh gSA\\n2024-25\\n'),\n",
       " Document(metadata={'source': 'data/english.pdf', 'page': 4}, page_content=\"izsepan / 5\\nbZnxkg\\nje”kku osQ iwjs rhl jks”kksa osQ ckn bZn vkbZ gSA fdruk euksgj] fdruk lqgkouk izHkkr\\ngSA o`{kksa ij oqQN vthc gfj;kyh gS] [ksrksa esa oqQN vthc jkSud gS] vkleku ij\\noqQN vthc ykfyek gSA vkt dk lw;Z ns[kks] fdruk I;kjk] fdruk 'khry gS ekuks\\nlalkj dks bZn dh cèkkbZ ns jgk gSA xk¡o esa fdruh gypy gSA bZnxkg tkus dh\\nrS;kfj;k¡ gks jgh gSaA fdlh osQ oqQjrs esa cVu ugha gS] iM+ksl osQ ?kj ls lqbZ&rkxk ysus\\nnkSM+k tk jgk gSA fdlh osQ twrs dM+s gks x, gSa] muesa rsy Mkyus osQ fy, rsyh osQ\\n?kj Hkkxk tkrk gSA tYnh&tYnh cSyksa dks lkuh&ikuh ns nsaA bZnxkg ls ykSVrs&ykSVrs\\nnksigj gks tk,xkA rhu dksl dk iSny jkLrk] fiQj lSdM+ksa vknfe;ksa ls feyuk&HksaVuk]\\nnksigj osQ igys ykSVuk vlaHko gSA yM+osQ lcls ”;knk izlUu gSaA fdlh us ,d jks”kk\\nj[kk gS] og Hkh nksigj rd] fdlh us og Hkh ugha_ ysfdu bZnxkg tkus dh [kq'kh\\nmuosQ fgLls dh ph”k gSA jks”ks cM+s&cw<+ksa osQ fy, gksaxsA buosQ fy, rks bZn gSA jks”k\\nbZn dk uke jVrs Fks vkt og vk xbZA vc tYnh iM+h gS fd yksx bZnxkg D;ksa\\nugha pyrsA bUgsa x`gLFkh dh ¯prkvksa ls D;k iz;kstu! lsoS;ksa osQ fy, nwèk vkSj 'kDdj\\n?kj esa gS ;k ugha] budh cyk ls] ;s rks lsoS;k¡ [kk,¡xsA og D;k tkusa fd vCcktku\\nD;ksa cngokl pkSèkjh dk;evyh osQ ?kj nkSM+s tk jgs gSaA mUgsa D;k [kcj fd pkSèkjh\\nvkt vk¡[ksa cny ysa] rks ;g lkjh bZn eqgjZe gks tk,A mudh viuh tscksa esa rks oqQcsj\\ndk èku Hkjk gqvk gSA ckj&ckj tsc ls viuk [k”kkuk fudkydj fxurs gSa vkSj [kq'k\\n2024-25\\n\"),\n",
       " Document(metadata={'source': 'data/english.pdf', 'page': 5}, page_content='6 / varjk\\ngksdj fiQj j[k ysrs gSaA egewn fxurk gS] ,d&nks] nl&ckjg! mlosQ ikl ckjg iSls\\ngSaA eksgflu osQ ikl ,d] nks] rhu] vkB] ukS] ianzg iSls gSaA bUgha vufxurh iSlksa esa\\nvufxurh ph”ksa yk,¡xs µ f[kykSus] feBkb;k¡] fcxqy] xsan vkSj tkus D;k&D;k! vkSj\\nlcls ”;knk izlUu gS gkfenA og pkj&ik¡p lky dk xjhc&lwjr] nqcyk&iryk\\nyM+dk] ftldk cki xr o\"kZ gS ”ks dh HksaV gks x;k vkSj ek¡ u tkus D;ksa ihyh\\ngksrh&gksrh ,d fnu ej xbZA fdlh dks irk u pyk] D;k chekjh gSA dgrh rks dkSu\\nlquus okyk FkkA fny ij tks oqQN chrrh Fkh] og fny esa gh lgrh Fkh vkSj tc\\nu lgk x;k rks lalkj ls fcnk gks xbZA vc gkfen viuh cw<+h nknh vehuk dh xksn\\nesa lksrk gS vkSj mruk gh izlUu gSA mlosQ vCcktku #i;s dekus x, gSaA cgqr&lh\\nFkSfy;k¡ ysdj vk, ¡xsA vEehtku vYykg fe;k¡ osQ ?kj ls mlosQ fy, cM+h\\nvPNh&vPNh ph”ksa ykus xbZ gSa_ blfy, gkfen izlUu gSA vk\\'kk rks cM+h ph”k gS]\\nvkSj fiQj cPpksa dh vk\\'kk! mudh dYiuk rks jkbZ dk ioZr cuk ysrh gSA gkfen osQ\\nik¡o esa twrs ugha gSa] flj ij ,d iqjkuh&èkqjkuh Vksih gS] ftldk xksVk dkyk iM+ x;k\\ngS] fiQj Hkh og izlUu gSA tc mlosQ vCcktku FkSfy;k¡ vkSj vEehtku fu;kersa\\nysdj vk,¡xh] rks og fny osQ vjeku fudky ysxkA rc ns[ksxk egewn] eksgflu] uwjs\\nvkSj lEeh dgk¡ ls mrus iSls fudkysaxsA vHkkfxu vehuk viuh dksBjh esa cSBh jks\\njgh gSA vkt bZn dk fnu vkSj mlosQ ?kj esa nkuk ugha! vkt vkfcn gksrk rks D;k\\nblh rjg bZn vkrh vkSj pyh tkrh! bl vaèkdkj vkSj fujk\\'kk esa og Mwch tk jgh\\ngSA fdlus cqyk;k Fkk bl fuxksM+h bZn dks\\\\ bl ?kj esa mldk dke ugha_ ysfdu\\ngkfen! mls fdlh osQ ejus&thus ls D;k eryc\\\\ mlosQ vanj izdk\\'k gS] ckgj\\nvk\\'kkA foifÙk viuk lkjk nycy ysdj vk,] gkfen dh vkuan Hkjh fprou mldk\\nfoèoal dj nsxhA\\ngkfen Hkhrj tkdj nknh ls dgrk gS µ rqe Mjuk ugha vEek¡] eSa lcls igys\\nvkmQ¡xkA fcyoqQy u MjukA\\nvehuk dk fny dpksV jgk gSA xk¡o osQ cPps vius&vius cki osQ lkFk tk\\njgs gSaA gkfen dk cki vehuk osQ flok vkSj dkSu gS! mls oSQls vosQys esys tkus\\n2024-25\\n'),\n",
       " Document(metadata={'source': 'data/english.pdf', 'page': 6}, page_content=\"izsepan / 7\\nns\\\\ ml HkhM+&HkkM+ esa cPpk dgha [kks tk, rks D;k gks\\\\ ugha] vehuk mls ;ksa u\\ntkus nsxhA uUgha&lh tku! rhu dksl pysxk oSQls! iSj esa Nkys iM+ tk,¡xsA twrs Hkh\\nrks ugha gaSA og FkksM+h&FkksM+h nwj ij mls xksn ys ysxh_ ysfdu ;gk¡ lsoS;k¡ dkSu\\nidk,xk\\\\ iSls gksrs rks ykSVrs&ykSVrs lc lkexzh tek djosQ pViV cuk ysrhA ;gk¡\\nrks ?kaVksa ph”ksa tek djrs yxsaxsA ek¡xs gh dk rks Hkjkslk BgjkA ml fnu I+kQgheu osQ\\ndiM+s flys FksA vkB vkus iSls feys FksA ml vBUuh dks bZeku dh rjg cpkrh\\npyh vkrh Fkh blh bZn osQ fy,] ysfdu dy Xokyu flj ij lokj gks xbZ rks\\nD;k djrh! gkfen osQ fy, oqQN ugha gS] rks nks iSls dk nwèk rks pkfg, ghA vc\\nrks oqQy nks vkus iSls cp jgs gSaA rhu iSls gkfen dh tsc esa] ik¡p vehuk osQ cVqos\\nesaA ;gh rks fclkr gS vkSj bZn dk R;ksgkj] vYykg gh csM+k ikj yxk,A èkkscu vkSj\\nukbu vkSj esgrjkuh vkSj pwfM+gkfju lHkh rks vk,¡xhA lHkh dks lsoS;k¡ pkfg, vkSj\\nFkksM+k fdlh dh vk¡[kksa ugha yxrkA fdl&fdl ls eq¡g pqjk,xhA vkSj eq¡g D;ksa\\npqjk,\\\\ lky&Hkj dk R;ksgkj gSA f”kanxh [kSfj;r ls jgs] mudh rdnhj Hkh rks mlh\\nosQ lkFk gSA cPps dks [kqnk lyker j[ks] fnu Hkh dV tk,¡xsA\\nxk¡o ls esyk pykA vkSj cPpksa osQ lkFk gkfen Hkh tk jgk FkkA dHkh\\nlc&osQ&lc nkSM+dj vkxs fudy tkrsA fiQj fdlh isM+ osQ uhps [kM+s gksdj\\nlkFkokyksa dk bar”kkj djrsA ;g yksx D;ksa bruk èkhjs&èkhjs py jgs gSa! gkfen\\nosQ iSjksa esa rks tSls ij yx x, gSaA og dHkh Fkd ldrk gS! 'kgj dk nkeu\\nvk x;kA lM+d osQ nksuksa vksj vehjksa osQ cxhps gSaA iDdh pkjnhokjh cuh gqbZ\\ngSA isM+ksa esa vke vkSj yhfp;k¡ yxh gqbZ gSaA dHkh&dHkh dksbZ yM+dk oaQoQM+h\\nmBkdj vke ij fu'kkuk yxkrk gSA ekyh vanj ls xkyh nsrk gqvk fudyrk\\ngSA yM+osQ ogk¡ ls ,d iQyk±x ij gSaA [kwc g¡l jgs gSaA ekyh dks oSQlk mYyw\\ncuk;k gSA\\ncM+h&cM+h bekjrsa vkus yxhaA ;g vnkyr gS] ;g dkyst gS] ;g Dyc&?kj\\ngS! brus cM+s dkyst esa fdrus yM+osQ i<+rs gksaxs\\\\ lc yM+osQ ugha gSa th!\\ncM+s&cM+s vkneh gSa] lp! mudh cM+h&cM+h ew¡Nsa gSaA brus cM+s gks x,] vHkh rd\\n2024-25\\n\"),\n",
       " Document(metadata={'source': 'data/english.pdf', 'page': 7}, page_content=\"8 / varjk\\ni<+us tkrs gSaA u tkus dc rd i<+saxs vkSj D;k  djsaxs bruk i<+dj] gkfen osQ\\nenjls esa nks&rhu cM+s&cM+s yM+osQ gSa] fcyoqQy rhu dkSM+h osQA jks”k ekj [kkrs\\ngSa] dke ls th pqjkus  okysA bl txg Hkh mlh rjg osQ yksx gksaxs vkSj D;kA\\nDyc&?kj esa tknw gksrk gSA lquk gS] ;gk¡ eqn Zs dh [kksifM+;k¡ nkSM+rh gSaA vkSj\\ncM+s&cM+s rek'ks gksrs gSa] ij fdlh dks vanj ugha tkus nsrsA vkSj ;gk¡ 'kke dks\\nlkgc yksx [ksyrs gSaA cM+s&cM+s vkneh [ksyrs gSa] ew¡Nksa&nk<+hokysA vkSj esesa Hkh\\n[ksyrh gSa] lp! gekjh vEek¡ dks og ns nks] D;k uke gS] cSV] rks mls idM+\\ngh u losaQA ?kqekrs gh yq<+d tk,¡A\\negewn us dgk µ gekjh vEehtku dk rks gkFk dk¡ius yxs] vYyk dleA\\neksgflu cksyk µ pyks] euksa vkVk ihl Mkyrh gSaA ”kjk&lk cSV idM+ ysaxh] rks\\ngkFk dk¡ius yxsaxs\\\\ lSdM+ksa ?kM+s ikuh jks”k fudkyrh gSaA ik¡p ?kM+s rks rsjh HkSal ih tkrh\\ngSA fdlh ese dks ,d ?kM+k ikuh Hkjuk iM+s rks vk¡[kksa rys v¡èksjk vk tk,A\\negewn µ ysfdu nkSM+rha rks ugha] mNy&owQn rks ugha ldrhaA\\neksgflu µ gk¡] mNy&owQn ugha ldrha] ysfdu ml fnu esjh xk; [kqy xbZ\\nFkh vkSj pkSèkjh osQ [ksr esa tk iM+h Fkh] rks vEek¡ bruk rs”k nkSM+ha fd eSa mUgsa u\\nik ldk] lpA\\nvkxs pysA gyokb;ksa dh nwdkusa 'kq: gqb±A vkt [kwc lth gqbZ FkhaA bruh\\nfeBkb;k¡ dkSu [kkrk gS\\\\ ns[kks u] ,d&,d nwdku ij euksa gksaxhA lquk gS] jkr dks\\nftUukr vkdj [kjhn ys tkrs gSaA vCck dgrs Fks fd vkèkh jkr dks ,d vkneh\\ngj nwdku ij tkrk gS vkSj ftruk eky cpk gksrk gS] og rqyok ysrk gS vkSj\\nlpeqp osQ #i;s nsrk gS] fcyoqQy ,sls gh #i;sA\\ngkfen dks ;dhu u vk;k µ ,sls #i;s ftUukr dks dgk¡ ls fey tk,¡xs\\\\\\neksgflu us dgk µ ftUukr dks #i;s dh D;k deh\\\\ ftl [ktkus esa pkgsa pys\\ntk,¡A yksgs osQ njok”ks rd mUgas ugha jksd ldrs tukc] vki gSa fdl isQj esa! ghjs\\ntokgjkr rd muosQ ikl jgrs gSaA ftlls [kq'k gks x, mls Vksdjksa tokgjkr ns\\nfn,A vHkh ;gha cSBs gSSa] ik¡p feuV esa dydÙkk igq¡p tk,¡A\\n2024-25\\n\"),\n",
       " Document(metadata={'source': 'data/english.pdf', 'page': 8}, page_content=\"izsepan / 9\\ngkfen us fiQj iwNk µ ftUukr cgqr cM+s&cM+s gksrs gksaxs\\\\\\neksgflu µ ,d&,d vkleku osQ cjkcj gksrk gS thA ”kehu ij [kM+k gks tk,\\nrks mldk flj vkleku ls tk yxs] exj pkgs rks ,d yksVs esa ?kql tk,A\\ngkfen µ yksx mUgsa oSQls [kq'k djrs gksaxsA dksbZ eq>s og earj crk ns rks ,d\\nftUu dks [kq'k dj yw¡A\\neksgflu µ vc ;g rks eSa ugha tkurk] ysfdu pkSèkjh lkgc osQ dkcw esa cgqr\\nls ftUukr gSaA dksbZ ph”k pksjh tk,] pkSèkjh lkgc mldk irk yxk nsaxs vkSj pksj dk\\nuke Hkh crk nsaxsA tqejkrh dk cNok ml fnu [kks x;k FkkA rhu fnu gSjku gq,] dgha\\nu feykA rc >d ekjdj pkSèkjh osQ ikl x,A pkSèkjh us rqjar crk fn;k] eos'kh[kkus\\nesa gS vkSj ogha feykA ftUukr vkdj mUgsa lkjs tgku dh [kcjsa ns tkrs gSaA\\nvc mldh le> esa vk x;k fd pkSèkjh osQ ikl D;ksa bruk èku gS] vkSj D;ksa\\nmudk bruk lEeku gSA\\nvkxs pysA ;g iqfyl ykbu gSA ;gha lc dkfulfVfcy dok;n djrs gSaA\\njSVu! I+kQk; iQks! jkr dks cspkjs ?kwe&?kwedj igjk nsrs gSa] ugha pksfj;k¡ gks tk,¡A\\neksgflu us izfrokn fd;k µ ;g dkfulfVfcy igjk nsrs gSa! rHkh rqe cgqr\\ntkurs gksA vth g”kjr] ;gh pksjh djkrs gSaA 'kgj osQ ftrus pksj&MkowQ gSa] lc\\nbuls feys jgrs gSaA jkr dks ;s yksx pksjksa ls rks dgrs gSa] pksjh djks vkSj vki nwljs\\neqgYys esa tkdj ^tkxrs jgks! tkxrs jgks!* iqdkjrs gSaA tHkh bu yksxksa osQ ikl brus\\n#i;s vkrs gSaA esjs ekew¡ ,d Fkkus esa dkfulfVfcy gSaA chl #i;k eghuk ikrs gSaa_\\nysfdu ipkl #i;s ?kj Hkstrs gSaA vYyk dle! eSaus ,d ckj iwNk Fkk fd ekew¡]\\nvki brus #i;s dgk¡ ls ikrs gSa\\\\ g¡ldj dgus yxs µ csVk] vYykg nsrk gSA fiQj\\nvki gh cksys µ ge yksx pkgsa rks ,d fnu esa yk[kksa ekj yk,¡A ge rks bruk gh\\nysrs gSa] ftlesa viuh cnukeh u gks vkSj ukSdjh u pyh tk,A\\ngkfen us iwNk µ ;g yksx pksjh djokrs gSa] rks dksbZ bUgsa idM+rk ugha\\\\\\neksgflu mldh uknkuh ij n;k fn[kkdj cksyk µ vjs ikxy] bUgsa dkSu\\nidM+sxk\\\\ idM+us okys rks ;g yksx [kqn gSa_ ysfdu vYykg bUgsa l”kk Hkh [kwc nsrk\\ngSA gjke dk eky gjke esa tkrk gSA FkksM+s gh fnu gq, ekew¡ osQ ?kj esa vkx yx xbZA\\n2024-25\\n\"),\n",
       " Document(metadata={'source': 'data/english.pdf', 'page': 9}, page_content='10 / varjk\\nlkjh ysbZ iw¡th ty xbZA ,d cjru rd u cpkA dbZ fnu isM+ osQ uhps lks,] vYyk\\ndle] isM+ osQ uhps! fiQj u tkus dgk¡ ls ,d lkS d”kZ yk, rks cjru&Hkk¡M+s vk,A\\ngkfen µ ,d lkS rks ipkl ls ”;knk gksrs gSa\\\\\\n^dgk¡ ipkl] dgk¡ ,d lkSA ipkl ,d FkSyh Hkj gksrk gSA lkS rks nks FkSfy;ksa\\nesa Hkh u vk,A*\\nvc cLrh ?kuh gksus yxhA bZnxkg tkusokyksa dh Vksfy;k¡ u”kj vkus yxhaA ,d\\nls ,d HkM+dhys oL=k igus gq,A dksbZ bDosQ&rk¡xs ij lokj] dksbZ eksVj ij] lHkh b=k\\nesa cls] lHkh osQ fnyksa esa meaxA xzkeh.kksa dk ;g NksVk&lk ny] viuh foiUurk ls\\ncs[kcj] larks\"k vkSj èkS;Z esa exu pyk tk jgk FkkA cPpksa osQ fy, uxj dh lHkh ph”ksa\\nvuks[kh FkhaA ftl ph”k dh vksj rkdrs] rkdrs gh jg tkrs vkSj ihNs ls cjkcj gkuZ\\ndh vkok”k gksus ij Hkh u psrrsA gkfen rks eksVj osQ uhps tkrs&tkrs cpkA\\nlglk bZnxkg u”kj vk;kA mQij beyh osQ ?kus o`{kksa dh Nk;k gSA uhps iDdk\\nI+kQ\\'kZ gS] ftl ij tkfte fcNk gqvk gSA vkSj jks”ksnkjksa dh iafDr;k¡ ,d osQ ihNs\\n,d u tkus dgk¡ rd pyh xbZ gSa] iDdh txr osQ uhps rd] tgk¡ tkfte Hkh\\nugha gSA u, vkusokys vkdj ihNs dh drkj esa [kM+s gks tkrs gSaA vkxs txg ugha\\ngSA ;gk¡ dksbZ èku vkSj in ugha ns[krkA bLyke dh fuxkg esa lc cjkcj gSaA bu\\nxzkeh.kksa us Hkh otw fd;k vkSj fiNyh iafDr esa [kM+s gks x,A fdruk lqanj lapkyu\\ngS] fdruh lqanj O;oLFkk! yk[kksa flj ,d lkFk fltns esa >qd tkrs gSa] fiQj\\nlc&osQ&lc ,d lkFk [kM+s gks tkrs gSa] ,d lkFk >qdrs gSa] vkSj ,d lkFk ?kqVuksa\\nosQ cy cSB tkrs gSaA dbZ ckj ;gh fØ;k gksrh gS] tSls fctyh dh yk[kksa cfÙk;k¡\\n,d lkFk iznhIr gksa vkSj ,d lkFk cq> tk,¡ vkSj ;gh Øe pyrk jgsA fdruk\\nviwoZ n`\\'; Fkk] ftldh lkewfgd fØ;k,¡] foLrkj vkSj vuarrk ân; dks J¼k] xoZ\\nvkSj vkRekuan ls Hkj nsrh Fkha] ekuks Hkzkr`Ro dk ,d lw=k bu leLr vkRekvksa dks\\n,d yM+h esa fijks, gq, gSA\\n2024-25\\n'),\n",
       " Document(metadata={'source': 'data/english.pdf', 'page': 10}, page_content='izsepan / 11\\n2\\nuek”k [kRe gks xbZ gSA yksx vkil esa xys fey jgs gSaA rc feBkbZ vkSj\\nf[kykSus dh nwdkuksa ij èkkok gksrk gSA xzkeh.kksa dk ;g ny bl fo\"k; esa ckydksa\\nls de mRlkgh ugha gSA ;g ns[kks] ¯gMksyk gSA ,d iSlk nsdj p<+ tkvksA dHkh\\nvkleku ij tkrs gq, ekywe gksaxs] dHkh ”kehu ij fxjrs gq,A ;g p[khZ gS] ydM+h\\nosQ gkFkh] ?kksM+s] m¡QV NM+ksa ls yVosQ gq, gSaA ,d iSlk nsdj cSB tkvks vkSj iPphl\\npDdjksa dk e”kk yksA egewn vkSj eksgflu vkSj uwjs vkSj lEeh bu ?kksM+ksa vkSj mQ¡Vksa\\nij cSBrs gSaA gkfen nwj [kM+k gSA rhu gh iSls rks mlosQ ikl gaSA vius dks\"k dk\\n,d frgkbZ ”kjk&lk pDdj [kkus osQ fy, ugha ns ldrkA\\nlc p£[k;ksa ls mrjrs gSaA vc f[kykSus ysaxsA bèkj nwdkuksa dh drkj yxh gqbZ\\ngSA rjg&rjg osQ f[kykSus gSa µ flikgh vkSj xqtfj;k] jktk vkSj odhy] fHk\\'rh\\nvkSj èkksfcu vkSj lkèkqA okg! fdrus lqanj f[kykSus gSaA vc cksyk gh pkgrs gSaA\\negewn flikgh ysrk gS] [kkdh onhZ vkSj yky ixM+hokyk] oaQèks ij canwd j[ks gq,_\\nekywe gksrk gS vHkh dok;n fd, pyk vk jgk gSA eksgflu dks fHk\\'rh ilan\\nvk;kA dej >qdh gqbZ gS] mQij e\\'kd j[ks gq, gSA e\\'kd dk eq¡g ,d gkFk ls\\nidM+s gq, gSA fdruk izlUu gSA \\'kk;n dksbZ xhr xk jgk gSA cl] e\\'kd ls ikuh\\nmM+syk gh pkgrk gSA uwjs dks odhy ls isze gSA oSQlh fo}Ùkk gS mlosQ eq[k ij!\\ndkyk pksxk] uhps lI+ksQn vpdu] vpdu osQ lkeus dh tsc esa ?kM+h] lqugjh\\n”kathj] ,d gkFk esa dkuwu dk iksFkk fy, gq,A ekywe gksrk gS] vHkh fdlh vnkyr\\nls ftjg ;k cgl fd, pys vk jgs gSaA ;g lc nks&nks iSls osQ f[kykSus gSaA gkfen\\nosQ ikl oqQy rhu iSls gSa] brus eg¡xs f[kykSus og oSQls ys\\\\ f[kykSuk dgha gkFk\\nls NwV iM+s] rks pwj&pwj gks tk,] ”kjk ikuh iM+s rks lkjk jax èkqy tk,] ,sls f[kykSus\\nysdj og D;k djsxk] fdl dke osQ\\\\\\neksgflu dgrk gS µ esjk fHk\\'rh jks”k ikuh ns tk,xk] lk¡>&lcsjsA\\n2024-25\\n'),\n",
       " Document(metadata={'source': 'data/english.pdf', 'page': 11}, page_content='12 / varjk\\negewn µ vkSj esjk flikgh ?kj dk igjk nsxkA dksbZ pksj vk,xk] rks I +kQkSju\\ncanwd I+kSQj dj nsxkA\\nuwjs µ vkSj esjk odhy [kwc eqdnek yM+sxkA\\nlEeh µ vkSj esjh èkksfcu jks”k diM+s èkks,xhA\\ngkfen f[kykSuksa dh fuank djrk gS µ fe^h gh osQ rks gSa] fxjs rks pdukpwj gks\\ntk,¡_ ysfdu yypkbZ gqbZ vk¡[kksa ls f[kykSuksa dks ns[k jgk gSA vkSj pkgrk gS fd\\n”kjk nsj osQ fy, mUgsa gkFk esa ys ldrkA mlosQ gkFk vuk;kl gh yidrs gSa_\\nysfdu yM+osQ brus R;kxh ugha gksrs gSa] fo\\'ks\"kdj tc vHkh u;k \\'kkSd gSA gkfen\\nyypkrk jg tkrk gSA\\nf[kykSus osQ ckn feBkb;k¡ vkrh gSaA fdlh us jsofM+;k¡ yh gSa] fdlh us\\nxqykc&tkequ] fdlh us lksgu gyokA e”ks ls [kk jgs gSaA gkfen fcjknjh ls i`Fkd\\ngSA vHkkxs osQ ikl rhu iSls gSaA D;ksa ugha oqQN ysdj [kkrk\\\\ yypkbZ vk¡[kksa ls\\nlcdh vksj ns[krk gSA\\neksgflu dgrk gS µ gkfen] jsoM+h ys tk] fdruh [kq\\'kcwnkj gS!\\ngkfen dks lansg gqvk] ;g osQoy ozwQj fouksn gS] eksgflu bruk mnkj ugha gS_\\nysfdu ;g tkudj Hkh og mlosQ ikl tkrk gSA eksgflu nksus ls ,d jsoM+h\\nfudkydj gkfen dh vksj c<+krk gSA gkfen gkFk iSQykrk gSA eksgflu jsoM+h vius\\neq¡g esa j[k ysrk gSA egewn] uwjs vkSj lEeh [kwc rkfy;k¡ ctk&ctkdj g¡lrs gaSA\\ngkfen f[kfl;k tkrk gSA\\neksgflu µ vPNk] vcdh ”k:j nsaxs gkfen] vYyk OkQle] ys tkA\\ngkfen µ j[ks jgksA D;k esjs ikl iSls ugha gSa\\\\\\nlEeh µ rhu gh iSls rks gSaA rhu iSls esa D;k&D;k yksxs\\\\\\negewn µ gels xqykc&tkequ ys tko gkfenA eksgflu cnek\\'k gSA\\ngkfen µ feBkbZ dkSu cM+h user gSA fdrkc esa bldh fdruh cqjkb;k¡ fy[kh gSaA\\neksgflu µ ysfdu fny esa dg jgs gkasxs fd feys rks [kk ysaA vius iSls D;ksa\\nugha fudkyrs\\\\\\n2024-25\\n'),\n",
       " Document(metadata={'source': 'data/english.pdf', 'page': 12}, page_content='izsepan / 13\\negewn µ ge le>rs gSa] bldh pkykdhA tc gekjs lkjs iSls [kpZ gks tk,¡xs]\\nrks gesa yypk&yypkdj [kk,xkA\\nfeBkb;ksa osQ ckn oqQN nwdkusa yksgs dh ph”kksa dh] oqQN fxyV vkSj oqQN\\nudyh xguksa dhA yM+dksa osQ fy, ;gk¡ dksbZ vkd\"kZ.k u FkkA os lc vkxs c<+\\ntkrs gSaA gkfen yksgs dh nwdku ij #d tkrk gSA dbZ fpeVs j[ks gq, FksA mls\\n[k;ky vk;k] nknh osQ ikl fpeVk ugha gSA ros ls jksfV;k¡ mrkjrh gSa] rks gkFk\\nty tkrk gS_ vxj og fpeVk ys tkdj nknh dks ns ns] rks og fdruh izlUu\\ngksaxh! fiQj mudh m¡xfy;k¡ dHkh u tysaxhA ?kj esa ,d dke dh ph”k gks\\ntk,xhA f[kykSus ls D;k I+kQk;nkA O;FkZ esa iSls [kjkc gksrs gSaA ”kjk nsj gh rks [kq\\'kh\\ngksrh gSA fiQj rks f[kykSus dks dksbZ vk¡[k mBkdj ugha ns[krkA ;k rks ?kj\\nigq¡prs&igq¡prs VwV&iwQVdj cjkcj gks tk,¡xsA fpeVk fdrus dke dh ph”k gSA\\njksfV;k¡ ros ls mrkj yks] pwYgs esa lsad yksA dksbZ vkx ek¡xus vk, rks pViV\\npwYgs ls vkx fudkydj mls ns nksA vEek¡ cspkjh dks dgk¡ I+kqQjlr gS fd ck”kkj\\nvk,¡ vkSj brus iSls gh dgk¡ feyrs gSaA jks”k gkFk tyk ysrh gSaA gkfen osQ lkFkh\\nvkxs c<+ x, gSaA lchy ij lc&osQ&lc \\'kjcr ih jgs gSaA ns[kks] lc fdrus\\nykyph gSa! bruh feBkb;k¡ yha] eq>s fdlh us ,d Hkh u nhA ml ij dgrs gSa]\\nesjs lkFk [ksyksA esjk ;g dke djksA vc vxj fdlh us dksbZ dke djus dks\\ndgk] rks iwNw¡xkA [kk,¡ feBkb;k¡] vki eq¡g lM+sxk] iQksMs+ iqaQfl;k¡ fudysaxh] vki\\ngh ”kcku pVksjh gks tk,xhA rc ?kj ls iSls pqjk,¡xs vkSj ekj [kk,¡xsA fdrkc esa\\n>wBh ckrsa FkksM+s gh fy[kh gSaA esjh ”kcku D;ksa [kjkc gksxhA vEek¡ fpeVk ns[krs\\ngh nkSM+dj esjs gkFk ls ys ysaxh vkSj dgsaxh µ esjk cPpk vEek¡ osQ fy, fpeVk\\nyk;k gSA g”kkjksa nqvk,¡ nsaxhA fiQj iM+ksl dh vkSjrksa dks fn[kk,¡xhA lkjs xk¡o esa\\nppkZ gksus yxsxh] gkfen fpeVk yk;k gSA fdruk vPNk yM+dk gSA bu yksxksa osQ\\nf[kykSuksa ij dkSu bUgsa nqvk,¡ nsxk\\\\ cM+ksa dh nqvk,¡ lhèks vYykg osQ njckj esa\\nigq¡prh gSa vkSj rqjar lquh tkrh gSaA esjs ikl iSls ugha gSaA rHkh rks eksgflu vkSj\\negewn ;ksa fe”kkt fn[kkrs gSaA eSa Hkh buls fe”kkt fn[kkÅ¡xkA [ksysa f[kykSus vkSj\\n2024-25\\n'),\n",
       " Document(metadata={'source': 'data/english.pdf', 'page': 13}, page_content=\"14 / varjk\\n[kk,¡ feBkb;k¡A eSa ugha [ksy rk f[kykSus] fdlh dk fe”kkt D;ksa lgw¡A eSa xjhc\\nlgh] fdlh ls oqQN ek¡xus rks ugha tkrkA vkf[kj vCcktku dHkh&u&dHkh\\nvk,¡xsA vEek¡ Hkh vk,¡xh ghA fiQj bu yksxksa ls iwNw¡xk] fdrus f[kykSus yksxs\\\\\\n,d&,d dks Vksdfj;ksa f[kykSus nw¡ vkSj fn[kk nw¡ fd nksLrksa osQ lkFk bl rjg\\nlywd fd;k tkrk gSA ;g ugha fd ,d iSls dh jsofM+;k¡ yha rks fp<+k&fp<+kdj\\n[kkus yxsA lc&osQ&lc g¡lsaxs fd gkfen us fpeVk fy;k gSA g¡lsa! esjh cyk ls!\\nmlus nwdkunkj ls iwNk µ ;g fpeVk fdrus dk gS\\\\\\nnwdkunkj us mldh vksj ns[kk vkSj dksbZ vkneh lkFk u ns[kdj dgk µ rqEgkjs\\ndke dk ugha gS th!\\n^fcdkÅ gS fd ugha\\\\*\\n^fcdkÅ D;ksa ugha gSA vkSj ;gk¡ D;ksa ykn yk, gSa\\\\*\\n^rks crkrs D;ksa ugha] oSQ iSls dk gS\\\\*\\n^Ng iSls yxsaxsA*\\ngkfen dk fny cSB x;kA\\n^Bhd&Bhd crkvks!*\\n^Bhd&Bhd ik¡p iSls yxsaxs] ysuk gks yks] ugha pyrs cuksA*\\ngkfen us dystk e”kcwr djosQ dgk µ rhu iSls yksxs\\\\\\n;g dgrk gqvk og vkxs c<+ x;k fd nwdkunkj dh ?kqM+fd;k¡ u lqusA ysfdu\\nnwdkunkj us ?kqM+fd;k¡ ugha nhaA cqykdj fpeVk ns fn;kA gkfen us mls bl rjg\\ndaèks ij j[kk] ekuks canwd gS vkSj 'kku ls vdM+rk gqvk lafx;ksa osQ ikl vk;kA\\n”kjk lqusa] lc&osQ&lc D;k&D;k vkykspuk,¡ djrs gSaA\\neksgflu us g¡ldj dgk µ ;g fpeVk D;ksa yk;k ixys_ bls D;k djsxk\\\\\\ngkfen us fpeVs dks ”kehu ij iVddj dgk µ ”kjk viuk fHk'rh ”kehu ij\\nfxjk nksA lkjh ilfy;k¡ pwj&pwj gks tk,¡ cpk dhA\\negewn cksyk µ rks ;g fpeVk dksbZ f[kykSuk gS\\\\\\n2024-25\\n\"),\n",
       " Document(metadata={'source': 'data/english.pdf', 'page': 14}, page_content=\"izsepan / 15\\ngkfen µ f[kykSuk D;ksa ugha gS\\\\ vHkh oaQèks ij j[kk] canwd gks xbZA gkFk esa\\nys fy;k] iQdhjksa dk fpeVk gks x;k] pkgw¡ rks blls ethjs dk dke ys ldrk gw¡A\\n,d fpeVk tek nw¡] rks rqe yksxksa osQ lkjs f[kykSuksa dh tku fudy tk,A\\nrqEgkjs f[kykSus fdruk gh ”kksj yxk,¡] esjs fpeVs dk cky Hkh ck¡dk ugha dj\\nldrsA esjk cgknqj 'ksj gS µ fpeVkA\\nlEeh us [k¡tjh yh FkhA izHkkfor gksdj cksyk µ esjh [k¡tjh ls cnyksxs\\\\ nks\\nvkus dh gSA\\ngkfen us [k¡tjh dh vksj mis{kk ls ns[kk µ esjk fpeVk pkgs rks rqEgkjs [k¡tjh\\ndk isV iQkM+ MkysA cl ,d peM+s dh f>Yyh yxk nh] <c&<c cksyus yxhA\\n”kjk&lk ikuh yx tk, rks [kre gks tk,A esjk cgknqj fpeVk vkx esa] ikuh esa]\\nvk¡èkh esa] rwI+kQku esa cjkcj MVk [kM+k jgsxkA\\nfpeVs us lHkh dks eksfgr dj fy;k] ysfdu vc iSls fdlosQ ikl èkjs gSaA\\nfiQj esys ls nwj fudy vk, gSa] ukS dc osQ ct x,] èkwi rs”k gks jgh gSA ?kj\\nigq¡pus dh tYnh gks jgh gSA cki ls f”kn Hkh djsa] rks fpeVk ugha fey ldrkA\\ngkfen gS cM+k pkykdA blhfy, cnek'k us vius iSls cpk j[ks FksA\\nvc ckydksa osQ nks ny gks x, gSaA eksgflu] egewn] lEeh vkSj uwjs ,d rjI+kQ\\ngSa] gkfen vosQyk nwljh rjI+\\nkQA 'kkL=kkFkZ gks jgk gSA lEeh rks foèkehZ gks x;kA nwljs\\ni{k ls tk feyk_ ysfdu eksgflu] egewn vkSj uwjs Hkh] gkfen ls ,d&,d] nks&nks\\nlky cM+s gksus ij Hkh gkfen osQ vk?kkrksa ls vkrafdr gks mBs gSaA mlosQ ikl U;k;\\ndk cy gS vkSj uhfr dh 'kfDrA ,d vksj fe^h gS] nwljh vksj yksgk] tks bl oDr\\nvius dks I+kQkSykn dg jgk gSA og vts; gS] ?kkrd gSA vxj dksbZ 'ksj vk tk,]\\nrks fe;k¡ fHk'rh osQ NDosQ NwV tk,¡] fe;k¡ flikgh fe^h dh canwd NksM+dj Hkkxsa]\\nodhy lkgc dh ukuh ej tk,] pksxs esa eq¡g fNikdj ”kehu ij ysV tk,¡A exj\\n;g fpeVk] ;g cgknqj] ;g #Lres&¯gn yiddj 'ksj dh xjnu ij lokj gks\\ntk,xk vkSj mldh vk¡[ksa fudky ysxkA\\n2024-25\\n\"),\n",
       " Document(metadata={'source': 'data/english.pdf', 'page': 15}, page_content=\"16 / varjk\\neksgflu us ,M+h&pksVh dk ”kksj yxkdj dgk µ vPNk] ikuh rks ugha Hkj ldrkA\\ngkfen us fpeVs dks lhèkk [kM+k djosQ dgk µ fHk'rh dks ,d Mk¡V crk,xk\\nrks nkSM+k gqvk ikuh ykdj mlosQ }kj ij fNM+dus yxsxkA\\neksgflu ijkLr gks x;k_ ij egewn us oqQeqd igq¡pkbZ µ vxj cpk idM+ tk,¡\\nrks vnkyr esa c¡èks&c¡èks fiQjsaxsA rc rks odhy lkgc osQ iSjksa iMs+axsA\\ngkfen bl izcy roZQ dk tokc u ns ldkA mlus iwNk µ gesa idM+us dkSu vk,xk\\\\\\nuwjs us vdM+dj dgk µ ;g flikgh canwdokykA\\ngkfen us eq¡g fp<+kdj dgk µ ;g cspkjs ge cgknqj #Lres&¯gn dks idM+saxs!\\nvPNk ykvks] vHkh ”kjk oqQ'rh gks tk,A bldh lwjr ns[kdj nwj ls HkkxsaxsA idM+saxs\\nD;k cspkjs!\\neksgflu dks ,d ubZ pksV lw> xbZ µ rqEgkjs fpeVs dk eq¡g jks”k vkx esa\\ntysxkA\\nmlus le>k Fkk fd gkfen yktokc gks tk,xk_ ysfdu ;g ckr u gqbZA\\ngkfen us rqjar tokc fn;k µ vkx esa cgknqj gh owQnrs gSa tukc] rqEgkjs ;g\\nodhy] flikgh vkSj fHk'rh ysfM;ksa dh rjg ?kj esa ?kql tk,¡xsA vkx esa owQnuk\\nog dke gS] tks ;g #Lres&¯gn gh dj ldrk gSA\\negewn us ,d ”kksj yxk;k µ odhy lkgc oqQlhZ&es”k ij cSBsaxs] rqEgkjk\\nfpeVk rks ckophZ[kkus esa ”kehu ij iM+k jgsxkA\\nbl roZQ us lEeh vkSj uwjs dks Hkh ltho dj fn;kA fdrus fBdkus dh ckr dgh\\ngS i_s usA fpeVk ckophZ[kkus esa iM+k jgus osQ flok vkSj D;k dj ldrk gS\\\\\\ngkfen dks dksbZ iQM+drk gqvk tokc u lw>k rks mlus èkk¡èkyh 'kq: dh µ esjk\\nfpeVk ckcphZ[kkus esa ugha jgsxkA odhy lkgc oqQlhZ ij cSBsaxs] rks tkdj mUgsa\\n”kehu ij iVd nsxk vkSj mudk dkuwu muosQ isV esa Mky nsxkA\\nckr oqQN cuh ughaA [kklh xky&xykSt Fkh_ ysfdu dkuwu dks isV esa Mkyus\\nokyh ckr Nk xbZA ,slh Nk xbZ fd rhuksa lwjek eq¡g rkdrs jg x,] ekuks dksbZ èksypk\\n2024-25\\n\"),\n",
       " Document(metadata={'source': 'data/english.pdf', 'page': 16}, page_content='izsepan / 17\\ndudkSvk fdlh xaMsokys dudkS, dks dkV x;k gksA dkuwu eq¡g ls ckgj fudyus\\nokyh ph”k gSA mldks isV osQ vanj Mky fn;k tkuk] csrqdh&lh ckr gksus ij Hkh oqQN\\nu;kiu j[krh gSA gkfen us eSnku ekj fy;kA mldk fpeVk #Lres&¯gn gSA vc blesa\\neksgflu] egewn] uwjs] lEeh fdlh dks Hkh vkifÙk ugha gks ldrhA\\nfotsrk dks gkjus okyksa ls tks lRdkj feyuk LokHkkfod gS] og gkfen dks Hkh\\nfeykA vkSjksa us rhu&rhu] pkj&pkj vkus iSls [kpZ fd,] ij dksbZ dke dh ph”k\\nu ys losQA gkfen us rhu iSls esa jax tek fy;kA lp gh rks gS] f[kykSuksa dk D;k\\nHkjkslk\\\\ VwV&iwQV tk,¡xsA gkfen dk fpeVk rks cuk jgsxk cjlksa!\\nlafèk dh \\'krs± r; gksus yxhaA eksgflu us dgk µ ”kjk viuk fpeVk nks ge\\nHkh ns[ksaA rqe gekjk fHk\\'rh ysdj ns[kksA\\negewn vkSj uwjs us Hkh vius&vius f[kykSus is\\'k fd,A\\ngkfen dks bu \\'krks± osQ ekuus esa dksbZ vkifÙk u FkhA fpeVk ckjh&ckjh ls\\nlcosQ gkFk esa x;k_ vkSj muosQ f[kykSus ckjh&ckjh ls gkfen osQ gkFk esa vk,A\\nfdrus [kwclwjr f[kykSus gSa!\\ngkfen us gkjus okyksa osQ vk¡lw iksaNs µ eSa rqEgsa fp<+k jgk Fkk] lp! ;g fpeVk\\nHkyk bu f[kykSuksa dh D;k cjkcjh djsxk_ ekywe gksrk gS] vc cksys] vc cksysA\\nysfdu eksgflu dh ikVhZ dks bl fnykls ls larks\"k ugha gksrkA fpeVs dk\\nflDdk [kwc cSB x;k gSA fpidk gqvk fVdV vc ikuh ls ugha NwV jgk gSA\\neksgflu µ ysfdu bu f[kykSuksa osQ fy, dksbZ gesa nqvk rks u nsxk\\\\\\negewn µ nqvk dks fy, fiQjrs gksA myVs ekj u iM+sA vEek¡ ”k:j dgsaxh fd\\nesys esa ;gh fe^h osQ f[kykSus rqEgsa feys\\\\\\ngkfen dks Lohdkj djuk iM+k fd f[kykSuksa dks ns[kdj fdlh dh ek¡ bruh\\n[kq\\'k u gksxh] ftruh nknh fpeVs dks ns[kdj gksaxhA rhu iSlksa gh esa rks mls lc\\noqQN djuk Fkk vkSj mu iSlksa osQ bl mi;ksx ij iNrkos dh fcyoqQy ”k:jr\\nu FkhA fiQj vc rks fpeVk #Lres&¯gn gS vkSj lHkh f[kykSuksa dk ckn\\'kkg!\\n2024-25\\n'),\n",
       " Document(metadata={'source': 'data/english.pdf', 'page': 17}, page_content='18 / varjk\\njkLrs esa egewn dks Hkw[k yxhA mlosQ cki us osQys [kkus dks fn,A egewn us\\nosQoy gkfen dks lk>h cuk;kA mlosQ vU; fe=k eq¡g rkdrs jg x,A ;g ml\\nfpeVs dk izlkn FkkA\\n3\\nX;kjg cts xk¡o esa gypy ep xbZA esys okys vk x,A eksgflu dh NksVh cgu\\nus nkSM+dj fHk\\'rh mlosQ gkFk ls Nhu fy;k vkSj ekjs [kq\\'kh osQ tks mNyh] rks fe;k¡\\nfHk\\'rh uhps vk jgs vkSj lqjyksd fl/kjsA bl ij HkkbZ&cgu esa ekj&ihV gqbZA nksuksa\\n[kwc jks,A mldh vEek¡ ;g \\'kksj lqudj fcxM+h vkSj nksuksa dks Åij ls nks&nks\\npk¡Vs vkSj yxk,A\\nfe;k¡ uwjs osQ odhy dk var muosQ izfr\"BkuqowQy blls ”;knk xkSjoe; gqvkA\\nodhy ”kehu ij ;k rkd ij rks ugha cSB ldrkA mldh e;kZnk dk fopkj rks\\ndjuk gh gksxkA nhokj esa nks [kwfV;k¡ xkM+h xb±A mu ij ydM+h dk ,d iVjk j[kk\\nx;kA iVjs ij dkx”k dk dkyhu fcNk;k x;kA odhy lkgc jktk Hkkst dh Hkk¡fr\\n¯lgklu ij fcjktsA uwjs us mUgsa ia[kk >yuk \\'kq: fd;kA vnkyrksa esa [kl dh\\nVf^;k¡ vkSj fctyh osQ ia[ks jgrs gSaA D;k ;gk¡ ekewyh ia[kk Hkh u gks! dkuwu dh\\nxjeh fnekx ij p<+ tk,xh fd ughaA ck¡l dk ia[kk vk;k vkSj uwjs gok djus yxsA\\nekywe ugha] ia[ks dh gok ls] ;k ia[ks dh pksV ls odhy lkgc LoxZyksd ls\\ne`R;qyksd esa vk jgs vkSj mudk ekVh dk pksyk ekVh esa fey x;kA fiQj cM+s\\n”kksj&\\'kksj ls ekre gqvk vkSj odhy lkgc dh vfLFk ?kwj ij Mky nh xbZA\\nvc jgk egewn dk flikghA mls pViV xk¡o dk igjk nsus dk pktZ fey\\nx;k_ ysfdu iqfyl dk flikgh dksbZ lkèkkj.k O;fDr rks ugha] tks vius iSjksa pysA\\nog ikydh ij pysxkA ,d Vksdjh vkbZ] mlesa oqQN yky jax osQ iQVs&iqjkus\\nfpFkM+s fcNk, x,_ ftlesa flikgh lkgc vkjke ls ysVsA uwjs us ;g Vksdjh mBkbZ\\nvkSj vius }kj dk pDdj yxkus yxsA muosQ nksuksa NksVs HkkbZ flikgh dh rjI+kQ ls\\n^Nksusokys] tkxrs ygks* iqdkjrs pyrs gSaA exj jkr rks v¡èksjh gksuh pkfg,_ egewn\\n2024-25\\n'),\n",
       " Document(metadata={'source': 'data/english.pdf', 'page': 18}, page_content=\"izsepan / 19\\ndks Bksdj yx tkrh gSA Vksdjh mlosQ gkFk ls NwVdj fxj iM+rh gS vkSj fe;k¡\\nflikgh viuh canwd fy, ”kehu ij vk tkrs gSa vkSj mudh ,d Vk¡x esa fodkj\\nvk tkrk gSA egewn dks vkt Kkr gqvk fd og vPNk MkWDVj gSA mldks ,slk\\nejge fey x;k gS ftlls og VwVh Vk¡x dks vkuu&iQkuu tksM+ ldrk gSA osQoy\\nxwyj dk nwèk pkfg,A xwyj dk nwèk vkrk gSA Vk¡x tksM+ nh tkrh gS ysfdu flikgh\\ndks T;ksa gh [kM+k fd;k tkrk gS] Vk¡x tokc ns nsrh gSA 'kY;fØ;k vliQy gqbZ]\\nrc mldh nwljh Vk¡x Hkh rksM+ nh tkrh gSSA vc de&ls&de ,d txg vkjke\\nls cSB rks ldrk gSA ,d Vk¡x ls rks u py ldrk Fkk_ u cSB ldrk FkkA vc\\nog flikgh laU;klh gks x;k gSA viuh txg ij cSBk&cSBk igjk nsrk gSA\\ndHkh&dHkh nsork Hkh cu tkrk gSA mlosQ flj dk >kyjnkj lkI+kQk [kqjp fn;k x;k\\ngSA vc mldk ftruk :ikarj pkgks] dj ldrs gksA dHkh&dHkh rks mlls ckV dk\\ndke Hkh fy;k tkrk gSA\\nvc fe;k¡ gkfen dk gky lqfu,A vehuk mldh vkok”k lqurs gh nkSM+h vkSj\\nmls xksn esa mBkdj I;kj djus yxhA lglk mlosQ gkFk esa fpeVk ns[kdj og pkSadhA\\n^;g fpeVk dgk¡ Fkk\\\\*\\n^eSaus eksy fy;k gSA*\\n^oSQ iSls esa\\\\*\\n^rhu iSls fn,A*\\nvehuk us Nkrh ihV yhA ;g oSQlk csle> yM+dk gS fd nksigj gqvk] oqQN\\n[kk;k u fi;kA yk;k D;k] fpeVk! lkjs esys esa rq>s vkSj dksbZ ph”k u feyh] tks\\n;g yksgs dk fpeVk mBk yk;k\\\\\\ngkfen us vijkèkh&Hkko ls dgk µ rqEgkjh m¡xfy;k¡ ros ls ty tkrh Fkha_\\nblfy, eSaus mls fy;kA\\ncqf<+;k dk Øksèk rqjar Lusg esa cny x;k] vkSj Lusg Hkh og ugha] tks izxYHk\\ngksrk gS vkSj viuh lkjh dld 'kCnksa esa fc[ksj nsrk gSA ;g ewd Lusg Fkk] [kwc\\nBksl] jl vkSj Lokn ls Hkjk gqvkA cPps esa fdruk R;kx] fdruk ln~Hkko vkSj\\n2024-25\\n\"),\n",
       " Document(metadata={'source': 'data/english.pdf', 'page': 19}, page_content='20 / varjk\\nfdruk foosd gS! nwljksa dks f[kykSus ysrs vkSj feBkbZ [kkrs ns[kdj bldk eu\\nfdruk yypk;k gksxk\\\\ bruk ”kCr blls gqvk oSQls\\\\ ogk¡ Hkh bls viuh cqf<+;k\\nnknh dh ;kn cuh jghA vehuk dk eu xn~xn gks x;kA\\nvkSj vc ,d cM+h fofp=k ckr gqbZA gkfen osQ bl fpeVs ls Hkh fofp=kA\\ncPps gkfen us cw<+s gkfen dk ikVZ [ksyk FkkA cqf<+;k vehuk ckfydk vehuk cu\\nxbZA og jksus yxhA nkeu iSQykdj gkfen dks nqvk,¡ nsrh tkrh Fkh vkSj vk¡lw dh\\ncM+h&cM+h cw¡nsa fxjkrh tkrh FkhA gkfen bldk jgL; D;k le>rk!\\niz\\'u&vH;kl\\n 1- ^bZnxkg* dgkuh osQ mu izlaxksa dk mYys[k dhft, ftuls bZn osQ volj ij xzkeh.k ifjos\\'k\\ndk mYykl izdV gksrk gSA\\n2- ^mlosQ vanj izdk\\'k gS] ckgj vk\\'kkA foifÙk viuk lkjk nycy ysdj vk,] gkfen\\ndh vkuan Hkjh fprou mldk foèoal dj nsxhA* µ bl dFku ls ys[kd dk D;k\\nvk\\'k; gS\\\\\\n3- ^mUgsa D;k [kcj fd pkS/jh vkt vk¡[ksa cny ysa] rks ;g lkjh bZn eqgjZe gks tk,A* µ\\nbl dFku dk vk\\'k; Li\"V dhft,A\\n4- ^ekuks Hkzkr`Ro dk ,d lw=k bu leLr vkRekvksa dks ,d yM+h esa fijks, gq, gSA* bl\\ndFku osQ lanHkZ esa Li\"V dhft, fd ^/eZ rksM+rk ughsa tksM+rk gSA*\\n5- fuEufyf[kr x|ka\\'kksa dh lizlax O;k[;k dhft, &&\\n(d) dbZ ckj ;gh fozQ;k gksrh gS----------------vkRekvksa dks ,d yM+h esa fijks, gq, gSA\\n([k) cqf<+;k dk ozQks/----------------Lokn ls Hkjk gqvkA\\n6- gkfen us fpeVs dh mi;ksfxrk dks fl¼ djrs gq, D;k&D;k roZQ fn,\\\\\\n2024-25\\n'),\n",
       " Document(metadata={'source': 'data/english.pdf', 'page': 20}, page_content='izsepan / 21\\n7- xk¡o ls \\'kgj tkusokys jkLrs osQ eè; iM+usokys LFkyksa dk ,slk o.kZu ys[kd us fd;k gS\\nekuks v¡k[kksa osQ lkeus fp=k mifLFkr gks jgk gksA vius ?kj vkSj fo|ky; osQ eè;\\niM+usokys LFkkuksa dk vius \\'kCnksa esa o.kZu dhft,A\\n8- ^cPps gkfen us cw<s+ gkfen dk ikVZ [ksyk FkkA cqf<+;k vehuk ckfydk vehuk cu xbZA*\\nbl dFku esa ^cw<+s gkfen* vkSj ^ckfydk vehuk* ls ys[kd dk D;k vk\\'k; gS\\\\ Li\"V\\ndhft,A\\n9- ^nkeu iSQykdj gkfen dks nqvk,¡ nsrh tkrh Fkh vkSj vk¡lw dh cM+h&cM+h cw¡nsa fxjkrh tkrh\\nFkhA gkfen bldk jgL; D;k le>rk!* µ ys[kd osQ vuqlkj gkfen vehuk dh nqvkvksa\\nvkSj vk¡lqvksa osQ jgL; dks D;ksa ugha le> ik;k\\\\ dgkuh osQ vk/kj ij Li\"V dhft,A\\n10- gkfen dh txg vki gksrs rks D;k djrs\\\\\\n;ksX;rk&foLrkj\\n 1- izsepan dh dgkfu;ksa dk laxzg ^ekuljksoj* uke ls vkB Hkkxksa esa izdkf\\'kr gSA vius\\niqLrdky; ls ysdj mls if<+,A\\n 2- bl dgkuh esa yksd izpfyr eqgkojksa dh Hkjekj gS] tSls µ ukuh ejuk] NDosQ NwVuk\\nvkfnA blesa vk, eqgkojksa dh ,d lwph rS;kj dhft,A\\n2024-25\\n'),\n",
       " Document(metadata={'source': 'data/english.pdf', 'page': 21}, page_content='22 / varjk\\n\\'kCnkFkZ vkSj fVIi.kh\\ncyk & d\"V] vkifÙk] cgqr d\"V nsusokyh oLrq\\ncngokl & ?kCkjkuk] gks\\'k&gokl Bhd u gksuk\\nfuxksM+h & vHkkxh] fujkJ;] ftloQk dksbZ u gks\\nfprou & fdlh dh vksj ns[kus dk <ax] n`f\"V] dVk{k\\no”kw & uek”k ls igys ;Fkkfof/ gkFk&ik¡o vkSj eq¡g /ksuk\\nfltnk & ekFkk Vsduk] [kqnk osQ vkxs flj >qdkuk\\n¯gMksyk & >wyk] ikyuk\\ne\\'kd & HksM+ ;k cdjh dh [kky dks lhdj cuk;k gqvk FkSyk\\nftlls fHk\\'rh ikuh <ksrs gSa\\nvpdu & yack dyhnkj v¡xj[kk ftlesa igys xjsck¡ ls dej&i^h\\nrd vèkZpanzkdkj can yxrs Fks vkSj vc lh/s cVu\\nV¡drs gSa\\nuser & cgqr cf<+;k\\n”kCr & lgu djuk\\nnkeu & iYyw] vk¡py\\n2024-25\\n')]"
      ]
     },
     "execution_count": 16,
     "metadata": {},
     "output_type": "execute_result"
    }
   ],
   "source": [
    "data"
   ]
  },
  {
   "cell_type": "code",
   "execution_count": 17,
   "metadata": {},
   "outputs": [
    {
     "data": {
      "text/plain": [
       "22"
      ]
     },
     "execution_count": 17,
     "metadata": {},
     "output_type": "execute_result"
    }
   ],
   "source": [
    "len(data)"
   ]
  },
  {
   "cell_type": "code",
   "execution_count": 18,
   "metadata": {},
   "outputs": [],
   "source": [
    "question_gen = \"\"\n",
    "for page in data:\n",
    "    question_gen += page.page_content"
   ]
  },
  {
   "cell_type": "code",
   "execution_count": 19,
   "metadata": {},
   "outputs": [
    {
     "data": {
      "text/plain": [
       "'izsepan / 1\\nx|&[kaM\\nx|&[kaM\\n2024-25\\n2 / varjk\\n2024-25\\nizsepan / 3\\nizsepan dk tUe okjk.klh f”kys osQ yegh xzke esa gqvk FkkA\\nmudk ewy uke èkuirjk; FkkA iszepan dh izkjafHkd f\\'k{kk\\nokjk.klh esa gqbZA eSfVªd osQ ckn os vè;kiu djus yxsA\\nLokè;k; osQ :i esa gh mUgksaus ch-,- rd f\\'k{kk xzg.k dhA\\nvlg;ksx vkanksyu osQ nkSjku mUgksaus ljdkjh ukSdjh ls\\nR;kxi=k ns fn;k vkSj iwjh rjg ys[ku&dk;Z osQ izfr lefiZr\\ngks x,A\\nizsepan us vius ys[ku dh \\'kq #vkr igys mnwZ esa\\nuokcjk; osQ uke ls dh] ckn esa ¯gnh esa fy[kus yxsA\\nmUgksaus vius lkfgR; esa fdlkuksa] nfyrksa] ukfj;ksa dh osnuk\\nvkSj o.kZ&O;oLFkk dh oqQjhfr;ksa dk ekfeZd fp=k.k fd;k\\ngSA os lkfgR; dks Lokar% lq[kk; u ekudj lkekftd\\nifjorZu dk ,d l\\'kDr ekè;e ekurs FksA os ,d ,sls\\nlkfgR;dkj Fks] tks lekt dh okLrfod fLFkfr dks iSuh\\nn`f\"V ls ns[kus dh \\'kfDr j[krs FksA mUgksaus lekt&lqèkkj\\nvkSj jk\"Vªh;&Hkkouk ls vksrizksr vusd miU;klksa ,oa dgkfu;ksa\\ndh jpuk dhA dFkk&laxBu] pfj=k&fp=k.k] dFkksidFku\\nvkfn dh n`f\"V ls mudh jpuk,¡ cstksM+ gSaA mudh Hkk\"kk\\ncgqr ltho] eqgkojsnkj vkSj cksypky osQ fudV gSA ¯gnh\\nHkk\"kk dks yksdfiz; cukus esa mudk fo\\'ks\"k ;ksxnku gSA\\nlaLÑr osQ izpfyr \\'kCnksa osQ lkFk&lkFk mnwZ dh jokuh bldh\\nfo\\'ks\"krk gS] ftlus ¯gnh dFkk Hkk\"kk dks u;k vk;ke fn;kA\\nmudh izeq[k o`Qfr;k¡ gSa µ ekuljksoj (vkB Hkkx)]\\nxqIrèku (nks Hkkx) (dgkuh laxzg)_  fueZyk] lsoklnu]\\niszekJe] jaxHkwfe] deZHkwfe] xcu] xksnku (miU;kl)_ dcZyk]\\nlaxzke] izse dh osnh (ukVd)_ fofoèk izlax (rhu [kaMksa eas]\\nlkfgfR;d vkSj jktuhfrd fucaèkksa dk laxzg)_ oqQN fopkj\\n(lu~ 1880&1936)\\nizsepan\\n2024-25\\n4 / varjk\\n(lkfgfR;d fucaèk)A mUgksaus ekèkqjh] gal] e;kZnk] tkxj.k vkfn if=kdkvksa dk laiknu\\nHkh fd;kA bl ikB~;iqLrd esa mudh bZnxkg dgkuh nh xbZ gSA\\n¯gnh esa cky&euksfoKku ls lacaf/r dgkfu;k¡ cgqr de fy[kh xbZ gSaA izsepan\\nmu nqyZHk dFkkdkjksa esa ls gSa ftUgksaus iwjh izkekf.kdrk ,oa rUe;rk osQ lkFk\\ncky&thou dks viuh dgkfu;ksa esa txg nh gSA mudh dgkfu;k¡ Hkkjr dh lk>h\\nlaLÑfr ,oa xzkeh.k thou osQ fofo/ jaxksa ls ljkcksj gSaA\\nbZnxkg izsepan dh bUgha fo\\'ks\"krkvksa dks vfHkO;Dr djus okyh izfrfuf/\\ndgkuh gSA bl dgkuh esa bZn tSls egÙoiw.kZ R;ksgkj dks vk/kj cukdj xzkeh.k\\neqfLye thou dk lqanj fp=k izLrqr fd;k x;k gSA gkfen dk pfj=k gesa crkrk gS\\nfd vHkko mez ls igys cPpksa esa oSQls cM+kas tSlh le>nkjh iSnk dj nsrk gSA esys\\nesa gkfen viuh gj pkg ij la;e j[kus esa fot;h gksrk gSA lkFk gh #Lres ¯gn\\nfpeVs osQ ekè;e ls izsepan us Je osQ lkSan;Z ,oa egÙo dks Hkh mn~?kkfVr fd;k\\ngSA fp=kkRed Hkk\"kk dh n`f\"V ls Hkh ;g dgkuh vuwBh gSA\\n2024-25\\nizsepan / 5\\nbZnxkg\\nje”kku osQ iwjs rhl jks”kksa osQ ckn bZn vkbZ gSA fdruk euksgj] fdruk lqgkouk izHkkr\\ngSA o`{kksa ij oqQN vthc gfj;kyh gS] [ksrksa esa oqQN vthc jkSud gS] vkleku ij\\noqQN vthc ykfyek gSA vkt dk lw;Z ns[kks] fdruk I;kjk] fdruk \\'khry gS ekuks\\nlalkj dks bZn dh cèkkbZ ns jgk gSA xk¡o esa fdruh gypy gSA bZnxkg tkus dh\\nrS;kfj;k¡ gks jgh gSaA fdlh osQ oqQjrs esa cVu ugha gS] iM+ksl osQ ?kj ls lqbZ&rkxk ysus\\nnkSM+k tk jgk gSA fdlh osQ twrs dM+s gks x, gSa] muesa rsy Mkyus osQ fy, rsyh osQ\\n?kj Hkkxk tkrk gSA tYnh&tYnh cSyksa dks lkuh&ikuh ns nsaA bZnxkg ls ykSVrs&ykSVrs\\nnksigj gks tk,xkA rhu dksl dk iSny jkLrk] fiQj lSdM+ksa vknfe;ksa ls feyuk&HksaVuk]\\nnksigj osQ igys ykSVuk vlaHko gSA yM+osQ lcls ”;knk izlUu gSaA fdlh us ,d jks”kk\\nj[kk gS] og Hkh nksigj rd] fdlh us og Hkh ugha_ ysfdu bZnxkg tkus dh [kq\\'kh\\nmuosQ fgLls dh ph”k gSA jks”ks cM+s&cw<+ksa osQ fy, gksaxsA buosQ fy, rks bZn gSA jks”k\\nbZn dk uke jVrs Fks vkt og vk xbZA vc tYnh iM+h gS fd yksx bZnxkg D;ksa\\nugha pyrsA bUgsa x`gLFkh dh ¯prkvksa ls D;k iz;kstu! lsoS;ksa osQ fy, nwèk vkSj \\'kDdj\\n?kj esa gS ;k ugha] budh cyk ls] ;s rks lsoS;k¡ [kk,¡xsA og D;k tkusa fd vCcktku\\nD;ksa cngokl pkSèkjh dk;evyh osQ ?kj nkSM+s tk jgs gSaA mUgsa D;k [kcj fd pkSèkjh\\nvkt vk¡[ksa cny ysa] rks ;g lkjh bZn eqgjZe gks tk,A mudh viuh tscksa esa rks oqQcsj\\ndk èku Hkjk gqvk gSA ckj&ckj tsc ls viuk [k”kkuk fudkydj fxurs gSa vkSj [kq\\'k\\n2024-25\\n6 / varjk\\ngksdj fiQj j[k ysrs gSaA egewn fxurk gS] ,d&nks] nl&ckjg! mlosQ ikl ckjg iSls\\ngSaA eksgflu osQ ikl ,d] nks] rhu] vkB] ukS] ianzg iSls gSaA bUgha vufxurh iSlksa esa\\nvufxurh ph”ksa yk,¡xs µ f[kykSus] feBkb;k¡] fcxqy] xsan vkSj tkus D;k&D;k! vkSj\\nlcls ”;knk izlUu gS gkfenA og pkj&ik¡p lky dk xjhc&lwjr] nqcyk&iryk\\nyM+dk] ftldk cki xr o\"kZ gS ”ks dh HksaV gks x;k vkSj ek¡ u tkus D;ksa ihyh\\ngksrh&gksrh ,d fnu ej xbZA fdlh dks irk u pyk] D;k chekjh gSA dgrh rks dkSu\\nlquus okyk FkkA fny ij tks oqQN chrrh Fkh] og fny esa gh lgrh Fkh vkSj tc\\nu lgk x;k rks lalkj ls fcnk gks xbZA vc gkfen viuh cw<+h nknh vehuk dh xksn\\nesa lksrk gS vkSj mruk gh izlUu gSA mlosQ vCcktku #i;s dekus x, gSaA cgqr&lh\\nFkSfy;k¡ ysdj vk, ¡xsA vEehtku vYykg fe;k¡ osQ ?kj ls mlosQ fy, cM+h\\nvPNh&vPNh ph”ksa ykus xbZ gSa_ blfy, gkfen izlUu gSA vk\\'kk rks cM+h ph”k gS]\\nvkSj fiQj cPpksa dh vk\\'kk! mudh dYiuk rks jkbZ dk ioZr cuk ysrh gSA gkfen osQ\\nik¡o esa twrs ugha gSa] flj ij ,d iqjkuh&èkqjkuh Vksih gS] ftldk xksVk dkyk iM+ x;k\\ngS] fiQj Hkh og izlUu gSA tc mlosQ vCcktku FkSfy;k¡ vkSj vEehtku fu;kersa\\nysdj vk,¡xh] rks og fny osQ vjeku fudky ysxkA rc ns[ksxk egewn] eksgflu] uwjs\\nvkSj lEeh dgk¡ ls mrus iSls fudkysaxsA vHkkfxu vehuk viuh dksBjh esa cSBh jks\\njgh gSA vkt bZn dk fnu vkSj mlosQ ?kj esa nkuk ugha! vkt vkfcn gksrk rks D;k\\nblh rjg bZn vkrh vkSj pyh tkrh! bl vaèkdkj vkSj fujk\\'kk esa og Mwch tk jgh\\ngSA fdlus cqyk;k Fkk bl fuxksM+h bZn dks\\\\ bl ?kj esa mldk dke ugha_ ysfdu\\ngkfen! mls fdlh osQ ejus&thus ls D;k eryc\\\\ mlosQ vanj izdk\\'k gS] ckgj\\nvk\\'kkA foifÙk viuk lkjk nycy ysdj vk,] gkfen dh vkuan Hkjh fprou mldk\\nfoèoal dj nsxhA\\ngkfen Hkhrj tkdj nknh ls dgrk gS µ rqe Mjuk ugha vEek¡] eSa lcls igys\\nvkmQ¡xkA fcyoqQy u MjukA\\nvehuk dk fny dpksV jgk gSA xk¡o osQ cPps vius&vius cki osQ lkFk tk\\njgs gSaA gkfen dk cki vehuk osQ flok vkSj dkSu gS! mls oSQls vosQys esys tkus\\n2024-25\\nizsepan / 7\\nns\\\\ ml HkhM+&HkkM+ esa cPpk dgha [kks tk, rks D;k gks\\\\ ugha] vehuk mls ;ksa u\\ntkus nsxhA uUgha&lh tku! rhu dksl pysxk oSQls! iSj esa Nkys iM+ tk,¡xsA twrs Hkh\\nrks ugha gaSA og FkksM+h&FkksM+h nwj ij mls xksn ys ysxh_ ysfdu ;gk¡ lsoS;k¡ dkSu\\nidk,xk\\\\ iSls gksrs rks ykSVrs&ykSVrs lc lkexzh tek djosQ pViV cuk ysrhA ;gk¡\\nrks ?kaVksa ph”ksa tek djrs yxsaxsA ek¡xs gh dk rks Hkjkslk BgjkA ml fnu I+kQgheu osQ\\ndiM+s flys FksA vkB vkus iSls feys FksA ml vBUuh dks bZeku dh rjg cpkrh\\npyh vkrh Fkh blh bZn osQ fy,] ysfdu dy Xokyu flj ij lokj gks xbZ rks\\nD;k djrh! gkfen osQ fy, oqQN ugha gS] rks nks iSls dk nwèk rks pkfg, ghA vc\\nrks oqQy nks vkus iSls cp jgs gSaA rhu iSls gkfen dh tsc esa] ik¡p vehuk osQ cVqos\\nesaA ;gh rks fclkr gS vkSj bZn dk R;ksgkj] vYykg gh csM+k ikj yxk,A èkkscu vkSj\\nukbu vkSj esgrjkuh vkSj pwfM+gkfju lHkh rks vk,¡xhA lHkh dks lsoS;k¡ pkfg, vkSj\\nFkksM+k fdlh dh vk¡[kksa ugha yxrkA fdl&fdl ls eq¡g pqjk,xhA vkSj eq¡g D;ksa\\npqjk,\\\\ lky&Hkj dk R;ksgkj gSA f”kanxh [kSfj;r ls jgs] mudh rdnhj Hkh rks mlh\\nosQ lkFk gSA cPps dks [kqnk lyker j[ks] fnu Hkh dV tk,¡xsA\\nxk¡o ls esyk pykA vkSj cPpksa osQ lkFk gkfen Hkh tk jgk FkkA dHkh\\nlc&osQ&lc nkSM+dj vkxs fudy tkrsA fiQj fdlh isM+ osQ uhps [kM+s gksdj\\nlkFkokyksa dk bar”kkj djrsA ;g yksx D;ksa bruk èkhjs&èkhjs py jgs gSa! gkfen\\nosQ iSjksa esa rks tSls ij yx x, gSaA og dHkh Fkd ldrk gS! \\'kgj dk nkeu\\nvk x;kA lM+d osQ nksuksa vksj vehjksa osQ cxhps gSaA iDdh pkjnhokjh cuh gqbZ\\ngSA isM+ksa esa vke vkSj yhfp;k¡ yxh gqbZ gSaA dHkh&dHkh dksbZ yM+dk oaQoQM+h\\nmBkdj vke ij fu\\'kkuk yxkrk gSA ekyh vanj ls xkyh nsrk gqvk fudyrk\\ngSA yM+osQ ogk¡ ls ,d iQyk±x ij gSaA [kwc g¡l jgs gSaA ekyh dks oSQlk mYyw\\ncuk;k gSA\\ncM+h&cM+h bekjrsa vkus yxhaA ;g vnkyr gS] ;g dkyst gS] ;g Dyc&?kj\\ngS! brus cM+s dkyst esa fdrus yM+osQ i<+rs gksaxs\\\\ lc yM+osQ ugha gSa th!\\ncM+s&cM+s vkneh gSa] lp! mudh cM+h&cM+h ew¡Nsa gSaA brus cM+s gks x,] vHkh rd\\n2024-25\\n8 / varjk\\ni<+us tkrs gSaA u tkus dc rd i<+saxs vkSj D;k  djsaxs bruk i<+dj] gkfen osQ\\nenjls esa nks&rhu cM+s&cM+s yM+osQ gSa] fcyoqQy rhu dkSM+h osQA jks”k ekj [kkrs\\ngSa] dke ls th pqjkus  okysA bl txg Hkh mlh rjg osQ yksx gksaxs vkSj D;kA\\nDyc&?kj esa tknw gksrk gSA lquk gS] ;gk¡ eqn Zs dh [kksifM+;k¡ nkSM+rh gSaA vkSj\\ncM+s&cM+s rek\\'ks gksrs gSa] ij fdlh dks vanj ugha tkus nsrsA vkSj ;gk¡ \\'kke dks\\nlkgc yksx [ksyrs gSaA cM+s&cM+s vkneh [ksyrs gSa] ew¡Nksa&nk<+hokysA vkSj esesa Hkh\\n[ksyrh gSa] lp! gekjh vEek¡ dks og ns nks] D;k uke gS] cSV] rks mls idM+\\ngh u losaQA ?kqekrs gh yq<+d tk,¡A\\negewn us dgk µ gekjh vEehtku dk rks gkFk dk¡ius yxs] vYyk dleA\\neksgflu cksyk µ pyks] euksa vkVk ihl Mkyrh gSaA ”kjk&lk cSV idM+ ysaxh] rks\\ngkFk dk¡ius yxsaxs\\\\ lSdM+ksa ?kM+s ikuh jks”k fudkyrh gSaA ik¡p ?kM+s rks rsjh HkSal ih tkrh\\ngSA fdlh ese dks ,d ?kM+k ikuh Hkjuk iM+s rks vk¡[kksa rys v¡èksjk vk tk,A\\negewn µ ysfdu nkSM+rha rks ugha] mNy&owQn rks ugha ldrhaA\\neksgflu µ gk¡] mNy&owQn ugha ldrha] ysfdu ml fnu esjh xk; [kqy xbZ\\nFkh vkSj pkSèkjh osQ [ksr esa tk iM+h Fkh] rks vEek¡ bruk rs”k nkSM+ha fd eSa mUgsa u\\nik ldk] lpA\\nvkxs pysA gyokb;ksa dh nwdkusa \\'kq: gqb±A vkt [kwc lth gqbZ FkhaA bruh\\nfeBkb;k¡ dkSu [kkrk gS\\\\ ns[kks u] ,d&,d nwdku ij euksa gksaxhA lquk gS] jkr dks\\nftUukr vkdj [kjhn ys tkrs gSaA vCck dgrs Fks fd vkèkh jkr dks ,d vkneh\\ngj nwdku ij tkrk gS vkSj ftruk eky cpk gksrk gS] og rqyok ysrk gS vkSj\\nlpeqp osQ #i;s nsrk gS] fcyoqQy ,sls gh #i;sA\\ngkfen dks ;dhu u vk;k µ ,sls #i;s ftUukr dks dgk¡ ls fey tk,¡xs\\\\\\neksgflu us dgk µ ftUukr dks #i;s dh D;k deh\\\\ ftl [ktkus esa pkgsa pys\\ntk,¡A yksgs osQ njok”ks rd mUgas ugha jksd ldrs tukc] vki gSa fdl isQj esa! ghjs\\ntokgjkr rd muosQ ikl jgrs gSaA ftlls [kq\\'k gks x, mls Vksdjksa tokgjkr ns\\nfn,A vHkh ;gha cSBs gSSa] ik¡p feuV esa dydÙkk igq¡p tk,¡A\\n2024-25\\nizsepan / 9\\ngkfen us fiQj iwNk µ ftUukr cgqr cM+s&cM+s gksrs gksaxs\\\\\\neksgflu µ ,d&,d vkleku osQ cjkcj gksrk gS thA ”kehu ij [kM+k gks tk,\\nrks mldk flj vkleku ls tk yxs] exj pkgs rks ,d yksVs esa ?kql tk,A\\ngkfen µ yksx mUgsa oSQls [kq\\'k djrs gksaxsA dksbZ eq>s og earj crk ns rks ,d\\nftUu dks [kq\\'k dj yw¡A\\neksgflu µ vc ;g rks eSa ugha tkurk] ysfdu pkSèkjh lkgc osQ dkcw esa cgqr\\nls ftUukr gSaA dksbZ ph”k pksjh tk,] pkSèkjh lkgc mldk irk yxk nsaxs vkSj pksj dk\\nuke Hkh crk nsaxsA tqejkrh dk cNok ml fnu [kks x;k FkkA rhu fnu gSjku gq,] dgha\\nu feykA rc >d ekjdj pkSèkjh osQ ikl x,A pkSèkjh us rqjar crk fn;k] eos\\'kh[kkus\\nesa gS vkSj ogha feykA ftUukr vkdj mUgsa lkjs tgku dh [kcjsa ns tkrs gSaA\\nvc mldh le> esa vk x;k fd pkSèkjh osQ ikl D;ksa bruk èku gS] vkSj D;ksa\\nmudk bruk lEeku gSA\\nvkxs pysA ;g iqfyl ykbu gSA ;gha lc dkfulfVfcy dok;n djrs gSaA\\njSVu! I+kQk; iQks! jkr dks cspkjs ?kwe&?kwedj igjk nsrs gSa] ugha pksfj;k¡ gks tk,¡A\\neksgflu us izfrokn fd;k µ ;g dkfulfVfcy igjk nsrs gSa! rHkh rqe cgqr\\ntkurs gksA vth g”kjr] ;gh pksjh djkrs gSaA \\'kgj osQ ftrus pksj&MkowQ gSa] lc\\nbuls feys jgrs gSaA jkr dks ;s yksx pksjksa ls rks dgrs gSa] pksjh djks vkSj vki nwljs\\neqgYys esa tkdj ^tkxrs jgks! tkxrs jgks!* iqdkjrs gSaA tHkh bu yksxksa osQ ikl brus\\n#i;s vkrs gSaA esjs ekew¡ ,d Fkkus esa dkfulfVfcy gSaA chl #i;k eghuk ikrs gSaa_\\nysfdu ipkl #i;s ?kj Hkstrs gSaA vYyk dle! eSaus ,d ckj iwNk Fkk fd ekew¡]\\nvki brus #i;s dgk¡ ls ikrs gSa\\\\ g¡ldj dgus yxs µ csVk] vYykg nsrk gSA fiQj\\nvki gh cksys µ ge yksx pkgsa rks ,d fnu esa yk[kksa ekj yk,¡A ge rks bruk gh\\nysrs gSa] ftlesa viuh cnukeh u gks vkSj ukSdjh u pyh tk,A\\ngkfen us iwNk µ ;g yksx pksjh djokrs gSa] rks dksbZ bUgsa idM+rk ugha\\\\\\neksgflu mldh uknkuh ij n;k fn[kkdj cksyk µ vjs ikxy] bUgsa dkSu\\nidM+sxk\\\\ idM+us okys rks ;g yksx [kqn gSa_ ysfdu vYykg bUgsa l”kk Hkh [kwc nsrk\\ngSA gjke dk eky gjke esa tkrk gSA FkksM+s gh fnu gq, ekew¡ osQ ?kj esa vkx yx xbZA\\n2024-25\\n10 / varjk\\nlkjh ysbZ iw¡th ty xbZA ,d cjru rd u cpkA dbZ fnu isM+ osQ uhps lks,] vYyk\\ndle] isM+ osQ uhps! fiQj u tkus dgk¡ ls ,d lkS d”kZ yk, rks cjru&Hkk¡M+s vk,A\\ngkfen µ ,d lkS rks ipkl ls ”;knk gksrs gSa\\\\\\n^dgk¡ ipkl] dgk¡ ,d lkSA ipkl ,d FkSyh Hkj gksrk gSA lkS rks nks FkSfy;ksa\\nesa Hkh u vk,A*\\nvc cLrh ?kuh gksus yxhA bZnxkg tkusokyksa dh Vksfy;k¡ u”kj vkus yxhaA ,d\\nls ,d HkM+dhys oL=k igus gq,A dksbZ bDosQ&rk¡xs ij lokj] dksbZ eksVj ij] lHkh b=k\\nesa cls] lHkh osQ fnyksa esa meaxA xzkeh.kksa dk ;g NksVk&lk ny] viuh foiUurk ls\\ncs[kcj] larks\"k vkSj èkS;Z esa exu pyk tk jgk FkkA cPpksa osQ fy, uxj dh lHkh ph”ksa\\nvuks[kh FkhaA ftl ph”k dh vksj rkdrs] rkdrs gh jg tkrs vkSj ihNs ls cjkcj gkuZ\\ndh vkok”k gksus ij Hkh u psrrsA gkfen rks eksVj osQ uhps tkrs&tkrs cpkA\\nlglk bZnxkg u”kj vk;kA mQij beyh osQ ?kus o`{kksa dh Nk;k gSA uhps iDdk\\nI+kQ\\'kZ gS] ftl ij tkfte fcNk gqvk gSA vkSj jks”ksnkjksa dh iafDr;k¡ ,d osQ ihNs\\n,d u tkus dgk¡ rd pyh xbZ gSa] iDdh txr osQ uhps rd] tgk¡ tkfte Hkh\\nugha gSA u, vkusokys vkdj ihNs dh drkj esa [kM+s gks tkrs gSaA vkxs txg ugha\\ngSA ;gk¡ dksbZ èku vkSj in ugha ns[krkA bLyke dh fuxkg esa lc cjkcj gSaA bu\\nxzkeh.kksa us Hkh otw fd;k vkSj fiNyh iafDr esa [kM+s gks x,A fdruk lqanj lapkyu\\ngS] fdruh lqanj O;oLFkk! yk[kksa flj ,d lkFk fltns esa >qd tkrs gSa] fiQj\\nlc&osQ&lc ,d lkFk [kM+s gks tkrs gSa] ,d lkFk >qdrs gSa] vkSj ,d lkFk ?kqVuksa\\nosQ cy cSB tkrs gSaA dbZ ckj ;gh fØ;k gksrh gS] tSls fctyh dh yk[kksa cfÙk;k¡\\n,d lkFk iznhIr gksa vkSj ,d lkFk cq> tk,¡ vkSj ;gh Øe pyrk jgsA fdruk\\nviwoZ n`\\'; Fkk] ftldh lkewfgd fØ;k,¡] foLrkj vkSj vuarrk ân; dks J¼k] xoZ\\nvkSj vkRekuan ls Hkj nsrh Fkha] ekuks Hkzkr`Ro dk ,d lw=k bu leLr vkRekvksa dks\\n,d yM+h esa fijks, gq, gSA\\n2024-25\\nizsepan / 11\\n2\\nuek”k [kRe gks xbZ gSA yksx vkil esa xys fey jgs gSaA rc feBkbZ vkSj\\nf[kykSus dh nwdkuksa ij èkkok gksrk gSA xzkeh.kksa dk ;g ny bl fo\"k; esa ckydksa\\nls de mRlkgh ugha gSA ;g ns[kks] ¯gMksyk gSA ,d iSlk nsdj p<+ tkvksA dHkh\\nvkleku ij tkrs gq, ekywe gksaxs] dHkh ”kehu ij fxjrs gq,A ;g p[khZ gS] ydM+h\\nosQ gkFkh] ?kksM+s] m¡QV NM+ksa ls yVosQ gq, gSaA ,d iSlk nsdj cSB tkvks vkSj iPphl\\npDdjksa dk e”kk yksA egewn vkSj eksgflu vkSj uwjs vkSj lEeh bu ?kksM+ksa vkSj mQ¡Vksa\\nij cSBrs gSaA gkfen nwj [kM+k gSA rhu gh iSls rks mlosQ ikl gaSA vius dks\"k dk\\n,d frgkbZ ”kjk&lk pDdj [kkus osQ fy, ugha ns ldrkA\\nlc p£[k;ksa ls mrjrs gSaA vc f[kykSus ysaxsA bèkj nwdkuksa dh drkj yxh gqbZ\\ngSA rjg&rjg osQ f[kykSus gSa µ flikgh vkSj xqtfj;k] jktk vkSj odhy] fHk\\'rh\\nvkSj èkksfcu vkSj lkèkqA okg! fdrus lqanj f[kykSus gSaA vc cksyk gh pkgrs gSaA\\negewn flikgh ysrk gS] [kkdh onhZ vkSj yky ixM+hokyk] oaQèks ij canwd j[ks gq,_\\nekywe gksrk gS vHkh dok;n fd, pyk vk jgk gSA eksgflu dks fHk\\'rh ilan\\nvk;kA dej >qdh gqbZ gS] mQij e\\'kd j[ks gq, gSA e\\'kd dk eq¡g ,d gkFk ls\\nidM+s gq, gSA fdruk izlUu gSA \\'kk;n dksbZ xhr xk jgk gSA cl] e\\'kd ls ikuh\\nmM+syk gh pkgrk gSA uwjs dks odhy ls isze gSA oSQlh fo}Ùkk gS mlosQ eq[k ij!\\ndkyk pksxk] uhps lI+ksQn vpdu] vpdu osQ lkeus dh tsc esa ?kM+h] lqugjh\\n”kathj] ,d gkFk esa dkuwu dk iksFkk fy, gq,A ekywe gksrk gS] vHkh fdlh vnkyr\\nls ftjg ;k cgl fd, pys vk jgs gSaA ;g lc nks&nks iSls osQ f[kykSus gSaA gkfen\\nosQ ikl oqQy rhu iSls gSa] brus eg¡xs f[kykSus og oSQls ys\\\\ f[kykSuk dgha gkFk\\nls NwV iM+s] rks pwj&pwj gks tk,] ”kjk ikuh iM+s rks lkjk jax èkqy tk,] ,sls f[kykSus\\nysdj og D;k djsxk] fdl dke osQ\\\\\\neksgflu dgrk gS µ esjk fHk\\'rh jks”k ikuh ns tk,xk] lk¡>&lcsjsA\\n2024-25\\n12 / varjk\\negewn µ vkSj esjk flikgh ?kj dk igjk nsxkA dksbZ pksj vk,xk] rks I +kQkSju\\ncanwd I+kSQj dj nsxkA\\nuwjs µ vkSj esjk odhy [kwc eqdnek yM+sxkA\\nlEeh µ vkSj esjh èkksfcu jks”k diM+s èkks,xhA\\ngkfen f[kykSuksa dh fuank djrk gS µ fe^h gh osQ rks gSa] fxjs rks pdukpwj gks\\ntk,¡_ ysfdu yypkbZ gqbZ vk¡[kksa ls f[kykSuksa dks ns[k jgk gSA vkSj pkgrk gS fd\\n”kjk nsj osQ fy, mUgsa gkFk esa ys ldrkA mlosQ gkFk vuk;kl gh yidrs gSa_\\nysfdu yM+osQ brus R;kxh ugha gksrs gSa] fo\\'ks\"kdj tc vHkh u;k \\'kkSd gSA gkfen\\nyypkrk jg tkrk gSA\\nf[kykSus osQ ckn feBkb;k¡ vkrh gSaA fdlh us jsofM+;k¡ yh gSa] fdlh us\\nxqykc&tkequ] fdlh us lksgu gyokA e”ks ls [kk jgs gSaA gkfen fcjknjh ls i`Fkd\\ngSA vHkkxs osQ ikl rhu iSls gSaA D;ksa ugha oqQN ysdj [kkrk\\\\ yypkbZ vk¡[kksa ls\\nlcdh vksj ns[krk gSA\\neksgflu dgrk gS µ gkfen] jsoM+h ys tk] fdruh [kq\\'kcwnkj gS!\\ngkfen dks lansg gqvk] ;g osQoy ozwQj fouksn gS] eksgflu bruk mnkj ugha gS_\\nysfdu ;g tkudj Hkh og mlosQ ikl tkrk gSA eksgflu nksus ls ,d jsoM+h\\nfudkydj gkfen dh vksj c<+krk gSA gkfen gkFk iSQykrk gSA eksgflu jsoM+h vius\\neq¡g esa j[k ysrk gSA egewn] uwjs vkSj lEeh [kwc rkfy;k¡ ctk&ctkdj g¡lrs gaSA\\ngkfen f[kfl;k tkrk gSA\\neksgflu µ vPNk] vcdh ”k:j nsaxs gkfen] vYyk OkQle] ys tkA\\ngkfen µ j[ks jgksA D;k esjs ikl iSls ugha gSa\\\\\\nlEeh µ rhu gh iSls rks gSaA rhu iSls esa D;k&D;k yksxs\\\\\\negewn µ gels xqykc&tkequ ys tko gkfenA eksgflu cnek\\'k gSA\\ngkfen µ feBkbZ dkSu cM+h user gSA fdrkc esa bldh fdruh cqjkb;k¡ fy[kh gSaA\\neksgflu µ ysfdu fny esa dg jgs gkasxs fd feys rks [kk ysaA vius iSls D;ksa\\nugha fudkyrs\\\\\\n2024-25\\nizsepan / 13\\negewn µ ge le>rs gSa] bldh pkykdhA tc gekjs lkjs iSls [kpZ gks tk,¡xs]\\nrks gesa yypk&yypkdj [kk,xkA\\nfeBkb;ksa osQ ckn oqQN nwdkusa yksgs dh ph”kksa dh] oqQN fxyV vkSj oqQN\\nudyh xguksa dhA yM+dksa osQ fy, ;gk¡ dksbZ vkd\"kZ.k u FkkA os lc vkxs c<+\\ntkrs gSaA gkfen yksgs dh nwdku ij #d tkrk gSA dbZ fpeVs j[ks gq, FksA mls\\n[k;ky vk;k] nknh osQ ikl fpeVk ugha gSA ros ls jksfV;k¡ mrkjrh gSa] rks gkFk\\nty tkrk gS_ vxj og fpeVk ys tkdj nknh dks ns ns] rks og fdruh izlUu\\ngksaxh! fiQj mudh m¡xfy;k¡ dHkh u tysaxhA ?kj esa ,d dke dh ph”k gks\\ntk,xhA f[kykSus ls D;k I+kQk;nkA O;FkZ esa iSls [kjkc gksrs gSaA ”kjk nsj gh rks [kq\\'kh\\ngksrh gSA fiQj rks f[kykSus dks dksbZ vk¡[k mBkdj ugha ns[krkA ;k rks ?kj\\nigq¡prs&igq¡prs VwV&iwQVdj cjkcj gks tk,¡xsA fpeVk fdrus dke dh ph”k gSA\\njksfV;k¡ ros ls mrkj yks] pwYgs esa lsad yksA dksbZ vkx ek¡xus vk, rks pViV\\npwYgs ls vkx fudkydj mls ns nksA vEek¡ cspkjh dks dgk¡ I+kqQjlr gS fd ck”kkj\\nvk,¡ vkSj brus iSls gh dgk¡ feyrs gSaA jks”k gkFk tyk ysrh gSaA gkfen osQ lkFkh\\nvkxs c<+ x, gSaA lchy ij lc&osQ&lc \\'kjcr ih jgs gSaA ns[kks] lc fdrus\\nykyph gSa! bruh feBkb;k¡ yha] eq>s fdlh us ,d Hkh u nhA ml ij dgrs gSa]\\nesjs lkFk [ksyksA esjk ;g dke djksA vc vxj fdlh us dksbZ dke djus dks\\ndgk] rks iwNw¡xkA [kk,¡ feBkb;k¡] vki eq¡g lM+sxk] iQksMs+ iqaQfl;k¡ fudysaxh] vki\\ngh ”kcku pVksjh gks tk,xhA rc ?kj ls iSls pqjk,¡xs vkSj ekj [kk,¡xsA fdrkc esa\\n>wBh ckrsa FkksM+s gh fy[kh gSaA esjh ”kcku D;ksa [kjkc gksxhA vEek¡ fpeVk ns[krs\\ngh nkSM+dj esjs gkFk ls ys ysaxh vkSj dgsaxh µ esjk cPpk vEek¡ osQ fy, fpeVk\\nyk;k gSA g”kkjksa nqvk,¡ nsaxhA fiQj iM+ksl dh vkSjrksa dks fn[kk,¡xhA lkjs xk¡o esa\\nppkZ gksus yxsxh] gkfen fpeVk yk;k gSA fdruk vPNk yM+dk gSA bu yksxksa osQ\\nf[kykSuksa ij dkSu bUgsa nqvk,¡ nsxk\\\\ cM+ksa dh nqvk,¡ lhèks vYykg osQ njckj esa\\nigq¡prh gSa vkSj rqjar lquh tkrh gSaA esjs ikl iSls ugha gSaA rHkh rks eksgflu vkSj\\negewn ;ksa fe”kkt fn[kkrs gSaA eSa Hkh buls fe”kkt fn[kkÅ¡xkA [ksysa f[kykSus vkSj\\n2024-25\\n14 / varjk\\n[kk,¡ feBkb;k¡A eSa ugha [ksy rk f[kykSus] fdlh dk fe”kkt D;ksa lgw¡A eSa xjhc\\nlgh] fdlh ls oqQN ek¡xus rks ugha tkrkA vkf[kj vCcktku dHkh&u&dHkh\\nvk,¡xsA vEek¡ Hkh vk,¡xh ghA fiQj bu yksxksa ls iwNw¡xk] fdrus f[kykSus yksxs\\\\\\n,d&,d dks Vksdfj;ksa f[kykSus nw¡ vkSj fn[kk nw¡ fd nksLrksa osQ lkFk bl rjg\\nlywd fd;k tkrk gSA ;g ugha fd ,d iSls dh jsofM+;k¡ yha rks fp<+k&fp<+kdj\\n[kkus yxsA lc&osQ&lc g¡lsaxs fd gkfen us fpeVk fy;k gSA g¡lsa! esjh cyk ls!\\nmlus nwdkunkj ls iwNk µ ;g fpeVk fdrus dk gS\\\\\\nnwdkunkj us mldh vksj ns[kk vkSj dksbZ vkneh lkFk u ns[kdj dgk µ rqEgkjs\\ndke dk ugha gS th!\\n^fcdkÅ gS fd ugha\\\\*\\n^fcdkÅ D;ksa ugha gSA vkSj ;gk¡ D;ksa ykn yk, gSa\\\\*\\n^rks crkrs D;ksa ugha] oSQ iSls dk gS\\\\*\\n^Ng iSls yxsaxsA*\\ngkfen dk fny cSB x;kA\\n^Bhd&Bhd crkvks!*\\n^Bhd&Bhd ik¡p iSls yxsaxs] ysuk gks yks] ugha pyrs cuksA*\\ngkfen us dystk e”kcwr djosQ dgk µ rhu iSls yksxs\\\\\\n;g dgrk gqvk og vkxs c<+ x;k fd nwdkunkj dh ?kqM+fd;k¡ u lqusA ysfdu\\nnwdkunkj us ?kqM+fd;k¡ ugha nhaA cqykdj fpeVk ns fn;kA gkfen us mls bl rjg\\ndaèks ij j[kk] ekuks canwd gS vkSj \\'kku ls vdM+rk gqvk lafx;ksa osQ ikl vk;kA\\n”kjk lqusa] lc&osQ&lc D;k&D;k vkykspuk,¡ djrs gSaA\\neksgflu us g¡ldj dgk µ ;g fpeVk D;ksa yk;k ixys_ bls D;k djsxk\\\\\\ngkfen us fpeVs dks ”kehu ij iVddj dgk µ ”kjk viuk fHk\\'rh ”kehu ij\\nfxjk nksA lkjh ilfy;k¡ pwj&pwj gks tk,¡ cpk dhA\\negewn cksyk µ rks ;g fpeVk dksbZ f[kykSuk gS\\\\\\n2024-25\\nizsepan / 15\\ngkfen µ f[kykSuk D;ksa ugha gS\\\\ vHkh oaQèks ij j[kk] canwd gks xbZA gkFk esa\\nys fy;k] iQdhjksa dk fpeVk gks x;k] pkgw¡ rks blls ethjs dk dke ys ldrk gw¡A\\n,d fpeVk tek nw¡] rks rqe yksxksa osQ lkjs f[kykSuksa dh tku fudy tk,A\\nrqEgkjs f[kykSus fdruk gh ”kksj yxk,¡] esjs fpeVs dk cky Hkh ck¡dk ugha dj\\nldrsA esjk cgknqj \\'ksj gS µ fpeVkA\\nlEeh us [k¡tjh yh FkhA izHkkfor gksdj cksyk µ esjh [k¡tjh ls cnyksxs\\\\ nks\\nvkus dh gSA\\ngkfen us [k¡tjh dh vksj mis{kk ls ns[kk µ esjk fpeVk pkgs rks rqEgkjs [k¡tjh\\ndk isV iQkM+ MkysA cl ,d peM+s dh f>Yyh yxk nh] <c&<c cksyus yxhA\\n”kjk&lk ikuh yx tk, rks [kre gks tk,A esjk cgknqj fpeVk vkx esa] ikuh esa]\\nvk¡èkh esa] rwI+kQku esa cjkcj MVk [kM+k jgsxkA\\nfpeVs us lHkh dks eksfgr dj fy;k] ysfdu vc iSls fdlosQ ikl èkjs gSaA\\nfiQj esys ls nwj fudy vk, gSa] ukS dc osQ ct x,] èkwi rs”k gks jgh gSA ?kj\\nigq¡pus dh tYnh gks jgh gSA cki ls f”kn Hkh djsa] rks fpeVk ugha fey ldrkA\\ngkfen gS cM+k pkykdA blhfy, cnek\\'k us vius iSls cpk j[ks FksA\\nvc ckydksa osQ nks ny gks x, gSaA eksgflu] egewn] lEeh vkSj uwjs ,d rjI+kQ\\ngSa] gkfen vosQyk nwljh rjI+\\nkQA \\'kkL=kkFkZ gks jgk gSA lEeh rks foèkehZ gks x;kA nwljs\\ni{k ls tk feyk_ ysfdu eksgflu] egewn vkSj uwjs Hkh] gkfen ls ,d&,d] nks&nks\\nlky cM+s gksus ij Hkh gkfen osQ vk?kkrksa ls vkrafdr gks mBs gSaA mlosQ ikl U;k;\\ndk cy gS vkSj uhfr dh \\'kfDrA ,d vksj fe^h gS] nwljh vksj yksgk] tks bl oDr\\nvius dks I+kQkSykn dg jgk gSA og vts; gS] ?kkrd gSA vxj dksbZ \\'ksj vk tk,]\\nrks fe;k¡ fHk\\'rh osQ NDosQ NwV tk,¡] fe;k¡ flikgh fe^h dh canwd NksM+dj Hkkxsa]\\nodhy lkgc dh ukuh ej tk,] pksxs esa eq¡g fNikdj ”kehu ij ysV tk,¡A exj\\n;g fpeVk] ;g cgknqj] ;g #Lres&¯gn yiddj \\'ksj dh xjnu ij lokj gks\\ntk,xk vkSj mldh vk¡[ksa fudky ysxkA\\n2024-25\\n16 / varjk\\neksgflu us ,M+h&pksVh dk ”kksj yxkdj dgk µ vPNk] ikuh rks ugha Hkj ldrkA\\ngkfen us fpeVs dks lhèkk [kM+k djosQ dgk µ fHk\\'rh dks ,d Mk¡V crk,xk\\nrks nkSM+k gqvk ikuh ykdj mlosQ }kj ij fNM+dus yxsxkA\\neksgflu ijkLr gks x;k_ ij egewn us oqQeqd igq¡pkbZ µ vxj cpk idM+ tk,¡\\nrks vnkyr esa c¡èks&c¡èks fiQjsaxsA rc rks odhy lkgc osQ iSjksa iMs+axsA\\ngkfen bl izcy roZQ dk tokc u ns ldkA mlus iwNk µ gesa idM+us dkSu vk,xk\\\\\\nuwjs us vdM+dj dgk µ ;g flikgh canwdokykA\\ngkfen us eq¡g fp<+kdj dgk µ ;g cspkjs ge cgknqj #Lres&¯gn dks idM+saxs!\\nvPNk ykvks] vHkh ”kjk oqQ\\'rh gks tk,A bldh lwjr ns[kdj nwj ls HkkxsaxsA idM+saxs\\nD;k cspkjs!\\neksgflu dks ,d ubZ pksV lw> xbZ µ rqEgkjs fpeVs dk eq¡g jks”k vkx esa\\ntysxkA\\nmlus le>k Fkk fd gkfen yktokc gks tk,xk_ ysfdu ;g ckr u gqbZA\\ngkfen us rqjar tokc fn;k µ vkx esa cgknqj gh owQnrs gSa tukc] rqEgkjs ;g\\nodhy] flikgh vkSj fHk\\'rh ysfM;ksa dh rjg ?kj esa ?kql tk,¡xsA vkx esa owQnuk\\nog dke gS] tks ;g #Lres&¯gn gh dj ldrk gSA\\negewn us ,d ”kksj yxk;k µ odhy lkgc oqQlhZ&es”k ij cSBsaxs] rqEgkjk\\nfpeVk rks ckophZ[kkus esa ”kehu ij iM+k jgsxkA\\nbl roZQ us lEeh vkSj uwjs dks Hkh ltho dj fn;kA fdrus fBdkus dh ckr dgh\\ngS i_s usA fpeVk ckophZ[kkus esa iM+k jgus osQ flok vkSj D;k dj ldrk gS\\\\\\ngkfen dks dksbZ iQM+drk gqvk tokc u lw>k rks mlus èkk¡èkyh \\'kq: dh µ esjk\\nfpeVk ckcphZ[kkus esa ugha jgsxkA odhy lkgc oqQlhZ ij cSBsaxs] rks tkdj mUgsa\\n”kehu ij iVd nsxk vkSj mudk dkuwu muosQ isV esa Mky nsxkA\\nckr oqQN cuh ughaA [kklh xky&xykSt Fkh_ ysfdu dkuwu dks isV esa Mkyus\\nokyh ckr Nk xbZA ,slh Nk xbZ fd rhuksa lwjek eq¡g rkdrs jg x,] ekuks dksbZ èksypk\\n2024-25\\nizsepan / 17\\ndudkSvk fdlh xaMsokys dudkS, dks dkV x;k gksA dkuwu eq¡g ls ckgj fudyus\\nokyh ph”k gSA mldks isV osQ vanj Mky fn;k tkuk] csrqdh&lh ckr gksus ij Hkh oqQN\\nu;kiu j[krh gSA gkfen us eSnku ekj fy;kA mldk fpeVk #Lres&¯gn gSA vc blesa\\neksgflu] egewn] uwjs] lEeh fdlh dks Hkh vkifÙk ugha gks ldrhA\\nfotsrk dks gkjus okyksa ls tks lRdkj feyuk LokHkkfod gS] og gkfen dks Hkh\\nfeykA vkSjksa us rhu&rhu] pkj&pkj vkus iSls [kpZ fd,] ij dksbZ dke dh ph”k\\nu ys losQA gkfen us rhu iSls esa jax tek fy;kA lp gh rks gS] f[kykSuksa dk D;k\\nHkjkslk\\\\ VwV&iwQV tk,¡xsA gkfen dk fpeVk rks cuk jgsxk cjlksa!\\nlafèk dh \\'krs± r; gksus yxhaA eksgflu us dgk µ ”kjk viuk fpeVk nks ge\\nHkh ns[ksaA rqe gekjk fHk\\'rh ysdj ns[kksA\\negewn vkSj uwjs us Hkh vius&vius f[kykSus is\\'k fd,A\\ngkfen dks bu \\'krks± osQ ekuus esa dksbZ vkifÙk u FkhA fpeVk ckjh&ckjh ls\\nlcosQ gkFk esa x;k_ vkSj muosQ f[kykSus ckjh&ckjh ls gkfen osQ gkFk esa vk,A\\nfdrus [kwclwjr f[kykSus gSa!\\ngkfen us gkjus okyksa osQ vk¡lw iksaNs µ eSa rqEgsa fp<+k jgk Fkk] lp! ;g fpeVk\\nHkyk bu f[kykSuksa dh D;k cjkcjh djsxk_ ekywe gksrk gS] vc cksys] vc cksysA\\nysfdu eksgflu dh ikVhZ dks bl fnykls ls larks\"k ugha gksrkA fpeVs dk\\nflDdk [kwc cSB x;k gSA fpidk gqvk fVdV vc ikuh ls ugha NwV jgk gSA\\neksgflu µ ysfdu bu f[kykSuksa osQ fy, dksbZ gesa nqvk rks u nsxk\\\\\\negewn µ nqvk dks fy, fiQjrs gksA myVs ekj u iM+sA vEek¡ ”k:j dgsaxh fd\\nesys esa ;gh fe^h osQ f[kykSus rqEgsa feys\\\\\\ngkfen dks Lohdkj djuk iM+k fd f[kykSuksa dks ns[kdj fdlh dh ek¡ bruh\\n[kq\\'k u gksxh] ftruh nknh fpeVs dks ns[kdj gksaxhA rhu iSlksa gh esa rks mls lc\\noqQN djuk Fkk vkSj mu iSlksa osQ bl mi;ksx ij iNrkos dh fcyoqQy ”k:jr\\nu FkhA fiQj vc rks fpeVk #Lres&¯gn gS vkSj lHkh f[kykSuksa dk ckn\\'kkg!\\n2024-25\\n18 / varjk\\njkLrs esa egewn dks Hkw[k yxhA mlosQ cki us osQys [kkus dks fn,A egewn us\\nosQoy gkfen dks lk>h cuk;kA mlosQ vU; fe=k eq¡g rkdrs jg x,A ;g ml\\nfpeVs dk izlkn FkkA\\n3\\nX;kjg cts xk¡o esa gypy ep xbZA esys okys vk x,A eksgflu dh NksVh cgu\\nus nkSM+dj fHk\\'rh mlosQ gkFk ls Nhu fy;k vkSj ekjs [kq\\'kh osQ tks mNyh] rks fe;k¡\\nfHk\\'rh uhps vk jgs vkSj lqjyksd fl/kjsA bl ij HkkbZ&cgu esa ekj&ihV gqbZA nksuksa\\n[kwc jks,A mldh vEek¡ ;g \\'kksj lqudj fcxM+h vkSj nksuksa dks Åij ls nks&nks\\npk¡Vs vkSj yxk,A\\nfe;k¡ uwjs osQ odhy dk var muosQ izfr\"BkuqowQy blls ”;knk xkSjoe; gqvkA\\nodhy ”kehu ij ;k rkd ij rks ugha cSB ldrkA mldh e;kZnk dk fopkj rks\\ndjuk gh gksxkA nhokj esa nks [kwfV;k¡ xkM+h xb±A mu ij ydM+h dk ,d iVjk j[kk\\nx;kA iVjs ij dkx”k dk dkyhu fcNk;k x;kA odhy lkgc jktk Hkkst dh Hkk¡fr\\n¯lgklu ij fcjktsA uwjs us mUgsa ia[kk >yuk \\'kq: fd;kA vnkyrksa esa [kl dh\\nVf^;k¡ vkSj fctyh osQ ia[ks jgrs gSaA D;k ;gk¡ ekewyh ia[kk Hkh u gks! dkuwu dh\\nxjeh fnekx ij p<+ tk,xh fd ughaA ck¡l dk ia[kk vk;k vkSj uwjs gok djus yxsA\\nekywe ugha] ia[ks dh gok ls] ;k ia[ks dh pksV ls odhy lkgc LoxZyksd ls\\ne`R;qyksd esa vk jgs vkSj mudk ekVh dk pksyk ekVh esa fey x;kA fiQj cM+s\\n”kksj&\\'kksj ls ekre gqvk vkSj odhy lkgc dh vfLFk ?kwj ij Mky nh xbZA\\nvc jgk egewn dk flikghA mls pViV xk¡o dk igjk nsus dk pktZ fey\\nx;k_ ysfdu iqfyl dk flikgh dksbZ lkèkkj.k O;fDr rks ugha] tks vius iSjksa pysA\\nog ikydh ij pysxkA ,d Vksdjh vkbZ] mlesa oqQN yky jax osQ iQVs&iqjkus\\nfpFkM+s fcNk, x,_ ftlesa flikgh lkgc vkjke ls ysVsA uwjs us ;g Vksdjh mBkbZ\\nvkSj vius }kj dk pDdj yxkus yxsA muosQ nksuksa NksVs HkkbZ flikgh dh rjI+kQ ls\\n^Nksusokys] tkxrs ygks* iqdkjrs pyrs gSaA exj jkr rks v¡èksjh gksuh pkfg,_ egewn\\n2024-25\\nizsepan / 19\\ndks Bksdj yx tkrh gSA Vksdjh mlosQ gkFk ls NwVdj fxj iM+rh gS vkSj fe;k¡\\nflikgh viuh canwd fy, ”kehu ij vk tkrs gSa vkSj mudh ,d Vk¡x esa fodkj\\nvk tkrk gSA egewn dks vkt Kkr gqvk fd og vPNk MkWDVj gSA mldks ,slk\\nejge fey x;k gS ftlls og VwVh Vk¡x dks vkuu&iQkuu tksM+ ldrk gSA osQoy\\nxwyj dk nwèk pkfg,A xwyj dk nwèk vkrk gSA Vk¡x tksM+ nh tkrh gS ysfdu flikgh\\ndks T;ksa gh [kM+k fd;k tkrk gS] Vk¡x tokc ns nsrh gSA \\'kY;fØ;k vliQy gqbZ]\\nrc mldh nwljh Vk¡x Hkh rksM+ nh tkrh gSSA vc de&ls&de ,d txg vkjke\\nls cSB rks ldrk gSA ,d Vk¡x ls rks u py ldrk Fkk_ u cSB ldrk FkkA vc\\nog flikgh laU;klh gks x;k gSA viuh txg ij cSBk&cSBk igjk nsrk gSA\\ndHkh&dHkh nsork Hkh cu tkrk gSA mlosQ flj dk >kyjnkj lkI+kQk [kqjp fn;k x;k\\ngSA vc mldk ftruk :ikarj pkgks] dj ldrs gksA dHkh&dHkh rks mlls ckV dk\\ndke Hkh fy;k tkrk gSA\\nvc fe;k¡ gkfen dk gky lqfu,A vehuk mldh vkok”k lqurs gh nkSM+h vkSj\\nmls xksn esa mBkdj I;kj djus yxhA lglk mlosQ gkFk esa fpeVk ns[kdj og pkSadhA\\n^;g fpeVk dgk¡ Fkk\\\\*\\n^eSaus eksy fy;k gSA*\\n^oSQ iSls esa\\\\*\\n^rhu iSls fn,A*\\nvehuk us Nkrh ihV yhA ;g oSQlk csle> yM+dk gS fd nksigj gqvk] oqQN\\n[kk;k u fi;kA yk;k D;k] fpeVk! lkjs esys esa rq>s vkSj dksbZ ph”k u feyh] tks\\n;g yksgs dk fpeVk mBk yk;k\\\\\\ngkfen us vijkèkh&Hkko ls dgk µ rqEgkjh m¡xfy;k¡ ros ls ty tkrh Fkha_\\nblfy, eSaus mls fy;kA\\ncqf<+;k dk Øksèk rqjar Lusg esa cny x;k] vkSj Lusg Hkh og ugha] tks izxYHk\\ngksrk gS vkSj viuh lkjh dld \\'kCnksa esa fc[ksj nsrk gSA ;g ewd Lusg Fkk] [kwc\\nBksl] jl vkSj Lokn ls Hkjk gqvkA cPps esa fdruk R;kx] fdruk ln~Hkko vkSj\\n2024-25\\n20 / varjk\\nfdruk foosd gS! nwljksa dks f[kykSus ysrs vkSj feBkbZ [kkrs ns[kdj bldk eu\\nfdruk yypk;k gksxk\\\\ bruk ”kCr blls gqvk oSQls\\\\ ogk¡ Hkh bls viuh cqf<+;k\\nnknh dh ;kn cuh jghA vehuk dk eu xn~xn gks x;kA\\nvkSj vc ,d cM+h fofp=k ckr gqbZA gkfen osQ bl fpeVs ls Hkh fofp=kA\\ncPps gkfen us cw<+s gkfen dk ikVZ [ksyk FkkA cqf<+;k vehuk ckfydk vehuk cu\\nxbZA og jksus yxhA nkeu iSQykdj gkfen dks nqvk,¡ nsrh tkrh Fkh vkSj vk¡lw dh\\ncM+h&cM+h cw¡nsa fxjkrh tkrh FkhA gkfen bldk jgL; D;k le>rk!\\niz\\'u&vH;kl\\n 1- ^bZnxkg* dgkuh osQ mu izlaxksa dk mYys[k dhft, ftuls bZn osQ volj ij xzkeh.k ifjos\\'k\\ndk mYykl izdV gksrk gSA\\n2- ^mlosQ vanj izdk\\'k gS] ckgj vk\\'kkA foifÙk viuk lkjk nycy ysdj vk,] gkfen\\ndh vkuan Hkjh fprou mldk foèoal dj nsxhA* µ bl dFku ls ys[kd dk D;k\\nvk\\'k; gS\\\\\\n3- ^mUgsa D;k [kcj fd pkS/jh vkt vk¡[ksa cny ysa] rks ;g lkjh bZn eqgjZe gks tk,A* µ\\nbl dFku dk vk\\'k; Li\"V dhft,A\\n4- ^ekuks Hkzkr`Ro dk ,d lw=k bu leLr vkRekvksa dks ,d yM+h esa fijks, gq, gSA* bl\\ndFku osQ lanHkZ esa Li\"V dhft, fd ^/eZ rksM+rk ughsa tksM+rk gSA*\\n5- fuEufyf[kr x|ka\\'kksa dh lizlax O;k[;k dhft, &&\\n(d) dbZ ckj ;gh fozQ;k gksrh gS----------------vkRekvksa dks ,d yM+h esa fijks, gq, gSA\\n([k) cqf<+;k dk ozQks/----------------Lokn ls Hkjk gqvkA\\n6- gkfen us fpeVs dh mi;ksfxrk dks fl¼ djrs gq, D;k&D;k roZQ fn,\\\\\\n2024-25\\nizsepan / 21\\n7- xk¡o ls \\'kgj tkusokys jkLrs osQ eè; iM+usokys LFkyksa dk ,slk o.kZu ys[kd us fd;k gS\\nekuks v¡k[kksa osQ lkeus fp=k mifLFkr gks jgk gksA vius ?kj vkSj fo|ky; osQ eè;\\niM+usokys LFkkuksa dk vius \\'kCnksa esa o.kZu dhft,A\\n8- ^cPps gkfen us cw<s+ gkfen dk ikVZ [ksyk FkkA cqf<+;k vehuk ckfydk vehuk cu xbZA*\\nbl dFku esa ^cw<+s gkfen* vkSj ^ckfydk vehuk* ls ys[kd dk D;k vk\\'k; gS\\\\ Li\"V\\ndhft,A\\n9- ^nkeu iSQykdj gkfen dks nqvk,¡ nsrh tkrh Fkh vkSj vk¡lw dh cM+h&cM+h cw¡nsa fxjkrh tkrh\\nFkhA gkfen bldk jgL; D;k le>rk!* µ ys[kd osQ vuqlkj gkfen vehuk dh nqvkvksa\\nvkSj vk¡lqvksa osQ jgL; dks D;ksa ugha le> ik;k\\\\ dgkuh osQ vk/kj ij Li\"V dhft,A\\n10- gkfen dh txg vki gksrs rks D;k djrs\\\\\\n;ksX;rk&foLrkj\\n 1- izsepan dh dgkfu;ksa dk laxzg ^ekuljksoj* uke ls vkB Hkkxksa esa izdkf\\'kr gSA vius\\niqLrdky; ls ysdj mls if<+,A\\n 2- bl dgkuh esa yksd izpfyr eqgkojksa dh Hkjekj gS] tSls µ ukuh ejuk] NDosQ NwVuk\\nvkfnA blesa vk, eqgkojksa dh ,d lwph rS;kj dhft,A\\n2024-25\\n22 / varjk\\n\\'kCnkFkZ vkSj fVIi.kh\\ncyk & d\"V] vkifÙk] cgqr d\"V nsusokyh oLrq\\ncngokl & ?kCkjkuk] gks\\'k&gokl Bhd u gksuk\\nfuxksM+h & vHkkxh] fujkJ;] ftloQk dksbZ u gks\\nfprou & fdlh dh vksj ns[kus dk <ax] n`f\"V] dVk{k\\no”kw & uek”k ls igys ;Fkkfof/ gkFk&ik¡o vkSj eq¡g /ksuk\\nfltnk & ekFkk Vsduk] [kqnk osQ vkxs flj >qdkuk\\n¯gMksyk & >wyk] ikyuk\\ne\\'kd & HksM+ ;k cdjh dh [kky dks lhdj cuk;k gqvk FkSyk\\nftlls fHk\\'rh ikuh <ksrs gSa\\nvpdu & yack dyhnkj v¡xj[kk ftlesa igys xjsck¡ ls dej&i^h\\nrd vèkZpanzkdkj can yxrs Fks vkSj vc lh/s cVu\\nV¡drs gSa\\nuser & cgqr cf<+;k\\n”kCr & lgu djuk\\nnkeu & iYyw] vk¡py\\n2024-25\\n'"
      ]
     },
     "execution_count": 19,
     "metadata": {},
     "output_type": "execute_result"
    }
   ],
   "source": [
    "question_gen"
   ]
  },
  {
   "cell_type": "code",
   "execution_count": 20,
   "metadata": {},
   "outputs": [],
   "source": [
    "from langchain.text_splitter import TokenTextSplitter\n"
   ]
  },
  {
   "cell_type": "code",
   "execution_count": 22,
   "metadata": {},
   "outputs": [],
   "source": [
    "spliter_ques_gen = TokenTextSplitter(\n",
    "    model_name =\"gpt-3.5-turbo\",\n",
    "    chunk_size = 10000,\n",
    "    chunk_overlap = 200\n",
    ")"
   ]
  },
  {
   "cell_type": "code",
   "execution_count": 23,
   "metadata": {},
   "outputs": [],
   "source": [
    "chunk_ques_gen = spliter_ques_gen.split_text(question_gen)"
   ]
  },
  {
   "cell_type": "code",
   "execution_count": 24,
   "metadata": {},
   "outputs": [
    {
     "data": {
      "text/plain": [
       "['izsepan / 1\\nx|&[kaM\\nx|&[kaM\\n2024-25\\n2 / varjk\\n2024-25\\nizsepan / 3\\nizsepan dk tUe okjk.klh f”kys osQ yegh xzke esa gqvk FkkA\\nmudk ewy uke èkuirjk; FkkA iszepan dh izkjafHkd f\\'k{kk\\nokjk.klh esa gqbZA eSfVªd osQ ckn os vè;kiu djus yxsA\\nLokè;k; osQ :i esa gh mUgksaus ch-,- rd f\\'k{kk xzg.k dhA\\nvlg;ksx vkanksyu osQ nkSjku mUgksaus ljdkjh ukSdjh ls\\nR;kxi=k ns fn;k vkSj iwjh rjg ys[ku&dk;Z osQ izfr lefiZr\\ngks x,A\\nizsepan us vius ys[ku dh \\'kq #vkr igys mnwZ esa\\nuokcjk; osQ uke ls dh] ckn esa ¯gnh esa fy[kus yxsA\\nmUgksaus vius lkfgR; esa fdlkuksa] nfyrksa] ukfj;ksa dh osnuk\\nvkSj o.kZ&O;oLFkk dh oqQjhfr;ksa dk ekfeZd fp=k.k fd;k\\ngSA os lkfgR; dks Lokar% lq[kk; u ekudj lkekftd\\nifjorZu dk ,d l\\'kDr ekè;e ekurs FksA os ,d ,sls\\nlkfgR;dkj Fks] tks lekt dh okLrfod fLFkfr dks iSuh\\nn`f\"V ls ns[kus dh \\'kfDr j[krs FksA mUgksaus lekt&lqèkkj\\nvkSj jk\"Vªh;&Hkkouk ls vksrizksr vusd miU;klksa ,oa dgkfu;ksa\\ndh jpuk dhA dFkk&laxBu] pfj=k&fp=k.k] dFkksidFku\\nvkfn dh n`f\"V ls mudh jpuk,¡ cstksM+ gSaA mudh Hkk\"kk\\ncgqr ltho] eqgkojsnkj vkSj cksypky osQ fudV gSA ¯gnh\\nHkk\"kk dks yksdfiz; cukus esa mudk fo\\'ks\"k ;ksxnku gSA\\nlaLÑr osQ izpfyr \\'kCnksa osQ lkFk&lkFk mnwZ dh jokuh bldh\\nfo\\'ks\"krk gS] ftlus ¯gnh dFkk Hkk\"kk dks u;k vk;ke fn;kA\\nmudh izeq[k o`Qfr;k¡ gSa µ ekuljksoj (vkB Hkkx)]\\nxqIrèku (nks Hkkx) (dgkuh laxzg)_  fueZyk] lsoklnu]\\niszekJe] jaxHkwfe] deZHkwfe] xcu] xksnku (miU;kl)_ dcZyk]\\nlaxzke] izse dh osnh (ukVd)_ fofoèk izlax (rhu [kaMksa eas]\\nlkfgfR;d vkSj jktuhfrd fucaèkksa dk laxzg)_ oqQN fopkj\\n(lu~ 1880&1936)\\nizsepan\\n2024-25\\n4 / varjk\\n(lkfgfR;d fucaèk)A mUgksaus ekèkqjh] gal] e;kZnk] tkxj.k vkfn if=kdkvksa dk laiknu\\nHkh fd;kA bl ikB~;iqLrd esa mudh bZnxkg dgkuh nh xbZ gSA\\n¯gnh esa cky&euksfoKku ls lacaf/r dgkfu;k¡ cgqr de fy[kh xbZ gSaA izsepan\\nmu nqyZHk dFkkdkjksa esa ls gSa ftUgksaus iwjh izkekf.kdrk ,oa rUe;rk osQ lkFk\\ncky&thou dks viuh dgkfu;ksa esa txg nh gSA mudh dgkfu;k¡ Hkkjr dh lk>h\\nlaLÑfr ,oa xzkeh.k thou osQ fofo/ jaxksa ls ljkcksj gSaA\\nbZnxkg izsepan dh bUgha fo\\'ks\"krkvksa dks vfHkO;Dr djus okyh izfrfuf/\\ndgkuh gSA bl dgkuh esa bZn tSls egÙoiw.kZ R;ksgkj dks vk/kj cukdj xzkeh.k\\neqfLye thou dk lqanj fp=k izLrqr fd;k x;k gSA gkfen dk pfj=k gesa crkrk gS\\nfd vHkko mez ls igys cPpksa esa oSQls cM+kas tSlh le>nkjh iSnk dj nsrk gSA esys\\nesa gkfen viuh gj pkg ij la;e j[kus esa fot;h gksrk gSA lkFk gh #Lres ¯gn\\nfpeVs osQ ekè;e ls izsepan us Je osQ lkSan;Z ,oa egÙo dks Hkh mn~?kkfVr fd;k\\ngSA fp=kkRed Hkk\"kk dh n`f\"V ls Hkh ;g dgkuh vuwBh gSA\\n2024-25\\nizsepan / 5\\nbZnxkg\\nje”kku osQ iwjs rhl jks”kksa osQ ckn bZn vkbZ gSA fdruk euksgj] fdruk lqgkouk izHkkr\\ngSA o`{kksa ij oqQN vthc gfj;kyh gS] [ksrksa esa oqQN vthc jkSud gS] vkleku ij\\noqQN vthc ykfyek gSA vkt dk lw;Z ns[kks] fdruk I;kjk] fdruk \\'khry gS ekuks\\nlalkj dks bZn dh cèkkbZ ns jgk gSA xk¡o esa fdruh gypy gSA bZnxkg tkus dh\\nrS;kfj;k¡ gks jgh gSaA fdlh osQ oqQjrs esa cVu ugha gS] iM+ksl osQ ?kj ls lqbZ&rkxk ysus\\nnkSM+k tk jgk gSA fdlh osQ twrs dM+s gks x, gSa] muesa rsy Mkyus osQ fy, rsyh osQ\\n?kj Hkkxk tkrk gSA tYnh&tYnh cSyksa dks lkuh&ikuh ns nsaA bZnxkg ls ykSVrs&ykSVrs\\nnksigj gks tk,xkA rhu dksl dk iSny jkLrk] fiQj lSdM+ksa vknfe;ksa ls feyuk&HksaVuk]\\nnksigj osQ igys ykSVuk vlaHko gSA yM+osQ lcls ”;knk izlUu gSaA fdlh us ,d jks”kk\\nj[kk gS] og Hkh nksigj rd] fdlh us og Hkh ugha_ ysfdu bZnxkg tkus dh [kq\\'kh\\nmuosQ fgLls dh ph”k gSA jks”ks cM+s&cw<+ksa osQ fy, gksaxsA buosQ fy, rks bZn gSA jks”k\\nbZn dk uke jVrs Fks vkt og vk xbZA vc tYnh iM+h gS fd yksx bZnxkg D;ksa\\nugha pyrsA bUgsa x`gLFkh dh ¯prkvksa ls D;k iz;kstu! lsoS;ksa osQ fy, nwèk vkSj \\'kDdj\\n?kj esa gS ;k ugha] budh cyk ls] ;s rks lsoS;k¡ [kk,¡xsA og D;k tkusa fd vCcktku\\nD;ksa cngokl pkSèkjh dk;evyh osQ ?kj nkSM+s tk jgs gSaA mUgsa D;k [kcj fd pkSèkjh\\nvkt vk¡[ksa cny ysa] rks ;g lkjh bZn eqgjZe gks tk,A mudh viuh tscksa esa rks oqQcsj\\ndk èku Hkjk gqvk gSA ckj&ckj tsc ls viuk [k”kkuk fudkydj fxurs gSa vkSj [kq\\'k\\n2024-25\\n6 / varjk\\ngksdj fiQj j[k ysrs gSaA egewn fxurk gS] ,d&nks] nl&ckjg! mlosQ ikl ckjg iSls\\ngSaA eksgflu osQ ikl ,d] nks] rhu] vkB] ukS] ianzg iSls gSaA bUgha vufxurh iSlksa esa\\nvufxurh ph”ksa yk,¡xs µ f[kykSus] feBkb;k¡] fcxqy] xsan vkSj tkus D;k&D;k! vkSj\\nlcls ”;knk izlUu gS gkfenA og pkj&ik¡p lky dk xjhc&lwjr] nqcyk&iryk\\nyM+dk] ftldk cki xr o\"kZ gS ”ks dh HksaV gks x;k vkSj ek¡ u tkus D;ksa ihyh\\ngksrh&gksrh ,d fnu ej xbZA fdlh dks irk u pyk] D;k chekjh gSA dgrh rks dkSu\\nlquus okyk FkkA fny ij tks oqQN chrrh Fkh] og fny esa gh lgrh Fkh vkSj tc\\nu lgk x;k rks lalkj ls fcnk gks xbZA vc gkfen viuh cw<+h nknh vehuk dh xksn\\nesa lksrk gS vkSj mruk gh izlUu gSA mlosQ vCcktku #i;s dekus x, gSaA cgqr&lh\\nFkSfy;k¡ ysdj vk, ¡xsA vEehtku vYykg fe;k¡ osQ ?kj ls mlosQ fy, cM+h\\nvPNh&vPNh ph”ksa ykus xbZ gSa_ blfy, gkfen izlUu gSA vk\\'kk rks cM+h ph”k gS]\\nvkSj fiQj cPpksa dh vk\\'kk! mudh dYiuk rks jkbZ dk ioZr cuk ysrh gSA gkfen osQ\\nik¡o esa twrs ugha gSa] flj ij ,d iqjkuh&èkqjkuh Vksih gS] ftldk xksVk dkyk iM+ x;k\\ngS] fiQj Hkh og izlUu gSA tc mlosQ vCcktku FkSfy;k¡ vkSj vEehtku fu;kersa\\nysdj vk,¡xh] rks og fny osQ vjeku fudky ysxkA rc ns[ksxk egewn] eksgflu] uwjs\\nvkSj lEeh dgk¡ ls mrus iSls fudkysaxsA vHkkfxu vehuk viuh dksBjh esa cSBh jks\\njgh gSA vkt bZn dk fnu vkSj mlosQ ?kj esa nkuk ugha! vkt vkfcn gksrk rks D;k\\nblh rjg bZn vkrh vkSj pyh tkrh! bl vaèkdkj vkSj fujk\\'kk esa og Mwch tk jgh\\ngSA fdlus cqyk;k Fkk bl fuxksM+h bZn dks\\\\ bl ?kj esa mldk dke ugha_ ysfdu\\ngkfen! mls fdlh osQ ejus&thus ls D;k eryc\\\\ mlosQ vanj izdk\\'k gS] ckgj\\nvk\\'kkA foifÙk viuk lkjk nycy ysdj vk,] gkfen dh vkuan Hkjh fprou mldk\\nfoèoal dj nsxhA\\ngkfen Hkhrj tkdj nknh ls dgrk gS µ rqe Mjuk ugha vEek¡] eSa lcls igys\\nvkmQ¡xkA fcyoqQy u MjukA\\nvehuk dk fny dpksV jgk gSA xk¡o osQ cPps vius&vius cki osQ lkFk tk\\njgs gSaA gkfen dk cki vehuk osQ flok vkSj dkSu gS! mls oSQls vosQys esys tkus\\n2024-25\\nizsepan / 7\\nns\\\\ ml HkhM+&HkkM+ esa cPpk dgha [kks tk, rks D;k gks\\\\ ugha] vehuk mls ;ksa u\\ntkus nsxhA uUgha&lh tku! rhu dksl pysxk oSQls! iSj esa Nkys iM+ tk,¡xsA twrs Hkh\\nrks ugha gaSA og FkksM+h&FkksM+h nwj ij mls xksn ys ysxh_ ysfdu ;gk¡ lsoS;k¡ dkSu\\nidk,xk\\\\ iSls gksrs rks ykSVrs&ykSVrs lc lkexzh tek djosQ pViV cuk ysrhA ;gk¡\\nrks ?kaVksa ph”ksa tek djrs yxsaxsA ek¡xs gh dk rks Hkjkslk BgjkA ml fnu I+kQgheu osQ\\ndiM+s flys FksA vkB vkus iSls feys FksA ml vBUuh dks bZeku dh rjg cpkrh\\npyh vkrh Fkh blh bZn osQ fy,] ysfdu dy Xokyu flj ij lokj gks xbZ rks\\nD;k djrh! gkfen osQ fy, oqQN ugha gS] rks nks iSls dk nwèk rks pkfg, ghA vc\\nrks oqQy nks vkus iSls cp jgs gSaA rhu iSls gkfen dh tsc esa] ik¡p vehuk osQ cVqos\\nesaA ;gh rks fclkr gS vkSj bZn dk R;ksgkj] vYykg gh csM+k ikj yxk,A èkkscu vkSj\\nukbu vkSj esgrjkuh vkSj pwfM+gkfju lHkh rks vk,¡xhA lHkh dks lsoS;k¡ pkfg, vkSj\\nFkksM+k fdlh dh vk¡[kksa ugha yxrkA fdl&fdl ls eq¡g pqjk,xhA vkSj eq¡g D;ksa\\npqjk,\\\\ lky&Hkj dk R;ksgkj gSA f”kanxh [kSfj;r ls jgs] mudh rdnhj Hkh rks mlh\\nosQ lkFk gSA cPps dks [kqnk lyker j[ks] fnu Hkh dV tk,¡xsA\\nxk¡o ls esyk pykA vkSj cPpksa osQ lkFk gkfen Hkh tk jgk FkkA dHkh\\nlc&osQ&lc nkSM+dj vkxs fudy tkrsA fiQj fdlh isM+ osQ uhps [kM+s gksdj\\nlkFkokyksa dk bar”kkj djrsA ;g yksx D;ksa bruk èkhjs&èkhjs py jgs gSa! gkfen\\nosQ iSjksa esa rks tSls ij yx x, gSaA og dHkh Fkd ldrk gS! \\'kgj dk nkeu\\nvk x;kA lM+d osQ nksuksa vksj vehjksa osQ cxhps gSaA iDdh pkjnhokjh cuh gqbZ\\ngSA isM+ksa esa vke vkSj yhfp;k¡ yxh gqbZ gSaA dHkh&dHkh dksbZ yM+dk oaQoQM+h\\nmBkdj vke ij fu\\'kkuk yxkrk gSA ekyh vanj ls xkyh nsrk gqvk fudyrk\\ngSA yM+osQ ogk¡ ls ,d iQyk±x ij gSaA [kwc g¡l jgs gSaA ekyh dks oSQlk mYyw\\ncuk;k gSA\\ncM+h&cM+h bekjrsa vkus yxhaA ;g vnkyr gS] ;g dkyst gS] ;g Dyc&?kj\\ngS! brus cM+s dkyst esa fdrus yM+osQ i<+rs gksaxs\\\\ lc yM+osQ ugha gSa th!\\ncM+s&cM+s vkneh gSa] lp! mudh cM+h&cM+h ew¡Nsa gSaA brus cM+s gks x,] vHkh rd\\n2024-25\\n8 / varjk\\ni<+us tkrs gSaA u tkus dc rd i<+saxs vkSj D;k  djsaxs bruk i<+dj] gkfen osQ\\nenjls esa nks&rhu cM+s&cM+s yM+osQ gSa] fcyoqQy rhu dkSM+h osQA jks”k ekj [kkrs\\ngSa] dke ls th pqjkus  okysA bl txg Hkh mlh rjg osQ yksx gksaxs vkSj D;kA\\nDyc&?kj esa tknw gksrk gSA lquk gS] ;gk¡ eqn Zs dh [kksifM+;k¡ nkSM+rh gSaA vkSj\\ncM+s&cM+s rek\\'ks gksrs gSa] ij fdlh dks vanj ugha tkus nsrsA vkSj ;gk¡ \\'kke dks\\nlkgc yksx [ksyrs gSaA cM+s&cM+s vkneh [ksyrs gSa] ew¡Nksa&nk<+hokysA vkSj esesa Hkh\\n[ksyrh gSa] lp! gekjh vEek¡ dks og ns nks] D;k uke gS] cSV] rks mls idM+\\ngh u losaQA ?kqekrs gh yq<+d tk,¡A\\negewn us dgk µ gekjh vEehtku dk rks gkFk dk¡ius yxs] vYyk dleA\\neksgflu cksyk µ pyks] euksa vkVk ihl Mkyrh gSaA ”kjk&lk cSV idM+ ysaxh] rks\\ngkFk dk¡ius yxsaxs\\\\ lSdM+ksa ?kM+s ikuh jks”k fudkyrh gSaA ik¡p ?kM+s rks rsjh HkSal ih tkrh\\ngSA fdlh ese dks ,d ?kM+k ikuh Hkjuk iM+s rks vk¡[kksa rys v¡èksjk vk tk,A\\negewn µ ysfdu nkSM+rha rks ugha] mNy&owQn rks ugha ldrhaA\\neksgflu µ gk¡] mNy&owQn ugha ldrha] ysfdu ml fnu esjh xk; [kqy xbZ\\nFkh vkSj pkSèkjh osQ [ksr esa tk iM+h Fkh] rks vEek¡ bruk rs”k nkSM+ha fd eSa mUgsa u\\nik ldk] lpA\\nvkxs pysA gyokb;ksa dh nwdkusa \\'kq: gqb±A vkt [kwc lth gqbZ FkhaA bruh\\nfeBkb;k¡ dkSu [kkrk gS\\\\ ns[kks u] ,d&,d nwdku ij euksa gksaxhA lquk gS] jkr dks\\nftUukr vkdj [kjhn ys tkrs gSaA vCck dgrs Fks fd vkèkh jkr dks ,d vkneh\\ngj nwdku ij tkrk gS vkSj ftruk eky cpk gksrk gS] og rqyok ysrk gS vkSj\\nlpeqp osQ #i;s nsrk gS] fcyoqQy ,sls gh #i;sA\\ngkfen dks ;dhu u vk;k µ ,sls #i;s ftUukr dks dgk¡ ls fey tk,¡xs\\\\\\neksgflu us dgk µ ftUukr dks #i;s dh D;k deh\\\\ ftl [ktkus esa pkgsa pys\\ntk,¡A yksgs osQ njok”ks rd mUgas ugha jksd ldrs tukc] vki gSa fdl isQj esa! ghjs\\ntokgjkr rd muosQ ikl jgrs gSaA ftlls [kq\\'k gks x, mls Vksdjksa tokgjkr ns\\nfn,A vHkh ;gha cSBs gSSa] ik¡p feuV esa dydÙkk igq¡p tk,¡A\\n2024-25\\nizsepan / 9\\ngkfen us fiQj iwNk µ ftUukr cgqr cM+s&cM+s gksrs gksaxs\\\\\\neksgflu µ ,d&,d vkleku osQ cjkcj gksrk gS thA ”kehu ij [kM+k gks tk,\\nrks mldk flj vkleku ls tk yxs] exj pkgs rks ,d yksVs esa ?kql tk,A\\ngkfen µ yksx mUgsa oSQls [kq\\'k djrs gksaxsA dksbZ eq>s og earj crk ns rks ,d\\nftUu dks [kq\\'k dj yw¡A\\neksgflu µ vc ;g rks eSa ugha tkurk] ysfdu pkSèkjh lkgc osQ dkcw esa cgqr\\nls ftUukr gSaA dksbZ ph”k pksjh tk,] pkSèkjh lkgc mldk irk yxk nsaxs vkSj pksj dk\\nuke Hkh crk nsaxsA tqejkrh dk cNok ml fnu [kks x;k FkkA rhu fnu gSjku gq,] dgha\\nu feykA rc >d ekjdj pkSèkjh osQ ikl x,A pkSèkjh us rqjar crk fn;k] eos\\'kh[kkus\\nesa gS vkSj ogha feykA ftUukr vkdj mUgsa lkjs tgku dh [kcjsa ns tkrs gSaA\\nvc mldh le> esa vk x;k fd pkSèkjh osQ ikl D;ksa bruk èku gS] vkSj D;ksa\\nmudk bruk lEeku gSA\\nvkxs pysA ;g iqfyl ykbu gSA ;gha lc dkfulfVfcy dok;n djrs gSaA\\njSVu! I+kQk; iQks! jkr dks cspkjs ?kwe&?kwedj igjk nsrs gSa] ugha pksfj;k¡ gks tk,¡A\\neksgflu us izfrokn fd;k µ ;g dkfulfVfcy igjk nsrs gSa! rHkh rqe cgqr\\ntkurs gksA vth g”kjr] ;gh pksjh djkrs gSaA \\'kgj osQ ftrus pksj&MkowQ gSa] lc\\nbuls feys jgrs gSaA jkr dks ;s yksx pksjksa ls rks dgrs gSa] pksjh djks vkSj vki nwljs\\neqgYys esa tkdj ^tkxrs jgks! tkxrs jgks!* iqdkjrs gSaA tHkh bu yksxksa osQ ikl brus\\n#i;s vkrs gSaA esjs ekew¡ ,d Fkkus esa dkfulfVfcy gSaA chl #i;k eghuk ikrs gSaa_\\nysfdu ipkl #i;s ?kj Hkstrs gSaA vYyk dle! eSaus ,d ckj iwNk Fkk fd ekew¡]\\nvki brus #i;s dgk¡ ls ikrs gSa\\\\ g¡ldj dgus yxs µ csVk] vYykg nsrk gSA fiQj\\nvki gh cksys µ ge yksx pkgsa rks ,d fnu esa yk[kksa ekj yk,¡A ge rks bruk gh\\nysrs gSa] ftlesa viuh cnukeh u gks vkSj ukSdjh u pyh tk,A\\ngkfen us iwNk µ ;g yksx pksjh djokrs gSa] rks dksbZ bUgsa idM+rk ugha\\\\\\neksgflu mldh uknkuh ij n;k fn[kkdj cksyk µ vjs ikxy] bUgsa dkSu\\nidM+sxk\\\\ idM+us okys rks ;g yksx [kqn gSa_ ysfdu vYykg bUgsa l”kk Hkh [kwc nsrk\\ngSA gjke dk eky gjke esa tkrk gSA FkksM+s gh fnu gq, ekew¡ osQ ?kj esa vkx yx xbZA\\n2024-25\\n10 / varjk\\nlkjh ysbZ iw¡th ty xbZA ,d cjru rd u cpkA dbZ fnu isM+ osQ uhps lks,] vYyk\\ndle] isM+ osQ uhps! fiQj u tkus dgk¡ ls ,d lkS d”kZ yk, rks cjru&Hkk¡M+s vk,A\\ngkfen µ ,d lkS rks ipkl ls ”;knk gksrs gSa\\\\\\n^dgk¡ ipkl] dgk¡ ,d lkSA ipkl ,d FkSyh Hkj gksrk gSA lkS rks nks FkSfy;ksa\\nesa Hkh u vk,A*\\nvc cLrh ?kuh gksus yxhA bZnxkg tkusokyksa dh Vksfy;k¡ u”kj vkus yxhaA ,d\\nls ,d HkM+dhys oL=k igus gq,A dksbZ bDosQ&rk¡xs ij lokj] dksbZ eksVj ij] lHkh b=k\\nesa cls] lHkh osQ fnyksa esa meaxA xzkeh.kksa dk ;g NksVk&lk ny] viuh foiUurk ls\\ncs[kcj] larks\"k vkSj èkS;Z esa exu pyk tk jgk FkkA cPpksa osQ fy, uxj dh lHkh ph”ksa\\nvuks[kh FkhaA ftl ph”k dh vksj rkdrs] rkdrs gh jg tkrs vkSj ihNs ls cjkcj gkuZ\\ndh vkok”k gksus ij Hkh u psrrsA gkfen rks eksVj osQ uhps tkrs&tkrs cpkA\\nlglk bZnxkg u”kj vk;kA mQij beyh osQ ?kus o`{kksa dh Nk;k gSA uhps iDdk\\nI+kQ\\'kZ gS] ftl ij tkfte fcNk gqvk gSA vkSj jks”ksnkjksa dh iafDr;k¡ ,d osQ ihNs\\n,d u tkus dgk¡ rd pyh xbZ gSa] iDdh txr osQ uhps rd] tgk¡ tkfte Hkh\\nugha gSA u, vkusokys vkdj ihNs dh drkj esa [kM+s gks tkrs gSaA vkxs txg ugha\\ngSA ;gk¡ dksbZ èku vkSj in ugha ns[krkA bLyke dh fuxkg esa lc cjkcj gSaA bu\\nxzkeh.kksa us Hkh otw fd;k vkSj fiNyh iafDr esa [kM+s gks x,A fdruk lqanj lapkyu\\ngS] fdruh lqanj O;oLFkk! yk[kksa flj ,d lkFk fltns esa >qd tkrs gSa] fiQj\\nlc&osQ&lc ,d lkFk [kM+s gks tkrs gSa] ,d lkFk >qdrs gSa] vkSj ,d lkFk ?kqVuksa\\nosQ cy cSB tkrs gSaA dbZ ckj ;gh fØ;k gksrh gS] tSls fctyh dh yk[kksa cfÙk;k¡\\n,d lkFk iznhIr gksa vkSj ,d lkFk cq> tk,¡ vkSj ;gh Øe pyrk jgsA fdruk\\nviwoZ n`\\'; Fkk] ftldh lkewfgd fØ;k,¡] foLrkj vkSj vuarrk ân; dks J¼k] xoZ\\nvkSj vkRekuan ls Hkj nsrh Fkha] ekuks Hkzkr`Ro dk ,d lw=k bu leLr vkRekvksa dks\\n,d yM+h esa fijks, gq, gSA\\n2024-25\\nizsepan / 11\\n2\\nuek”k [kRe gks xbZ gSA yksx vkil esa xys fey jgs gSaA rc feBkbZ vkSj\\nf[kykSus dh nwdkuksa ij èkkok gksrk gSA xzkeh.kksa dk ;g ny bl fo\"k; esa ckydksa\\nls de mRlkgh ugha gSA ;g ns[kks] ¯gMksyk gSA ,d iSlk nsdj p<+ tkvksA dHkh\\nvkleku ij tkrs gq, ekywe gksaxs] dHkh ”kehu ij fxjrs gq,A ;g p[khZ gS] ydM+h\\nosQ gkFkh] ?kksM+s] m¡QV NM+ksa ls yVosQ gq, gSaA ,d iSlk nsdj cSB tkvks vkSj iPphl\\npDdjksa dk e”kk yksA egewn vkSj eksgflu vkSj uwjs vkSj lEeh bu ?kksM+ksa vkSj mQ¡Vksa\\nij cSBrs gSaA gkfen nwj [kM+k gSA rhu gh iSls rks mlosQ ikl gaSA vius dks\"k dk\\n,d frgkbZ ”kjk&lk pDdj [kkus osQ fy, ugha ns ldrkA\\nlc p£[k;ksa ls mrjrs gSaA vc f[kykSus ysaxsA bèkj nwdkuksa dh drkj yxh gqbZ\\ngSA rjg&rjg osQ f[kykSus gSa µ flikgh vkSj xqtfj;k] jktk vkSj odhy] fHk\\'rh\\nvkSj èkksfcu vkSj lkèkqA okg! fdrus lqanj f[kykSus gSaA vc cksyk gh pkgrs gSaA\\negewn flikgh ysrk gS] [kkdh onhZ vkSj yky ixM+hokyk] oaQèks ij canwd j[ks gq,_\\nekywe gksrk gS vHkh dok;n fd, pyk vk jgk gSA eksgflu dks fHk\\'rh ilan\\nvk;kA dej >qdh gqbZ gS] mQij e\\'kd j[ks gq, gSA e\\'kd dk eq¡g ,d gkFk ls\\nidM+s gq, gSA fdruk izlUu gSA \\'kk;n dksbZ xhr xk jgk gSA cl] e\\'kd ls ikuh\\nmM+syk gh pkgrk gSA uwjs dks odhy ls isze gSA oSQlh fo}Ùkk gS mlosQ eq[k ij!\\ndkyk pksxk] uhps lI+ksQn vpdu] vpdu osQ lkeus dh tsc esa ?kM+h] lqugjh\\n”kathj] ,d gkFk esa dkuwu dk iksFkk fy, gq,A ekywe gksrk gS] vHkh fdlh vnkyr\\nls ftjg ;k cgl fd, pys vk jgs gSaA ;g lc nks&nks iSls osQ f[kykSus gSaA gkfen\\nosQ ikl oqQy rhu iSls gSa] brus eg¡xs f[kykSus og oSQls ys\\\\ f[kykSuk dgha gkFk\\nls NwV iM+s] rks pwj&pwj gks tk,] ”kjk ikuh iM+s rks lkjk jax èkqy tk,] ,sls f[kykSus\\nysdj og D;k djsxk] fdl dke osQ\\\\\\neksgflu dgrk gS µ esjk fHk\\'rh jks”k ikuh ns tk,xk] lk¡>&lcsjsA\\n2024-25\\n12 / varjk\\negewn µ vkSj esjk flikgh ?kj dk igjk nsxkA dksbZ pksj vk,xk] rks I +kQkSju\\ncanwd I+kSQj dj nsxkA\\nuwjs µ vkSj esjk odhy [kwc eqdnek yM+sxkA\\nlEeh µ vkSj esjh èkksfcu jks”k diM+s èkks,xhA\\ngkfen f[kykSuksa dh fuank djrk gS µ fe^h gh osQ rks gSa] fxjs rks pdukpwj gks\\ntk,¡_ ysfdu yypkbZ gqbZ vk¡[kksa ls f[kykSuksa dks ns[k jgk gSA vkSj pkgrk gS fd\\n”kjk nsj osQ fy, mUgsa gkFk esa ys ldrkA mlosQ gkFk vuk;kl gh yidrs gSa_\\nysfdu yM+osQ brus R;kxh ugha gksrs gSa] fo\\'ks\"kdj tc vHkh u;k \\'kkSd gSA gkfen\\nyypkrk jg tkrk gSA\\nf[kykSus osQ ckn feBkb;k¡ vkrh gSaA fdlh us jsofM+;k¡ yh gSa] fdlh us\\nxqykc&tkequ] fdlh us lksgu gyokA e”ks ls [kk jgs gSaA gkfen fcjknjh ls i`Fkd\\ngSA vHkkxs osQ ikl rhu iSls gSaA D;ksa ugha oqQN ysdj [kkrk\\\\ yypkbZ vk¡[kksa ls\\nlcdh vksj ns[krk gSA\\neksgflu dgrk gS µ gkfen] jsoM+h ys tk] fdruh [kq\\'kcwnkj gS!\\ngkfen dks lansg gqvk] ;g osQoy ozwQj fouksn gS] eksgflu bruk mnkj ugha gS_\\nysfdu ;g tkudj Hkh og mlosQ ikl tkrk gSA eksgflu nksus ls ,d jsoM+h\\nfudkydj gkfen dh vksj c<+krk gSA gkfen gkFk iSQykrk gSA eksgflu jsoM+h vius\\neq¡g esa j[k ysrk gSA egewn] uwjs vkSj lEeh [kwc rkfy;k¡ ctk&ctkdj g¡lrs gaSA\\ngkfen f[kfl;k tkrk gSA\\neksgflu µ vPNk] vcdh ”k:j nsaxs gkfen] vYyk OkQle] ys tkA\\ngkfen µ j[ks jgksA D;k esjs ikl iSls ugha gSa\\\\\\nlEeh µ rhu gh iSls rks gSaA rhu iSls esa D;k&D;k yksxs\\\\\\negewn µ gels xqykc&tkequ ys tko gkfenA eksgflu cnek\\'k gSA\\ngkfen µ feBkbZ dkSu cM+h user gSA fdrkc esa bldh fdruh cqjkb;k¡ fy[kh gSaA\\neksgflu µ ysfdu fny esa dg jgs gkasxs fd feys rks [kk ysaA vius iSls D;ksa\\nugha fudkyrs\\\\\\n2024-25\\nizsepan / 13\\negewn µ ge le>rs gSa] bldh pkykdhA tc gekjs lkjs iSls [kpZ gks tk,¡xs]\\nrks gesa yypk&yypkdj [kk,xkA\\nfeBkb;ksa osQ ckn oqQN nwdkusa yksgs dh ph”kksa dh] oqQN fxyV vkSj oqQN\\nudyh xguksa dhA yM+dksa osQ fy, ;gk¡ dksbZ vkd\"kZ.k u FkkA os lc vkxs c<+\\ntkrs gSaA gkfen yksgs dh nwdku ij #d tkrk gSA dbZ fpeVs j[ks gq, FksA mls\\n[k;ky vk;k] nknh osQ ikl fpeVk ugha gSA ros ls jksfV;k¡ mrkjrh gSa] rks gkFk\\nty tkrk gS_ vxj og fpeVk ys tkdj nknh dks ns ns] rks og fdruh izlUu\\ngksaxh! fiQj mudh m¡xfy;k¡ dHkh u tysaxhA ?kj esa ,d dke dh ph”k gks\\ntk,xhA f[kykSus ls D;k I+kQk;nkA O;FkZ esa iSls [kjkc gksrs gSaA ”kjk nsj gh rks [kq\\'kh\\ngksrh gSA fiQj rks f[kykSus dks dksbZ vk¡[k mBkdj ugha ns[krkA ;k rks ?kj\\nigq¡prs&igq¡prs VwV&iwQVdj cjkcj gks tk,¡xsA fpeVk fdrus dke dh ph”k gSA\\njksfV;k¡ ros ls mrkj yks] pwYgs esa lsad yksA dksbZ vkx ek¡xus vk, rks pViV\\npwYgs ls vkx fudkydj mls ns nksA vEek¡ cspkjh dks dgk¡ I+kqQjlr gS fd ck”kkj\\nvk,¡ vkSj brus iSls gh dgk¡ feyrs gSaA jks”k gkFk tyk ysrh gSaA gkfen osQ lkFkh\\nvkxs c<+ x, gSaA lchy ij lc&osQ&lc \\'kjcr ih jgs gSaA ns[kks] lc fdrus\\nykyph gSa! bruh feBkb;k¡ yha] eq>s fdlh us ,d Hkh u nhA ml ij dgrs gSa]\\nesjs lkFk [ksyksA esjk ;g dke djksA vc vxj fdlh us dksbZ dke djus dks\\ndgk] rks iwNw¡xkA [kk,¡ feBkb;k¡] vki eq¡g lM+sxk] iQksMs+ iqaQfl;k¡ fudysaxh] vki\\ngh ”kcku pVksjh gks tk,xhA rc ?kj ls iSls pqjk,¡xs vkSj ekj [kk,¡xsA fdrkc esa\\n>wBh ckrsa FkksM+s gh fy[kh gSaA esjh ”kcku D;ksa [kjkc gksxhA vEek¡ fpeVk ns[krs\\ngh nkSM+dj esjs gkFk ls ys ysaxh vkSj dgsaxh µ esjk cPpk vEek¡ osQ fy, fpeVk\\nyk;k gSA g”kkjksa nqvk,¡ nsaxhA fiQj iM+ksl dh vkSjrksa dks fn[kk,¡xhA lkjs xk¡o esa\\nppkZ gksus yxsxh] gkfen fpeVk yk;k gSA fdruk vPNk yM+dk gSA bu yksxksa osQ\\nf[kykSuksa ij dkSu bUgsa nqvk,¡ nsxk\\\\ cM+ksa dh nqvk,¡ lhèks vYykg osQ njckj esa\\nigq¡pr',\n",
       " 'ksxhA vEek¡ fpeVk ns[krs\\ngh nkSM+dj esjs gkFk ls ys ysaxh vkSj dgsaxh µ esjk cPpk vEek¡ osQ fy, fpeVk\\nyk;k gSA g”kkjksa nqvk,¡ nsaxhA fiQj iM+ksl dh vkSjrksa dks fn[kk,¡xhA lkjs xk¡o esa\\nppkZ gksus yxsxh] gkfen fpeVk yk;k gSA fdruk vPNk yM+dk gSA bu yksxksa osQ\\nf[kykSuksa ij dkSu bUgsa nqvk,¡ nsxk\\\\ cM+ksa dh nqvk,¡ lhèks vYykg osQ njckj esa\\nigq¡prh gSa vkSj rqjar lquh tkrh gSaA esjs ikl iSls ugha gSaA rHkh rks eksgflu vkSj\\negewn ;ksa fe”kkt fn[kkrs gSaA eSa Hkh buls fe”kkt fn[kkÅ¡xkA [ksysa f[kykSus vkSj\\n2024-25\\n14 / varjk\\n[kk,¡ feBkb;k¡A eSa ugha [ksy rk f[kykSus] fdlh dk fe”kkt D;ksa lgw¡A eSa xjhc\\nlgh] fdlh ls oqQN ek¡xus rks ugha tkrkA vkf[kj vCcktku dHkh&u&dHkh\\nvk,¡xsA vEek¡ Hkh vk,¡xh ghA fiQj bu yksxksa ls iwNw¡xk] fdrus f[kykSus yksxs\\\\\\n,d&,d dks Vksdfj;ksa f[kykSus nw¡ vkSj fn[kk nw¡ fd nksLrksa osQ lkFk bl rjg\\nlywd fd;k tkrk gSA ;g ugha fd ,d iSls dh jsofM+;k¡ yha rks fp<+k&fp<+kdj\\n[kkus yxsA lc&osQ&lc g¡lsaxs fd gkfen us fpeVk fy;k gSA g¡lsa! esjh cyk ls!\\nmlus nwdkunkj ls iwNk µ ;g fpeVk fdrus dk gS\\\\\\nnwdkunkj us mldh vksj ns[kk vkSj dksbZ vkneh lkFk u ns[kdj dgk µ rqEgkjs\\ndke dk ugha gS th!\\n^fcdkÅ gS fd ugha\\\\*\\n^fcdkÅ D;ksa ugha gSA vkSj ;gk¡ D;ksa ykn yk, gSa\\\\*\\n^rks crkrs D;ksa ugha] oSQ iSls dk gS\\\\*\\n^Ng iSls yxsaxsA*\\ngkfen dk fny cSB x;kA\\n^Bhd&Bhd crkvks!*\\n^Bhd&Bhd ik¡p iSls yxsaxs] ysuk gks yks] ugha pyrs cuksA*\\ngkfen us dystk e”kcwr djosQ dgk µ rhu iSls yksxs\\\\\\n;g dgrk gqvk og vkxs c<+ x;k fd nwdkunkj dh ?kqM+fd;k¡ u lqusA ysfdu\\nnwdkunkj us ?kqM+fd;k¡ ugha nhaA cqykdj fpeVk ns fn;kA gkfen us mls bl rjg\\ndaèks ij j[kk] ekuks canwd gS vkSj \\'kku ls vdM+rk gqvk lafx;ksa osQ ikl vk;kA\\n”kjk lqusa] lc&osQ&lc D;k&D;k vkykspuk,¡ djrs gSaA\\neksgflu us g¡ldj dgk µ ;g fpeVk D;ksa yk;k ixys_ bls D;k djsxk\\\\\\ngkfen us fpeVs dks ”kehu ij iVddj dgk µ ”kjk viuk fHk\\'rh ”kehu ij\\nfxjk nksA lkjh ilfy;k¡ pwj&pwj gks tk,¡ cpk dhA\\negewn cksyk µ rks ;g fpeVk dksbZ f[kykSuk gS\\\\\\n2024-25\\nizsepan / 15\\ngkfen µ f[kykSuk D;ksa ugha gS\\\\ vHkh oaQèks ij j[kk] canwd gks xbZA gkFk esa\\nys fy;k] iQdhjksa dk fpeVk gks x;k] pkgw¡ rks blls ethjs dk dke ys ldrk gw¡A\\n,d fpeVk tek nw¡] rks rqe yksxksa osQ lkjs f[kykSuksa dh tku fudy tk,A\\nrqEgkjs f[kykSus fdruk gh ”kksj yxk,¡] esjs fpeVs dk cky Hkh ck¡dk ugha dj\\nldrsA esjk cgknqj \\'ksj gS µ fpeVkA\\nlEeh us [k¡tjh yh FkhA izHkkfor gksdj cksyk µ esjh [k¡tjh ls cnyksxs\\\\ nks\\nvkus dh gSA\\ngkfen us [k¡tjh dh vksj mis{kk ls ns[kk µ esjk fpeVk pkgs rks rqEgkjs [k¡tjh\\ndk isV iQkM+ MkysA cl ,d peM+s dh f>Yyh yxk nh] <c&<c cksyus yxhA\\n”kjk&lk ikuh yx tk, rks [kre gks tk,A esjk cgknqj fpeVk vkx esa] ikuh esa]\\nvk¡èkh esa] rwI+kQku esa cjkcj MVk [kM+k jgsxkA\\nfpeVs us lHkh dks eksfgr dj fy;k] ysfdu vc iSls fdlosQ ikl èkjs gSaA\\nfiQj esys ls nwj fudy vk, gSa] ukS dc osQ ct x,] èkwi rs”k gks jgh gSA ?kj\\nigq¡pus dh tYnh gks jgh gSA cki ls f”kn Hkh djsa] rks fpeVk ugha fey ldrkA\\ngkfen gS cM+k pkykdA blhfy, cnek\\'k us vius iSls cpk j[ks FksA\\nvc ckydksa osQ nks ny gks x, gSaA eksgflu] egewn] lEeh vkSj uwjs ,d rjI+kQ\\ngSa] gkfen vosQyk nwljh rjI+\\nkQA \\'kkL=kkFkZ gks jgk gSA lEeh rks foèkehZ gks x;kA nwljs\\ni{k ls tk feyk_ ysfdu eksgflu] egewn vkSj uwjs Hkh] gkfen ls ,d&,d] nks&nks\\nlky cM+s gksus ij Hkh gkfen osQ vk?kkrksa ls vkrafdr gks mBs gSaA mlosQ ikl U;k;\\ndk cy gS vkSj uhfr dh \\'kfDrA ,d vksj fe^h gS] nwljh vksj yksgk] tks bl oDr\\nvius dks I+kQkSykn dg jgk gSA og vts; gS] ?kkrd gSA vxj dksbZ \\'ksj vk tk,]\\nrks fe;k¡ fHk\\'rh osQ NDosQ NwV tk,¡] fe;k¡ flikgh fe^h dh canwd NksM+dj Hkkxsa]\\nodhy lkgc dh ukuh ej tk,] pksxs esa eq¡g fNikdj ”kehu ij ysV tk,¡A exj\\n;g fpeVk] ;g cgknqj] ;g #Lres&¯gn yiddj \\'ksj dh xjnu ij lokj gks\\ntk,xk vkSj mldh vk¡[ksa fudky ysxkA\\n2024-25\\n16 / varjk\\neksgflu us ,M+h&pksVh dk ”kksj yxkdj dgk µ vPNk] ikuh rks ugha Hkj ldrkA\\ngkfen us fpeVs dks lhèkk [kM+k djosQ dgk µ fHk\\'rh dks ,d Mk¡V crk,xk\\nrks nkSM+k gqvk ikuh ykdj mlosQ }kj ij fNM+dus yxsxkA\\neksgflu ijkLr gks x;k_ ij egewn us oqQeqd igq¡pkbZ µ vxj cpk idM+ tk,¡\\nrks vnkyr esa c¡èks&c¡èks fiQjsaxsA rc rks odhy lkgc osQ iSjksa iMs+axsA\\ngkfen bl izcy roZQ dk tokc u ns ldkA mlus iwNk µ gesa idM+us dkSu vk,xk\\\\\\nuwjs us vdM+dj dgk µ ;g flikgh canwdokykA\\ngkfen us eq¡g fp<+kdj dgk µ ;g cspkjs ge cgknqj #Lres&¯gn dks idM+saxs!\\nvPNk ykvks] vHkh ”kjk oqQ\\'rh gks tk,A bldh lwjr ns[kdj nwj ls HkkxsaxsA idM+saxs\\nD;k cspkjs!\\neksgflu dks ,d ubZ pksV lw> xbZ µ rqEgkjs fpeVs dk eq¡g jks”k vkx esa\\ntysxkA\\nmlus le>k Fkk fd gkfen yktokc gks tk,xk_ ysfdu ;g ckr u gqbZA\\ngkfen us rqjar tokc fn;k µ vkx esa cgknqj gh owQnrs gSa tukc] rqEgkjs ;g\\nodhy] flikgh vkSj fHk\\'rh ysfM;ksa dh rjg ?kj esa ?kql tk,¡xsA vkx esa owQnuk\\nog dke gS] tks ;g #Lres&¯gn gh dj ldrk gSA\\negewn us ,d ”kksj yxk;k µ odhy lkgc oqQlhZ&es”k ij cSBsaxs] rqEgkjk\\nfpeVk rks ckophZ[kkus esa ”kehu ij iM+k jgsxkA\\nbl roZQ us lEeh vkSj uwjs dks Hkh ltho dj fn;kA fdrus fBdkus dh ckr dgh\\ngS i_s usA fpeVk ckophZ[kkus esa iM+k jgus osQ flok vkSj D;k dj ldrk gS\\\\\\ngkfen dks dksbZ iQM+drk gqvk tokc u lw>k rks mlus èkk¡èkyh \\'kq: dh µ esjk\\nfpeVk ckcphZ[kkus esa ugha jgsxkA odhy lkgc oqQlhZ ij cSBsaxs] rks tkdj mUgsa\\n”kehu ij iVd nsxk vkSj mudk dkuwu muosQ isV esa Mky nsxkA\\nckr oqQN cuh ughaA [kklh xky&xykSt Fkh_ ysfdu dkuwu dks isV esa Mkyus\\nokyh ckr Nk xbZA ,slh Nk xbZ fd rhuksa lwjek eq¡g rkdrs jg x,] ekuks dksbZ èksypk\\n2024-25\\nizsepan / 17\\ndudkSvk fdlh xaMsokys dudkS, dks dkV x;k gksA dkuwu eq¡g ls ckgj fudyus\\nokyh ph”k gSA mldks isV osQ vanj Mky fn;k tkuk] csrqdh&lh ckr gksus ij Hkh oqQN\\nu;kiu j[krh gSA gkfen us eSnku ekj fy;kA mldk fpeVk #Lres&¯gn gSA vc blesa\\neksgflu] egewn] uwjs] lEeh fdlh dks Hkh vkifÙk ugha gks ldrhA\\nfotsrk dks gkjus okyksa ls tks lRdkj feyuk LokHkkfod gS] og gkfen dks Hkh\\nfeykA vkSjksa us rhu&rhu] pkj&pkj vkus iSls [kpZ fd,] ij dksbZ dke dh ph”k\\nu ys losQA gkfen us rhu iSls esa jax tek fy;kA lp gh rks gS] f[kykSuksa dk D;k\\nHkjkslk\\\\ VwV&iwQV tk,¡xsA gkfen dk fpeVk rks cuk jgsxk cjlksa!\\nlafèk dh \\'krs± r; gksus yxhaA eksgflu us dgk µ ”kjk viuk fpeVk nks ge\\nHkh ns[ksaA rqe gekjk fHk\\'rh ysdj ns[kksA\\negewn vkSj uwjs us Hkh vius&vius f[kykSus is\\'k fd,A\\ngkfen dks bu \\'krks± osQ ekuus esa dksbZ vkifÙk u FkhA fpeVk ckjh&ckjh ls\\nlcosQ gkFk esa x;k_ vkSj muosQ f[kykSus ckjh&ckjh ls gkfen osQ gkFk esa vk,A\\nfdrus [kwclwjr f[kykSus gSa!\\ngkfen us gkjus okyksa osQ vk¡lw iksaNs µ eSa rqEgsa fp<+k jgk Fkk] lp! ;g fpeVk\\nHkyk bu f[kykSuksa dh D;k cjkcjh djsxk_ ekywe gksrk gS] vc cksys] vc cksysA\\nysfdu eksgflu dh ikVhZ dks bl fnykls ls larks\"k ugha gksrkA fpeVs dk\\nflDdk [kwc cSB x;k gSA fpidk gqvk fVdV vc ikuh ls ugha NwV jgk gSA\\neksgflu µ ysfdu bu f[kykSuksa osQ fy, dksbZ gesa nqvk rks u nsxk\\\\\\negewn µ nqvk dks fy, fiQjrs gksA myVs ekj u iM+sA vEek¡ ”k:j dgsaxh fd\\nesys esa ;gh fe^h osQ f[kykSus rqEgsa feys\\\\\\ngkfen dks Lohdkj djuk iM+k fd f[kykSuksa dks ns[kdj fdlh dh ek¡ bruh\\n[kq\\'k u gksxh] ftruh nknh fpeVs dks ns[kdj gksaxhA rhu iSlksa gh esa rks mls lc\\noqQN djuk Fkk vkSj mu iSlksa osQ bl mi;ksx ij iNrkos dh fcyoqQy ”k:jr\\nu FkhA fiQj vc rks fpeVk #Lres&¯gn gS vkSj lHkh f[kykSuksa dk ckn\\'kkg!\\n2024-25\\n18 / varjk\\njkLrs esa egewn dks Hkw[k yxhA mlosQ cki us osQys [kkus dks fn,A egewn us\\nosQoy gkfen dks lk>h cuk;kA mlosQ vU; fe=k eq¡g rkdrs jg x,A ;g ml\\nfpeVs dk izlkn FkkA\\n3\\nX;kjg cts xk¡o esa gypy ep xbZA esys okys vk x,A eksgflu dh NksVh cgu\\nus nkSM+dj fHk\\'rh mlosQ gkFk ls Nhu fy;k vkSj ekjs [kq\\'kh osQ tks mNyh] rks fe;k¡\\nfHk\\'rh uhps vk jgs vkSj lqjyksd fl/kjsA bl ij HkkbZ&cgu esa ekj&ihV gqbZA nksuksa\\n[kwc jks,A mldh vEek¡ ;g \\'kksj lqudj fcxM+h vkSj nksuksa dks Åij ls nks&nks\\npk¡Vs vkSj yxk,A\\nfe;k¡ uwjs osQ odhy dk var muosQ izfr\"BkuqowQy blls ”;knk xkSjoe; gqvkA\\nodhy ”kehu ij ;k rkd ij rks ugha cSB ldrkA mldh e;kZnk dk fopkj rks\\ndjuk gh gksxkA nhokj esa nks [kwfV;k¡ xkM+h xb±A mu ij ydM+h dk ,d iVjk j[kk\\nx;kA iVjs ij dkx”k dk dkyhu fcNk;k x;kA odhy lkgc jktk Hkkst dh Hkk¡fr\\n¯lgklu ij fcjktsA uwjs us mUgsa ia[kk >yuk \\'kq: fd;kA vnkyrksa esa [kl dh\\nVf^;k¡ vkSj fctyh osQ ia[ks jgrs gSaA D;k ;gk¡ ekewyh ia[kk Hkh u gks! dkuwu dh\\nxjeh fnekx ij p<+ tk,xh fd ughaA ck¡l dk ia[kk vk;k vkSj uwjs gok djus yxsA\\nekywe ugha] ia[ks dh gok ls] ;k ia[ks dh pksV ls odhy lkgc LoxZyksd ls\\ne`R;qyksd esa vk jgs vkSj mudk ekVh dk pksyk ekVh esa fey x;kA fiQj cM+s\\n”kksj&\\'kksj ls ekre gqvk vkSj odhy lkgc dh vfLFk ?kwj ij Mky nh xbZA\\nvc jgk egewn dk flikghA mls pViV xk¡o dk igjk nsus dk pktZ fey\\nx;k_ ysfdu iqfyl dk flikgh dksbZ lkèkkj.k O;fDr rks ugha] tks vius iSjksa pysA\\nog ikydh ij pysxkA ,d Vksdjh vkbZ] mlesa oqQN yky jax osQ iQVs&iqjkus\\nfpFkM+s fcNk, x,_ ftlesa flikgh lkgc vkjke ls ysVsA uwjs us ;g Vksdjh mBkbZ\\nvkSj vius }kj dk pDdj yxkus yxsA muosQ nksuksa NksVs HkkbZ flikgh dh rjI+kQ ls\\n^Nksusokys] tkxrs ygks* iqdkjrs pyrs gSaA exj jkr rks v¡èksjh gksuh pkfg,_ egewn\\n2024-25\\nizsepan / 19\\ndks Bksdj yx tkrh gSA Vksdjh mlosQ gkFk ls NwVdj fxj iM+rh gS vkSj fe;k¡\\nflikgh viuh canwd fy, ”kehu ij vk tkrs gSa vkSj mudh ,d Vk¡x esa fodkj\\nvk tkrk gSA egewn dks vkt Kkr gqvk fd og vPNk MkWDVj gSA mldks ,slk\\nejge fey x;k gS ftlls og VwVh Vk¡x dks vkuu&iQkuu tksM+ ldrk gSA osQoy\\nxwyj dk nwèk pkfg,A xwyj dk nwèk vkrk gSA Vk¡x tksM+ nh tkrh gS ysfdu flikgh\\ndks T;ksa gh [kM+k fd;k tkrk gS] Vk¡x tokc ns nsrh gSA \\'kY;fØ;k vliQy gqbZ]\\nrc mldh nwljh Vk¡x Hkh rksM+ nh tkrh gSSA vc de&ls&de ,d txg vkjke\\nls cSB rks ldrk gSA ,d Vk¡x ls rks u py ldrk Fkk_ u cSB ldrk FkkA vc\\nog flikgh laU;klh gks x;k gSA viuh txg ij cSBk&cSBk igjk nsrk gSA\\ndHkh&dHkh nsork Hkh cu tkrk gSA mlosQ flj dk >kyjnkj lkI+kQk [kqjp fn;k x;k\\ngSA vc mldk ftruk :ikarj pkgks] dj ldrs gksA dHkh&dHkh rks mlls ckV dk\\ndke Hkh fy;k tkrk gSA\\nvc fe;k¡ gkfen dk gky lqfu,A vehuk mldh vkok”k lqurs gh nkSM+h vkSj\\nmls xksn esa mBkdj I;kj djus yxhA lglk mlosQ gkFk esa fpeVk ns[kdj og pkSadhA\\n^;g fpeVk dgk¡ Fkk\\\\*\\n^eSaus eksy fy;k gSA*\\n^oSQ iSls esa\\\\*\\n^rhu iSls fn,A*\\nvehuk us Nkrh ihV yhA ;g oSQlk csle> yM+dk gS fd nksigj gqvk] oqQN\\n[kk;k u fi;kA yk;k D;k] fpeVk! lkjs esys esa rq>s vkSj dksbZ ph”k u feyh] tks\\n;g yksgs dk fpeVk mBk yk;k\\\\\\ngkfen us vijkèkh&Hkko ls dgk µ rqEgkjh m¡xfy;k¡ ros ls ty tkrh Fkha_\\nblfy, eSaus mls fy;kA\\ncqf<+;k dk Øksèk rqjar Lusg esa cny x;k] vkSj Lusg Hkh og ugha] tks izxYHk\\ngksrk gS vkSj viuh lkjh dld \\'kCnksa esa fc[ksj nsrk gSA ;g ewd Lusg Fkk] [kwc\\nBksl] jl vkSj Lokn ls Hkjk gqvkA cPps esa fdruk R;kx] fdruk ln~Hkko vkSj\\n2024-25\\n20 / varjk\\nfdruk foosd gS! nwljksa dks f[kykSus ysrs vkSj feBkbZ [kkrs ns[kdj bldk eu\\nfdruk yypk;k gksxk\\\\ bruk ”kCr blls gqvk oSQls\\\\ ogk¡ Hkh bls viuh cqf<+;k\\nnknh dh ;kn cuh jghA vehuk dk eu xn~xn gks x;kA\\nvkSj vc ,d cM+h fofp=k ckr gqbZA gkfen osQ bl fpeVs ls Hkh fofp=kA\\ncPps gkfen us cw<+s gkfen dk ikVZ [ksyk FkkA cqf<+;k vehuk ckfydk vehuk cu\\nxbZA og jksus yxhA nkeu iSQykdj gkfen dks nqvk,¡ nsrh tkrh Fkh vkSj vk¡lw dh\\ncM+h&cM+h cw¡nsa fxjkrh tkrh FkhA gkfen bldk jgL; D;k le>rk!\\niz\\'u&vH;kl\\n 1- ^bZnxkg* dgkuh osQ mu izlaxksa dk mYys[k dhft, ftuls bZn osQ volj ij xzkeh.k ifjos\\'k\\ndk mYykl izdV gksrk gSA\\n2- ^mlosQ vanj izdk\\'k gS] ckgj vk\\'kkA foifÙk viuk lkjk nycy ysdj vk,] gkfen\\ndh vkuan Hkjh fprou mldk foèoal dj nsxhA* µ bl dFku ls ys[kd dk D;k\\nvk\\'k; gS\\\\\\n3- ^mUgsa D;k [kcj fd pkS/jh vkt vk¡[ksa cny ysa] rks ;g lkjh bZn eqgjZe gks tk,A* µ\\nbl dFku dk vk\\'k; Li\"V dhft,A\\n4- ^ekuks Hkzkr`Ro dk ,d lw=k bu leLr vkRekvksa dks ,d yM+h esa fijks, gq, gSA* bl\\ndFku osQ lanHkZ esa Li\"V dhft, fd ^/eZ rksM+rk ughsa tksM+rk gSA*\\n5- fuEufyf[kr x|ka\\'kksa dh lizlax O;k[;k dhft, &&\\n(d) dbZ ckj ;gh fozQ;k gksrh gS----------------vkRekvksa dks ,d yM+h esa fijks, gq, gSA\\n([k) cqf<+;k dk ozQks/----------------Lokn ls Hkjk gqvkA\\n6- gkfen us fpeVs dh mi;ksfxrk dks fl¼ djrs gq, D;k&D;k roZQ fn,\\\\\\n2024-25\\nizsepan / 21\\n7- xk¡o ls \\'kgj tkusokys jkLrs osQ eè; iM+usokys LFkyksa dk ,slk o.kZu ys[kd us fd;k gS\\nekuks v¡k[kksa osQ lkeus fp=k mifLFkr gks jgk gksA vius ?kj vkSj fo|ky; osQ eè;\\niM+usokys LFkkuksa dk vius \\'kCnksa esa o.kZu dhft,A\\n8- ^cPps gkfen us cw<s+ gkfen dk ikVZ [ksyk FkkA cqf<+;k vehuk ckfydk vehuk cu xbZA*\\nbl dFku esa ^cw<+s gkfen* vkSj ^ckfydk vehuk* ls ys[kd dk D;k vk\\'k; gS\\\\ Li\"V\\ndhft,A\\n9- ^nkeu iSQykdj gkfen dks nqvk,¡ nsrh tkrh Fkh vkSj vk¡lw dh cM+h&cM+h cw¡nsa fxjkrh tkrh\\nFkhA gkfen bldk jgL; D;k le>rk!* µ ys[kd osQ vuqlkj gkfen vehuk dh nqvkvksa\\nvkSj vk¡lqvksa osQ jgL; dks D;ksa ugha le> ik;k\\\\ dgkuh osQ vk/kj ij Li\"V dhft,A\\n10- gkfen dh txg vki gksrs rks D;k djrs\\\\\\n;ksX;rk&foLrkj\\n 1- izsepan dh dgkfu;ksa dk laxzg ^ekuljksoj* uke ls vkB Hkkxksa esa izdkf\\'kr gSA vius\\niqLrdky; ls ysdj mls if<+,A\\n 2- bl dgkuh esa yksd izpfyr eqgkojksa dh Hkjekj gS] tSls µ ukuh ejuk] NDosQ NwVuk\\nvkfnA blesa vk, eqgkojksa dh ,d lwph rS;kj dhft,A\\n2024-25\\n22 / varjk\\n\\'kCnkFkZ vkSj fVIi.kh\\ncyk & d\"V] vkifÙk] cgqr d\"V nsusokyh oLrq\\ncngokl & ?kCkjkuk] gks\\'k&gokl Bhd u gksuk\\nfuxksM+h & vHkkxh] fujkJ;] ftloQk dksbZ u gks\\nfprou & fdlh dh vksj ns[kus dk <ax] n`f\"V] dVk{k\\no”kw & uek”k ls igys ;Fkkfof/ gkFk&ik¡o vkSj eq¡g /ksuk\\nfltnk & ekFkk Vsduk] [kqnk osQ vkxs flj >qdkuk\\n¯gMksyk & >wyk] ikyuk\\ne\\'kd & HksM+ ;k cdjh dh [kky dks lhdj cuk;k gqvk FkSyk\\nftlls fHk\\'rh ikuh <ksrs gSa\\nvpdu & yack dyhnkj v¡xj[kk ftlesa igys xjsck¡ ls dej&i^h\\nrd vèkZpanzkdkj can yxrs Fks vkSj vc lh/s cVu\\nV¡drs gSa\\nuser & cgqr cf<+;k\\n”kCr & lgu djuk\\nnkeu & iYyw] vk¡py\\n2024-25\\n']"
      ]
     },
     "execution_count": 24,
     "metadata": {},
     "output_type": "execute_result"
    }
   ],
   "source": [
    "chunk_ques_gen"
   ]
  },
  {
   "cell_type": "code",
   "execution_count": 25,
   "metadata": {},
   "outputs": [
    {
     "data": {
      "text/plain": [
       "2"
      ]
     },
     "execution_count": 25,
     "metadata": {},
     "output_type": "execute_result"
    }
   ],
   "source": [
    "len(chunk_ques_gen)"
   ]
  },
  {
   "cell_type": "code",
   "execution_count": 26,
   "metadata": {},
   "outputs": [
    {
     "data": {
      "text/plain": [
       "str"
      ]
     },
     "execution_count": 26,
     "metadata": {},
     "output_type": "execute_result"
    }
   ],
   "source": [
    "type(chunk_ques_gen[0])"
   ]
  },
  {
   "cell_type": "code",
   "execution_count": 27,
   "metadata": {},
   "outputs": [],
   "source": [
    "from langchain.docstore.document import Document"
   ]
  },
  {
   "cell_type": "code",
   "execution_count": null,
   "metadata": {},
   "outputs": [],
   "source": [
    "## to present in doc repesention \n",
    "\n",
    "Document_ques_gen = [Document(page_content=t) for t in chunk_ques_gen]"
   ]
  },
  {
   "cell_type": "code",
   "execution_count": 30,
   "metadata": {},
   "outputs": [
    {
     "data": {
      "text/plain": [
       "[Document(metadata={}, page_content='izsepan / 1\\nx|&[kaM\\nx|&[kaM\\n2024-25\\n2 / varjk\\n2024-25\\nizsepan / 3\\nizsepan dk tUe okjk.klh f”kys osQ yegh xzke esa gqvk FkkA\\nmudk ewy uke èkuirjk; FkkA iszepan dh izkjafHkd f\\'k{kk\\nokjk.klh esa gqbZA eSfVªd osQ ckn os vè;kiu djus yxsA\\nLokè;k; osQ :i esa gh mUgksaus ch-,- rd f\\'k{kk xzg.k dhA\\nvlg;ksx vkanksyu osQ nkSjku mUgksaus ljdkjh ukSdjh ls\\nR;kxi=k ns fn;k vkSj iwjh rjg ys[ku&dk;Z osQ izfr lefiZr\\ngks x,A\\nizsepan us vius ys[ku dh \\'kq #vkr igys mnwZ esa\\nuokcjk; osQ uke ls dh] ckn esa ¯gnh esa fy[kus yxsA\\nmUgksaus vius lkfgR; esa fdlkuksa] nfyrksa] ukfj;ksa dh osnuk\\nvkSj o.kZ&O;oLFkk dh oqQjhfr;ksa dk ekfeZd fp=k.k fd;k\\ngSA os lkfgR; dks Lokar% lq[kk; u ekudj lkekftd\\nifjorZu dk ,d l\\'kDr ekè;e ekurs FksA os ,d ,sls\\nlkfgR;dkj Fks] tks lekt dh okLrfod fLFkfr dks iSuh\\nn`f\"V ls ns[kus dh \\'kfDr j[krs FksA mUgksaus lekt&lqèkkj\\nvkSj jk\"Vªh;&Hkkouk ls vksrizksr vusd miU;klksa ,oa dgkfu;ksa\\ndh jpuk dhA dFkk&laxBu] pfj=k&fp=k.k] dFkksidFku\\nvkfn dh n`f\"V ls mudh jpuk,¡ cstksM+ gSaA mudh Hkk\"kk\\ncgqr ltho] eqgkojsnkj vkSj cksypky osQ fudV gSA ¯gnh\\nHkk\"kk dks yksdfiz; cukus esa mudk fo\\'ks\"k ;ksxnku gSA\\nlaLÑr osQ izpfyr \\'kCnksa osQ lkFk&lkFk mnwZ dh jokuh bldh\\nfo\\'ks\"krk gS] ftlus ¯gnh dFkk Hkk\"kk dks u;k vk;ke fn;kA\\nmudh izeq[k o`Qfr;k¡ gSa µ ekuljksoj (vkB Hkkx)]\\nxqIrèku (nks Hkkx) (dgkuh laxzg)_  fueZyk] lsoklnu]\\niszekJe] jaxHkwfe] deZHkwfe] xcu] xksnku (miU;kl)_ dcZyk]\\nlaxzke] izse dh osnh (ukVd)_ fofoèk izlax (rhu [kaMksa eas]\\nlkfgfR;d vkSj jktuhfrd fucaèkksa dk laxzg)_ oqQN fopkj\\n(lu~ 1880&1936)\\nizsepan\\n2024-25\\n4 / varjk\\n(lkfgfR;d fucaèk)A mUgksaus ekèkqjh] gal] e;kZnk] tkxj.k vkfn if=kdkvksa dk laiknu\\nHkh fd;kA bl ikB~;iqLrd esa mudh bZnxkg dgkuh nh xbZ gSA\\n¯gnh esa cky&euksfoKku ls lacaf/r dgkfu;k¡ cgqr de fy[kh xbZ gSaA izsepan\\nmu nqyZHk dFkkdkjksa esa ls gSa ftUgksaus iwjh izkekf.kdrk ,oa rUe;rk osQ lkFk\\ncky&thou dks viuh dgkfu;ksa esa txg nh gSA mudh dgkfu;k¡ Hkkjr dh lk>h\\nlaLÑfr ,oa xzkeh.k thou osQ fofo/ jaxksa ls ljkcksj gSaA\\nbZnxkg izsepan dh bUgha fo\\'ks\"krkvksa dks vfHkO;Dr djus okyh izfrfuf/\\ndgkuh gSA bl dgkuh esa bZn tSls egÙoiw.kZ R;ksgkj dks vk/kj cukdj xzkeh.k\\neqfLye thou dk lqanj fp=k izLrqr fd;k x;k gSA gkfen dk pfj=k gesa crkrk gS\\nfd vHkko mez ls igys cPpksa esa oSQls cM+kas tSlh le>nkjh iSnk dj nsrk gSA esys\\nesa gkfen viuh gj pkg ij la;e j[kus esa fot;h gksrk gSA lkFk gh #Lres ¯gn\\nfpeVs osQ ekè;e ls izsepan us Je osQ lkSan;Z ,oa egÙo dks Hkh mn~?kkfVr fd;k\\ngSA fp=kkRed Hkk\"kk dh n`f\"V ls Hkh ;g dgkuh vuwBh gSA\\n2024-25\\nizsepan / 5\\nbZnxkg\\nje”kku osQ iwjs rhl jks”kksa osQ ckn bZn vkbZ gSA fdruk euksgj] fdruk lqgkouk izHkkr\\ngSA o`{kksa ij oqQN vthc gfj;kyh gS] [ksrksa esa oqQN vthc jkSud gS] vkleku ij\\noqQN vthc ykfyek gSA vkt dk lw;Z ns[kks] fdruk I;kjk] fdruk \\'khry gS ekuks\\nlalkj dks bZn dh cèkkbZ ns jgk gSA xk¡o esa fdruh gypy gSA bZnxkg tkus dh\\nrS;kfj;k¡ gks jgh gSaA fdlh osQ oqQjrs esa cVu ugha gS] iM+ksl osQ ?kj ls lqbZ&rkxk ysus\\nnkSM+k tk jgk gSA fdlh osQ twrs dM+s gks x, gSa] muesa rsy Mkyus osQ fy, rsyh osQ\\n?kj Hkkxk tkrk gSA tYnh&tYnh cSyksa dks lkuh&ikuh ns nsaA bZnxkg ls ykSVrs&ykSVrs\\nnksigj gks tk,xkA rhu dksl dk iSny jkLrk] fiQj lSdM+ksa vknfe;ksa ls feyuk&HksaVuk]\\nnksigj osQ igys ykSVuk vlaHko gSA yM+osQ lcls ”;knk izlUu gSaA fdlh us ,d jks”kk\\nj[kk gS] og Hkh nksigj rd] fdlh us og Hkh ugha_ ysfdu bZnxkg tkus dh [kq\\'kh\\nmuosQ fgLls dh ph”k gSA jks”ks cM+s&cw<+ksa osQ fy, gksaxsA buosQ fy, rks bZn gSA jks”k\\nbZn dk uke jVrs Fks vkt og vk xbZA vc tYnh iM+h gS fd yksx bZnxkg D;ksa\\nugha pyrsA bUgsa x`gLFkh dh ¯prkvksa ls D;k iz;kstu! lsoS;ksa osQ fy, nwèk vkSj \\'kDdj\\n?kj esa gS ;k ugha] budh cyk ls] ;s rks lsoS;k¡ [kk,¡xsA og D;k tkusa fd vCcktku\\nD;ksa cngokl pkSèkjh dk;evyh osQ ?kj nkSM+s tk jgs gSaA mUgsa D;k [kcj fd pkSèkjh\\nvkt vk¡[ksa cny ysa] rks ;g lkjh bZn eqgjZe gks tk,A mudh viuh tscksa esa rks oqQcsj\\ndk èku Hkjk gqvk gSA ckj&ckj tsc ls viuk [k”kkuk fudkydj fxurs gSa vkSj [kq\\'k\\n2024-25\\n6 / varjk\\ngksdj fiQj j[k ysrs gSaA egewn fxurk gS] ,d&nks] nl&ckjg! mlosQ ikl ckjg iSls\\ngSaA eksgflu osQ ikl ,d] nks] rhu] vkB] ukS] ianzg iSls gSaA bUgha vufxurh iSlksa esa\\nvufxurh ph”ksa yk,¡xs µ f[kykSus] feBkb;k¡] fcxqy] xsan vkSj tkus D;k&D;k! vkSj\\nlcls ”;knk izlUu gS gkfenA og pkj&ik¡p lky dk xjhc&lwjr] nqcyk&iryk\\nyM+dk] ftldk cki xr o\"kZ gS ”ks dh HksaV gks x;k vkSj ek¡ u tkus D;ksa ihyh\\ngksrh&gksrh ,d fnu ej xbZA fdlh dks irk u pyk] D;k chekjh gSA dgrh rks dkSu\\nlquus okyk FkkA fny ij tks oqQN chrrh Fkh] og fny esa gh lgrh Fkh vkSj tc\\nu lgk x;k rks lalkj ls fcnk gks xbZA vc gkfen viuh cw<+h nknh vehuk dh xksn\\nesa lksrk gS vkSj mruk gh izlUu gSA mlosQ vCcktku #i;s dekus x, gSaA cgqr&lh\\nFkSfy;k¡ ysdj vk, ¡xsA vEehtku vYykg fe;k¡ osQ ?kj ls mlosQ fy, cM+h\\nvPNh&vPNh ph”ksa ykus xbZ gSa_ blfy, gkfen izlUu gSA vk\\'kk rks cM+h ph”k gS]\\nvkSj fiQj cPpksa dh vk\\'kk! mudh dYiuk rks jkbZ dk ioZr cuk ysrh gSA gkfen osQ\\nik¡o esa twrs ugha gSa] flj ij ,d iqjkuh&èkqjkuh Vksih gS] ftldk xksVk dkyk iM+ x;k\\ngS] fiQj Hkh og izlUu gSA tc mlosQ vCcktku FkSfy;k¡ vkSj vEehtku fu;kersa\\nysdj vk,¡xh] rks og fny osQ vjeku fudky ysxkA rc ns[ksxk egewn] eksgflu] uwjs\\nvkSj lEeh dgk¡ ls mrus iSls fudkysaxsA vHkkfxu vehuk viuh dksBjh esa cSBh jks\\njgh gSA vkt bZn dk fnu vkSj mlosQ ?kj esa nkuk ugha! vkt vkfcn gksrk rks D;k\\nblh rjg bZn vkrh vkSj pyh tkrh! bl vaèkdkj vkSj fujk\\'kk esa og Mwch tk jgh\\ngSA fdlus cqyk;k Fkk bl fuxksM+h bZn dks\\\\ bl ?kj esa mldk dke ugha_ ysfdu\\ngkfen! mls fdlh osQ ejus&thus ls D;k eryc\\\\ mlosQ vanj izdk\\'k gS] ckgj\\nvk\\'kkA foifÙk viuk lkjk nycy ysdj vk,] gkfen dh vkuan Hkjh fprou mldk\\nfoèoal dj nsxhA\\ngkfen Hkhrj tkdj nknh ls dgrk gS µ rqe Mjuk ugha vEek¡] eSa lcls igys\\nvkmQ¡xkA fcyoqQy u MjukA\\nvehuk dk fny dpksV jgk gSA xk¡o osQ cPps vius&vius cki osQ lkFk tk\\njgs gSaA gkfen dk cki vehuk osQ flok vkSj dkSu gS! mls oSQls vosQys esys tkus\\n2024-25\\nizsepan / 7\\nns\\\\ ml HkhM+&HkkM+ esa cPpk dgha [kks tk, rks D;k gks\\\\ ugha] vehuk mls ;ksa u\\ntkus nsxhA uUgha&lh tku! rhu dksl pysxk oSQls! iSj esa Nkys iM+ tk,¡xsA twrs Hkh\\nrks ugha gaSA og FkksM+h&FkksM+h nwj ij mls xksn ys ysxh_ ysfdu ;gk¡ lsoS;k¡ dkSu\\nidk,xk\\\\ iSls gksrs rks ykSVrs&ykSVrs lc lkexzh tek djosQ pViV cuk ysrhA ;gk¡\\nrks ?kaVksa ph”ksa tek djrs yxsaxsA ek¡xs gh dk rks Hkjkslk BgjkA ml fnu I+kQgheu osQ\\ndiM+s flys FksA vkB vkus iSls feys FksA ml vBUuh dks bZeku dh rjg cpkrh\\npyh vkrh Fkh blh bZn osQ fy,] ysfdu dy Xokyu flj ij lokj gks xbZ rks\\nD;k djrh! gkfen osQ fy, oqQN ugha gS] rks nks iSls dk nwèk rks pkfg, ghA vc\\nrks oqQy nks vkus iSls cp jgs gSaA rhu iSls gkfen dh tsc esa] ik¡p vehuk osQ cVqos\\nesaA ;gh rks fclkr gS vkSj bZn dk R;ksgkj] vYykg gh csM+k ikj yxk,A èkkscu vkSj\\nukbu vkSj esgrjkuh vkSj pwfM+gkfju lHkh rks vk,¡xhA lHkh dks lsoS;k¡ pkfg, vkSj\\nFkksM+k fdlh dh vk¡[kksa ugha yxrkA fdl&fdl ls eq¡g pqjk,xhA vkSj eq¡g D;ksa\\npqjk,\\\\ lky&Hkj dk R;ksgkj gSA f”kanxh [kSfj;r ls jgs] mudh rdnhj Hkh rks mlh\\nosQ lkFk gSA cPps dks [kqnk lyker j[ks] fnu Hkh dV tk,¡xsA\\nxk¡o ls esyk pykA vkSj cPpksa osQ lkFk gkfen Hkh tk jgk FkkA dHkh\\nlc&osQ&lc nkSM+dj vkxs fudy tkrsA fiQj fdlh isM+ osQ uhps [kM+s gksdj\\nlkFkokyksa dk bar”kkj djrsA ;g yksx D;ksa bruk èkhjs&èkhjs py jgs gSa! gkfen\\nosQ iSjksa esa rks tSls ij yx x, gSaA og dHkh Fkd ldrk gS! \\'kgj dk nkeu\\nvk x;kA lM+d osQ nksuksa vksj vehjksa osQ cxhps gSaA iDdh pkjnhokjh cuh gqbZ\\ngSA isM+ksa esa vke vkSj yhfp;k¡ yxh gqbZ gSaA dHkh&dHkh dksbZ yM+dk oaQoQM+h\\nmBkdj vke ij fu\\'kkuk yxkrk gSA ekyh vanj ls xkyh nsrk gqvk fudyrk\\ngSA yM+osQ ogk¡ ls ,d iQyk±x ij gSaA [kwc g¡l jgs gSaA ekyh dks oSQlk mYyw\\ncuk;k gSA\\ncM+h&cM+h bekjrsa vkus yxhaA ;g vnkyr gS] ;g dkyst gS] ;g Dyc&?kj\\ngS! brus cM+s dkyst esa fdrus yM+osQ i<+rs gksaxs\\\\ lc yM+osQ ugha gSa th!\\ncM+s&cM+s vkneh gSa] lp! mudh cM+h&cM+h ew¡Nsa gSaA brus cM+s gks x,] vHkh rd\\n2024-25\\n8 / varjk\\ni<+us tkrs gSaA u tkus dc rd i<+saxs vkSj D;k  djsaxs bruk i<+dj] gkfen osQ\\nenjls esa nks&rhu cM+s&cM+s yM+osQ gSa] fcyoqQy rhu dkSM+h osQA jks”k ekj [kkrs\\ngSa] dke ls th pqjkus  okysA bl txg Hkh mlh rjg osQ yksx gksaxs vkSj D;kA\\nDyc&?kj esa tknw gksrk gSA lquk gS] ;gk¡ eqn Zs dh [kksifM+;k¡ nkSM+rh gSaA vkSj\\ncM+s&cM+s rek\\'ks gksrs gSa] ij fdlh dks vanj ugha tkus nsrsA vkSj ;gk¡ \\'kke dks\\nlkgc yksx [ksyrs gSaA cM+s&cM+s vkneh [ksyrs gSa] ew¡Nksa&nk<+hokysA vkSj esesa Hkh\\n[ksyrh gSa] lp! gekjh vEek¡ dks og ns nks] D;k uke gS] cSV] rks mls idM+\\ngh u losaQA ?kqekrs gh yq<+d tk,¡A\\negewn us dgk µ gekjh vEehtku dk rks gkFk dk¡ius yxs] vYyk dleA\\neksgflu cksyk µ pyks] euksa vkVk ihl Mkyrh gSaA ”kjk&lk cSV idM+ ysaxh] rks\\ngkFk dk¡ius yxsaxs\\\\ lSdM+ksa ?kM+s ikuh jks”k fudkyrh gSaA ik¡p ?kM+s rks rsjh HkSal ih tkrh\\ngSA fdlh ese dks ,d ?kM+k ikuh Hkjuk iM+s rks vk¡[kksa rys v¡èksjk vk tk,A\\negewn µ ysfdu nkSM+rha rks ugha] mNy&owQn rks ugha ldrhaA\\neksgflu µ gk¡] mNy&owQn ugha ldrha] ysfdu ml fnu esjh xk; [kqy xbZ\\nFkh vkSj pkSèkjh osQ [ksr esa tk iM+h Fkh] rks vEek¡ bruk rs”k nkSM+ha fd eSa mUgsa u\\nik ldk] lpA\\nvkxs pysA gyokb;ksa dh nwdkusa \\'kq: gqb±A vkt [kwc lth gqbZ FkhaA bruh\\nfeBkb;k¡ dkSu [kkrk gS\\\\ ns[kks u] ,d&,d nwdku ij euksa gksaxhA lquk gS] jkr dks\\nftUukr vkdj [kjhn ys tkrs gSaA vCck dgrs Fks fd vkèkh jkr dks ,d vkneh\\ngj nwdku ij tkrk gS vkSj ftruk eky cpk gksrk gS] og rqyok ysrk gS vkSj\\nlpeqp osQ #i;s nsrk gS] fcyoqQy ,sls gh #i;sA\\ngkfen dks ;dhu u vk;k µ ,sls #i;s ftUukr dks dgk¡ ls fey tk,¡xs\\\\\\neksgflu us dgk µ ftUukr dks #i;s dh D;k deh\\\\ ftl [ktkus esa pkgsa pys\\ntk,¡A yksgs osQ njok”ks rd mUgas ugha jksd ldrs tukc] vki gSa fdl isQj esa! ghjs\\ntokgjkr rd muosQ ikl jgrs gSaA ftlls [kq\\'k gks x, mls Vksdjksa tokgjkr ns\\nfn,A vHkh ;gha cSBs gSSa] ik¡p feuV esa dydÙkk igq¡p tk,¡A\\n2024-25\\nizsepan / 9\\ngkfen us fiQj iwNk µ ftUukr cgqr cM+s&cM+s gksrs gksaxs\\\\\\neksgflu µ ,d&,d vkleku osQ cjkcj gksrk gS thA ”kehu ij [kM+k gks tk,\\nrks mldk flj vkleku ls tk yxs] exj pkgs rks ,d yksVs esa ?kql tk,A\\ngkfen µ yksx mUgsa oSQls [kq\\'k djrs gksaxsA dksbZ eq>s og earj crk ns rks ,d\\nftUu dks [kq\\'k dj yw¡A\\neksgflu µ vc ;g rks eSa ugha tkurk] ysfdu pkSèkjh lkgc osQ dkcw esa cgqr\\nls ftUukr gSaA dksbZ ph”k pksjh tk,] pkSèkjh lkgc mldk irk yxk nsaxs vkSj pksj dk\\nuke Hkh crk nsaxsA tqejkrh dk cNok ml fnu [kks x;k FkkA rhu fnu gSjku gq,] dgha\\nu feykA rc >d ekjdj pkSèkjh osQ ikl x,A pkSèkjh us rqjar crk fn;k] eos\\'kh[kkus\\nesa gS vkSj ogha feykA ftUukr vkdj mUgsa lkjs tgku dh [kcjsa ns tkrs gSaA\\nvc mldh le> esa vk x;k fd pkSèkjh osQ ikl D;ksa bruk èku gS] vkSj D;ksa\\nmudk bruk lEeku gSA\\nvkxs pysA ;g iqfyl ykbu gSA ;gha lc dkfulfVfcy dok;n djrs gSaA\\njSVu! I+kQk; iQks! jkr dks cspkjs ?kwe&?kwedj igjk nsrs gSa] ugha pksfj;k¡ gks tk,¡A\\neksgflu us izfrokn fd;k µ ;g dkfulfVfcy igjk nsrs gSa! rHkh rqe cgqr\\ntkurs gksA vth g”kjr] ;gh pksjh djkrs gSaA \\'kgj osQ ftrus pksj&MkowQ gSa] lc\\nbuls feys jgrs gSaA jkr dks ;s yksx pksjksa ls rks dgrs gSa] pksjh djks vkSj vki nwljs\\neqgYys esa tkdj ^tkxrs jgks! tkxrs jgks!* iqdkjrs gSaA tHkh bu yksxksa osQ ikl brus\\n#i;s vkrs gSaA esjs ekew¡ ,d Fkkus esa dkfulfVfcy gSaA chl #i;k eghuk ikrs gSaa_\\nysfdu ipkl #i;s ?kj Hkstrs gSaA vYyk dle! eSaus ,d ckj iwNk Fkk fd ekew¡]\\nvki brus #i;s dgk¡ ls ikrs gSa\\\\ g¡ldj dgus yxs µ csVk] vYykg nsrk gSA fiQj\\nvki gh cksys µ ge yksx pkgsa rks ,d fnu esa yk[kksa ekj yk,¡A ge rks bruk gh\\nysrs gSa] ftlesa viuh cnukeh u gks vkSj ukSdjh u pyh tk,A\\ngkfen us iwNk µ ;g yksx pksjh djokrs gSa] rks dksbZ bUgsa idM+rk ugha\\\\\\neksgflu mldh uknkuh ij n;k fn[kkdj cksyk µ vjs ikxy] bUgsa dkSu\\nidM+sxk\\\\ idM+us okys rks ;g yksx [kqn gSa_ ysfdu vYykg bUgsa l”kk Hkh [kwc nsrk\\ngSA gjke dk eky gjke esa tkrk gSA FkksM+s gh fnu gq, ekew¡ osQ ?kj esa vkx yx xbZA\\n2024-25\\n10 / varjk\\nlkjh ysbZ iw¡th ty xbZA ,d cjru rd u cpkA dbZ fnu isM+ osQ uhps lks,] vYyk\\ndle] isM+ osQ uhps! fiQj u tkus dgk¡ ls ,d lkS d”kZ yk, rks cjru&Hkk¡M+s vk,A\\ngkfen µ ,d lkS rks ipkl ls ”;knk gksrs gSa\\\\\\n^dgk¡ ipkl] dgk¡ ,d lkSA ipkl ,d FkSyh Hkj gksrk gSA lkS rks nks FkSfy;ksa\\nesa Hkh u vk,A*\\nvc cLrh ?kuh gksus yxhA bZnxkg tkusokyksa dh Vksfy;k¡ u”kj vkus yxhaA ,d\\nls ,d HkM+dhys oL=k igus gq,A dksbZ bDosQ&rk¡xs ij lokj] dksbZ eksVj ij] lHkh b=k\\nesa cls] lHkh osQ fnyksa esa meaxA xzkeh.kksa dk ;g NksVk&lk ny] viuh foiUurk ls\\ncs[kcj] larks\"k vkSj èkS;Z esa exu pyk tk jgk FkkA cPpksa osQ fy, uxj dh lHkh ph”ksa\\nvuks[kh FkhaA ftl ph”k dh vksj rkdrs] rkdrs gh jg tkrs vkSj ihNs ls cjkcj gkuZ\\ndh vkok”k gksus ij Hkh u psrrsA gkfen rks eksVj osQ uhps tkrs&tkrs cpkA\\nlglk bZnxkg u”kj vk;kA mQij beyh osQ ?kus o`{kksa dh Nk;k gSA uhps iDdk\\nI+kQ\\'kZ gS] ftl ij tkfte fcNk gqvk gSA vkSj jks”ksnkjksa dh iafDr;k¡ ,d osQ ihNs\\n,d u tkus dgk¡ rd pyh xbZ gSa] iDdh txr osQ uhps rd] tgk¡ tkfte Hkh\\nugha gSA u, vkusokys vkdj ihNs dh drkj esa [kM+s gks tkrs gSaA vkxs txg ugha\\ngSA ;gk¡ dksbZ èku vkSj in ugha ns[krkA bLyke dh fuxkg esa lc cjkcj gSaA bu\\nxzkeh.kksa us Hkh otw fd;k vkSj fiNyh iafDr esa [kM+s gks x,A fdruk lqanj lapkyu\\ngS] fdruh lqanj O;oLFkk! yk[kksa flj ,d lkFk fltns esa >qd tkrs gSa] fiQj\\nlc&osQ&lc ,d lkFk [kM+s gks tkrs gSa] ,d lkFk >qdrs gSa] vkSj ,d lkFk ?kqVuksa\\nosQ cy cSB tkrs gSaA dbZ ckj ;gh fØ;k gksrh gS] tSls fctyh dh yk[kksa cfÙk;k¡\\n,d lkFk iznhIr gksa vkSj ,d lkFk cq> tk,¡ vkSj ;gh Øe pyrk jgsA fdruk\\nviwoZ n`\\'; Fkk] ftldh lkewfgd fØ;k,¡] foLrkj vkSj vuarrk ân; dks J¼k] xoZ\\nvkSj vkRekuan ls Hkj nsrh Fkha] ekuks Hkzkr`Ro dk ,d lw=k bu leLr vkRekvksa dks\\n,d yM+h esa fijks, gq, gSA\\n2024-25\\nizsepan / 11\\n2\\nuek”k [kRe gks xbZ gSA yksx vkil esa xys fey jgs gSaA rc feBkbZ vkSj\\nf[kykSus dh nwdkuksa ij èkkok gksrk gSA xzkeh.kksa dk ;g ny bl fo\"k; esa ckydksa\\nls de mRlkgh ugha gSA ;g ns[kks] ¯gMksyk gSA ,d iSlk nsdj p<+ tkvksA dHkh\\nvkleku ij tkrs gq, ekywe gksaxs] dHkh ”kehu ij fxjrs gq,A ;g p[khZ gS] ydM+h\\nosQ gkFkh] ?kksM+s] m¡QV NM+ksa ls yVosQ gq, gSaA ,d iSlk nsdj cSB tkvks vkSj iPphl\\npDdjksa dk e”kk yksA egewn vkSj eksgflu vkSj uwjs vkSj lEeh bu ?kksM+ksa vkSj mQ¡Vksa\\nij cSBrs gSaA gkfen nwj [kM+k gSA rhu gh iSls rks mlosQ ikl gaSA vius dks\"k dk\\n,d frgkbZ ”kjk&lk pDdj [kkus osQ fy, ugha ns ldrkA\\nlc p£[k;ksa ls mrjrs gSaA vc f[kykSus ysaxsA bèkj nwdkuksa dh drkj yxh gqbZ\\ngSA rjg&rjg osQ f[kykSus gSa µ flikgh vkSj xqtfj;k] jktk vkSj odhy] fHk\\'rh\\nvkSj èkksfcu vkSj lkèkqA okg! fdrus lqanj f[kykSus gSaA vc cksyk gh pkgrs gSaA\\negewn flikgh ysrk gS] [kkdh onhZ vkSj yky ixM+hokyk] oaQèks ij canwd j[ks gq,_\\nekywe gksrk gS vHkh dok;n fd, pyk vk jgk gSA eksgflu dks fHk\\'rh ilan\\nvk;kA dej >qdh gqbZ gS] mQij e\\'kd j[ks gq, gSA e\\'kd dk eq¡g ,d gkFk ls\\nidM+s gq, gSA fdruk izlUu gSA \\'kk;n dksbZ xhr xk jgk gSA cl] e\\'kd ls ikuh\\nmM+syk gh pkgrk gSA uwjs dks odhy ls isze gSA oSQlh fo}Ùkk gS mlosQ eq[k ij!\\ndkyk pksxk] uhps lI+ksQn vpdu] vpdu osQ lkeus dh tsc esa ?kM+h] lqugjh\\n”kathj] ,d gkFk esa dkuwu dk iksFkk fy, gq,A ekywe gksrk gS] vHkh fdlh vnkyr\\nls ftjg ;k cgl fd, pys vk jgs gSaA ;g lc nks&nks iSls osQ f[kykSus gSaA gkfen\\nosQ ikl oqQy rhu iSls gSa] brus eg¡xs f[kykSus og oSQls ys\\\\ f[kykSuk dgha gkFk\\nls NwV iM+s] rks pwj&pwj gks tk,] ”kjk ikuh iM+s rks lkjk jax èkqy tk,] ,sls f[kykSus\\nysdj og D;k djsxk] fdl dke osQ\\\\\\neksgflu dgrk gS µ esjk fHk\\'rh jks”k ikuh ns tk,xk] lk¡>&lcsjsA\\n2024-25\\n12 / varjk\\negewn µ vkSj esjk flikgh ?kj dk igjk nsxkA dksbZ pksj vk,xk] rks I +kQkSju\\ncanwd I+kSQj dj nsxkA\\nuwjs µ vkSj esjk odhy [kwc eqdnek yM+sxkA\\nlEeh µ vkSj esjh èkksfcu jks”k diM+s èkks,xhA\\ngkfen f[kykSuksa dh fuank djrk gS µ fe^h gh osQ rks gSa] fxjs rks pdukpwj gks\\ntk,¡_ ysfdu yypkbZ gqbZ vk¡[kksa ls f[kykSuksa dks ns[k jgk gSA vkSj pkgrk gS fd\\n”kjk nsj osQ fy, mUgsa gkFk esa ys ldrkA mlosQ gkFk vuk;kl gh yidrs gSa_\\nysfdu yM+osQ brus R;kxh ugha gksrs gSa] fo\\'ks\"kdj tc vHkh u;k \\'kkSd gSA gkfen\\nyypkrk jg tkrk gSA\\nf[kykSus osQ ckn feBkb;k¡ vkrh gSaA fdlh us jsofM+;k¡ yh gSa] fdlh us\\nxqykc&tkequ] fdlh us lksgu gyokA e”ks ls [kk jgs gSaA gkfen fcjknjh ls i`Fkd\\ngSA vHkkxs osQ ikl rhu iSls gSaA D;ksa ugha oqQN ysdj [kkrk\\\\ yypkbZ vk¡[kksa ls\\nlcdh vksj ns[krk gSA\\neksgflu dgrk gS µ gkfen] jsoM+h ys tk] fdruh [kq\\'kcwnkj gS!\\ngkfen dks lansg gqvk] ;g osQoy ozwQj fouksn gS] eksgflu bruk mnkj ugha gS_\\nysfdu ;g tkudj Hkh og mlosQ ikl tkrk gSA eksgflu nksus ls ,d jsoM+h\\nfudkydj gkfen dh vksj c<+krk gSA gkfen gkFk iSQykrk gSA eksgflu jsoM+h vius\\neq¡g esa j[k ysrk gSA egewn] uwjs vkSj lEeh [kwc rkfy;k¡ ctk&ctkdj g¡lrs gaSA\\ngkfen f[kfl;k tkrk gSA\\neksgflu µ vPNk] vcdh ”k:j nsaxs gkfen] vYyk OkQle] ys tkA\\ngkfen µ j[ks jgksA D;k esjs ikl iSls ugha gSa\\\\\\nlEeh µ rhu gh iSls rks gSaA rhu iSls esa D;k&D;k yksxs\\\\\\negewn µ gels xqykc&tkequ ys tko gkfenA eksgflu cnek\\'k gSA\\ngkfen µ feBkbZ dkSu cM+h user gSA fdrkc esa bldh fdruh cqjkb;k¡ fy[kh gSaA\\neksgflu µ ysfdu fny esa dg jgs gkasxs fd feys rks [kk ysaA vius iSls D;ksa\\nugha fudkyrs\\\\\\n2024-25\\nizsepan / 13\\negewn µ ge le>rs gSa] bldh pkykdhA tc gekjs lkjs iSls [kpZ gks tk,¡xs]\\nrks gesa yypk&yypkdj [kk,xkA\\nfeBkb;ksa osQ ckn oqQN nwdkusa yksgs dh ph”kksa dh] oqQN fxyV vkSj oqQN\\nudyh xguksa dhA yM+dksa osQ fy, ;gk¡ dksbZ vkd\"kZ.k u FkkA os lc vkxs c<+\\ntkrs gSaA gkfen yksgs dh nwdku ij #d tkrk gSA dbZ fpeVs j[ks gq, FksA mls\\n[k;ky vk;k] nknh osQ ikl fpeVk ugha gSA ros ls jksfV;k¡ mrkjrh gSa] rks gkFk\\nty tkrk gS_ vxj og fpeVk ys tkdj nknh dks ns ns] rks og fdruh izlUu\\ngksaxh! fiQj mudh m¡xfy;k¡ dHkh u tysaxhA ?kj esa ,d dke dh ph”k gks\\ntk,xhA f[kykSus ls D;k I+kQk;nkA O;FkZ esa iSls [kjkc gksrs gSaA ”kjk nsj gh rks [kq\\'kh\\ngksrh gSA fiQj rks f[kykSus dks dksbZ vk¡[k mBkdj ugha ns[krkA ;k rks ?kj\\nigq¡prs&igq¡prs VwV&iwQVdj cjkcj gks tk,¡xsA fpeVk fdrus dke dh ph”k gSA\\njksfV;k¡ ros ls mrkj yks] pwYgs esa lsad yksA dksbZ vkx ek¡xus vk, rks pViV\\npwYgs ls vkx fudkydj mls ns nksA vEek¡ cspkjh dks dgk¡ I+kqQjlr gS fd ck”kkj\\nvk,¡ vkSj brus iSls gh dgk¡ feyrs gSaA jks”k gkFk tyk ysrh gSaA gkfen osQ lkFkh\\nvkxs c<+ x, gSaA lchy ij lc&osQ&lc \\'kjcr ih jgs gSaA ns[kks] lc fdrus\\nykyph gSa! bruh feBkb;k¡ yha] eq>s fdlh us ,d Hkh u nhA ml ij dgrs gSa]\\nesjs lkFk [ksyksA esjk ;g dke djksA vc vxj fdlh us dksbZ dke djus dks\\ndgk] rks iwNw¡xkA [kk,¡ feBkb;k¡] vki eq¡g lM+sxk] iQksMs+ iqaQfl;k¡ fudysaxh] vki\\ngh ”kcku pVksjh gks tk,xhA rc ?kj ls iSls pqjk,¡xs vkSj ekj [kk,¡xsA fdrkc esa\\n>wBh ckrsa FkksM+s gh fy[kh gSaA esjh ”kcku D;ksa [kjkc gksxhA vEek¡ fpeVk ns[krs\\ngh nkSM+dj esjs gkFk ls ys ysaxh vkSj dgsaxh µ esjk cPpk vEek¡ osQ fy, fpeVk\\nyk;k gSA g”kkjksa nqvk,¡ nsaxhA fiQj iM+ksl dh vkSjrksa dks fn[kk,¡xhA lkjs xk¡o esa\\nppkZ gksus yxsxh] gkfen fpeVk yk;k gSA fdruk vPNk yM+dk gSA bu yksxksa osQ\\nf[kykSuksa ij dkSu bUgsa nqvk,¡ nsxk\\\\ cM+ksa dh nqvk,¡ lhèks vYykg osQ njckj esa\\nigq¡pr'),\n",
       " Document(metadata={}, page_content='ksxhA vEek¡ fpeVk ns[krs\\ngh nkSM+dj esjs gkFk ls ys ysaxh vkSj dgsaxh µ esjk cPpk vEek¡ osQ fy, fpeVk\\nyk;k gSA g”kkjksa nqvk,¡ nsaxhA fiQj iM+ksl dh vkSjrksa dks fn[kk,¡xhA lkjs xk¡o esa\\nppkZ gksus yxsxh] gkfen fpeVk yk;k gSA fdruk vPNk yM+dk gSA bu yksxksa osQ\\nf[kykSuksa ij dkSu bUgsa nqvk,¡ nsxk\\\\ cM+ksa dh nqvk,¡ lhèks vYykg osQ njckj esa\\nigq¡prh gSa vkSj rqjar lquh tkrh gSaA esjs ikl iSls ugha gSaA rHkh rks eksgflu vkSj\\negewn ;ksa fe”kkt fn[kkrs gSaA eSa Hkh buls fe”kkt fn[kkÅ¡xkA [ksysa f[kykSus vkSj\\n2024-25\\n14 / varjk\\n[kk,¡ feBkb;k¡A eSa ugha [ksy rk f[kykSus] fdlh dk fe”kkt D;ksa lgw¡A eSa xjhc\\nlgh] fdlh ls oqQN ek¡xus rks ugha tkrkA vkf[kj vCcktku dHkh&u&dHkh\\nvk,¡xsA vEek¡ Hkh vk,¡xh ghA fiQj bu yksxksa ls iwNw¡xk] fdrus f[kykSus yksxs\\\\\\n,d&,d dks Vksdfj;ksa f[kykSus nw¡ vkSj fn[kk nw¡ fd nksLrksa osQ lkFk bl rjg\\nlywd fd;k tkrk gSA ;g ugha fd ,d iSls dh jsofM+;k¡ yha rks fp<+k&fp<+kdj\\n[kkus yxsA lc&osQ&lc g¡lsaxs fd gkfen us fpeVk fy;k gSA g¡lsa! esjh cyk ls!\\nmlus nwdkunkj ls iwNk µ ;g fpeVk fdrus dk gS\\\\\\nnwdkunkj us mldh vksj ns[kk vkSj dksbZ vkneh lkFk u ns[kdj dgk µ rqEgkjs\\ndke dk ugha gS th!\\n^fcdkÅ gS fd ugha\\\\*\\n^fcdkÅ D;ksa ugha gSA vkSj ;gk¡ D;ksa ykn yk, gSa\\\\*\\n^rks crkrs D;ksa ugha] oSQ iSls dk gS\\\\*\\n^Ng iSls yxsaxsA*\\ngkfen dk fny cSB x;kA\\n^Bhd&Bhd crkvks!*\\n^Bhd&Bhd ik¡p iSls yxsaxs] ysuk gks yks] ugha pyrs cuksA*\\ngkfen us dystk e”kcwr djosQ dgk µ rhu iSls yksxs\\\\\\n;g dgrk gqvk og vkxs c<+ x;k fd nwdkunkj dh ?kqM+fd;k¡ u lqusA ysfdu\\nnwdkunkj us ?kqM+fd;k¡ ugha nhaA cqykdj fpeVk ns fn;kA gkfen us mls bl rjg\\ndaèks ij j[kk] ekuks canwd gS vkSj \\'kku ls vdM+rk gqvk lafx;ksa osQ ikl vk;kA\\n”kjk lqusa] lc&osQ&lc D;k&D;k vkykspuk,¡ djrs gSaA\\neksgflu us g¡ldj dgk µ ;g fpeVk D;ksa yk;k ixys_ bls D;k djsxk\\\\\\ngkfen us fpeVs dks ”kehu ij iVddj dgk µ ”kjk viuk fHk\\'rh ”kehu ij\\nfxjk nksA lkjh ilfy;k¡ pwj&pwj gks tk,¡ cpk dhA\\negewn cksyk µ rks ;g fpeVk dksbZ f[kykSuk gS\\\\\\n2024-25\\nizsepan / 15\\ngkfen µ f[kykSuk D;ksa ugha gS\\\\ vHkh oaQèks ij j[kk] canwd gks xbZA gkFk esa\\nys fy;k] iQdhjksa dk fpeVk gks x;k] pkgw¡ rks blls ethjs dk dke ys ldrk gw¡A\\n,d fpeVk tek nw¡] rks rqe yksxksa osQ lkjs f[kykSuksa dh tku fudy tk,A\\nrqEgkjs f[kykSus fdruk gh ”kksj yxk,¡] esjs fpeVs dk cky Hkh ck¡dk ugha dj\\nldrsA esjk cgknqj \\'ksj gS µ fpeVkA\\nlEeh us [k¡tjh yh FkhA izHkkfor gksdj cksyk µ esjh [k¡tjh ls cnyksxs\\\\ nks\\nvkus dh gSA\\ngkfen us [k¡tjh dh vksj mis{kk ls ns[kk µ esjk fpeVk pkgs rks rqEgkjs [k¡tjh\\ndk isV iQkM+ MkysA cl ,d peM+s dh f>Yyh yxk nh] <c&<c cksyus yxhA\\n”kjk&lk ikuh yx tk, rks [kre gks tk,A esjk cgknqj fpeVk vkx esa] ikuh esa]\\nvk¡èkh esa] rwI+kQku esa cjkcj MVk [kM+k jgsxkA\\nfpeVs us lHkh dks eksfgr dj fy;k] ysfdu vc iSls fdlosQ ikl èkjs gSaA\\nfiQj esys ls nwj fudy vk, gSa] ukS dc osQ ct x,] èkwi rs”k gks jgh gSA ?kj\\nigq¡pus dh tYnh gks jgh gSA cki ls f”kn Hkh djsa] rks fpeVk ugha fey ldrkA\\ngkfen gS cM+k pkykdA blhfy, cnek\\'k us vius iSls cpk j[ks FksA\\nvc ckydksa osQ nks ny gks x, gSaA eksgflu] egewn] lEeh vkSj uwjs ,d rjI+kQ\\ngSa] gkfen vosQyk nwljh rjI+\\nkQA \\'kkL=kkFkZ gks jgk gSA lEeh rks foèkehZ gks x;kA nwljs\\ni{k ls tk feyk_ ysfdu eksgflu] egewn vkSj uwjs Hkh] gkfen ls ,d&,d] nks&nks\\nlky cM+s gksus ij Hkh gkfen osQ vk?kkrksa ls vkrafdr gks mBs gSaA mlosQ ikl U;k;\\ndk cy gS vkSj uhfr dh \\'kfDrA ,d vksj fe^h gS] nwljh vksj yksgk] tks bl oDr\\nvius dks I+kQkSykn dg jgk gSA og vts; gS] ?kkrd gSA vxj dksbZ \\'ksj vk tk,]\\nrks fe;k¡ fHk\\'rh osQ NDosQ NwV tk,¡] fe;k¡ flikgh fe^h dh canwd NksM+dj Hkkxsa]\\nodhy lkgc dh ukuh ej tk,] pksxs esa eq¡g fNikdj ”kehu ij ysV tk,¡A exj\\n;g fpeVk] ;g cgknqj] ;g #Lres&¯gn yiddj \\'ksj dh xjnu ij lokj gks\\ntk,xk vkSj mldh vk¡[ksa fudky ysxkA\\n2024-25\\n16 / varjk\\neksgflu us ,M+h&pksVh dk ”kksj yxkdj dgk µ vPNk] ikuh rks ugha Hkj ldrkA\\ngkfen us fpeVs dks lhèkk [kM+k djosQ dgk µ fHk\\'rh dks ,d Mk¡V crk,xk\\nrks nkSM+k gqvk ikuh ykdj mlosQ }kj ij fNM+dus yxsxkA\\neksgflu ijkLr gks x;k_ ij egewn us oqQeqd igq¡pkbZ µ vxj cpk idM+ tk,¡\\nrks vnkyr esa c¡èks&c¡èks fiQjsaxsA rc rks odhy lkgc osQ iSjksa iMs+axsA\\ngkfen bl izcy roZQ dk tokc u ns ldkA mlus iwNk µ gesa idM+us dkSu vk,xk\\\\\\nuwjs us vdM+dj dgk µ ;g flikgh canwdokykA\\ngkfen us eq¡g fp<+kdj dgk µ ;g cspkjs ge cgknqj #Lres&¯gn dks idM+saxs!\\nvPNk ykvks] vHkh ”kjk oqQ\\'rh gks tk,A bldh lwjr ns[kdj nwj ls HkkxsaxsA idM+saxs\\nD;k cspkjs!\\neksgflu dks ,d ubZ pksV lw> xbZ µ rqEgkjs fpeVs dk eq¡g jks”k vkx esa\\ntysxkA\\nmlus le>k Fkk fd gkfen yktokc gks tk,xk_ ysfdu ;g ckr u gqbZA\\ngkfen us rqjar tokc fn;k µ vkx esa cgknqj gh owQnrs gSa tukc] rqEgkjs ;g\\nodhy] flikgh vkSj fHk\\'rh ysfM;ksa dh rjg ?kj esa ?kql tk,¡xsA vkx esa owQnuk\\nog dke gS] tks ;g #Lres&¯gn gh dj ldrk gSA\\negewn us ,d ”kksj yxk;k µ odhy lkgc oqQlhZ&es”k ij cSBsaxs] rqEgkjk\\nfpeVk rks ckophZ[kkus esa ”kehu ij iM+k jgsxkA\\nbl roZQ us lEeh vkSj uwjs dks Hkh ltho dj fn;kA fdrus fBdkus dh ckr dgh\\ngS i_s usA fpeVk ckophZ[kkus esa iM+k jgus osQ flok vkSj D;k dj ldrk gS\\\\\\ngkfen dks dksbZ iQM+drk gqvk tokc u lw>k rks mlus èkk¡èkyh \\'kq: dh µ esjk\\nfpeVk ckcphZ[kkus esa ugha jgsxkA odhy lkgc oqQlhZ ij cSBsaxs] rks tkdj mUgsa\\n”kehu ij iVd nsxk vkSj mudk dkuwu muosQ isV esa Mky nsxkA\\nckr oqQN cuh ughaA [kklh xky&xykSt Fkh_ ysfdu dkuwu dks isV esa Mkyus\\nokyh ckr Nk xbZA ,slh Nk xbZ fd rhuksa lwjek eq¡g rkdrs jg x,] ekuks dksbZ èksypk\\n2024-25\\nizsepan / 17\\ndudkSvk fdlh xaMsokys dudkS, dks dkV x;k gksA dkuwu eq¡g ls ckgj fudyus\\nokyh ph”k gSA mldks isV osQ vanj Mky fn;k tkuk] csrqdh&lh ckr gksus ij Hkh oqQN\\nu;kiu j[krh gSA gkfen us eSnku ekj fy;kA mldk fpeVk #Lres&¯gn gSA vc blesa\\neksgflu] egewn] uwjs] lEeh fdlh dks Hkh vkifÙk ugha gks ldrhA\\nfotsrk dks gkjus okyksa ls tks lRdkj feyuk LokHkkfod gS] og gkfen dks Hkh\\nfeykA vkSjksa us rhu&rhu] pkj&pkj vkus iSls [kpZ fd,] ij dksbZ dke dh ph”k\\nu ys losQA gkfen us rhu iSls esa jax tek fy;kA lp gh rks gS] f[kykSuksa dk D;k\\nHkjkslk\\\\ VwV&iwQV tk,¡xsA gkfen dk fpeVk rks cuk jgsxk cjlksa!\\nlafèk dh \\'krs± r; gksus yxhaA eksgflu us dgk µ ”kjk viuk fpeVk nks ge\\nHkh ns[ksaA rqe gekjk fHk\\'rh ysdj ns[kksA\\negewn vkSj uwjs us Hkh vius&vius f[kykSus is\\'k fd,A\\ngkfen dks bu \\'krks± osQ ekuus esa dksbZ vkifÙk u FkhA fpeVk ckjh&ckjh ls\\nlcosQ gkFk esa x;k_ vkSj muosQ f[kykSus ckjh&ckjh ls gkfen osQ gkFk esa vk,A\\nfdrus [kwclwjr f[kykSus gSa!\\ngkfen us gkjus okyksa osQ vk¡lw iksaNs µ eSa rqEgsa fp<+k jgk Fkk] lp! ;g fpeVk\\nHkyk bu f[kykSuksa dh D;k cjkcjh djsxk_ ekywe gksrk gS] vc cksys] vc cksysA\\nysfdu eksgflu dh ikVhZ dks bl fnykls ls larks\"k ugha gksrkA fpeVs dk\\nflDdk [kwc cSB x;k gSA fpidk gqvk fVdV vc ikuh ls ugha NwV jgk gSA\\neksgflu µ ysfdu bu f[kykSuksa osQ fy, dksbZ gesa nqvk rks u nsxk\\\\\\negewn µ nqvk dks fy, fiQjrs gksA myVs ekj u iM+sA vEek¡ ”k:j dgsaxh fd\\nesys esa ;gh fe^h osQ f[kykSus rqEgsa feys\\\\\\ngkfen dks Lohdkj djuk iM+k fd f[kykSuksa dks ns[kdj fdlh dh ek¡ bruh\\n[kq\\'k u gksxh] ftruh nknh fpeVs dks ns[kdj gksaxhA rhu iSlksa gh esa rks mls lc\\noqQN djuk Fkk vkSj mu iSlksa osQ bl mi;ksx ij iNrkos dh fcyoqQy ”k:jr\\nu FkhA fiQj vc rks fpeVk #Lres&¯gn gS vkSj lHkh f[kykSuksa dk ckn\\'kkg!\\n2024-25\\n18 / varjk\\njkLrs esa egewn dks Hkw[k yxhA mlosQ cki us osQys [kkus dks fn,A egewn us\\nosQoy gkfen dks lk>h cuk;kA mlosQ vU; fe=k eq¡g rkdrs jg x,A ;g ml\\nfpeVs dk izlkn FkkA\\n3\\nX;kjg cts xk¡o esa gypy ep xbZA esys okys vk x,A eksgflu dh NksVh cgu\\nus nkSM+dj fHk\\'rh mlosQ gkFk ls Nhu fy;k vkSj ekjs [kq\\'kh osQ tks mNyh] rks fe;k¡\\nfHk\\'rh uhps vk jgs vkSj lqjyksd fl/kjsA bl ij HkkbZ&cgu esa ekj&ihV gqbZA nksuksa\\n[kwc jks,A mldh vEek¡ ;g \\'kksj lqudj fcxM+h vkSj nksuksa dks Åij ls nks&nks\\npk¡Vs vkSj yxk,A\\nfe;k¡ uwjs osQ odhy dk var muosQ izfr\"BkuqowQy blls ”;knk xkSjoe; gqvkA\\nodhy ”kehu ij ;k rkd ij rks ugha cSB ldrkA mldh e;kZnk dk fopkj rks\\ndjuk gh gksxkA nhokj esa nks [kwfV;k¡ xkM+h xb±A mu ij ydM+h dk ,d iVjk j[kk\\nx;kA iVjs ij dkx”k dk dkyhu fcNk;k x;kA odhy lkgc jktk Hkkst dh Hkk¡fr\\n¯lgklu ij fcjktsA uwjs us mUgsa ia[kk >yuk \\'kq: fd;kA vnkyrksa esa [kl dh\\nVf^;k¡ vkSj fctyh osQ ia[ks jgrs gSaA D;k ;gk¡ ekewyh ia[kk Hkh u gks! dkuwu dh\\nxjeh fnekx ij p<+ tk,xh fd ughaA ck¡l dk ia[kk vk;k vkSj uwjs gok djus yxsA\\nekywe ugha] ia[ks dh gok ls] ;k ia[ks dh pksV ls odhy lkgc LoxZyksd ls\\ne`R;qyksd esa vk jgs vkSj mudk ekVh dk pksyk ekVh esa fey x;kA fiQj cM+s\\n”kksj&\\'kksj ls ekre gqvk vkSj odhy lkgc dh vfLFk ?kwj ij Mky nh xbZA\\nvc jgk egewn dk flikghA mls pViV xk¡o dk igjk nsus dk pktZ fey\\nx;k_ ysfdu iqfyl dk flikgh dksbZ lkèkkj.k O;fDr rks ugha] tks vius iSjksa pysA\\nog ikydh ij pysxkA ,d Vksdjh vkbZ] mlesa oqQN yky jax osQ iQVs&iqjkus\\nfpFkM+s fcNk, x,_ ftlesa flikgh lkgc vkjke ls ysVsA uwjs us ;g Vksdjh mBkbZ\\nvkSj vius }kj dk pDdj yxkus yxsA muosQ nksuksa NksVs HkkbZ flikgh dh rjI+kQ ls\\n^Nksusokys] tkxrs ygks* iqdkjrs pyrs gSaA exj jkr rks v¡èksjh gksuh pkfg,_ egewn\\n2024-25\\nizsepan / 19\\ndks Bksdj yx tkrh gSA Vksdjh mlosQ gkFk ls NwVdj fxj iM+rh gS vkSj fe;k¡\\nflikgh viuh canwd fy, ”kehu ij vk tkrs gSa vkSj mudh ,d Vk¡x esa fodkj\\nvk tkrk gSA egewn dks vkt Kkr gqvk fd og vPNk MkWDVj gSA mldks ,slk\\nejge fey x;k gS ftlls og VwVh Vk¡x dks vkuu&iQkuu tksM+ ldrk gSA osQoy\\nxwyj dk nwèk pkfg,A xwyj dk nwèk vkrk gSA Vk¡x tksM+ nh tkrh gS ysfdu flikgh\\ndks T;ksa gh [kM+k fd;k tkrk gS] Vk¡x tokc ns nsrh gSA \\'kY;fØ;k vliQy gqbZ]\\nrc mldh nwljh Vk¡x Hkh rksM+ nh tkrh gSSA vc de&ls&de ,d txg vkjke\\nls cSB rks ldrk gSA ,d Vk¡x ls rks u py ldrk Fkk_ u cSB ldrk FkkA vc\\nog flikgh laU;klh gks x;k gSA viuh txg ij cSBk&cSBk igjk nsrk gSA\\ndHkh&dHkh nsork Hkh cu tkrk gSA mlosQ flj dk >kyjnkj lkI+kQk [kqjp fn;k x;k\\ngSA vc mldk ftruk :ikarj pkgks] dj ldrs gksA dHkh&dHkh rks mlls ckV dk\\ndke Hkh fy;k tkrk gSA\\nvc fe;k¡ gkfen dk gky lqfu,A vehuk mldh vkok”k lqurs gh nkSM+h vkSj\\nmls xksn esa mBkdj I;kj djus yxhA lglk mlosQ gkFk esa fpeVk ns[kdj og pkSadhA\\n^;g fpeVk dgk¡ Fkk\\\\*\\n^eSaus eksy fy;k gSA*\\n^oSQ iSls esa\\\\*\\n^rhu iSls fn,A*\\nvehuk us Nkrh ihV yhA ;g oSQlk csle> yM+dk gS fd nksigj gqvk] oqQN\\n[kk;k u fi;kA yk;k D;k] fpeVk! lkjs esys esa rq>s vkSj dksbZ ph”k u feyh] tks\\n;g yksgs dk fpeVk mBk yk;k\\\\\\ngkfen us vijkèkh&Hkko ls dgk µ rqEgkjh m¡xfy;k¡ ros ls ty tkrh Fkha_\\nblfy, eSaus mls fy;kA\\ncqf<+;k dk Øksèk rqjar Lusg esa cny x;k] vkSj Lusg Hkh og ugha] tks izxYHk\\ngksrk gS vkSj viuh lkjh dld \\'kCnksa esa fc[ksj nsrk gSA ;g ewd Lusg Fkk] [kwc\\nBksl] jl vkSj Lokn ls Hkjk gqvkA cPps esa fdruk R;kx] fdruk ln~Hkko vkSj\\n2024-25\\n20 / varjk\\nfdruk foosd gS! nwljksa dks f[kykSus ysrs vkSj feBkbZ [kkrs ns[kdj bldk eu\\nfdruk yypk;k gksxk\\\\ bruk ”kCr blls gqvk oSQls\\\\ ogk¡ Hkh bls viuh cqf<+;k\\nnknh dh ;kn cuh jghA vehuk dk eu xn~xn gks x;kA\\nvkSj vc ,d cM+h fofp=k ckr gqbZA gkfen osQ bl fpeVs ls Hkh fofp=kA\\ncPps gkfen us cw<+s gkfen dk ikVZ [ksyk FkkA cqf<+;k vehuk ckfydk vehuk cu\\nxbZA og jksus yxhA nkeu iSQykdj gkfen dks nqvk,¡ nsrh tkrh Fkh vkSj vk¡lw dh\\ncM+h&cM+h cw¡nsa fxjkrh tkrh FkhA gkfen bldk jgL; D;k le>rk!\\niz\\'u&vH;kl\\n 1- ^bZnxkg* dgkuh osQ mu izlaxksa dk mYys[k dhft, ftuls bZn osQ volj ij xzkeh.k ifjos\\'k\\ndk mYykl izdV gksrk gSA\\n2- ^mlosQ vanj izdk\\'k gS] ckgj vk\\'kkA foifÙk viuk lkjk nycy ysdj vk,] gkfen\\ndh vkuan Hkjh fprou mldk foèoal dj nsxhA* µ bl dFku ls ys[kd dk D;k\\nvk\\'k; gS\\\\\\n3- ^mUgsa D;k [kcj fd pkS/jh vkt vk¡[ksa cny ysa] rks ;g lkjh bZn eqgjZe gks tk,A* µ\\nbl dFku dk vk\\'k; Li\"V dhft,A\\n4- ^ekuks Hkzkr`Ro dk ,d lw=k bu leLr vkRekvksa dks ,d yM+h esa fijks, gq, gSA* bl\\ndFku osQ lanHkZ esa Li\"V dhft, fd ^/eZ rksM+rk ughsa tksM+rk gSA*\\n5- fuEufyf[kr x|ka\\'kksa dh lizlax O;k[;k dhft, &&\\n(d) dbZ ckj ;gh fozQ;k gksrh gS----------------vkRekvksa dks ,d yM+h esa fijks, gq, gSA\\n([k) cqf<+;k dk ozQks/----------------Lokn ls Hkjk gqvkA\\n6- gkfen us fpeVs dh mi;ksfxrk dks fl¼ djrs gq, D;k&D;k roZQ fn,\\\\\\n2024-25\\nizsepan / 21\\n7- xk¡o ls \\'kgj tkusokys jkLrs osQ eè; iM+usokys LFkyksa dk ,slk o.kZu ys[kd us fd;k gS\\nekuks v¡k[kksa osQ lkeus fp=k mifLFkr gks jgk gksA vius ?kj vkSj fo|ky; osQ eè;\\niM+usokys LFkkuksa dk vius \\'kCnksa esa o.kZu dhft,A\\n8- ^cPps gkfen us cw<s+ gkfen dk ikVZ [ksyk FkkA cqf<+;k vehuk ckfydk vehuk cu xbZA*\\nbl dFku esa ^cw<+s gkfen* vkSj ^ckfydk vehuk* ls ys[kd dk D;k vk\\'k; gS\\\\ Li\"V\\ndhft,A\\n9- ^nkeu iSQykdj gkfen dks nqvk,¡ nsrh tkrh Fkh vkSj vk¡lw dh cM+h&cM+h cw¡nsa fxjkrh tkrh\\nFkhA gkfen bldk jgL; D;k le>rk!* µ ys[kd osQ vuqlkj gkfen vehuk dh nqvkvksa\\nvkSj vk¡lqvksa osQ jgL; dks D;ksa ugha le> ik;k\\\\ dgkuh osQ vk/kj ij Li\"V dhft,A\\n10- gkfen dh txg vki gksrs rks D;k djrs\\\\\\n;ksX;rk&foLrkj\\n 1- izsepan dh dgkfu;ksa dk laxzg ^ekuljksoj* uke ls vkB Hkkxksa esa izdkf\\'kr gSA vius\\niqLrdky; ls ysdj mls if<+,A\\n 2- bl dgkuh esa yksd izpfyr eqgkojksa dh Hkjekj gS] tSls µ ukuh ejuk] NDosQ NwVuk\\nvkfnA blesa vk, eqgkojksa dh ,d lwph rS;kj dhft,A\\n2024-25\\n22 / varjk\\n\\'kCnkFkZ vkSj fVIi.kh\\ncyk & d\"V] vkifÙk] cgqr d\"V nsusokyh oLrq\\ncngokl & ?kCkjkuk] gks\\'k&gokl Bhd u gksuk\\nfuxksM+h & vHkkxh] fujkJ;] ftloQk dksbZ u gks\\nfprou & fdlh dh vksj ns[kus dk <ax] n`f\"V] dVk{k\\no”kw & uek”k ls igys ;Fkkfof/ gkFk&ik¡o vkSj eq¡g /ksuk\\nfltnk & ekFkk Vsduk] [kqnk osQ vkxs flj >qdkuk\\n¯gMksyk & >wyk] ikyuk\\ne\\'kd & HksM+ ;k cdjh dh [kky dks lhdj cuk;k gqvk FkSyk\\nftlls fHk\\'rh ikuh <ksrs gSa\\nvpdu & yack dyhnkj v¡xj[kk ftlesa igys xjsck¡ ls dej&i^h\\nrd vèkZpanzkdkj can yxrs Fks vkSj vc lh/s cVu\\nV¡drs gSa\\nuser & cgqr cf<+;k\\n”kCr & lgu djuk\\nnkeu & iYyw] vk¡py\\n2024-25\\n')]"
      ]
     },
     "execution_count": 30,
     "metadata": {},
     "output_type": "execute_result"
    }
   ],
   "source": [
    "Document_ques_gen"
   ]
  },
  {
   "cell_type": "code",
   "execution_count": 31,
   "metadata": {},
   "outputs": [
    {
     "data": {
      "text/plain": [
       "langchain_core.documents.base.Document"
      ]
     },
     "execution_count": 31,
     "metadata": {},
     "output_type": "execute_result"
    }
   ],
   "source": [
    "type(Document_ques_gen[0])"
   ]
  },
  {
   "cell_type": "code",
   "execution_count": 32,
   "metadata": {},
   "outputs": [],
   "source": [
    "spliter_ans_gen = TokenTextSplitter(\n",
    "    model_name ='gpt-3.5-turbo',\n",
    "    chunk_size = 1000,\n",
    "    chunk_overlap = 100\n",
    ")"
   ]
  },
  {
   "cell_type": "code",
   "execution_count": 33,
   "metadata": {},
   "outputs": [
    {
     "data": {
      "text/plain": [
       "<langchain_text_splitters.base.TokenTextSplitter at 0x1e569287d90>"
      ]
     },
     "execution_count": 33,
     "metadata": {},
     "output_type": "execute_result"
    }
   ],
   "source": [
    "spliter_ans_gen"
   ]
  },
  {
   "cell_type": "code",
   "execution_count": 34,
   "metadata": {},
   "outputs": [],
   "source": [
    "Document_answer_gen = spliter_ans_gen.split_documents(\n",
    "    Document_ques_gen\n",
    ")"
   ]
  },
  {
   "cell_type": "code",
   "execution_count": 35,
   "metadata": {},
   "outputs": [
    {
     "data": {
      "text/plain": [
       "[Document(metadata={}, page_content='izsepan / 1\\nx|&[kaM\\nx|&[kaM\\n2024-25\\n2 / varjk\\n2024-25\\nizsepan / 3\\nizsepan dk tUe okjk.klh f”kys osQ yegh xzke esa gqvk FkkA\\nmudk ewy uke èkuirjk; FkkA iszepan dh izkjafHkd f\\'k{kk\\nokjk.klh esa gqbZA eSfVªd osQ ckn os vè;kiu djus yxsA\\nLokè;k; osQ :i esa gh mUgksaus ch-,- rd f\\'k{kk xzg.k dhA\\nvlg;ksx vkanksyu osQ nkSjku mUgksaus ljdkjh ukSdjh ls\\nR;kxi=k ns fn;k vkSj iwjh rjg ys[ku&dk;Z osQ izfr lefiZr\\ngks x,A\\nizsepan us vius ys[ku dh \\'kq #vkr igys mnwZ esa\\nuokcjk; osQ uke ls dh] ckn esa ¯gnh esa fy[kus yxsA\\nmUgksaus vius lkfgR; esa fdlkuksa] nfyrksa] ukfj;ksa dh osnuk\\nvkSj o.kZ&O;oLFkk dh oqQjhfr;ksa dk ekfeZd fp=k.k fd;k\\ngSA os lkfgR; dks Lokar% lq[kk; u ekudj lkekftd\\nifjorZu dk ,d l\\'kDr ekè;e ekurs FksA os ,d ,sls\\nlkfgR;dkj Fks] tks lekt dh okLrfod fLFkfr dks iSuh\\nn`f\"V ls ns[kus dh \\'kfDr j[krs FksA mUgksaus lekt&lqèkkj\\nvkSj jk\"Vªh;&Hkkouk ls vksrizksr vusd miU;klksa ,oa dgkfu;ksa\\ndh jpuk dhA dFkk&laxBu] pfj=k&fp=k.k] dFkksidFku\\nvkfn dh n`f\"V ls mudh jpuk,¡ cstksM+ gSaA mudh Hkk\"kk\\ncgqr ltho] eqgkojsnkj vkSj cksypky osQ fudV gSA ¯gnh\\nHkk\"kk dks yksdfiz; cukus esa mudk fo\\'ks\"k ;ksxnku gSA\\nlaLÑr osQ izpfyr \\'kCnksa osQ lkFk&lkFk mnwZ dh jokuh bldh\\nfo\\'ks\"krk gS] ftlus ¯gnh dFkk Hkk\"kk dks u;k vk;ke fn;kA\\nmudh izeq[k o`Qfr;k¡ gSa µ ekuljksoj (vkB Hkkx)]\\nxqIrèku (nks Hkkx) (dgkuh laxzg)_  fueZyk] lsoklnu]\\niszekJe] jaxHkwfe] deZHkwfe] xcu] xksnku (miU;kl)_ dcZyk]\\nlaxzke] izse dh osnh (ukVd)_ fofoèk izlax (rhu [kaMksa eas]\\nlkfgfR;d vkSj jktuhfrd fucaèkksa dk laxzg)_ oqQN fopkj\\n(lu~ 1880&1936)\\nizsepan\\n2024-25\\n4 / varjk\\n(lkfgfR;d fucaèk)A mUgksaus ekèkqjh] gal] e;kZnk] tkxj.k vkfn if=kdkvksa dk laiknu\\nHkh fd;kA bl ikB~;iqLrd esa mudh bZnxkg dgkuh nh xbZ gSA\\n¯gnh esa cky&euksfoKku ls lacaf/r dgkfu;k¡ cgqr de fy[kh xbZ gSaA izsepan\\nmu nqyZHk dFkkdkjksa esa ls gSa ftUgksaus iwjh izke'),\n",
       " Document(metadata={}, page_content='vksa dk laiknu\\nHkh fd;kA bl ikB~;iqLrd esa mudh bZnxkg dgkuh nh xbZ gSA\\n¯gnh esa cky&euksfoKku ls lacaf/r dgkfu;k¡ cgqr de fy[kh xbZ gSaA izsepan\\nmu nqyZHk dFkkdkjksa esa ls gSa ftUgksaus iwjh izkekf.kdrk ,oa rUe;rk osQ lkFk\\ncky&thou dks viuh dgkfu;ksa esa txg nh gSA mudh dgkfu;k¡ Hkkjr dh lk>h\\nlaLÑfr ,oa xzkeh.k thou osQ fofo/ jaxksa ls ljkcksj gSaA\\nbZnxkg izsepan dh bUgha fo\\'ks\"krkvksa dks vfHkO;Dr djus okyh izfrfuf/\\ndgkuh gSA bl dgkuh esa bZn tSls egÙoiw.kZ R;ksgkj dks vk/kj cukdj xzkeh.k\\neqfLye thou dk lqanj fp=k izLrqr fd;k x;k gSA gkfen dk pfj=k gesa crkrk gS\\nfd vHkko mez ls igys cPpksa esa oSQls cM+kas tSlh le>nkjh iSnk dj nsrk gSA esys\\nesa gkfen viuh gj pkg ij la;e j[kus esa fot;h gksrk gSA lkFk gh #Lres ¯gn\\nfpeVs osQ ekè;e ls izsepan us Je osQ lkSan;Z ,oa egÙo dks Hkh mn~?kkfVr fd;k\\ngSA fp=kkRed Hkk\"kk dh n`f\"V ls Hkh ;g dgkuh vuwBh gSA\\n2024-25\\nizsepan / 5\\nbZnxkg\\nje”kku osQ iwjs rhl jks”kksa osQ ckn bZn vkbZ gSA fdruk euksgj] fdruk lqgkouk izHkkr\\ngSA o`{kksa ij oqQN vthc gfj;kyh gS] [ksrksa esa oqQN vthc jkSud gS] vkleku ij\\noqQN vthc ykfyek gSA vkt dk lw;Z ns[kks] fdruk I;kjk] fdruk \\'khry gS ekuks\\nlalkj dks bZn dh cèkkbZ ns jgk gSA xk¡o esa fdruh gypy gSA bZnxkg tkus dh\\nrS;kfj;k¡ gks jgh gSaA fdlh osQ oqQjrs esa cVu ugha gS] iM+ksl osQ ?kj ls lqbZ&rkxk ysus\\nnkSM+k tk jgk gSA fdlh osQ twrs dM+s gks x, gSa] muesa rsy Mkyus osQ fy, rsyh osQ\\n?kj Hkkxk tkrk gSA tYnh&tYnh cSyksa dks lkuh&ikuh ns nsaA bZnxkg ls ykSVrs&ykSVrs\\nnksigj gks tk,xkA rhu dksl dk iSny jkLrk] fiQj lSdM+ksa vknfe;ksa ls feyuk&HksaVuk]\\nnksigj osQ igys ykSVuk vlaHko gSA yM+osQ lcls ”;knk izlUu gSaA fdlh us ,d jks”kk\\nj[kk gS] og Hkh nksigj rd] fdlh us og Hkh ugha_ ysfdu bZnxkg tkus dh [kq\\'kh\\nmuosQ fgLls dh ph”k gSA jks”ks cM+s&cw<+ksa osQ fy, gksaxsA buosQ fy, rks bZn gSA jks”k\\nbZn dk uke jVrs Fks vkt og vk xbZA vc tYnh iM+h gS fd yksx bZnxkg'),\n",
       " Document(metadata={}, page_content='sfdu bZnxkg tkus dh [kq\\'kh\\nmuosQ fgLls dh ph”k gSA jks”ks cM+s&cw<+ksa osQ fy, gksaxsA buosQ fy, rks bZn gSA jks”k\\nbZn dk uke jVrs Fks vkt og vk xbZA vc tYnh iM+h gS fd yksx bZnxkg D;ksa\\nugha pyrsA bUgsa x`gLFkh dh ¯prkvksa ls D;k iz;kstu! lsoS;ksa osQ fy, nwèk vkSj \\'kDdj\\n?kj esa gS ;k ugha] budh cyk ls] ;s rks lsoS;k¡ [kk,¡xsA og D;k tkusa fd vCcktku\\nD;ksa cngokl pkSèkjh dk;evyh osQ ?kj nkSM+s tk jgs gSaA mUgsa D;k [kcj fd pkSèkjh\\nvkt vk¡[ksa cny ysa] rks ;g lkjh bZn eqgjZe gks tk,A mudh viuh tscksa esa rks oqQcsj\\ndk èku Hkjk gqvk gSA ckj&ckj tsc ls viuk [k”kkuk fudkydj fxurs gSa vkSj [kq\\'k\\n2024-25\\n6 / varjk\\ngksdj fiQj j[k ysrs gSaA egewn fxurk gS] ,d&nks] nl&ckjg! mlosQ ikl ckjg iSls\\ngSaA eksgflu osQ ikl ,d] nks] rhu] vkB] ukS] ianzg iSls gSaA bUgha vufxurh iSlksa esa\\nvufxurh ph”ksa yk,¡xs µ f[kykSus] feBkb;k¡] fcxqy] xsan vkSj tkus D;k&D;k! vkSj\\nlcls ”;knk izlUu gS gkfenA og pkj&ik¡p lky dk xjhc&lwjr] nqcyk&iryk\\nyM+dk] ftldk cki xr o\"kZ gS ”ks dh HksaV gks x;k vkSj ek¡ u tkus D;ksa ihyh\\ngksrh&gksrh ,d fnu ej xbZA fdlh dks irk u pyk] D;k chekjh gSA dgrh rks dkSu\\nlquus okyk FkkA fny ij tks oqQN chrrh Fkh] og fny esa gh lgrh Fkh vkSj tc\\nu lgk x;k rks lalkj ls fcnk gks xbZA vc gkfen viuh cw<+h nknh vehuk dh xksn\\nesa lksrk gS vkSj mruk gh izlUu gSA mlosQ vCcktku #i;s dekus x, gSaA cgqr&lh\\nFkSfy;k¡ ysdj vk, ¡xsA vEehtku vYykg fe;k¡ osQ ?kj ls mlosQ fy, cM+h\\nvPNh&vPNh ph”ksa ykus xbZ gSa_ blfy, gkfen izlUu gSA vk\\'kk rks cM+h ph”k gS]\\nvkSj fiQj cPpksa dh vk\\'kk! mudh dYiuk rks jkbZ dk ioZr cuk ysrh gSA gkfen osQ\\nik¡o esa twrs ugha gSa] flj ij ,d iqjkuh&èkqjkuh Vksih gS] ftldk xksVk dkyk iM+ x;k\\ngS] fiQj Hkh og izlUu gSA tc mlosQ vCcktku FkSfy;k¡ vkSj vEehtku fu;kersa\\nysdj vk,¡xh] rks og fny osQ vjeku fudky ysxkA rc ns[ksxk egewn] eksgflu] uwjs\\nvkSj lEeh dgk¡ ls mrus iSls fud'),\n",
       " Document(metadata={}, page_content=\"] fiQj Hkh og izlUu gSA tc mlosQ vCcktku FkSfy;k¡ vkSj vEehtku fu;kersa\\nysdj vk,¡xh] rks og fny osQ vjeku fudky ysxkA rc ns[ksxk egewn] eksgflu] uwjs\\nvkSj lEeh dgk¡ ls mrus iSls fudkysaxsA vHkkfxu vehuk viuh dksBjh esa cSBh jks\\njgh gSA vkt bZn dk fnu vkSj mlosQ ?kj esa nkuk ugha! vkt vkfcn gksrk rks D;k\\nblh rjg bZn vkrh vkSj pyh tkrh! bl vaèkdkj vkSj fujk'kk esa og Mwch tk jgh\\ngSA fdlus cqyk;k Fkk bl fuxksM+h bZn dks\\\\ bl ?kj esa mldk dke ugha_ ysfdu\\ngkfen! mls fdlh osQ ejus&thus ls D;k eryc\\\\ mlosQ vanj izdk'k gS] ckgj\\nvk'kkA foifÙk viuk lkjk nycy ysdj vk,] gkfen dh vkuan Hkjh fprou mldk\\nfoèoal dj nsxhA\\ngkfen Hkhrj tkdj nknh ls dgrk gS µ rqe Mjuk ugha vEek¡] eSa lcls igys\\nvkmQ¡xkA fcyoqQy u MjukA\\nvehuk dk fny dpksV jgk gSA xk¡o osQ cPps vius&vius cki osQ lkFk tk\\njgs gSaA gkfen dk cki vehuk osQ flok vkSj dkSu gS! mls oSQls vosQys esys tkus\\n2024-25\\nizsepan / 7\\nns\\\\ ml HkhM+&HkkM+ esa cPpk dgha [kks tk, rks D;k gks\\\\ ugha] vehuk mls ;ksa u\\ntkus nsxhA uUgha&lh tku! rhu dksl pysxk oSQls! iSj esa Nkys iM+ tk,¡xsA twrs Hkh\\nrks ugha gaSA og FkksM+h&FkksM+h nwj ij mls xksn ys ysxh_ ysfdu ;gk¡ lsoS;k¡ dkSu\\nidk,xk\\\\ iSls gksrs rks ykSVrs&ykSVrs lc lkexzh tek djosQ pViV cuk ysrhA ;gk¡\\nrks ?kaVksa ph”ksa tek djrs yxsaxsA ek¡xs gh dk rks Hkjkslk BgjkA ml fnu I+kQgheu osQ\\ndiM+s flys FksA vkB vkus iSls feys FksA ml vBUuh dks bZeku dh rjg cpkrh\\npyh vkrh Fkh blh bZn osQ fy,] ysfdu dy Xokyu flj ij lokj gks xbZ rks\\nD;k djrh! gkfen osQ fy, oqQN ugha gS] rks nks iSls dk nwèk rks pkfg, ghA vc\\nrks oqQy nks vkus iSls cp jgs gSaA rhu iSls gkfen dh tsc esa] ik¡p vehuk osQ cVqos\\nesaA ;gh rks fclkr gS vkSj bZn dk R;ksgkj] vYykg gh csM+k ikj yxk,A èkkscu vkSj\\nukbu vkSj esgrjkuh vkSj pwfM+gkfju lHkh rks vk,¡xhA lHkh dks lsoS;k¡ pkfg, vkSj\\nFkksM+k fdlh dh vk¡[kksa ugha yxrkA fdl&fdl ls eq¡g pqjk,xhA vkSj eq¡g D;ksa\\npqjk\"),\n",
       " Document(metadata={}, page_content=\"Sj\\nukbu vkSj esgrjkuh vkSj pwfM+gkfju lHkh rks vk,¡xhA lHkh dks lsoS;k¡ pkfg, vkSj\\nFkksM+k fdlh dh vk¡[kksa ugha yxrkA fdl&fdl ls eq¡g pqjk,xhA vkSj eq¡g D;ksa\\npqjk,\\\\ lky&Hkj dk R;ksgkj gSA f”kanxh [kSfj;r ls jgs] mudh rdnhj Hkh rks mlh\\nosQ lkFk gSA cPps dks [kqnk lyker j[ks] fnu Hkh dV tk,¡xsA\\nxk¡o ls esyk pykA vkSj cPpksa osQ lkFk gkfen Hkh tk jgk FkkA dHkh\\nlc&osQ&lc nkSM+dj vkxs fudy tkrsA fiQj fdlh isM+ osQ uhps [kM+s gksdj\\nlkFkokyksa dk bar”kkj djrsA ;g yksx D;ksa bruk èkhjs&èkhjs py jgs gSa! gkfen\\nosQ iSjksa esa rks tSls ij yx x, gSaA og dHkh Fkd ldrk gS! 'kgj dk nkeu\\nvk x;kA lM+d osQ nksuksa vksj vehjksa osQ cxhps gSaA iDdh pkjnhokjh cuh gqbZ\\ngSA isM+ksa esa vke vkSj yhfp;k¡ yxh gqbZ gSaA dHkh&dHkh dksbZ yM+dk oaQoQM+h\\nmBkdj vke ij fu'kkuk yxkrk gSA ekyh vanj ls xkyh nsrk gqvk fudyrk\\ngSA yM+osQ ogk¡ ls ,d iQyk±x ij gSaA [kwc g¡l jgs gSaA ekyh dks oSQlk mYyw\\ncuk;k gSA\\ncM+h&cM+h bekjrsa vkus yxhaA ;g vnkyr gS] ;g dkyst gS] ;g Dyc&?kj\\ngS! brus cM+s dkyst esa fdrus yM+osQ i<+rs gksaxs\\\\ lc yM+osQ ugha gSa th!\\ncM+s&cM+s vkneh gSa] lp! mudh cM+h&cM+h ew¡Nsa gSaA brus cM+s gks x,] vHkh rd\\n2024-25\\n8 / varjk\\ni<+us tkrs gSaA u tkus dc rd i<+saxs vkSj D;k  djsaxs bruk i<+dj] gkfen osQ\\nenjls esa nks&rhu cM+s&cM+s yM+osQ gSa] fcyoqQy rhu dkSM+h osQA jks”k ekj [kkrs\\ngSa] dke ls th pqjkus  okysA bl txg Hkh mlh rjg osQ yksx gksaxs vkSj D;kA\\nDyc&?kj esa tknw gksrk gSA lquk gS] ;gk¡ eqn Zs dh [kksifM+;k¡ nkSM+rh gSaA vkSj\\ncM+s&cM+s rek'ks gksrs gSa] ij fdlh dks vanj ugha tkus nsrsA vkSj ;gk¡ 'kke dks\\nlkgc yksx [ksyrs gSaA cM+s&cM+s vkneh [ksyrs gSa] ew¡Nksa&nk<+hokysA vkSj esesa Hkh\\n[ksyrh gSa] lp! gekjh vEek¡ dks og ns nks] D;k uke gS] cSV] rks mls idM+\\ngh u losaQA ?kqekrs gh yq<+d tk,¡A\\negewn us dgk µ gekjh vEehtku dk rks gkFk dk¡ius y\"),\n",
       " Document(metadata={}, page_content=\"&nk<+hokysA vkSj esesa Hkh\\n[ksyrh gSa] lp! gekjh vEek¡ dks og ns nks] D;k uke gS] cSV] rks mls idM+\\ngh u losaQA ?kqekrs gh yq<+d tk,¡A\\negewn us dgk µ gekjh vEehtku dk rks gkFk dk¡ius yxs] vYyk dleA\\neksgflu cksyk µ pyks] euksa vkVk ihl Mkyrh gSaA ”kjk&lk cSV idM+ ysaxh] rks\\ngkFk dk¡ius yxsaxs\\\\ lSdM+ksa ?kM+s ikuh jks”k fudkyrh gSaA ik¡p ?kM+s rks rsjh HkSal ih tkrh\\ngSA fdlh ese dks ,d ?kM+k ikuh Hkjuk iM+s rks vk¡[kksa rys v¡èksjk vk tk,A\\negewn µ ysfdu nkSM+rha rks ugha] mNy&owQn rks ugha ldrhaA\\neksgflu µ gk¡] mNy&owQn ugha ldrha] ysfdu ml fnu esjh xk; [kqy xbZ\\nFkh vkSj pkSèkjh osQ [ksr esa tk iM+h Fkh] rks vEek¡ bruk rs”k nkSM+ha fd eSa mUgsa u\\nik ldk] lpA\\nvkxs pysA gyokb;ksa dh nwdkusa 'kq: gqb±A vkt [kwc lth gqbZ FkhaA bruh\\nfeBkb;k¡ dkSu [kkrk gS\\\\ ns[kks u] ,d&,d nwdku ij euksa gksaxhA lquk gS] jkr dks\\nftUukr vkdj [kjhn ys tkrs gSaA vCck dgrs Fks fd vkèkh jkr dks ,d vkneh\\ngj nwdku ij tkrk gS vkSj ftruk eky cpk gksrk gS] og rqyok ysrk gS vkSj\\nlpeqp osQ #i;s nsrk gS] fcyoqQy ,sls gh #i;sA\\ngkfen dks ;dhu u vk;k µ ,sls #i;s ftUukr dks dgk¡ ls fey tk,¡xs\\\\\\neksgflu us dgk µ ftUukr dks #i;s dh D;k deh\\\\ ftl [ktkus esa pkgsa pys\\ntk,¡A yksgs osQ njok”ks rd mUgas ugha jksd ldrs tukc] vki gSa fdl isQj esa! ghjs\\ntokgjkr rd muosQ ikl jgrs gSaA ftlls [kq'k gks x, mls Vksdjksa tokgjkr ns\\nfn,A vHkh ;gha cSBs gSSa] ik¡p feuV esa dydÙkk igq¡p tk,¡A\\n2024-25\\nizsepan / 9\\ngkfen us fiQj iwNk µ ftUukr cgqr cM+s&cM+s gksrs gksaxs\\\\\\neksgflu µ ,d&,d vkleku osQ cjkcj gksrk gS thA ”kehu ij [kM+k gks tk,\\nrks mldk flj vkleku ls tk yxs] exj pkgs rks ,d yksVs esa ?kql tk,A\\ngkfen µ yksx mUgsa oSQls [kq'k djrs gksaxsA dksbZ eq>s og earj crk ns rks ,d\\nftUu dks [kq'k dj yw¡A\\neksgflu µ vc ;g rks eSa ugha tkurk] ysfdu pkSèkjh lkgc osQ dkcw esa cgqr\\nls ftUukr gSaA dksbZ ph”k pksjh tk,] pkSèkjh lkgc mldk irk yxk nsaxs vkS\"),\n",
       " Document(metadata={}, page_content=\"ks ,d\\nftUu dks [kq'k dj yw¡A\\neksgflu µ vc ;g rks eSa ugha tkurk] ysfdu pkSèkjh lkgc osQ dkcw esa cgqr\\nls ftUukr gSaA dksbZ ph”k pksjh tk,] pkSèkjh lkgc mldk irk yxk nsaxs vkSj pksj dk\\nuke Hkh crk nsaxsA tqejkrh dk cNok ml fnu [kks x;k FkkA rhu fnu gSjku gq,] dgha\\nu feykA rc >d ekjdj pkSèkjh osQ ikl x,A pkSèkjh us rqjar crk fn;k] eos'kh[kkus\\nesa gS vkSj ogha feykA ftUukr vkdj mUgsa lkjs tgku dh [kcjsa ns tkrs gSaA\\nvc mldh le> esa vk x;k fd pkSèkjh osQ ikl D;ksa bruk èku gS] vkSj D;ksa\\nmudk bruk lEeku gSA\\nvkxs pysA ;g iqfyl ykbu gSA ;gha lc dkfulfVfcy dok;n djrs gSaA\\njSVu! I+kQk; iQks! jkr dks cspkjs ?kwe&?kwedj igjk nsrs gSa] ugha pksfj;k¡ gks tk,¡A\\neksgflu us izfrokn fd;k µ ;g dkfulfVfcy igjk nsrs gSa! rHkh rqe cgqr\\ntkurs gksA vth g”kjr] ;gh pksjh djkrs gSaA 'kgj osQ ftrus pksj&MkowQ gSa] lc\\nbuls feys jgrs gSaA jkr dks ;s yksx pksjksa ls rks dgrs gSa] pksjh djks vkSj vki nwljs\\neqgYys esa tkdj ^tkxrs jgks! tkxrs jgks!* iqdkjrs gSaA tHkh bu yksxksa osQ ikl brus\\n#i;s vkrs gSaA esjs ekew¡ ,d Fkkus esa dkfulfVfcy gSaA chl #i;k eghuk ikrs gSaa_\\nysfdu ipkl #i;s ?kj Hkstrs gSaA vYyk dle! eSaus ,d ckj iwNk Fkk fd ekew¡]\\nvki brus #i;s dgk¡ ls ikrs gSa\\\\ g¡ldj dgus yxs µ csVk] vYykg nsrk gSA fiQj\\nvki gh cksys µ ge yksx pkgsa rks ,d fnu esa yk[kksa ekj yk,¡A ge rks bruk gh\\nysrs gSa] ftlesa viuh cnukeh u gks vkSj ukSdjh u pyh tk,A\\ngkfen us iwNk µ ;g yksx pksjh djokrs gSa] rks dksbZ bUgsa idM+rk ugha\\\\\\neksgflu mldh uknkuh ij n;k fn[kkdj cksyk µ vjs ikxy] bUgsa dkSu\\nidM+sxk\\\\ idM+us okys rks ;g yksx [kqn gSa_ ysfdu vYykg bUgsa l”kk Hkh [kwc nsrk\\ngSA gjke dk eky gjke esa tkrk gSA FkksM+s gh fnu gq, ekew¡ osQ ?kj esa vkx yx xbZA\\n2024-25\\n10 / varjk\\nlkjh ysbZ iw¡th ty xbZA ,d cjru rd u cpkA dbZ fnu isM+ osQ uhps lks,] vYyk\\ndle] isM+ osQ uhps! fiQj u tkus dgk¡ ls ,d lkS d”kZ yk, rks cjru&Hkk¡M+s vk,A\\ngkfen µ ,d lkS rks ipkl ls ”;knk gksrs gSa\\\\\\n^dgk\"),\n",
       " Document(metadata={}, page_content=' xbZA ,d cjru rd u cpkA dbZ fnu isM+ osQ uhps lks,] vYyk\\ndle] isM+ osQ uhps! fiQj u tkus dgk¡ ls ,d lkS d”kZ yk, rks cjru&Hkk¡M+s vk,A\\ngkfen µ ,d lkS rks ipkl ls ”;knk gksrs gSa\\\\\\n^dgk¡ ipkl] dgk¡ ,d lkSA ipkl ,d FkSyh Hkj gksrk gSA lkS rks nks FkSfy;ksa\\nesa Hkh u vk,A*\\nvc cLrh ?kuh gksus yxhA bZnxkg tkusokyksa dh Vksfy;k¡ u”kj vkus yxhaA ,d\\nls ,d HkM+dhys oL=k igus gq,A dksbZ bDosQ&rk¡xs ij lokj] dksbZ eksVj ij] lHkh b=k\\nesa cls] lHkh osQ fnyksa esa meaxA xzkeh.kksa dk ;g NksVk&lk ny] viuh foiUurk ls\\ncs[kcj] larks\"k vkSj èkS;Z esa exu pyk tk jgk FkkA cPpksa osQ fy, uxj dh lHkh ph”ksa\\nvuks[kh FkhaA ftl ph”k dh vksj rkdrs] rkdrs gh jg tkrs vkSj ihNs ls cjkcj gkuZ\\ndh vkok”k gksus ij Hkh u psrrsA gkfen rks eksVj osQ uhps tkrs&tkrs cpkA\\nlglk bZnxkg u”kj vk;kA mQij beyh osQ ?kus o`{kksa dh Nk;k gSA uhps iDdk\\nI+kQ\\'kZ gS] ftl ij tkfte fcNk gqvk gSA vkSj jks”ksnkjksa dh iafDr;k¡ ,d osQ ihNs\\n,d u tkus dgk¡ rd pyh xbZ gSa] iDdh txr osQ uhps rd] tgk¡ tkfte Hkh\\nugha gSA u, vkusokys vkdj ihNs dh drkj esa [kM+s gks tkrs gSaA vkxs txg ugha\\ngSA ;gk¡ dksbZ èku vkSj in ugha ns[krkA bLyke dh fuxkg esa lc cjkcj gSaA bu\\nxzkeh.kksa us Hkh otw fd;k vkSj fiNyh iafDr esa [kM+s gks x,A fdruk lqanj lapkyu\\ngS] fdruh lqanj O;oLFkk! yk[kksa flj ,d lkFk fltns esa >qd tkrs gSa] fiQj\\nlc&osQ&lc ,d lkFk [kM+s gks tkrs gSa] ,d lkFk >qdrs gSa] vkSj ,d lkFk ?kqVuksa\\nosQ cy cSB tkrs gSaA dbZ ckj ;gh fØ;k gksrh gS] tSls fctyh dh yk[kksa cfÙk;k¡\\n,d lkFk iznhIr gksa vkSj ,d lkFk cq> tk,¡ vkSj ;gh Øe pyrk jgsA fdruk\\nviwoZ n`\\'; Fkk] ftldh lkewfgd fØ;k,¡] foLrkj vkSj vuarrk ân; dks J¼k] xoZ\\nvkSj vkRekuan ls Hkj nsrh Fkha] ekuks Hkzkr`Ro dk ,d lw=k bu leLr vkRekvksa dks\\n,d yM+h esa fijks, gq, gSA\\n2024-25\\nizsepan / 11\\n2\\nuek”k [kRe gks xbZ gSA yksx vkil esa xys fey jgs gSaA rc feBkbZ vkSj\\nf[kykSus dh nwdkuksa ij èkkok gksrk gSA xzkeh.kksa dk ;g ny bl fo\"k; esa ckydksa\\n'),\n",
       " Document(metadata={}, page_content='ijks, gq, gSA\\n2024-25\\nizsepan / 11\\n2\\nuek”k [kRe gks xbZ gSA yksx vkil esa xys fey jgs gSaA rc feBkbZ vkSj\\nf[kykSus dh nwdkuksa ij èkkok gksrk gSA xzkeh.kksa dk ;g ny bl fo\"k; esa ckydksa\\nls de mRlkgh ugha gSA ;g ns[kks] ¯gMksyk gSA ,d iSlk nsdj p<+ tkvksA dHkh\\nvkleku ij tkrs gq, ekywe gksaxs] dHkh ”kehu ij fxjrs gq,A ;g p[khZ gS] ydM+h\\nosQ gkFkh] ?kksM+s] m¡QV NM+ksa ls yVosQ gq, gSaA ,d iSlk nsdj cSB tkvks vkSj iPphl\\npDdjksa dk e”kk yksA egewn vkSj eksgflu vkSj uwjs vkSj lEeh bu ?kksM+ksa vkSj mQ¡Vksa\\nij cSBrs gSaA gkfen nwj [kM+k gSA rhu gh iSls rks mlosQ ikl gaSA vius dks\"k dk\\n,d frgkbZ ”kjk&lk pDdj [kkus osQ fy, ugha ns ldrkA\\nlc p£[k;ksa ls mrjrs gSaA vc f[kykSus ysaxsA bèkj nwdkuksa dh drkj yxh gqbZ\\ngSA rjg&rjg osQ f[kykSus gSa µ flikgh vkSj xqtfj;k] jktk vkSj odhy] fHk\\'rh\\nvkSj èkksfcu vkSj lkèkqA okg! fdrus lqanj f[kykSus gSaA vc cksyk gh pkgrs gSaA\\negewn flikgh ysrk gS] [kkdh onhZ vkSj yky ixM+hokyk] oaQèks ij canwd j[ks gq,_\\nekywe gksrk gS vHkh dok;n fd, pyk vk jgk gSA eksgflu dks fHk\\'rh ilan\\nvk;kA dej >qdh gqbZ gS] mQij e\\'kd j[ks gq, gSA e\\'kd dk eq¡g ,d gkFk ls\\nidM+s gq, gSA fdruk izlUu gSA \\'kk;n dksbZ xhr xk jgk gSA cl] e\\'kd ls ikuh\\nmM+syk gh pkgrk gSA uwjs dks odhy ls isze gSA oSQlh fo}Ùkk gS mlosQ eq[k ij!\\ndkyk pksxk] uhps lI+ksQn vpdu] vpdu osQ lkeus dh tsc esa ?kM+h] lqugjh\\n”kathj] ,d gkFk esa dkuwu dk iksFkk fy, gq,A ekywe gksrk gS] vHkh fdlh vnkyr\\nls ftjg ;k cgl fd, pys vk jgs gSaA ;g lc nks&nks iSls osQ f[kykSus gSaA gkfen\\nosQ ikl oqQy rhu iSls gSa] brus eg¡xs f[kykSus og oSQls ys\\\\ f[kykSuk dgha gkFk\\nls NwV iM+s] rks pwj&pwj gks tk,] ”kjk ikuh iM+s rks lkjk jax èkqy tk,] ,sls f[kykSus\\nysdj og D;k djsxk] fdl dke osQ\\\\\\neksgflu dgrk gS µ esjk fHk\\'rh jks”k ikuh ns tk,xk] lk¡>&lcsjsA\\n2024-25\\n12 / varjk\\negewn µ vkSj esjk flikgh ?kj dk igjk nsxkA dksbZ pksj vk,xk] rks I'),\n",
       " Document(metadata={}, page_content='[kykSus\\nysdj og D;k djsxk] fdl dke osQ\\\\\\neksgflu dgrk gS µ esjk fHk\\'rh jks”k ikuh ns tk,xk] lk¡>&lcsjsA\\n2024-25\\n12 / varjk\\negewn µ vkSj esjk flikgh ?kj dk igjk nsxkA dksbZ pksj vk,xk] rks I +kQkSju\\ncanwd I+kSQj dj nsxkA\\nuwjs µ vkSj esjk odhy [kwc eqdnek yM+sxkA\\nlEeh µ vkSj esjh èkksfcu jks”k diM+s èkks,xhA\\ngkfen f[kykSuksa dh fuank djrk gS µ fe^h gh osQ rks gSa] fxjs rks pdukpwj gks\\ntk,¡_ ysfdu yypkbZ gqbZ vk¡[kksa ls f[kykSuksa dks ns[k jgk gSA vkSj pkgrk gS fd\\n”kjk nsj osQ fy, mUgsa gkFk esa ys ldrkA mlosQ gkFk vuk;kl gh yidrs gSa_\\nysfdu yM+osQ brus R;kxh ugha gksrs gSa] fo\\'ks\"kdj tc vHkh u;k \\'kkSd gSA gkfen\\nyypkrk jg tkrk gSA\\nf[kykSus osQ ckn feBkb;k¡ vkrh gSaA fdlh us jsofM+;k¡ yh gSa] fdlh us\\nxqykc&tkequ] fdlh us lksgu gyokA e”ks ls [kk jgs gSaA gkfen fcjknjh ls i`Fkd\\ngSA vHkkxs osQ ikl rhu iSls gSaA D;ksa ugha oqQN ysdj [kkrk\\\\ yypkbZ vk¡[kksa ls\\nlcdh vksj ns[krk gSA\\neksgflu dgrk gS µ gkfen] jsoM+h ys tk] fdruh [kq\\'kcwnkj gS!\\ngkfen dks lansg gqvk] ;g osQoy ozwQj fouksn gS] eksgflu bruk mnkj ugha gS_\\nysfdu ;g tkudj Hkh og mlosQ ikl tkrk gSA eksgflu nksus ls ,d jsoM+h\\nfudkydj gkfen dh vksj c<+krk gSA gkfen gkFk iSQykrk gSA eksgflu jsoM+h vius\\neq¡g esa j[k ysrk gSA egewn] uwjs vkSj lEeh [kwc rkfy;k¡ ctk&ctkdj g¡lrs gaSA\\ngkfen f[kfl;k tkrk gSA\\neksgflu µ vPNk] vcdh ”k:j nsaxs gkfen] vYyk OkQle] ys tkA\\ngkfen µ j[ks jgksA D;k esjs ikl iSls ugha gSa\\\\\\nlEeh µ rhu gh iSls rks gSaA rhu iSls esa D;k&D;k yksxs\\\\\\negewn µ gels xqykc&tkequ ys tko gkfenA eksgflu cnek\\'k gSA\\ngkfen µ feBkbZ dkSu cM+h user gSA fdrkc esa bldh fdruh cqjkb;k¡ fy[kh gSaA\\neksgflu µ ysfdu fny esa dg jgs gkasxs fd feys rks [kk ysaA vius iSls D;ksa\\nugha fudkyrs\\\\\\n2024-25\\nizsepan / 13\\negewn µ ge le>rs gSa] bldh pkykdhA tc gekjs lkjs iSls [kpZ gks tk,¡xs]\\nrks gesa yypk&yypkdj [kk,xkA\\nfeBkb;ksa osQ ckn oqQN nwdkusa yksgs dh ph”kksa dh] oqQN fxyV vkSj'),\n",
       " Document(metadata={}, page_content='\\nizsepan / 13\\negewn µ ge le>rs gSa] bldh pkykdhA tc gekjs lkjs iSls [kpZ gks tk,¡xs]\\nrks gesa yypk&yypkdj [kk,xkA\\nfeBkb;ksa osQ ckn oqQN nwdkusa yksgs dh ph”kksa dh] oqQN fxyV vkSj oqQN\\nudyh xguksa dhA yM+dksa osQ fy, ;gk¡ dksbZ vkd\"kZ.k u FkkA os lc vkxs c<+\\ntkrs gSaA gkfen yksgs dh nwdku ij #d tkrk gSA dbZ fpeVs j[ks gq, FksA mls\\n[k;ky vk;k] nknh osQ ikl fpeVk ugha gSA ros ls jksfV;k¡ mrkjrh gSa] rks gkFk\\nty tkrk gS_ vxj og fpeVk ys tkdj nknh dks ns ns] rks og fdruh izlUu\\ngksaxh! fiQj mudh m¡xfy;k¡ dHkh u tysaxhA ?kj esa ,d dke dh ph”k gks\\ntk,xhA f[kykSus ls D;k I+kQk;nkA O;FkZ esa iSls [kjkc gksrs gSaA ”kjk nsj gh rks [kq\\'kh\\ngksrh gSA fiQj rks f[kykSus dks dksbZ vk¡[k mBkdj ugha ns[krkA ;k rks ?kj\\nigq¡prs&igq¡prs VwV&iwQVdj cjkcj gks tk,¡xsA fpeVk fdrus dke dh ph”k gSA\\njksfV;k¡ ros ls mrkj yks] pwYgs esa lsad yksA dksbZ vkx ek¡xus vk, rks pViV\\npwYgs ls vkx fudkydj mls ns nksA vEek¡ cspkjh dks dgk¡ I+kqQjlr gS fd ck”kkj\\nvk,¡ vkSj brus iSls gh dgk¡ feyrs gSaA jks”k gkFk tyk ysrh gSaA gkfen osQ lkFkh\\nvkxs c<+ x, gSaA lchy ij lc&osQ&lc \\'kjcr ih jgs gSaA ns[kks] lc fdrus\\nykyph gSa! bruh feBkb;k¡ yha] eq>s fdlh us ,d Hkh u nhA ml ij dgrs gSa]\\nesjs lkFk [ksyksA esjk ;g dke djksA vc vxj fdlh us dksbZ dke djus dks\\ndgk] rks iwNw¡xkA [kk,¡ feBkb;k¡] vki eq¡g lM+sxk] iQksMs+ iqaQfl;k¡ fudysaxh] vki\\ngh ”kcku pVksjh gks tk,xhA rc ?kj ls iSls pqjk,¡xs vkSj ekj [kk,¡xsA fdrkc esa\\n>wBh ckrsa FkksM+s gh fy[kh gSaA esjh ”kcku D;ksa [kjkc gksxhA vEek¡ fpeVk ns[krs\\ngh nkSM+dj esjs gkFk ls ys ysaxh vkSj dgsaxh µ esjk cPpk vEek¡ osQ fy, fpeVk\\nyk;k gSA g”kkjksa nqvk,¡ nsaxhA fiQj iM+ksl dh vkSjrksa dks fn[kk,¡xhA lkjs xk¡o esa\\nppkZ gksus yxsxh] gkfen fpeVk yk;k gSA fdruk vPNk yM+dk gSA bu yksxksa osQ\\nf[kykSuksa ij dkSu bUgsa nqvk,¡ nsxk\\\\ cM+ksa dh nqvk,¡ lhèks vYykg osQ njckj esa\\nigq¡pr'),\n",
       " Document(metadata={}, page_content=\"ksxhA vEek¡ fpeVk ns[krs\\ngh nkSM+dj esjs gkFk ls ys ysaxh vkSj dgsaxh µ esjk cPpk vEek¡ osQ fy, fpeVk\\nyk;k gSA g”kkjksa nqvk,¡ nsaxhA fiQj iM+ksl dh vkSjrksa dks fn[kk,¡xhA lkjs xk¡o esa\\nppkZ gksus yxsxh] gkfen fpeVk yk;k gSA fdruk vPNk yM+dk gSA bu yksxksa osQ\\nf[kykSuksa ij dkSu bUgsa nqvk,¡ nsxk\\\\ cM+ksa dh nqvk,¡ lhèks vYykg osQ njckj esa\\nigq¡prh gSa vkSj rqjar lquh tkrh gSaA esjs ikl iSls ugha gSaA rHkh rks eksgflu vkSj\\negewn ;ksa fe”kkt fn[kkrs gSaA eSa Hkh buls fe”kkt fn[kkÅ¡xkA [ksysa f[kykSus vkSj\\n2024-25\\n14 / varjk\\n[kk,¡ feBkb;k¡A eSa ugha [ksy rk f[kykSus] fdlh dk fe”kkt D;ksa lgw¡A eSa xjhc\\nlgh] fdlh ls oqQN ek¡xus rks ugha tkrkA vkf[kj vCcktku dHkh&u&dHkh\\nvk,¡xsA vEek¡ Hkh vk,¡xh ghA fiQj bu yksxksa ls iwNw¡xk] fdrus f[kykSus yksxs\\\\\\n,d&,d dks Vksdfj;ksa f[kykSus nw¡ vkSj fn[kk nw¡ fd nksLrksa osQ lkFk bl rjg\\nlywd fd;k tkrk gSA ;g ugha fd ,d iSls dh jsofM+;k¡ yha rks fp<+k&fp<+kdj\\n[kkus yxsA lc&osQ&lc g¡lsaxs fd gkfen us fpeVk fy;k gSA g¡lsa! esjh cyk ls!\\nmlus nwdkunkj ls iwNk µ ;g fpeVk fdrus dk gS\\\\\\nnwdkunkj us mldh vksj ns[kk vkSj dksbZ vkneh lkFk u ns[kdj dgk µ rqEgkjs\\ndke dk ugha gS th!\\n^fcdkÅ gS fd ugha\\\\*\\n^fcdkÅ D;ksa ugha gSA vkSj ;gk¡ D;ksa ykn yk, gSa\\\\*\\n^rks crkrs D;ksa ugha] oSQ iSls dk gS\\\\*\\n^Ng iSls yxsaxsA*\\ngkfen dk fny cSB x;kA\\n^Bhd&Bhd crkvks!*\\n^Bhd&Bhd ik¡p iSls yxsaxs] ysuk gks yks] ugha pyrs cuksA*\\ngkfen us dystk e”kcwr djosQ dgk µ rhu iSls yksxs\\\\\\n;g dgrk gqvk og vkxs c<+ x;k fd nwdkunkj dh ?kqM+fd;k¡ u lqusA ysfdu\\nnwdkunkj us ?kqM+fd;k¡ ugha nhaA cqykdj fpeVk ns fn;kA gkfen us mls bl rjg\\ndaèks ij j[kk] ekuks canwd gS vkSj 'kku ls vdM+rk gqvk lafx;ksa osQ ikl vk;kA\\n”kjk lqusa] lc&osQ&lc D;k&D;k vkykspuk,¡ djrs gSaA\\neksgflu us g¡ldj dgk µ ;g fpeVk D;ksa yk;k ixys_ bls D;k djsxk\\\\\\ngkfen us fpeVs dks ”kehu ij iVddj dg\"),\n",
       " Document(metadata={}, page_content=\"+rk gqvk lafx;ksa osQ ikl vk;kA\\n”kjk lqusa] lc&osQ&lc D;k&D;k vkykspuk,¡ djrs gSaA\\neksgflu us g¡ldj dgk µ ;g fpeVk D;ksa yk;k ixys_ bls D;k djsxk\\\\\\ngkfen us fpeVs dks ”kehu ij iVddj dgk µ ”kjk viuk fHk'rh ”kehu ij\\nfxjk nksA lkjh ilfy;k¡ pwj&pwj gks tk,¡ cpk dhA\\negewn cksyk µ rks ;g fpeVk dksbZ f[kykSuk gS\\\\\\n2024-25\\nizsepan / 15\\ngkfen µ f[kykSuk D;ksa ugha gS\\\\ vHkh oaQèks ij j[kk] canwd gks xbZA gkFk esa\\nys fy;k] iQdhjksa dk fpeVk gks x;k] pkgw¡ rks blls ethjs dk dke ys ldrk gw¡A\\n,d fpeVk tek nw¡] rks rqe yksxksa osQ lkjs f[kykSuksa dh tku fudy tk,A\\nrqEgkjs f[kykSus fdruk gh ”kksj yxk,¡] esjs fpeVs dk cky Hkh ck¡dk ugha dj\\nldrsA esjk cgknqj 'ksj gS µ fpeVkA\\nlEeh us [k¡tjh yh FkhA izHkkfor gksdj cksyk µ esjh [k¡tjh ls cnyksxs\\\\ nks\\nvkus dh gSA\\ngkfen us [k¡tjh dh vksj mis{kk ls ns[kk µ esjk fpeVk pkgs rks rqEgkjs [k¡tjh\\ndk isV iQkM+ MkysA cl ,d peM+s dh f>Yyh yxk nh] <c&<c cksyus yxhA\\n”kjk&lk ikuh yx tk, rks [kre gks tk,A esjk cgknqj fpeVk vkx esa] ikuh esa]\\nvk¡èkh esa] rwI+kQku esa cjkcj MVk [kM+k jgsxkA\\nfpeVs us lHkh dks eksfgr dj fy;k] ysfdu vc iSls fdlosQ ikl èkjs gSaA\\nfiQj esys ls nwj fudy vk, gSa] ukS dc osQ ct x,] èkwi rs”k gks jgh gSA ?kj\\nigq¡pus dh tYnh gks jgh gSA cki ls f”kn Hkh djsa] rks fpeVk ugha fey ldrkA\\ngkfen gS cM+k pkykdA blhfy, cnek'k us vius iSls cpk j[ks FksA\\nvc ckydksa osQ nks ny gks x, gSaA eksgflu] egewn] lEeh vkSj uwjs ,d rjI+kQ\\ngSa] gkfen vosQyk nwljh rjI+\\nkQA 'kkL=kkFkZ gks jgk gSA lEeh rks foèkehZ gks x;kA nwljs\\ni{k ls tk feyk_ ysfdu eksgflu] egewn vkSj uwjs Hkh] gkfen ls ,d&,d] nks&nks\\nlky cM+s gksus ij Hkh gkfen osQ vk?kkrksa ls vkrafdr gks mBs gSaA mlosQ ikl U;k;\\ndk cy gS vkSj uhfr dh 'kfDrA ,d vksj fe^h gS] nwljh vksj yksgk] tks bl oDr\\nvius dks I+kQkSykn dg jgk gSA og vts; gS] ?kkrd gSA vxj dksbZ 'ksj vk tk,]\\nrks fe;k¡ fHk'rh osQ NDosQ NwV tk,¡] fe;k¡ flikgh fe^h dh canwd NksM+dj Hkkxsa\"),\n",
       " Document(metadata={}, page_content=\"wljh vksj yksgk] tks bl oDr\\nvius dks I+kQkSykn dg jgk gSA og vts; gS] ?kkrd gSA vxj dksbZ 'ksj vk tk,]\\nrks fe;k¡ fHk'rh osQ NDosQ NwV tk,¡] fe;k¡ flikgh fe^h dh canwd NksM+dj Hkkxsa]\\nodhy lkgc dh ukuh ej tk,] pksxs esa eq¡g fNikdj ”kehu ij ysV tk,¡A exj\\n;g fpeVk] ;g cgknqj] ;g #Lres&¯gn yiddj 'ksj dh xjnu ij lokj gks\\ntk,xk vkSj mldh vk¡[ksa fudky ysxkA\\n2024-25\\n16 / varjk\\neksgflu us ,M+h&pksVh dk ”kksj yxkdj dgk µ vPNk] ikuh rks ugha Hkj ldrkA\\ngkfen us fpeVs dks lhèkk [kM+k djosQ dgk µ fHk'rh dks ,d Mk¡V crk,xk\\nrks nkSM+k gqvk ikuh ykdj mlosQ }kj ij fNM+dus yxsxkA\\neksgflu ijkLr gks x;k_ ij egewn us oqQeqd igq¡pkbZ µ vxj cpk idM+ tk,¡\\nrks vnkyr esa c¡èks&c¡èks fiQjsaxsA rc rks odhy lkgc osQ iSjksa iMs+axsA\\ngkfen bl izcy roZQ dk tokc u ns ldkA mlus iwNk µ gesa idM+us dkSu vk,xk\\\\\\nuwjs us vdM+dj dgk µ ;g flikgh canwdokykA\\ngkfen us eq¡g fp<+kdj dgk µ ;g cspkjs ge cgknqj #Lres&¯gn dks idM+saxs!\\nvPNk ykvks] vHkh ”kjk oqQ'rh gks tk,A bldh lwjr ns[kdj nwj ls HkkxsaxsA idM+saxs\\nD;k cspkjs!\\neksgflu dks ,d ubZ pksV lw> xbZ µ rqEgkjs fpeVs dk eq¡g jks”k vkx esa\\ntysxkA\\nmlus le>k Fkk fd gkfen yktokc gks tk,xk_ ysfdu ;g ckr u gqbZA\\ngkfen us rqjar tokc fn;k µ vkx esa cgknqj gh owQnrs gSa tukc] rqEgkjs ;g\\nodhy] flikgh vkSj fHk'rh ysfM;ksa dh rjg ?kj esa ?kql tk,¡xsA vkx esa owQnuk\\nog dke gS] tks ;g #Lres&¯gn gh dj ldrk gSA\\negewn us ,d ”kksj yxk;k µ odhy lkgc oqQlhZ&es”k ij cSBsaxs] rqEgkjk\\nfpeVk rks ckophZ[kkus esa ”kehu ij iM+k jgsxkA\\nbl roZQ us lEeh vkSj uwjs dks Hkh ltho dj fn;kA fdrus fBdkus dh ckr dgh\\ngS i_s usA fpeVk ckophZ[kkus esa iM+k jgus osQ flok vkSj D;k dj ldrk gS\\\\\\ngkfen dks dksbZ iQM+drk gqvk tokc u lw>k rks mlus èkk¡èkyh 'kq: dh µ esjk\\nfpeVk ckcphZ[kkus esa ugha jgsxkA odhy lkgc oqQlhZ ij cSBsaxs] rks tkdj mUgsa\\n”kehu ij iVd nsxk vkSj mudk dkuwu muosQ isV esa Mky nsxkA\\nckr oqQN cuh ughaA [kklh xky&\"),\n",
       " Document(metadata={}, page_content='q: dh µ esjk\\nfpeVk ckcphZ[kkus esa ugha jgsxkA odhy lkgc oqQlhZ ij cSBsaxs] rks tkdj mUgsa\\n”kehu ij iVd nsxk vkSj mudk dkuwu muosQ isV esa Mky nsxkA\\nckr oqQN cuh ughaA [kklh xky&xykSt Fkh_ ysfdu dkuwu dks isV esa Mkyus\\nokyh ckr Nk xbZA ,slh Nk xbZ fd rhuksa lwjek eq¡g rkdrs jg x,] ekuks dksbZ èksypk\\n2024-25\\nizsepan / 17\\ndudkSvk fdlh xaMsokys dudkS, dks dkV x;k gksA dkuwu eq¡g ls ckgj fudyus\\nokyh ph”k gSA mldks isV osQ vanj Mky fn;k tkuk] csrqdh&lh ckr gksus ij Hkh oqQN\\nu;kiu j[krh gSA gkfen us eSnku ekj fy;kA mldk fpeVk #Lres&¯gn gSA vc blesa\\neksgflu] egewn] uwjs] lEeh fdlh dks Hkh vkifÙk ugha gks ldrhA\\nfotsrk dks gkjus okyksa ls tks lRdkj feyuk LokHkkfod gS] og gkfen dks Hkh\\nfeykA vkSjksa us rhu&rhu] pkj&pkj vkus iSls [kpZ fd,] ij dksbZ dke dh ph”k\\nu ys losQA gkfen us rhu iSls esa jax tek fy;kA lp gh rks gS] f[kykSuksa dk D;k\\nHkjkslk\\\\ VwV&iwQV tk,¡xsA gkfen dk fpeVk rks cuk jgsxk cjlksa!\\nlafèk dh \\'krs± r; gksus yxhaA eksgflu us dgk µ ”kjk viuk fpeVk nks ge\\nHkh ns[ksaA rqe gekjk fHk\\'rh ysdj ns[kksA\\negewn vkSj uwjs us Hkh vius&vius f[kykSus is\\'k fd,A\\ngkfen dks bu \\'krks± osQ ekuus esa dksbZ vkifÙk u FkhA fpeVk ckjh&ckjh ls\\nlcosQ gkFk esa x;k_ vkSj muosQ f[kykSus ckjh&ckjh ls gkfen osQ gkFk esa vk,A\\nfdrus [kwclwjr f[kykSus gSa!\\ngkfen us gkjus okyksa osQ vk¡lw iksaNs µ eSa rqEgsa fp<+k jgk Fkk] lp! ;g fpeVk\\nHkyk bu f[kykSuksa dh D;k cjkcjh djsxk_ ekywe gksrk gS] vc cksys] vc cksysA\\nysfdu eksgflu dh ikVhZ dks bl fnykls ls larks\"k ugha gksrkA fpeVs dk\\nflDdk [kwc cSB x;k gSA fpidk gqvk fVdV vc ikuh ls ugha NwV jgk gSA\\neksgflu µ ysfdu bu f[kykSuksa osQ fy, dksbZ gesa nqvk rks u nsxk\\\\\\negewn µ nqvk dks fy, fiQjrs gksA myVs ekj u iM+sA vEek¡ ”k:j dgsaxh fd\\nesys esa ;gh fe^h osQ f[kykSus rqEgsa feys\\\\\\ngkfen dks Lohdkj djuk iM+k fd f[kykSuksa dks ns[kdj fdlh dh ek¡ bruh\\n[kq\\'k u gksxh] ftruh nknh fpeVs dks ns[kdj gksaxhA rhu iSlksa gh esa rks mls lc\\noqQN'),\n",
       " Document(metadata={}, page_content='ys esa ;gh fe^h osQ f[kykSus rqEgsa feys\\\\\\ngkfen dks Lohdkj djuk iM+k fd f[kykSuksa dks ns[kdj fdlh dh ek¡ bruh\\n[kq\\'k u gksxh] ftruh nknh fpeVs dks ns[kdj gksaxhA rhu iSlksa gh esa rks mls lc\\noqQN djuk Fkk vkSj mu iSlksa osQ bl mi;ksx ij iNrkos dh fcyoqQy ”k:jr\\nu FkhA fiQj vc rks fpeVk #Lres&¯gn gS vkSj lHkh f[kykSuksa dk ckn\\'kkg!\\n2024-25\\n18 / varjk\\njkLrs esa egewn dks Hkw[k yxhA mlosQ cki us osQys [kkus dks fn,A egewn us\\nosQoy gkfen dks lk>h cuk;kA mlosQ vU; fe=k eq¡g rkdrs jg x,A ;g ml\\nfpeVs dk izlkn FkkA\\n3\\nX;kjg cts xk¡o esa gypy ep xbZA esys okys vk x,A eksgflu dh NksVh cgu\\nus nkSM+dj fHk\\'rh mlosQ gkFk ls Nhu fy;k vkSj ekjs [kq\\'kh osQ tks mNyh] rks fe;k¡\\nfHk\\'rh uhps vk jgs vkSj lqjyksd fl/kjsA bl ij HkkbZ&cgu esa ekj&ihV gqbZA nksuksa\\n[kwc jks,A mldh vEek¡ ;g \\'kksj lqudj fcxM+h vkSj nksuksa dks Åij ls nks&nks\\npk¡Vs vkSj yxk,A\\nfe;k¡ uwjs osQ odhy dk var muosQ izfr\"BkuqowQy blls ”;knk xkSjoe; gqvkA\\nodhy ”kehu ij ;k rkd ij rks ugha cSB ldrkA mldh e;kZnk dk fopkj rks\\ndjuk gh gksxkA nhokj esa nks [kwfV;k¡ xkM+h xb±A mu ij ydM+h dk ,d iVjk j[kk\\nx;kA iVjs ij dkx”k dk dkyhu fcNk;k x;kA odhy lkgc jktk Hkkst dh Hkk¡fr\\n¯lgklu ij fcjktsA uwjs us mUgsa ia[kk >yuk \\'kq: fd;kA vnkyrksa esa [kl dh\\nVf^;k¡ vkSj fctyh osQ ia[ks jgrs gSaA D;k ;gk¡ ekewyh ia[kk Hkh u gks! dkuwu dh\\nxjeh fnekx ij p<+ tk,xh fd ughaA ck¡l dk ia[kk vk;k vkSj uwjs gok djus yxsA\\nekywe ugha] ia[ks dh gok ls] ;k ia[ks dh pksV ls odhy lkgc LoxZyksd ls\\ne`R;qyksd esa vk jgs vkSj mudk ekVh dk pksyk ekVh esa fey x;kA fiQj cM+s\\n”kksj&\\'kksj ls ekre gqvk vkSj odhy lkgc dh vfLFk ?kwj ij Mky nh xbZA\\nvc jgk egewn dk flikghA mls pViV xk¡o dk igjk nsus dk pktZ fey\\nx;k_ ysfdu iqfyl dk flikgh dksbZ lkèkkj.k O;fDr rks ugha] tks vius iSjksa pysA\\nog ikydh ij pysxkA ,d Vksdjh vkbZ] mlesa oqQN yky jax osQ iQVs&iqjkus\\nfpFkM+s fcNk, x,_ ftlesa flikgh lkgc vkjke ls ysVsA uwjs us ;g Vksdjh mB'),\n",
       " Document(metadata={}, page_content=\".k O;fDr rks ugha] tks vius iSjksa pysA\\nog ikydh ij pysxkA ,d Vksdjh vkbZ] mlesa oqQN yky jax osQ iQVs&iqjkus\\nfpFkM+s fcNk, x,_ ftlesa flikgh lkgc vkjke ls ysVsA uwjs us ;g Vksdjh mBkbZ\\nvkSj vius }kj dk pDdj yxkus yxsA muosQ nksuksa NksVs HkkbZ flikgh dh rjI+kQ ls\\n^Nksusokys] tkxrs ygks* iqdkjrs pyrs gSaA exj jkr rks v¡èksjh gksuh pkfg,_ egewn\\n2024-25\\nizsepan / 19\\ndks Bksdj yx tkrh gSA Vksdjh mlosQ gkFk ls NwVdj fxj iM+rh gS vkSj fe;k¡\\nflikgh viuh canwd fy, ”kehu ij vk tkrs gSa vkSj mudh ,d Vk¡x esa fodkj\\nvk tkrk gSA egewn dks vkt Kkr gqvk fd og vPNk MkWDVj gSA mldks ,slk\\nejge fey x;k gS ftlls og VwVh Vk¡x dks vkuu&iQkuu tksM+ ldrk gSA osQoy\\nxwyj dk nwèk pkfg,A xwyj dk nwèk vkrk gSA Vk¡x tksM+ nh tkrh gS ysfdu flikgh\\ndks T;ksa gh [kM+k fd;k tkrk gS] Vk¡x tokc ns nsrh gSA 'kY;fØ;k vliQy gqbZ]\\nrc mldh nwljh Vk¡x Hkh rksM+ nh tkrh gSSA vc de&ls&de ,d txg vkjke\\nls cSB rks ldrk gSA ,d Vk¡x ls rks u py ldrk Fkk_ u cSB ldrk FkkA vc\\nog flikgh laU;klh gks x;k gSA viuh txg ij cSBk&cSBk igjk nsrk gSA\\ndHkh&dHkh nsork Hkh cu tkrk gSA mlosQ flj dk >kyjnkj lkI+kQk [kqjp fn;k x;k\\ngSA vc mldk ftruk :ikarj pkgks] dj ldrs gksA dHkh&dHkh rks mlls ckV dk\\ndke Hkh fy;k tkrk gSA\\nvc fe;k¡ gkfen dk gky lqfu,A vehuk mldh vkok”k lqurs gh nkSM+h vkSj\\nmls xksn esa mBkdj I;kj djus yxhA lglk mlosQ gkFk esa fpeVk ns[kdj og pkSadhA\\n^;g fpeVk dgk¡ Fkk\\\\*\\n^eSaus eksy fy;k gSA*\\n^oSQ iSls esa\\\\*\\n^rhu iSls fn,A*\\nvehuk us Nkrh ihV yhA ;g oSQlk csle> yM+dk gS fd nksigj gqvk] oqQN\\n[kk;k u fi;kA yk;k D;k] fpeVk! lkjs esys esa rq>s vkSj dksbZ ph”k u feyh] tks\\n;g yksgs dk fpeVk mBk yk;k\\\\\\ngkfen us vijkèkh&Hkko ls dgk µ rqEgkjh m¡xfy;k¡ ros ls ty tkrh Fkha_\\nblfy, eSaus mls fy;kA\\ncqf<+;k dk Øksèk rqjar Lusg esa cny x;k] vkSj Lusg Hkh og ugha] tks izxYHk\\ngksrk gS vkSj viuh lkjh dld 'kCnksa esa fc[ksj nsrk gSA ;g ewd Lusg Fkk] [kwc\\nBksl] jl vkSj Lokn ls H\"),\n",
       " Document(metadata={}, page_content='A\\ncqf<+;k dk Øksèk rqjar Lusg esa cny x;k] vkSj Lusg Hkh og ugha] tks izxYHk\\ngksrk gS vkSj viuh lkjh dld \\'kCnksa esa fc[ksj nsrk gSA ;g ewd Lusg Fkk] [kwc\\nBksl] jl vkSj Lokn ls Hkjk gqvkA cPps esa fdruk R;kx] fdruk ln~Hkko vkSj\\n2024-25\\n20 / varjk\\nfdruk foosd gS! nwljksa dks f[kykSus ysrs vkSj feBkbZ [kkrs ns[kdj bldk eu\\nfdruk yypk;k gksxk\\\\ bruk ”kCr blls gqvk oSQls\\\\ ogk¡ Hkh bls viuh cqf<+;k\\nnknh dh ;kn cuh jghA vehuk dk eu xn~xn gks x;kA\\nvkSj vc ,d cM+h fofp=k ckr gqbZA gkfen osQ bl fpeVs ls Hkh fofp=kA\\ncPps gkfen us cw<+s gkfen dk ikVZ [ksyk FkkA cqf<+;k vehuk ckfydk vehuk cu\\nxbZA og jksus yxhA nkeu iSQykdj gkfen dks nqvk,¡ nsrh tkrh Fkh vkSj vk¡lw dh\\ncM+h&cM+h cw¡nsa fxjkrh tkrh FkhA gkfen bldk jgL; D;k le>rk!\\niz\\'u&vH;kl\\n 1- ^bZnxkg* dgkuh osQ mu izlaxksa dk mYys[k dhft, ftuls bZn osQ volj ij xzkeh.k ifjos\\'k\\ndk mYykl izdV gksrk gSA\\n2- ^mlosQ vanj izdk\\'k gS] ckgj vk\\'kkA foifÙk viuk lkjk nycy ysdj vk,] gkfen\\ndh vkuan Hkjh fprou mldk foèoal dj nsxhA* µ bl dFku ls ys[kd dk D;k\\nvk\\'k; gS\\\\\\n3- ^mUgsa D;k [kcj fd pkS/jh vkt vk¡[ksa cny ysa] rks ;g lkjh bZn eqgjZe gks tk,A* µ\\nbl dFku dk vk\\'k; Li\"V dhft,A\\n4- ^ekuks Hkzkr`Ro dk ,d lw=k bu leLr vkRekvksa dks ,d yM+h esa fijks, gq, gSA* bl\\ndFku osQ lanHkZ esa Li\"V dhft, fd ^/eZ rksM+rk ughsa tksM+rk gSA*\\n5- fuEufyf[kr x|ka\\'kksa dh lizlax O;k[;k dhft, &&\\n(d) dbZ ckj ;gh fozQ;k gksrh gS----------------vkRekvksa dks ,d yM+h esa fijks, gq, gSA\\n([k) cqf<+;k dk ozQks/----------------Lokn ls Hkjk gqvkA\\n6- gkfen us fpeVs dh mi;ksfxrk dks fl¼ djrs gq, D;k&D;k roZQ fn,\\\\\\n2024-25\\nizsepan / 21\\n7- xk¡o ls \\'kgj tkusokys jkLrs osQ eè; iM+usokys LFkyksa dk ,slk o.kZu ys[kd us fd;k gS\\nekuks v¡k[kksa osQ lkeus fp=k mifLFkr gks jgk gksA vius ?kj vkSj fo|ky; osQ eè;\\niM+usokys LFkkuksa dk vius \\'kCnksa esa o.kZu dhft,A\\n8- ^cPps gkfen us cw<s+ gkfen dk ikVZ [ksyk FkkA cqf<+;k vehuk ckfydk veh'),\n",
       " Document(metadata={}, page_content=' lkeus fp=k mifLFkr gks jgk gksA vius ?kj vkSj fo|ky; osQ eè;\\niM+usokys LFkkuksa dk vius \\'kCnksa esa o.kZu dhft,A\\n8- ^cPps gkfen us cw<s+ gkfen dk ikVZ [ksyk FkkA cqf<+;k vehuk ckfydk vehuk cu xbZA*\\nbl dFku esa ^cw<+s gkfen* vkSj ^ckfydk vehuk* ls ys[kd dk D;k vk\\'k; gS\\\\ Li\"V\\ndhft,A\\n9- ^nkeu iSQykdj gkfen dks nqvk,¡ nsrh tkrh Fkh vkSj vk¡lw dh cM+h&cM+h cw¡nsa fxjkrh tkrh\\nFkhA gkfen bldk jgL; D;k le>rk!* µ ys[kd osQ vuqlkj gkfen vehuk dh nqvkvksa\\nvkSj vk¡lqvksa osQ jgL; dks D;ksa ugha le> ik;k\\\\ dgkuh osQ vk/kj ij Li\"V dhft,A\\n10- gkfen dh txg vki gksrs rks D;k djrs\\\\\\n;ksX;rk&foLrkj\\n 1- izsepan dh dgkfu;ksa dk laxzg ^ekuljksoj* uke ls vkB Hkkxksa esa izdkf\\'kr gSA vius\\niqLrdky; ls ysdj mls if<+,A\\n 2- bl dgkuh esa yksd izpfyr eqgkojksa dh Hkjekj gS] tSls µ ukuh ejuk] NDosQ NwVuk\\nvkfnA blesa vk, eqgkojksa dh ,d lwph rS;kj dhft,A\\n2024-25\\n22 / varjk\\n\\'kCnkFkZ vkSj fVIi.kh\\ncyk & d\"V] vkifÙk] cgqr d\"V nsusokyh oLrq\\ncngokl & ?kCkjkuk] gks\\'k&gokl Bhd u gksuk\\nfuxksM+h & vHkkxh] fujkJ;] ftloQk dksbZ u gks\\nfprou & fdlh dh vksj ns[kus dk <ax] n`f\"V] dVk{k\\no”kw & uek”k ls igys ;Fkkfof/ gkFk&ik¡o vkSj eq¡g /ksuk\\nfltnk & ekFkk Vsduk] [kqnk osQ vkxs flj >qdkuk\\n¯gMksyk & >wyk] ikyuk\\ne\\'kd & HksM+ ;k cdjh dh [kky dks lhdj cuk;k gqvk FkSyk\\nftlls fHk\\'rh ikuh <ksrs gSa\\nvpdu & yack dyhnkj v¡xj[kk ftlesa igys xjsck¡ ls dej&i^h\\nrd vèkZpanzkdkj can yxrs Fks vkSj vc lh/s cVu\\nV¡drs gSa\\nuser & cgqr cf<+;k\\n”kCr & lgu djuk\\nnkeu & iYyw] vk¡py\\n2024-25\\n')]"
      ]
     },
     "execution_count": 35,
     "metadata": {},
     "output_type": "execute_result"
    }
   ],
   "source": [
    "Document_answer_gen"
   ]
  },
  {
   "cell_type": "code",
   "execution_count": 36,
   "metadata": {},
   "outputs": [
    {
     "data": {
      "text/plain": [
       "19"
      ]
     },
     "execution_count": 36,
     "metadata": {},
     "output_type": "execute_result"
    }
   ],
   "source": [
    "len(Document_answer_gen)"
   ]
  },
  {
   "cell_type": "code",
   "execution_count": 38,
   "metadata": {},
   "outputs": [],
   "source": [
    "from langchain.chat_models import ChatOpenAI"
   ]
  },
  {
   "cell_type": "code",
   "execution_count": 39,
   "metadata": {},
   "outputs": [
    {
     "name": "stderr",
     "output_type": "stream",
     "text": [
      "C:\\Users\\USER\\AppData\\Local\\Temp\\ipykernel_3320\\252111397.py:1: LangChainDeprecationWarning: The class `ChatOpenAI` was deprecated in LangChain 0.0.10 and will be removed in 1.0. An updated version of the class exists in the :class:`~langchain-openai package and should be used instead. To use it run `pip install -U :class:`~langchain-openai` and import as `from :class:`~langchain_openai import ChatOpenAI``.\n",
      "  llm_ques_gen_pipline = ChatOpenAI(\n"
     ]
    }
   ],
   "source": [
    "llm_ques_gen_pipline = ChatOpenAI(\n",
    "    model = 'gpt-3.5-turbo',\n",
    "    temperature = 0.3\n",
    ")"
   ]
  },
  {
   "cell_type": "code",
   "execution_count": 40,
   "metadata": {},
   "outputs": [],
   "source": [
    "prompt_template =\"\"\" \n",
    "You are an expert at creating questions based on coding materials and documentation.\n",
    "Your goal is to prepare a coder or programmer for their exa, and coding tests.\n",
    "You do this by asking question about the text below:\n",
    "\n",
    "---------------------\n",
    "{text}\n",
    "---------------------\n",
    "\n",
    "Create questions that will prepare the coders or programmers for their tests.\n",
    "Make sure not to lose any important information.\n",
    "\n",
    "Questions:\n",
    "\n",
    "\"\"\""
   ]
  },
  {
   "cell_type": "code",
   "execution_count": 41,
   "metadata": {},
   "outputs": [],
   "source": [
    "from langchain.prompts import PromptTemplate"
   ]
  },
  {
   "cell_type": "code",
   "execution_count": 42,
   "metadata": {},
   "outputs": [],
   "source": [
    "PROMOT_QUESTIONS = PromptTemplate(template = prompt_template,input_variables= ['text'])"
   ]
  },
  {
   "cell_type": "code",
   "execution_count": 43,
   "metadata": {},
   "outputs": [],
   "source": [
    "refine_template = (\"\"\"\n",
    "You are an expert at creating practice questions based on coding material and documentation.\n",
    "Your goal is to help a coder or programmer prepare for a coding  test.\n",
    "We have received some practice questions to a certain extent:{existing_answer}.\n",
    "We have the option to refine the existing questions or add new ones.\n",
    "(only if necessary) with some more context below.\n",
    "-----------------------------\n",
    "{text}\n",
    "------------------------------  \n",
    "\n",
    "given the new context , refine the original questions in English.\n",
    "If the context is not helpful , please provide original Questions.\n",
    "QUESTIONS:\n",
    "                                     \n",
    "\"\"\")"
   ]
  },
  {
   "cell_type": "code",
   "execution_count": 44,
   "metadata": {},
   "outputs": [],
   "source": [
    "REFINE_PROMPT_QUESTIONS = PromptTemplate(\n",
    "    input_variables = [\"existing_answer\",\"text\"],\n",
    "    template = refine_template\n",
    ")"
   ]
  },
  {
   "cell_type": "code",
   "execution_count": 45,
   "metadata": {},
   "outputs": [],
   "source": [
    "from langchain.chains.summarize import load_summarize_chain"
   ]
  },
  {
   "cell_type": "code",
   "execution_count": 47,
   "metadata": {},
   "outputs": [],
   "source": [
    "ques_gen_chain  = load_summarize_chain(llm = llm_ques_gen_pipline,\n",
    "                                       chain_type=\"refine\",\n",
    "                                       verbose = True,\n",
    "                                       question_prompt = PROMOT_QUESTIONS,\n",
    "                                       refine_prompt = REFINE_PROMPT_QUESTIONS\n",
    "                                       )"
   ]
  },
  {
   "cell_type": "code",
   "execution_count": 48,
   "metadata": {},
   "outputs": [
    {
     "name": "stderr",
     "output_type": "stream",
     "text": [
      "C:\\Users\\USER\\AppData\\Local\\Temp\\ipykernel_3320\\870269064.py:1: LangChainDeprecationWarning: The method `Chain.run` was deprecated in langchain 0.1.0 and will be removed in 1.0. Use :meth:`~invoke` instead.\n",
      "  ques = ques_gen_chain.run(Document_ques_gen)\n"
     ]
    },
    {
     "name": "stdout",
     "output_type": "stream",
     "text": [
      "\n",
      "\n",
      "\u001b[1m> Entering new RefineDocumentsChain chain...\u001b[0m\n",
      "\n",
      "\n",
      "\u001b[1m> Entering new LLMChain chain...\u001b[0m\n",
      "Prompt after formatting:\n",
      "\u001b[32;1m\u001b[1;3m \n",
      "You are an expert at creating questions based on coding materials and documentation.\n",
      "Your goal is to prepare a coder or programmer for their exa, and coding tests.\n",
      "You do this by asking question about the text below:\n",
      "\n",
      "---------------------\n",
      "izsepan / 1\n",
      "x|&[kaM\n",
      "x|&[kaM\n",
      "2024-25\n",
      "2 / varjk\n",
      "2024-25\n",
      "izsepan / 3\n",
      "izsepan dk tUe okjk.klh f”kys osQ yegh xzke esa gqvk FkkA\n",
      "mudk ewy uke èkuirjk; FkkA iszepan dh izkjafHkd f'k{kk\n",
      "okjk.klh esa gqbZA eSfVªd osQ ckn os vè;kiu djus yxsA\n",
      "Lokè;k; osQ :i esa gh mUgksaus ch-,- rd f'k{kk xzg.k dhA\n",
      "vlg;ksx vkanksyu osQ nkSjku mUgksaus ljdkjh ukSdjh ls\n",
      "R;kxi=k ns fn;k vkSj iwjh rjg ys[ku&dk;Z osQ izfr lefiZr\n",
      "gks x,A\n",
      "izsepan us vius ys[ku dh 'kq #vkr igys mnwZ esa\n",
      "uokcjk; osQ uke ls dh] ckn esa ¯gnh esa fy[kus yxsA\n",
      "mUgksaus vius lkfgR; esa fdlkuksa] nfyrksa] ukfj;ksa dh osnuk\n",
      "vkSj o.kZ&O;oLFkk dh oqQjhfr;ksa dk ekfeZd fp=k.k fd;k\n",
      "gSA os lkfgR; dks Lokar% lq[kk; u ekudj lkekftd\n",
      "ifjorZu dk ,d l'kDr ekè;e ekurs FksA os ,d ,sls\n",
      "lkfgR;dkj Fks] tks lekt dh okLrfod fLFkfr dks iSuh\n",
      "n`f\"V ls ns[kus dh 'kfDr j[krs FksA mUgksaus lekt&lqèkkj\n",
      "vkSj jk\"Vªh;&Hkkouk ls vksrizksr vusd miU;klksa ,oa dgkfu;ksa\n",
      "dh jpuk dhA dFkk&laxBu] pfj=k&fp=k.k] dFkksidFku\n",
      "vkfn dh n`f\"V ls mudh jpuk,¡ cstksM+ gSaA mudh Hkk\"kk\n",
      "cgqr ltho] eqgkojsnkj vkSj cksypky osQ fudV gSA ¯gnh\n",
      "Hkk\"kk dks yksdfiz; cukus esa mudk fo'ks\"k ;ksxnku gSA\n",
      "laLÑr osQ izpfyr 'kCnksa osQ lkFk&lkFk mnwZ dh jokuh bldh\n",
      "fo'ks\"krk gS] ftlus ¯gnh dFkk Hkk\"kk dks u;k vk;ke fn;kA\n",
      "mudh izeq[k o`Qfr;k¡ gSa µ ekuljksoj (vkB Hkkx)]\n",
      "xqIrèku (nks Hkkx) (dgkuh laxzg)_  fueZyk] lsoklnu]\n",
      "iszekJe] jaxHkwfe] deZHkwfe] xcu] xksnku (miU;kl)_ dcZyk]\n",
      "laxzke] izse dh osnh (ukVd)_ fofoèk izlax (rhu [kaMksa eas]\n",
      "lkfgfR;d vkSj jktuhfrd fucaèkksa dk laxzg)_ oqQN fopkj\n",
      "(lu~ 1880&1936)\n",
      "izsepan\n",
      "2024-25\n",
      "4 / varjk\n",
      "(lkfgfR;d fucaèk)A mUgksaus ekèkqjh] gal] e;kZnk] tkxj.k vkfn if=kdkvksa dk laiknu\n",
      "Hkh fd;kA bl ikB~;iqLrd esa mudh bZnxkg dgkuh nh xbZ gSA\n",
      "¯gnh esa cky&euksfoKku ls lacaf/r dgkfu;k¡ cgqr de fy[kh xbZ gSaA izsepan\n",
      "mu nqyZHk dFkkdkjksa esa ls gSa ftUgksaus iwjh izkekf.kdrk ,oa rUe;rk osQ lkFk\n",
      "cky&thou dks viuh dgkfu;ksa esa txg nh gSA mudh dgkfu;k¡ Hkkjr dh lk>h\n",
      "laLÑfr ,oa xzkeh.k thou osQ fofo/ jaxksa ls ljkcksj gSaA\n",
      "bZnxkg izsepan dh bUgha fo'ks\"krkvksa dks vfHkO;Dr djus okyh izfrfuf/\n",
      "dgkuh gSA bl dgkuh esa bZn tSls egÙoiw.kZ R;ksgkj dks vk/kj cukdj xzkeh.k\n",
      "eqfLye thou dk lqanj fp=k izLrqr fd;k x;k gSA gkfen dk pfj=k gesa crkrk gS\n",
      "fd vHkko mez ls igys cPpksa esa oSQls cM+kas tSlh le>nkjh iSnk dj nsrk gSA esys\n",
      "esa gkfen viuh gj pkg ij la;e j[kus esa fot;h gksrk gSA lkFk gh #Lres ¯gn\n",
      "fpeVs osQ ekè;e ls izsepan us Je osQ lkSan;Z ,oa egÙo dks Hkh mn~?kkfVr fd;k\n",
      "gSA fp=kkRed Hkk\"kk dh n`f\"V ls Hkh ;g dgkuh vuwBh gSA\n",
      "2024-25\n",
      "izsepan / 5\n",
      "bZnxkg\n",
      "je”kku osQ iwjs rhl jks”kksa osQ ckn bZn vkbZ gSA fdruk euksgj] fdruk lqgkouk izHkkr\n",
      "gSA o`{kksa ij oqQN vthc gfj;kyh gS] [ksrksa esa oqQN vthc jkSud gS] vkleku ij\n",
      "oqQN vthc ykfyek gSA vkt dk lw;Z ns[kks] fdruk I;kjk] fdruk 'khry gS ekuks\n",
      "lalkj dks bZn dh cèkkbZ ns jgk gSA xk¡o esa fdruh gypy gSA bZnxkg tkus dh\n",
      "rS;kfj;k¡ gks jgh gSaA fdlh osQ oqQjrs esa cVu ugha gS] iM+ksl osQ ?kj ls lqbZ&rkxk ysus\n",
      "nkSM+k tk jgk gSA fdlh osQ twrs dM+s gks x, gSa] muesa rsy Mkyus osQ fy, rsyh osQ\n",
      "?kj Hkkxk tkrk gSA tYnh&tYnh cSyksa dks lkuh&ikuh ns nsaA bZnxkg ls ykSVrs&ykSVrs\n",
      "nksigj gks tk,xkA rhu dksl dk iSny jkLrk] fiQj lSdM+ksa vknfe;ksa ls feyuk&HksaVuk]\n",
      "nksigj osQ igys ykSVuk vlaHko gSA yM+osQ lcls ”;knk izlUu gSaA fdlh us ,d jks”kk\n",
      "j[kk gS] og Hkh nksigj rd] fdlh us og Hkh ugha_ ysfdu bZnxkg tkus dh [kq'kh\n",
      "muosQ fgLls dh ph”k gSA jks”ks cM+s&cw<+ksa osQ fy, gksaxsA buosQ fy, rks bZn gSA jks”k\n",
      "bZn dk uke jVrs Fks vkt og vk xbZA vc tYnh iM+h gS fd yksx bZnxkg D;ksa\n",
      "ugha pyrsA bUgsa x`gLFkh dh ¯prkvksa ls D;k iz;kstu! lsoS;ksa osQ fy, nwèk vkSj 'kDdj\n",
      "?kj esa gS ;k ugha] budh cyk ls] ;s rks lsoS;k¡ [kk,¡xsA og D;k tkusa fd vCcktku\n",
      "D;ksa cngokl pkSèkjh dk;evyh osQ ?kj nkSM+s tk jgs gSaA mUgsa D;k [kcj fd pkSèkjh\n",
      "vkt vk¡[ksa cny ysa] rks ;g lkjh bZn eqgjZe gks tk,A mudh viuh tscksa esa rks oqQcsj\n",
      "dk èku Hkjk gqvk gSA ckj&ckj tsc ls viuk [k”kkuk fudkydj fxurs gSa vkSj [kq'k\n",
      "2024-25\n",
      "6 / varjk\n",
      "gksdj fiQj j[k ysrs gSaA egewn fxurk gS] ,d&nks] nl&ckjg! mlosQ ikl ckjg iSls\n",
      "gSaA eksgflu osQ ikl ,d] nks] rhu] vkB] ukS] ianzg iSls gSaA bUgha vufxurh iSlksa esa\n",
      "vufxurh ph”ksa yk,¡xs µ f[kykSus] feBkb;k¡] fcxqy] xsan vkSj tkus D;k&D;k! vkSj\n",
      "lcls ”;knk izlUu gS gkfenA og pkj&ik¡p lky dk xjhc&lwjr] nqcyk&iryk\n",
      "yM+dk] ftldk cki xr o\"kZ gS ”ks dh HksaV gks x;k vkSj ek¡ u tkus D;ksa ihyh\n",
      "gksrh&gksrh ,d fnu ej xbZA fdlh dks irk u pyk] D;k chekjh gSA dgrh rks dkSu\n",
      "lquus okyk FkkA fny ij tks oqQN chrrh Fkh] og fny esa gh lgrh Fkh vkSj tc\n",
      "u lgk x;k rks lalkj ls fcnk gks xbZA vc gkfen viuh cw<+h nknh vehuk dh xksn\n",
      "esa lksrk gS vkSj mruk gh izlUu gSA mlosQ vCcktku #i;s dekus x, gSaA cgqr&lh\n",
      "FkSfy;k¡ ysdj vk, ¡xsA vEehtku vYykg fe;k¡ osQ ?kj ls mlosQ fy, cM+h\n",
      "vPNh&vPNh ph”ksa ykus xbZ gSa_ blfy, gkfen izlUu gSA vk'kk rks cM+h ph”k gS]\n",
      "vkSj fiQj cPpksa dh vk'kk! mudh dYiuk rks jkbZ dk ioZr cuk ysrh gSA gkfen osQ\n",
      "ik¡o esa twrs ugha gSa] flj ij ,d iqjkuh&èkqjkuh Vksih gS] ftldk xksVk dkyk iM+ x;k\n",
      "gS] fiQj Hkh og izlUu gSA tc mlosQ vCcktku FkSfy;k¡ vkSj vEehtku fu;kersa\n",
      "ysdj vk,¡xh] rks og fny osQ vjeku fudky ysxkA rc ns[ksxk egewn] eksgflu] uwjs\n",
      "vkSj lEeh dgk¡ ls mrus iSls fudkysaxsA vHkkfxu vehuk viuh dksBjh esa cSBh jks\n",
      "jgh gSA vkt bZn dk fnu vkSj mlosQ ?kj esa nkuk ugha! vkt vkfcn gksrk rks D;k\n",
      "blh rjg bZn vkrh vkSj pyh tkrh! bl vaèkdkj vkSj fujk'kk esa og Mwch tk jgh\n",
      "gSA fdlus cqyk;k Fkk bl fuxksM+h bZn dks\\ bl ?kj esa mldk dke ugha_ ysfdu\n",
      "gkfen! mls fdlh osQ ejus&thus ls D;k eryc\\ mlosQ vanj izdk'k gS] ckgj\n",
      "vk'kkA foifÙk viuk lkjk nycy ysdj vk,] gkfen dh vkuan Hkjh fprou mldk\n",
      "foèoal dj nsxhA\n",
      "gkfen Hkhrj tkdj nknh ls dgrk gS µ rqe Mjuk ugha vEek¡] eSa lcls igys\n",
      "vkmQ¡xkA fcyoqQy u MjukA\n",
      "vehuk dk fny dpksV jgk gSA xk¡o osQ cPps vius&vius cki osQ lkFk tk\n",
      "jgs gSaA gkfen dk cki vehuk osQ flok vkSj dkSu gS! mls oSQls vosQys esys tkus\n",
      "2024-25\n",
      "izsepan / 7\n",
      "ns\\ ml HkhM+&HkkM+ esa cPpk dgha [kks tk, rks D;k gks\\ ugha] vehuk mls ;ksa u\n",
      "tkus nsxhA uUgha&lh tku! rhu dksl pysxk oSQls! iSj esa Nkys iM+ tk,¡xsA twrs Hkh\n",
      "rks ugha gaSA og FkksM+h&FkksM+h nwj ij mls xksn ys ysxh_ ysfdu ;gk¡ lsoS;k¡ dkSu\n",
      "idk,xk\\ iSls gksrs rks ykSVrs&ykSVrs lc lkexzh tek djosQ pViV cuk ysrhA ;gk¡\n",
      "rks ?kaVksa ph”ksa tek djrs yxsaxsA ek¡xs gh dk rks Hkjkslk BgjkA ml fnu I+kQgheu osQ\n",
      "diM+s flys FksA vkB vkus iSls feys FksA ml vBUuh dks bZeku dh rjg cpkrh\n",
      "pyh vkrh Fkh blh bZn osQ fy,] ysfdu dy Xokyu flj ij lokj gks xbZ rks\n",
      "D;k djrh! gkfen osQ fy, oqQN ugha gS] rks nks iSls dk nwèk rks pkfg, ghA vc\n",
      "rks oqQy nks vkus iSls cp jgs gSaA rhu iSls gkfen dh tsc esa] ik¡p vehuk osQ cVqos\n",
      "esaA ;gh rks fclkr gS vkSj bZn dk R;ksgkj] vYykg gh csM+k ikj yxk,A èkkscu vkSj\n",
      "ukbu vkSj esgrjkuh vkSj pwfM+gkfju lHkh rks vk,¡xhA lHkh dks lsoS;k¡ pkfg, vkSj\n",
      "FkksM+k fdlh dh vk¡[kksa ugha yxrkA fdl&fdl ls eq¡g pqjk,xhA vkSj eq¡g D;ksa\n",
      "pqjk,\\ lky&Hkj dk R;ksgkj gSA f”kanxh [kSfj;r ls jgs] mudh rdnhj Hkh rks mlh\n",
      "osQ lkFk gSA cPps dks [kqnk lyker j[ks] fnu Hkh dV tk,¡xsA\n",
      "xk¡o ls esyk pykA vkSj cPpksa osQ lkFk gkfen Hkh tk jgk FkkA dHkh\n",
      "lc&osQ&lc nkSM+dj vkxs fudy tkrsA fiQj fdlh isM+ osQ uhps [kM+s gksdj\n",
      "lkFkokyksa dk bar”kkj djrsA ;g yksx D;ksa bruk èkhjs&èkhjs py jgs gSa! gkfen\n",
      "osQ iSjksa esa rks tSls ij yx x, gSaA og dHkh Fkd ldrk gS! 'kgj dk nkeu\n",
      "vk x;kA lM+d osQ nksuksa vksj vehjksa osQ cxhps gSaA iDdh pkjnhokjh cuh gqbZ\n",
      "gSA isM+ksa esa vke vkSj yhfp;k¡ yxh gqbZ gSaA dHkh&dHkh dksbZ yM+dk oaQoQM+h\n",
      "mBkdj vke ij fu'kkuk yxkrk gSA ekyh vanj ls xkyh nsrk gqvk fudyrk\n",
      "gSA yM+osQ ogk¡ ls ,d iQyk±x ij gSaA [kwc g¡l jgs gSaA ekyh dks oSQlk mYyw\n",
      "cuk;k gSA\n",
      "cM+h&cM+h bekjrsa vkus yxhaA ;g vnkyr gS] ;g dkyst gS] ;g Dyc&?kj\n",
      "gS! brus cM+s dkyst esa fdrus yM+osQ i<+rs gksaxs\\ lc yM+osQ ugha gSa th!\n",
      "cM+s&cM+s vkneh gSa] lp! mudh cM+h&cM+h ew¡Nsa gSaA brus cM+s gks x,] vHkh rd\n",
      "2024-25\n",
      "8 / varjk\n",
      "i<+us tkrs gSaA u tkus dc rd i<+saxs vkSj D;k  djsaxs bruk i<+dj] gkfen osQ\n",
      "enjls esa nks&rhu cM+s&cM+s yM+osQ gSa] fcyoqQy rhu dkSM+h osQA jks”k ekj [kkrs\n",
      "gSa] dke ls th pqjkus  okysA bl txg Hkh mlh rjg osQ yksx gksaxs vkSj D;kA\n",
      "Dyc&?kj esa tknw gksrk gSA lquk gS] ;gk¡ eqn Zs dh [kksifM+;k¡ nkSM+rh gSaA vkSj\n",
      "cM+s&cM+s rek'ks gksrs gSa] ij fdlh dks vanj ugha tkus nsrsA vkSj ;gk¡ 'kke dks\n",
      "lkgc yksx [ksyrs gSaA cM+s&cM+s vkneh [ksyrs gSa] ew¡Nksa&nk<+hokysA vkSj esesa Hkh\n",
      "[ksyrh gSa] lp! gekjh vEek¡ dks og ns nks] D;k uke gS] cSV] rks mls idM+\n",
      "gh u losaQA ?kqekrs gh yq<+d tk,¡A\n",
      "egewn us dgk µ gekjh vEehtku dk rks gkFk dk¡ius yxs] vYyk dleA\n",
      "eksgflu cksyk µ pyks] euksa vkVk ihl Mkyrh gSaA ”kjk&lk cSV idM+ ysaxh] rks\n",
      "gkFk dk¡ius yxsaxs\\ lSdM+ksa ?kM+s ikuh jks”k fudkyrh gSaA ik¡p ?kM+s rks rsjh HkSal ih tkrh\n",
      "gSA fdlh ese dks ,d ?kM+k ikuh Hkjuk iM+s rks vk¡[kksa rys v¡èksjk vk tk,A\n",
      "egewn µ ysfdu nkSM+rha rks ugha] mNy&owQn rks ugha ldrhaA\n",
      "eksgflu µ gk¡] mNy&owQn ugha ldrha] ysfdu ml fnu esjh xk; [kqy xbZ\n",
      "Fkh vkSj pkSèkjh osQ [ksr esa tk iM+h Fkh] rks vEek¡ bruk rs”k nkSM+ha fd eSa mUgsa u\n",
      "ik ldk] lpA\n",
      "vkxs pysA gyokb;ksa dh nwdkusa 'kq: gqb±A vkt [kwc lth gqbZ FkhaA bruh\n",
      "feBkb;k¡ dkSu [kkrk gS\\ ns[kks u] ,d&,d nwdku ij euksa gksaxhA lquk gS] jkr dks\n",
      "ftUukr vkdj [kjhn ys tkrs gSaA vCck dgrs Fks fd vkèkh jkr dks ,d vkneh\n",
      "gj nwdku ij tkrk gS vkSj ftruk eky cpk gksrk gS] og rqyok ysrk gS vkSj\n",
      "lpeqp osQ #i;s nsrk gS] fcyoqQy ,sls gh #i;sA\n",
      "gkfen dks ;dhu u vk;k µ ,sls #i;s ftUukr dks dgk¡ ls fey tk,¡xs\\\n",
      "eksgflu us dgk µ ftUukr dks #i;s dh D;k deh\\ ftl [ktkus esa pkgsa pys\n",
      "tk,¡A yksgs osQ njok”ks rd mUgas ugha jksd ldrs tukc] vki gSa fdl isQj esa! ghjs\n",
      "tokgjkr rd muosQ ikl jgrs gSaA ftlls [kq'k gks x, mls Vksdjksa tokgjkr ns\n",
      "fn,A vHkh ;gha cSBs gSSa] ik¡p feuV esa dydÙkk igq¡p tk,¡A\n",
      "2024-25\n",
      "izsepan / 9\n",
      "gkfen us fiQj iwNk µ ftUukr cgqr cM+s&cM+s gksrs gksaxs\\\n",
      "eksgflu µ ,d&,d vkleku osQ cjkcj gksrk gS thA ”kehu ij [kM+k gks tk,\n",
      "rks mldk flj vkleku ls tk yxs] exj pkgs rks ,d yksVs esa ?kql tk,A\n",
      "gkfen µ yksx mUgsa oSQls [kq'k djrs gksaxsA dksbZ eq>s og earj crk ns rks ,d\n",
      "ftUu dks [kq'k dj yw¡A\n",
      "eksgflu µ vc ;g rks eSa ugha tkurk] ysfdu pkSèkjh lkgc osQ dkcw esa cgqr\n",
      "ls ftUukr gSaA dksbZ ph”k pksjh tk,] pkSèkjh lkgc mldk irk yxk nsaxs vkSj pksj dk\n",
      "uke Hkh crk nsaxsA tqejkrh dk cNok ml fnu [kks x;k FkkA rhu fnu gSjku gq,] dgha\n",
      "u feykA rc >d ekjdj pkSèkjh osQ ikl x,A pkSèkjh us rqjar crk fn;k] eos'kh[kkus\n",
      "esa gS vkSj ogha feykA ftUukr vkdj mUgsa lkjs tgku dh [kcjsa ns tkrs gSaA\n",
      "vc mldh le> esa vk x;k fd pkSèkjh osQ ikl D;ksa bruk èku gS] vkSj D;ksa\n",
      "mudk bruk lEeku gSA\n",
      "vkxs pysA ;g iqfyl ykbu gSA ;gha lc dkfulfVfcy dok;n djrs gSaA\n",
      "jSVu! I+kQk; iQks! jkr dks cspkjs ?kwe&?kwedj igjk nsrs gSa] ugha pksfj;k¡ gks tk,¡A\n",
      "eksgflu us izfrokn fd;k µ ;g dkfulfVfcy igjk nsrs gSa! rHkh rqe cgqr\n",
      "tkurs gksA vth g”kjr] ;gh pksjh djkrs gSaA 'kgj osQ ftrus pksj&MkowQ gSa] lc\n",
      "buls feys jgrs gSaA jkr dks ;s yksx pksjksa ls rks dgrs gSa] pksjh djks vkSj vki nwljs\n",
      "eqgYys esa tkdj ^tkxrs jgks! tkxrs jgks!* iqdkjrs gSaA tHkh bu yksxksa osQ ikl brus\n",
      "#i;s vkrs gSaA esjs ekew¡ ,d Fkkus esa dkfulfVfcy gSaA chl #i;k eghuk ikrs gSaa_\n",
      "ysfdu ipkl #i;s ?kj Hkstrs gSaA vYyk dle! eSaus ,d ckj iwNk Fkk fd ekew¡]\n",
      "vki brus #i;s dgk¡ ls ikrs gSa\\ g¡ldj dgus yxs µ csVk] vYykg nsrk gSA fiQj\n",
      "vki gh cksys µ ge yksx pkgsa rks ,d fnu esa yk[kksa ekj yk,¡A ge rks bruk gh\n",
      "ysrs gSa] ftlesa viuh cnukeh u gks vkSj ukSdjh u pyh tk,A\n",
      "gkfen us iwNk µ ;g yksx pksjh djokrs gSa] rks dksbZ bUgsa idM+rk ugha\\\n",
      "eksgflu mldh uknkuh ij n;k fn[kkdj cksyk µ vjs ikxy] bUgsa dkSu\n",
      "idM+sxk\\ idM+us okys rks ;g yksx [kqn gSa_ ysfdu vYykg bUgsa l”kk Hkh [kwc nsrk\n",
      "gSA gjke dk eky gjke esa tkrk gSA FkksM+s gh fnu gq, ekew¡ osQ ?kj esa vkx yx xbZA\n",
      "2024-25\n",
      "10 / varjk\n",
      "lkjh ysbZ iw¡th ty xbZA ,d cjru rd u cpkA dbZ fnu isM+ osQ uhps lks,] vYyk\n",
      "dle] isM+ osQ uhps! fiQj u tkus dgk¡ ls ,d lkS d”kZ yk, rks cjru&Hkk¡M+s vk,A\n",
      "gkfen µ ,d lkS rks ipkl ls ”;knk gksrs gSa\\\n",
      "^dgk¡ ipkl] dgk¡ ,d lkSA ipkl ,d FkSyh Hkj gksrk gSA lkS rks nks FkSfy;ksa\n",
      "esa Hkh u vk,A*\n",
      "vc cLrh ?kuh gksus yxhA bZnxkg tkusokyksa dh Vksfy;k¡ u”kj vkus yxhaA ,d\n",
      "ls ,d HkM+dhys oL=k igus gq,A dksbZ bDosQ&rk¡xs ij lokj] dksbZ eksVj ij] lHkh b=k\n",
      "esa cls] lHkh osQ fnyksa esa meaxA xzkeh.kksa dk ;g NksVk&lk ny] viuh foiUurk ls\n",
      "cs[kcj] larks\"k vkSj èkS;Z esa exu pyk tk jgk FkkA cPpksa osQ fy, uxj dh lHkh ph”ksa\n",
      "vuks[kh FkhaA ftl ph”k dh vksj rkdrs] rkdrs gh jg tkrs vkSj ihNs ls cjkcj gkuZ\n",
      "dh vkok”k gksus ij Hkh u psrrsA gkfen rks eksVj osQ uhps tkrs&tkrs cpkA\n",
      "lglk bZnxkg u”kj vk;kA mQij beyh osQ ?kus o`{kksa dh Nk;k gSA uhps iDdk\n",
      "I+kQ'kZ gS] ftl ij tkfte fcNk gqvk gSA vkSj jks”ksnkjksa dh iafDr;k¡ ,d osQ ihNs\n",
      ",d u tkus dgk¡ rd pyh xbZ gSa] iDdh txr osQ uhps rd] tgk¡ tkfte Hkh\n",
      "ugha gSA u, vkusokys vkdj ihNs dh drkj esa [kM+s gks tkrs gSaA vkxs txg ugha\n",
      "gSA ;gk¡ dksbZ èku vkSj in ugha ns[krkA bLyke dh fuxkg esa lc cjkcj gSaA bu\n",
      "xzkeh.kksa us Hkh otw fd;k vkSj fiNyh iafDr esa [kM+s gks x,A fdruk lqanj lapkyu\n",
      "gS] fdruh lqanj O;oLFkk! yk[kksa flj ,d lkFk fltns esa >qd tkrs gSa] fiQj\n",
      "lc&osQ&lc ,d lkFk [kM+s gks tkrs gSa] ,d lkFk >qdrs gSa] vkSj ,d lkFk ?kqVuksa\n",
      "osQ cy cSB tkrs gSaA dbZ ckj ;gh fØ;k gksrh gS] tSls fctyh dh yk[kksa cfÙk;k¡\n",
      ",d lkFk iznhIr gksa vkSj ,d lkFk cq> tk,¡ vkSj ;gh Øe pyrk jgsA fdruk\n",
      "viwoZ n`'; Fkk] ftldh lkewfgd fØ;k,¡] foLrkj vkSj vuarrk ân; dks J¼k] xoZ\n",
      "vkSj vkRekuan ls Hkj nsrh Fkha] ekuks Hkzkr`Ro dk ,d lw=k bu leLr vkRekvksa dks\n",
      ",d yM+h esa fijks, gq, gSA\n",
      "2024-25\n",
      "izsepan / 11\n",
      "2\n",
      "uek”k [kRe gks xbZ gSA yksx vkil esa xys fey jgs gSaA rc feBkbZ vkSj\n",
      "f[kykSus dh nwdkuksa ij èkkok gksrk gSA xzkeh.kksa dk ;g ny bl fo\"k; esa ckydksa\n",
      "ls de mRlkgh ugha gSA ;g ns[kks] ¯gMksyk gSA ,d iSlk nsdj p<+ tkvksA dHkh\n",
      "vkleku ij tkrs gq, ekywe gksaxs] dHkh ”kehu ij fxjrs gq,A ;g p[khZ gS] ydM+h\n",
      "osQ gkFkh] ?kksM+s] m¡QV NM+ksa ls yVosQ gq, gSaA ,d iSlk nsdj cSB tkvks vkSj iPphl\n",
      "pDdjksa dk e”kk yksA egewn vkSj eksgflu vkSj uwjs vkSj lEeh bu ?kksM+ksa vkSj mQ¡Vksa\n",
      "ij cSBrs gSaA gkfen nwj [kM+k gSA rhu gh iSls rks mlosQ ikl gaSA vius dks\"k dk\n",
      ",d frgkbZ ”kjk&lk pDdj [kkus osQ fy, ugha ns ldrkA\n",
      "lc p£[k;ksa ls mrjrs gSaA vc f[kykSus ysaxsA bèkj nwdkuksa dh drkj yxh gqbZ\n",
      "gSA rjg&rjg osQ f[kykSus gSa µ flikgh vkSj xqtfj;k] jktk vkSj odhy] fHk'rh\n",
      "vkSj èkksfcu vkSj lkèkqA okg! fdrus lqanj f[kykSus gSaA vc cksyk gh pkgrs gSaA\n",
      "egewn flikgh ysrk gS] [kkdh onhZ vkSj yky ixM+hokyk] oaQèks ij canwd j[ks gq,_\n",
      "ekywe gksrk gS vHkh dok;n fd, pyk vk jgk gSA eksgflu dks fHk'rh ilan\n",
      "vk;kA dej >qdh gqbZ gS] mQij e'kd j[ks gq, gSA e'kd dk eq¡g ,d gkFk ls\n",
      "idM+s gq, gSA fdruk izlUu gSA 'kk;n dksbZ xhr xk jgk gSA cl] e'kd ls ikuh\n",
      "mM+syk gh pkgrk gSA uwjs dks odhy ls isze gSA oSQlh fo}Ùkk gS mlosQ eq[k ij!\n",
      "dkyk pksxk] uhps lI+ksQn vpdu] vpdu osQ lkeus dh tsc esa ?kM+h] lqugjh\n",
      "”kathj] ,d gkFk esa dkuwu dk iksFkk fy, gq,A ekywe gksrk gS] vHkh fdlh vnkyr\n",
      "ls ftjg ;k cgl fd, pys vk jgs gSaA ;g lc nks&nks iSls osQ f[kykSus gSaA gkfen\n",
      "osQ ikl oqQy rhu iSls gSa] brus eg¡xs f[kykSus og oSQls ys\\ f[kykSuk dgha gkFk\n",
      "ls NwV iM+s] rks pwj&pwj gks tk,] ”kjk ikuh iM+s rks lkjk jax èkqy tk,] ,sls f[kykSus\n",
      "ysdj og D;k djsxk] fdl dke osQ\\\n",
      "eksgflu dgrk gS µ esjk fHk'rh jks”k ikuh ns tk,xk] lk¡>&lcsjsA\n",
      "2024-25\n",
      "12 / varjk\n",
      "egewn µ vkSj esjk flikgh ?kj dk igjk nsxkA dksbZ pksj vk,xk] rks I +kQkSju\n",
      "canwd I+kSQj dj nsxkA\n",
      "uwjs µ vkSj esjk odhy [kwc eqdnek yM+sxkA\n",
      "lEeh µ vkSj esjh èkksfcu jks”k diM+s èkks,xhA\n",
      "gkfen f[kykSuksa dh fuank djrk gS µ fe^h gh osQ rks gSa] fxjs rks pdukpwj gks\n",
      "tk,¡_ ysfdu yypkbZ gqbZ vk¡[kksa ls f[kykSuksa dks ns[k jgk gSA vkSj pkgrk gS fd\n",
      "”kjk nsj osQ fy, mUgsa gkFk esa ys ldrkA mlosQ gkFk vuk;kl gh yidrs gSa_\n",
      "ysfdu yM+osQ brus R;kxh ugha gksrs gSa] fo'ks\"kdj tc vHkh u;k 'kkSd gSA gkfen\n",
      "yypkrk jg tkrk gSA\n",
      "f[kykSus osQ ckn feBkb;k¡ vkrh gSaA fdlh us jsofM+;k¡ yh gSa] fdlh us\n",
      "xqykc&tkequ] fdlh us lksgu gyokA e”ks ls [kk jgs gSaA gkfen fcjknjh ls i`Fkd\n",
      "gSA vHkkxs osQ ikl rhu iSls gSaA D;ksa ugha oqQN ysdj [kkrk\\ yypkbZ vk¡[kksa ls\n",
      "lcdh vksj ns[krk gSA\n",
      "eksgflu dgrk gS µ gkfen] jsoM+h ys tk] fdruh [kq'kcwnkj gS!\n",
      "gkfen dks lansg gqvk] ;g osQoy ozwQj fouksn gS] eksgflu bruk mnkj ugha gS_\n",
      "ysfdu ;g tkudj Hkh og mlosQ ikl tkrk gSA eksgflu nksus ls ,d jsoM+h\n",
      "fudkydj gkfen dh vksj c<+krk gSA gkfen gkFk iSQykrk gSA eksgflu jsoM+h vius\n",
      "eq¡g esa j[k ysrk gSA egewn] uwjs vkSj lEeh [kwc rkfy;k¡ ctk&ctkdj g¡lrs gaSA\n",
      "gkfen f[kfl;k tkrk gSA\n",
      "eksgflu µ vPNk] vcdh ”k:j nsaxs gkfen] vYyk OkQle] ys tkA\n",
      "gkfen µ j[ks jgksA D;k esjs ikl iSls ugha gSa\\\n",
      "lEeh µ rhu gh iSls rks gSaA rhu iSls esa D;k&D;k yksxs\\\n",
      "egewn µ gels xqykc&tkequ ys tko gkfenA eksgflu cnek'k gSA\n",
      "gkfen µ feBkbZ dkSu cM+h user gSA fdrkc esa bldh fdruh cqjkb;k¡ fy[kh gSaA\n",
      "eksgflu µ ysfdu fny esa dg jgs gkasxs fd feys rks [kk ysaA vius iSls D;ksa\n",
      "ugha fudkyrs\\\n",
      "2024-25\n",
      "izsepan / 13\n",
      "egewn µ ge le>rs gSa] bldh pkykdhA tc gekjs lkjs iSls [kpZ gks tk,¡xs]\n",
      "rks gesa yypk&yypkdj [kk,xkA\n",
      "feBkb;ksa osQ ckn oqQN nwdkusa yksgs dh ph”kksa dh] oqQN fxyV vkSj oqQN\n",
      "udyh xguksa dhA yM+dksa osQ fy, ;gk¡ dksbZ vkd\"kZ.k u FkkA os lc vkxs c<+\n",
      "tkrs gSaA gkfen yksgs dh nwdku ij #d tkrk gSA dbZ fpeVs j[ks gq, FksA mls\n",
      "[k;ky vk;k] nknh osQ ikl fpeVk ugha gSA ros ls jksfV;k¡ mrkjrh gSa] rks gkFk\n",
      "ty tkrk gS_ vxj og fpeVk ys tkdj nknh dks ns ns] rks og fdruh izlUu\n",
      "gksaxh! fiQj mudh m¡xfy;k¡ dHkh u tysaxhA ?kj esa ,d dke dh ph”k gks\n",
      "tk,xhA f[kykSus ls D;k I+kQk;nkA O;FkZ esa iSls [kjkc gksrs gSaA ”kjk nsj gh rks [kq'kh\n",
      "gksrh gSA fiQj rks f[kykSus dks dksbZ vk¡[k mBkdj ugha ns[krkA ;k rks ?kj\n",
      "igq¡prs&igq¡prs VwV&iwQVdj cjkcj gks tk,¡xsA fpeVk fdrus dke dh ph”k gSA\n",
      "jksfV;k¡ ros ls mrkj yks] pwYgs esa lsad yksA dksbZ vkx ek¡xus vk, rks pViV\n",
      "pwYgs ls vkx fudkydj mls ns nksA vEek¡ cspkjh dks dgk¡ I+kqQjlr gS fd ck”kkj\n",
      "vk,¡ vkSj brus iSls gh dgk¡ feyrs gSaA jks”k gkFk tyk ysrh gSaA gkfen osQ lkFkh\n",
      "vkxs c<+ x, gSaA lchy ij lc&osQ&lc 'kjcr ih jgs gSaA ns[kks] lc fdrus\n",
      "ykyph gSa! bruh feBkb;k¡ yha] eq>s fdlh us ,d Hkh u nhA ml ij dgrs gSa]\n",
      "esjs lkFk [ksyksA esjk ;g dke djksA vc vxj fdlh us dksbZ dke djus dks\n",
      "dgk] rks iwNw¡xkA [kk,¡ feBkb;k¡] vki eq¡g lM+sxk] iQksMs+ iqaQfl;k¡ fudysaxh] vki\n",
      "gh ”kcku pVksjh gks tk,xhA rc ?kj ls iSls pqjk,¡xs vkSj ekj [kk,¡xsA fdrkc esa\n",
      ">wBh ckrsa FkksM+s gh fy[kh gSaA esjh ”kcku D;ksa [kjkc gksxhA vEek¡ fpeVk ns[krs\n",
      "gh nkSM+dj esjs gkFk ls ys ysaxh vkSj dgsaxh µ esjk cPpk vEek¡ osQ fy, fpeVk\n",
      "yk;k gSA g”kkjksa nqvk,¡ nsaxhA fiQj iM+ksl dh vkSjrksa dks fn[kk,¡xhA lkjs xk¡o esa\n",
      "ppkZ gksus yxsxh] gkfen fpeVk yk;k gSA fdruk vPNk yM+dk gSA bu yksxksa osQ\n",
      "f[kykSuksa ij dkSu bUgsa nqvk,¡ nsxk\\ cM+ksa dh nqvk,¡ lhèks vYykg osQ njckj esa\n",
      "igq¡pr\n",
      "---------------------\n",
      "\n",
      "Create questions that will prepare the coders or programmers for their tests.\n",
      "Make sure not to lose any important information.\n",
      "\n",
      "Questions:\n",
      "\n",
      "\u001b[0m\n",
      "\n",
      "\u001b[1m> Finished chain.\u001b[0m\n",
      "\n",
      "\n",
      "\u001b[1m> Entering new LLMChain chain...\u001b[0m\n",
      "Prompt after formatting:\n",
      "\u001b[32;1m\u001b[1;3m\n",
      "You are an expert at creating practice questions based on coding material and documentation.\n",
      "Your goal is to help a coder or programmer prepare for a coding  test.\n",
      "We have received some practice questions to a certain extent:1. What is the significance of the text \"izsepan\" that appears multiple times throughout the document?\n",
      "\n",
      "2. Describe the structure of the text and how it is organized. How does this organization help in understanding the content?\n",
      "\n",
      "3. What is the main theme or topic discussed in the text? Provide examples of key points or ideas that support this theme.\n",
      "\n",
      "4. How does the text discuss coding practices or programming concepts? Provide specific examples or instances mentioned in the text.\n",
      "\n",
      "5. What is the purpose of including specific terms or phrases such as \"f[kykSus\" and \"fpeVk\" in the text? How do these terms contribute to the overall understanding of the content?\n",
      "\n",
      "6. How does the text address the importance of proper documentation and coding standards in programming? Provide examples from the text that highlight this aspect.\n",
      "\n",
      "7. What are some of the challenges or obstacles mentioned in the text that programmers or coders may face in their work? How does the text suggest overcoming these challenges?\n",
      "\n",
      "8. How does the text emphasize the importance of collaboration and communication among programmers or coders? Provide examples of instances where teamwork is highlighted in the text.\n",
      "\n",
      "9. Discuss the role of problem-solving and critical thinking skills in programming, as discussed in the text. How does the text suggest improving these skills?\n",
      "\n",
      "10. How does the text address the importance of continuous learning and staying updated with new technologies in the field of coding or programming? What are some strategies mentioned in the text for professional development in this area?.\n",
      "We have the option to refine the existing questions or add new ones.\n",
      "(only if necessary) with some more context below.\n",
      "-----------------------------\n",
      "ksxhA vEek¡ fpeVk ns[krs\n",
      "gh nkSM+dj esjs gkFk ls ys ysaxh vkSj dgsaxh µ esjk cPpk vEek¡ osQ fy, fpeVk\n",
      "yk;k gSA g”kkjksa nqvk,¡ nsaxhA fiQj iM+ksl dh vkSjrksa dks fn[kk,¡xhA lkjs xk¡o esa\n",
      "ppkZ gksus yxsxh] gkfen fpeVk yk;k gSA fdruk vPNk yM+dk gSA bu yksxksa osQ\n",
      "f[kykSuksa ij dkSu bUgsa nqvk,¡ nsxk\\ cM+ksa dh nqvk,¡ lhèks vYykg osQ njckj esa\n",
      "igq¡prh gSa vkSj rqjar lquh tkrh gSaA esjs ikl iSls ugha gSaA rHkh rks eksgflu vkSj\n",
      "egewn ;ksa fe”kkt fn[kkrs gSaA eSa Hkh buls fe”kkt fn[kkÅ¡xkA [ksysa f[kykSus vkSj\n",
      "2024-25\n",
      "14 / varjk\n",
      "[kk,¡ feBkb;k¡A eSa ugha [ksy rk f[kykSus] fdlh dk fe”kkt D;ksa lgw¡A eSa xjhc\n",
      "lgh] fdlh ls oqQN ek¡xus rks ugha tkrkA vkf[kj vCcktku dHkh&u&dHkh\n",
      "vk,¡xsA vEek¡ Hkh vk,¡xh ghA fiQj bu yksxksa ls iwNw¡xk] fdrus f[kykSus yksxs\\\n",
      ",d&,d dks Vksdfj;ksa f[kykSus nw¡ vkSj fn[kk nw¡ fd nksLrksa osQ lkFk bl rjg\n",
      "lywd fd;k tkrk gSA ;g ugha fd ,d iSls dh jsofM+;k¡ yha rks fp<+k&fp<+kdj\n",
      "[kkus yxsA lc&osQ&lc g¡lsaxs fd gkfen us fpeVk fy;k gSA g¡lsa! esjh cyk ls!\n",
      "mlus nwdkunkj ls iwNk µ ;g fpeVk fdrus dk gS\\\n",
      "nwdkunkj us mldh vksj ns[kk vkSj dksbZ vkneh lkFk u ns[kdj dgk µ rqEgkjs\n",
      "dke dk ugha gS th!\n",
      "^fcdkÅ gS fd ugha\\*\n",
      "^fcdkÅ D;ksa ugha gSA vkSj ;gk¡ D;ksa ykn yk, gSa\\*\n",
      "^rks crkrs D;ksa ugha] oSQ iSls dk gS\\*\n",
      "^Ng iSls yxsaxsA*\n",
      "gkfen dk fny cSB x;kA\n",
      "^Bhd&Bhd crkvks!*\n",
      "^Bhd&Bhd ik¡p iSls yxsaxs] ysuk gks yks] ugha pyrs cuksA*\n",
      "gkfen us dystk e”kcwr djosQ dgk µ rhu iSls yksxs\\\n",
      ";g dgrk gqvk og vkxs c<+ x;k fd nwdkunkj dh ?kqM+fd;k¡ u lqusA ysfdu\n",
      "nwdkunkj us ?kqM+fd;k¡ ugha nhaA cqykdj fpeVk ns fn;kA gkfen us mls bl rjg\n",
      "daèks ij j[kk] ekuks canwd gS vkSj 'kku ls vdM+rk gqvk lafx;ksa osQ ikl vk;kA\n",
      "”kjk lqusa] lc&osQ&lc D;k&D;k vkykspuk,¡ djrs gSaA\n",
      "eksgflu us g¡ldj dgk µ ;g fpeVk D;ksa yk;k ixys_ bls D;k djsxk\\\n",
      "gkfen us fpeVs dks ”kehu ij iVddj dgk µ ”kjk viuk fHk'rh ”kehu ij\n",
      "fxjk nksA lkjh ilfy;k¡ pwj&pwj gks tk,¡ cpk dhA\n",
      "egewn cksyk µ rks ;g fpeVk dksbZ f[kykSuk gS\\\n",
      "2024-25\n",
      "izsepan / 15\n",
      "gkfen µ f[kykSuk D;ksa ugha gS\\ vHkh oaQèks ij j[kk] canwd gks xbZA gkFk esa\n",
      "ys fy;k] iQdhjksa dk fpeVk gks x;k] pkgw¡ rks blls ethjs dk dke ys ldrk gw¡A\n",
      ",d fpeVk tek nw¡] rks rqe yksxksa osQ lkjs f[kykSuksa dh tku fudy tk,A\n",
      "rqEgkjs f[kykSus fdruk gh ”kksj yxk,¡] esjs fpeVs dk cky Hkh ck¡dk ugha dj\n",
      "ldrsA esjk cgknqj 'ksj gS µ fpeVkA\n",
      "lEeh us [k¡tjh yh FkhA izHkkfor gksdj cksyk µ esjh [k¡tjh ls cnyksxs\\ nks\n",
      "vkus dh gSA\n",
      "gkfen us [k¡tjh dh vksj mis{kk ls ns[kk µ esjk fpeVk pkgs rks rqEgkjs [k¡tjh\n",
      "dk isV iQkM+ MkysA cl ,d peM+s dh f>Yyh yxk nh] <c&<c cksyus yxhA\n",
      "”kjk&lk ikuh yx tk, rks [kre gks tk,A esjk cgknqj fpeVk vkx esa] ikuh esa]\n",
      "vk¡èkh esa] rwI+kQku esa cjkcj MVk [kM+k jgsxkA\n",
      "fpeVs us lHkh dks eksfgr dj fy;k] ysfdu vc iSls fdlosQ ikl èkjs gSaA\n",
      "fiQj esys ls nwj fudy vk, gSa] ukS dc osQ ct x,] èkwi rs”k gks jgh gSA ?kj\n",
      "igq¡pus dh tYnh gks jgh gSA cki ls f”kn Hkh djsa] rks fpeVk ugha fey ldrkA\n",
      "gkfen gS cM+k pkykdA blhfy, cnek'k us vius iSls cpk j[ks FksA\n",
      "vc ckydksa osQ nks ny gks x, gSaA eksgflu] egewn] lEeh vkSj uwjs ,d rjI+kQ\n",
      "gSa] gkfen vosQyk nwljh rjI+\n",
      "kQA 'kkL=kkFkZ gks jgk gSA lEeh rks foèkehZ gks x;kA nwljs\n",
      "i{k ls tk feyk_ ysfdu eksgflu] egewn vkSj uwjs Hkh] gkfen ls ,d&,d] nks&nks\n",
      "lky cM+s gksus ij Hkh gkfen osQ vk?kkrksa ls vkrafdr gks mBs gSaA mlosQ ikl U;k;\n",
      "dk cy gS vkSj uhfr dh 'kfDrA ,d vksj fe^h gS] nwljh vksj yksgk] tks bl oDr\n",
      "vius dks I+kQkSykn dg jgk gSA og vts; gS] ?kkrd gSA vxj dksbZ 'ksj vk tk,]\n",
      "rks fe;k¡ fHk'rh osQ NDosQ NwV tk,¡] fe;k¡ flikgh fe^h dh canwd NksM+dj Hkkxsa]\n",
      "odhy lkgc dh ukuh ej tk,] pksxs esa eq¡g fNikdj ”kehu ij ysV tk,¡A exj\n",
      ";g fpeVk] ;g cgknqj] ;g #Lres&¯gn yiddj 'ksj dh xjnu ij lokj gks\n",
      "tk,xk vkSj mldh vk¡[ksa fudky ysxkA\n",
      "2024-25\n",
      "16 / varjk\n",
      "eksgflu us ,M+h&pksVh dk ”kksj yxkdj dgk µ vPNk] ikuh rks ugha Hkj ldrkA\n",
      "gkfen us fpeVs dks lhèkk [kM+k djosQ dgk µ fHk'rh dks ,d Mk¡V crk,xk\n",
      "rks nkSM+k gqvk ikuh ykdj mlosQ }kj ij fNM+dus yxsxkA\n",
      "eksgflu ijkLr gks x;k_ ij egewn us oqQeqd igq¡pkbZ µ vxj cpk idM+ tk,¡\n",
      "rks vnkyr esa c¡èks&c¡èks fiQjsaxsA rc rks odhy lkgc osQ iSjksa iMs+axsA\n",
      "gkfen bl izcy roZQ dk tokc u ns ldkA mlus iwNk µ gesa idM+us dkSu vk,xk\\\n",
      "uwjs us vdM+dj dgk µ ;g flikgh canwdokykA\n",
      "gkfen us eq¡g fp<+kdj dgk µ ;g cspkjs ge cgknqj #Lres&¯gn dks idM+saxs!\n",
      "vPNk ykvks] vHkh ”kjk oqQ'rh gks tk,A bldh lwjr ns[kdj nwj ls HkkxsaxsA idM+saxs\n",
      "D;k cspkjs!\n",
      "eksgflu dks ,d ubZ pksV lw> xbZ µ rqEgkjs fpeVs dk eq¡g jks”k vkx esa\n",
      "tysxkA\n",
      "mlus le>k Fkk fd gkfen yktokc gks tk,xk_ ysfdu ;g ckr u gqbZA\n",
      "gkfen us rqjar tokc fn;k µ vkx esa cgknqj gh owQnrs gSa tukc] rqEgkjs ;g\n",
      "odhy] flikgh vkSj fHk'rh ysfM;ksa dh rjg ?kj esa ?kql tk,¡xsA vkx esa owQnuk\n",
      "og dke gS] tks ;g #Lres&¯gn gh dj ldrk gSA\n",
      "egewn us ,d ”kksj yxk;k µ odhy lkgc oqQlhZ&es”k ij cSBsaxs] rqEgkjk\n",
      "fpeVk rks ckophZ[kkus esa ”kehu ij iM+k jgsxkA\n",
      "bl roZQ us lEeh vkSj uwjs dks Hkh ltho dj fn;kA fdrus fBdkus dh ckr dgh\n",
      "gS i_s usA fpeVk ckophZ[kkus esa iM+k jgus osQ flok vkSj D;k dj ldrk gS\\\n",
      "gkfen dks dksbZ iQM+drk gqvk tokc u lw>k rks mlus èkk¡èkyh 'kq: dh µ esjk\n",
      "fpeVk ckcphZ[kkus esa ugha jgsxkA odhy lkgc oqQlhZ ij cSBsaxs] rks tkdj mUgsa\n",
      "”kehu ij iVd nsxk vkSj mudk dkuwu muosQ isV esa Mky nsxkA\n",
      "ckr oqQN cuh ughaA [kklh xky&xykSt Fkh_ ysfdu dkuwu dks isV esa Mkyus\n",
      "okyh ckr Nk xbZA ,slh Nk xbZ fd rhuksa lwjek eq¡g rkdrs jg x,] ekuks dksbZ èksypk\n",
      "2024-25\n",
      "izsepan / 17\n",
      "dudkSvk fdlh xaMsokys dudkS, dks dkV x;k gksA dkuwu eq¡g ls ckgj fudyus\n",
      "okyh ph”k gSA mldks isV osQ vanj Mky fn;k tkuk] csrqdh&lh ckr gksus ij Hkh oqQN\n",
      "u;kiu j[krh gSA gkfen us eSnku ekj fy;kA mldk fpeVk #Lres&¯gn gSA vc blesa\n",
      "eksgflu] egewn] uwjs] lEeh fdlh dks Hkh vkifÙk ugha gks ldrhA\n",
      "fotsrk dks gkjus okyksa ls tks lRdkj feyuk LokHkkfod gS] og gkfen dks Hkh\n",
      "feykA vkSjksa us rhu&rhu] pkj&pkj vkus iSls [kpZ fd,] ij dksbZ dke dh ph”k\n",
      "u ys losQA gkfen us rhu iSls esa jax tek fy;kA lp gh rks gS] f[kykSuksa dk D;k\n",
      "Hkjkslk\\ VwV&iwQV tk,¡xsA gkfen dk fpeVk rks cuk jgsxk cjlksa!\n",
      "lafèk dh 'krs± r; gksus yxhaA eksgflu us dgk µ ”kjk viuk fpeVk nks ge\n",
      "Hkh ns[ksaA rqe gekjk fHk'rh ysdj ns[kksA\n",
      "egewn vkSj uwjs us Hkh vius&vius f[kykSus is'k fd,A\n",
      "gkfen dks bu 'krks± osQ ekuus esa dksbZ vkifÙk u FkhA fpeVk ckjh&ckjh ls\n",
      "lcosQ gkFk esa x;k_ vkSj muosQ f[kykSus ckjh&ckjh ls gkfen osQ gkFk esa vk,A\n",
      "fdrus [kwclwjr f[kykSus gSa!\n",
      "gkfen us gkjus okyksa osQ vk¡lw iksaNs µ eSa rqEgsa fp<+k jgk Fkk] lp! ;g fpeVk\n",
      "Hkyk bu f[kykSuksa dh D;k cjkcjh djsxk_ ekywe gksrk gS] vc cksys] vc cksysA\n",
      "ysfdu eksgflu dh ikVhZ dks bl fnykls ls larks\"k ugha gksrkA fpeVs dk\n",
      "flDdk [kwc cSB x;k gSA fpidk gqvk fVdV vc ikuh ls ugha NwV jgk gSA\n",
      "eksgflu µ ysfdu bu f[kykSuksa osQ fy, dksbZ gesa nqvk rks u nsxk\\\n",
      "egewn µ nqvk dks fy, fiQjrs gksA myVs ekj u iM+sA vEek¡ ”k:j dgsaxh fd\n",
      "esys esa ;gh fe^h osQ f[kykSus rqEgsa feys\\\n",
      "gkfen dks Lohdkj djuk iM+k fd f[kykSuksa dks ns[kdj fdlh dh ek¡ bruh\n",
      "[kq'k u gksxh] ftruh nknh fpeVs dks ns[kdj gksaxhA rhu iSlksa gh esa rks mls lc\n",
      "oqQN djuk Fkk vkSj mu iSlksa osQ bl mi;ksx ij iNrkos dh fcyoqQy ”k:jr\n",
      "u FkhA fiQj vc rks fpeVk #Lres&¯gn gS vkSj lHkh f[kykSuksa dk ckn'kkg!\n",
      "2024-25\n",
      "18 / varjk\n",
      "jkLrs esa egewn dks Hkw[k yxhA mlosQ cki us osQys [kkus dks fn,A egewn us\n",
      "osQoy gkfen dks lk>h cuk;kA mlosQ vU; fe=k eq¡g rkdrs jg x,A ;g ml\n",
      "fpeVs dk izlkn FkkA\n",
      "3\n",
      "X;kjg cts xk¡o esa gypy ep xbZA esys okys vk x,A eksgflu dh NksVh cgu\n",
      "us nkSM+dj fHk'rh mlosQ gkFk ls Nhu fy;k vkSj ekjs [kq'kh osQ tks mNyh] rks fe;k¡\n",
      "fHk'rh uhps vk jgs vkSj lqjyksd fl/kjsA bl ij HkkbZ&cgu esa ekj&ihV gqbZA nksuksa\n",
      "[kwc jks,A mldh vEek¡ ;g 'kksj lqudj fcxM+h vkSj nksuksa dks Åij ls nks&nks\n",
      "pk¡Vs vkSj yxk,A\n",
      "fe;k¡ uwjs osQ odhy dk var muosQ izfr\"BkuqowQy blls ”;knk xkSjoe; gqvkA\n",
      "odhy ”kehu ij ;k rkd ij rks ugha cSB ldrkA mldh e;kZnk dk fopkj rks\n",
      "djuk gh gksxkA nhokj esa nks [kwfV;k¡ xkM+h xb±A mu ij ydM+h dk ,d iVjk j[kk\n",
      "x;kA iVjs ij dkx”k dk dkyhu fcNk;k x;kA odhy lkgc jktk Hkkst dh Hkk¡fr\n",
      "¯lgklu ij fcjktsA uwjs us mUgsa ia[kk >yuk 'kq: fd;kA vnkyrksa esa [kl dh\n",
      "Vf^;k¡ vkSj fctyh osQ ia[ks jgrs gSaA D;k ;gk¡ ekewyh ia[kk Hkh u gks! dkuwu dh\n",
      "xjeh fnekx ij p<+ tk,xh fd ughaA ck¡l dk ia[kk vk;k vkSj uwjs gok djus yxsA\n",
      "ekywe ugha] ia[ks dh gok ls] ;k ia[ks dh pksV ls odhy lkgc LoxZyksd ls\n",
      "e`R;qyksd esa vk jgs vkSj mudk ekVh dk pksyk ekVh esa fey x;kA fiQj cM+s\n",
      "”kksj&'kksj ls ekre gqvk vkSj odhy lkgc dh vfLFk ?kwj ij Mky nh xbZA\n",
      "vc jgk egewn dk flikghA mls pViV xk¡o dk igjk nsus dk pktZ fey\n",
      "x;k_ ysfdu iqfyl dk flikgh dksbZ lkèkkj.k O;fDr rks ugha] tks vius iSjksa pysA\n",
      "og ikydh ij pysxkA ,d Vksdjh vkbZ] mlesa oqQN yky jax osQ iQVs&iqjkus\n",
      "fpFkM+s fcNk, x,_ ftlesa flikgh lkgc vkjke ls ysVsA uwjs us ;g Vksdjh mBkbZ\n",
      "vkSj vius }kj dk pDdj yxkus yxsA muosQ nksuksa NksVs HkkbZ flikgh dh rjI+kQ ls\n",
      "^Nksusokys] tkxrs ygks* iqdkjrs pyrs gSaA exj jkr rks v¡èksjh gksuh pkfg,_ egewn\n",
      "2024-25\n",
      "izsepan / 19\n",
      "dks Bksdj yx tkrh gSA Vksdjh mlosQ gkFk ls NwVdj fxj iM+rh gS vkSj fe;k¡\n",
      "flikgh viuh canwd fy, ”kehu ij vk tkrs gSa vkSj mudh ,d Vk¡x esa fodkj\n",
      "vk tkrk gSA egewn dks vkt Kkr gqvk fd og vPNk MkWDVj gSA mldks ,slk\n",
      "ejge fey x;k gS ftlls og VwVh Vk¡x dks vkuu&iQkuu tksM+ ldrk gSA osQoy\n",
      "xwyj dk nwèk pkfg,A xwyj dk nwèk vkrk gSA Vk¡x tksM+ nh tkrh gS ysfdu flikgh\n",
      "dks T;ksa gh [kM+k fd;k tkrk gS] Vk¡x tokc ns nsrh gSA 'kY;fØ;k vliQy gqbZ]\n",
      "rc mldh nwljh Vk¡x Hkh rksM+ nh tkrh gSSA vc de&ls&de ,d txg vkjke\n",
      "ls cSB rks ldrk gSA ,d Vk¡x ls rks u py ldrk Fkk_ u cSB ldrk FkkA vc\n",
      "og flikgh laU;klh gks x;k gSA viuh txg ij cSBk&cSBk igjk nsrk gSA\n",
      "dHkh&dHkh nsork Hkh cu tkrk gSA mlosQ flj dk >kyjnkj lkI+kQk [kqjp fn;k x;k\n",
      "gSA vc mldk ftruk :ikarj pkgks] dj ldrs gksA dHkh&dHkh rks mlls ckV dk\n",
      "dke Hkh fy;k tkrk gSA\n",
      "vc fe;k¡ gkfen dk gky lqfu,A vehuk mldh vkok”k lqurs gh nkSM+h vkSj\n",
      "mls xksn esa mBkdj I;kj djus yxhA lglk mlosQ gkFk esa fpeVk ns[kdj og pkSadhA\n",
      "^;g fpeVk dgk¡ Fkk\\*\n",
      "^eSaus eksy fy;k gSA*\n",
      "^oSQ iSls esa\\*\n",
      "^rhu iSls fn,A*\n",
      "vehuk us Nkrh ihV yhA ;g oSQlk csle> yM+dk gS fd nksigj gqvk] oqQN\n",
      "[kk;k u fi;kA yk;k D;k] fpeVk! lkjs esys esa rq>s vkSj dksbZ ph”k u feyh] tks\n",
      ";g yksgs dk fpeVk mBk yk;k\\\n",
      "gkfen us vijkèkh&Hkko ls dgk µ rqEgkjh m¡xfy;k¡ ros ls ty tkrh Fkha_\n",
      "blfy, eSaus mls fy;kA\n",
      "cqf<+;k dk Øksèk rqjar Lusg esa cny x;k] vkSj Lusg Hkh og ugha] tks izxYHk\n",
      "gksrk gS vkSj viuh lkjh dld 'kCnksa esa fc[ksj nsrk gSA ;g ewd Lusg Fkk] [kwc\n",
      "Bksl] jl vkSj Lokn ls Hkjk gqvkA cPps esa fdruk R;kx] fdruk ln~Hkko vkSj\n",
      "2024-25\n",
      "20 / varjk\n",
      "fdruk foosd gS! nwljksa dks f[kykSus ysrs vkSj feBkbZ [kkrs ns[kdj bldk eu\n",
      "fdruk yypk;k gksxk\\ bruk ”kCr blls gqvk oSQls\\ ogk¡ Hkh bls viuh cqf<+;k\n",
      "nknh dh ;kn cuh jghA vehuk dk eu xn~xn gks x;kA\n",
      "vkSj vc ,d cM+h fofp=k ckr gqbZA gkfen osQ bl fpeVs ls Hkh fofp=kA\n",
      "cPps gkfen us cw<+s gkfen dk ikVZ [ksyk FkkA cqf<+;k vehuk ckfydk vehuk cu\n",
      "xbZA og jksus yxhA nkeu iSQykdj gkfen dks nqvk,¡ nsrh tkrh Fkh vkSj vk¡lw dh\n",
      "cM+h&cM+h cw¡nsa fxjkrh tkrh FkhA gkfen bldk jgL; D;k le>rk!\n",
      "iz'u&vH;kl\n",
      " 1- ^bZnxkg* dgkuh osQ mu izlaxksa dk mYys[k dhft, ftuls bZn osQ volj ij xzkeh.k ifjos'k\n",
      "dk mYykl izdV gksrk gSA\n",
      "2- ^mlosQ vanj izdk'k gS] ckgj vk'kkA foifÙk viuk lkjk nycy ysdj vk,] gkfen\n",
      "dh vkuan Hkjh fprou mldk foèoal dj nsxhA* µ bl dFku ls ys[kd dk D;k\n",
      "vk'k; gS\\\n",
      "3- ^mUgsa D;k [kcj fd pkS/jh vkt vk¡[ksa cny ysa] rks ;g lkjh bZn eqgjZe gks tk,A* µ\n",
      "bl dFku dk vk'k; Li\"V dhft,A\n",
      "4- ^ekuks Hkzkr`Ro dk ,d lw=k bu leLr vkRekvksa dks ,d yM+h esa fijks, gq, gSA* bl\n",
      "dFku osQ lanHkZ esa Li\"V dhft, fd ^/eZ rksM+rk ughsa tksM+rk gSA*\n",
      "5- fuEufyf[kr x|ka'kksa dh lizlax O;k[;k dhft, &&\n",
      "(d) dbZ ckj ;gh fozQ;k gksrh gS----------------vkRekvksa dks ,d yM+h esa fijks, gq, gSA\n",
      "([k) cqf<+;k dk ozQks/----------------Lokn ls Hkjk gqvkA\n",
      "6- gkfen us fpeVs dh mi;ksfxrk dks fl¼ djrs gq, D;k&D;k roZQ fn,\\\n",
      "2024-25\n",
      "izsepan / 21\n",
      "7- xk¡o ls 'kgj tkusokys jkLrs osQ eè; iM+usokys LFkyksa dk ,slk o.kZu ys[kd us fd;k gS\n",
      "ekuks v¡k[kksa osQ lkeus fp=k mifLFkr gks jgk gksA vius ?kj vkSj fo|ky; osQ eè;\n",
      "iM+usokys LFkkuksa dk vius 'kCnksa esa o.kZu dhft,A\n",
      "8- ^cPps gkfen us cw<s+ gkfen dk ikVZ [ksyk FkkA cqf<+;k vehuk ckfydk vehuk cu xbZA*\n",
      "bl dFku esa ^cw<+s gkfen* vkSj ^ckfydk vehuk* ls ys[kd dk D;k vk'k; gS\\ Li\"V\n",
      "dhft,A\n",
      "9- ^nkeu iSQykdj gkfen dks nqvk,¡ nsrh tkrh Fkh vkSj vk¡lw dh cM+h&cM+h cw¡nsa fxjkrh tkrh\n",
      "FkhA gkfen bldk jgL; D;k le>rk!* µ ys[kd osQ vuqlkj gkfen vehuk dh nqvkvksa\n",
      "vkSj vk¡lqvksa osQ jgL; dks D;ksa ugha le> ik;k\\ dgkuh osQ vk/kj ij Li\"V dhft,A\n",
      "10- gkfen dh txg vki gksrs rks D;k djrs\\\n",
      ";ksX;rk&foLrkj\n",
      " 1- izsepan dh dgkfu;ksa dk laxzg ^ekuljksoj* uke ls vkB Hkkxksa esa izdkf'kr gSA vius\n",
      "iqLrdky; ls ysdj mls if<+,A\n",
      " 2- bl dgkuh esa yksd izpfyr eqgkojksa dh Hkjekj gS] tSls µ ukuh ejuk] NDosQ NwVuk\n",
      "vkfnA blesa vk, eqgkojksa dh ,d lwph rS;kj dhft,A\n",
      "2024-25\n",
      "22 / varjk\n",
      "'kCnkFkZ vkSj fVIi.kh\n",
      "cyk & d\"V] vkifÙk] cgqr d\"V nsusokyh oLrq\n",
      "cngokl & ?kCkjkuk] gks'k&gokl Bhd u gksuk\n",
      "fuxksM+h & vHkkxh] fujkJ;] ftloQk dksbZ u gks\n",
      "fprou & fdlh dh vksj ns[kus dk <ax] n`f\"V] dVk{k\n",
      "o”kw & uek”k ls igys ;Fkkfof/ gkFk&ik¡o vkSj eq¡g /ksuk\n",
      "fltnk & ekFkk Vsduk] [kqnk osQ vkxs flj >qdkuk\n",
      "¯gMksyk & >wyk] ikyuk\n",
      "e'kd & HksM+ ;k cdjh dh [kky dks lhdj cuk;k gqvk FkSyk\n",
      "ftlls fHk'rh ikuh <ksrs gSa\n",
      "vpdu & yack dyhnkj v¡xj[kk ftlesa igys xjsck¡ ls dej&i^h\n",
      "rd vèkZpanzkdkj can yxrs Fks vkSj vc lh/s cVu\n",
      "V¡drs gSa\n",
      "user & cgqr cf<+;k\n",
      "”kCr & lgu djuk\n",
      "nkeu & iYyw] vk¡py\n",
      "2024-25\n",
      "\n",
      "------------------------------  \n",
      "\n",
      "given the new context , refine the original questions in English.\n",
      "If the context is not helpful , please provide original Questions.\n",
      "QUESTIONS:\n",
      "                                     \n",
      "\u001b[0m\n",
      "\n",
      "\u001b[1m> Finished chain.\u001b[0m\n",
      "\n",
      "\u001b[1m> Finished chain.\u001b[0m\n",
      "1. What is the significance of the text \"izsepan\" that appears multiple times throughout the document in the context of coding material and documentation?\n",
      "\n",
      "2. Describe how the structure of the text is organized and how this organization aids in understanding the content, particularly in the context of coding material and documentation.\n",
      "\n",
      "3. What is the main theme or topic discussed in the text \"izsepan\" in relation to coding practices or programming concepts? Provide examples of key points or ideas that support this theme.\n",
      "\n",
      "4. How does the text discuss coding practices or programming concepts in the context of documentation and standards? Provide specific examples or instances mentioned in the text.\n",
      "\n",
      "5. What is the purpose of including specific terms or phrases such as \"f[kykSus\" and \"fpeVk\" in the text \"izsepan\" and how do these terms contribute to the overall understanding of the content, especially in the context of coding material and documentation?\n",
      "\n",
      "6. How does the text address the importance of proper documentation and coding standards in programming, specifically in the context of preparing for coding tests? Provide examples from the text that highlight this aspect.\n",
      "\n",
      "7. What are some of the challenges or obstacles mentioned in the text that programmers or coders may face in their work, particularly in the context of coding tests? How does the text suggest overcoming these challenges?\n",
      "\n",
      "8. How does the text emphasize the importance of collaboration and communication among programmers or coders in the context of preparing for coding tests? Provide examples of instances where teamwork is highlighted in the text.\n",
      "\n",
      "9. Discuss the role of problem-solving and critical thinking skills in programming as discussed in the text \"izsepan\" in the context of coding test preparation. How does the text suggest improving these skills?\n",
      "\n",
      "10. How does the text address the importance of continuous learning and staying updated with new technologies in the field of coding or programming, specifically in the context of preparing for coding tests? What are some strategies mentioned in the text for professional development in this area?\n"
     ]
    }
   ],
   "source": [
    "ques = ques_gen_chain.run(Document_ques_gen)\n",
    "\n",
    "print(ques)"
   ]
  },
  {
   "cell_type": "code",
   "execution_count": 51,
   "metadata": {},
   "outputs": [],
   "source": [
    "from langchain.embeddings.openai import OpenAIEmbeddings\n"
   ]
  },
  {
   "cell_type": "code",
   "execution_count": 52,
   "metadata": {},
   "outputs": [
    {
     "name": "stderr",
     "output_type": "stream",
     "text": [
      "C:\\Users\\USER\\AppData\\Local\\Temp\\ipykernel_3320\\2497576997.py:1: LangChainDeprecationWarning: The class `OpenAIEmbeddings` was deprecated in LangChain 0.0.9 and will be removed in 1.0. An updated version of the class exists in the :class:`~langchain-openai package and should be used instead. To use it run `pip install -U :class:`~langchain-openai` and import as `from :class:`~langchain_openai import OpenAIEmbeddings``.\n",
      "  embeddings = OpenAIEmbeddings()\n"
     ]
    }
   ],
   "source": [
    "embeddings = OpenAIEmbeddings()"
   ]
  },
  {
   "cell_type": "code",
   "execution_count": 53,
   "metadata": {},
   "outputs": [],
   "source": [
    "from langchain.vectorstores import FAISS"
   ]
  },
  {
   "cell_type": "code",
   "execution_count": 54,
   "metadata": {},
   "outputs": [],
   "source": [
    "vector_store = FAISS.from_documents(Document_answer_gen, embeddings)"
   ]
  },
  {
   "cell_type": "code",
   "execution_count": 56,
   "metadata": {},
   "outputs": [],
   "source": [
    "llm_answer_gen = ChatOpenAI(temperature= 0.1,model=\"gpt-3.5-turbo\")"
   ]
  },
  {
   "cell_type": "code",
   "execution_count": 57,
   "metadata": {},
   "outputs": [
    {
     "data": {
      "text/plain": [
       "'1. What is the significance of the text \"izsepan\" that appears multiple times throughout the document in the context of coding material and documentation?\\n\\n2. Describe how the structure of the text is organized and how this organization aids in understanding the content, particularly in the context of coding material and documentation.\\n\\n3. What is the main theme or topic discussed in the text \"izsepan\" in relation to coding practices or programming concepts? Provide examples of key points or ideas that support this theme.\\n\\n4. How does the text discuss coding practices or programming concepts in the context of documentation and standards? Provide specific examples or instances mentioned in the text.\\n\\n5. What is the purpose of including specific terms or phrases such as \"f[kykSus\" and \"fpeVk\" in the text \"izsepan\" and how do these terms contribute to the overall understanding of the content, especially in the context of coding material and documentation?\\n\\n6. How does the text address the importance of proper documentation and coding standards in programming, specifically in the context of preparing for coding tests? Provide examples from the text that highlight this aspect.\\n\\n7. What are some of the challenges or obstacles mentioned in the text that programmers or coders may face in their work, particularly in the context of coding tests? How does the text suggest overcoming these challenges?\\n\\n8. How does the text emphasize the importance of collaboration and communication among programmers or coders in the context of preparing for coding tests? Provide examples of instances where teamwork is highlighted in the text.\\n\\n9. Discuss the role of problem-solving and critical thinking skills in programming as discussed in the text \"izsepan\" in the context of coding test preparation. How does the text suggest improving these skills?\\n\\n10. How does the text address the importance of continuous learning and staying updated with new technologies in the field of coding or programming, specifically in the context of preparing for coding tests? What are some strategies mentioned in the text for professional development in this area?'"
      ]
     },
     "execution_count": 57,
     "metadata": {},
     "output_type": "execute_result"
    }
   ],
   "source": [
    "ques"
   ]
  },
  {
   "cell_type": "code",
   "execution_count": 58,
   "metadata": {},
   "outputs": [],
   "source": [
    "ques_list = ques.split(\"\\n\")"
   ]
  },
  {
   "cell_type": "code",
   "execution_count": 59,
   "metadata": {},
   "outputs": [
    {
     "data": {
      "text/plain": [
       "['1. What is the significance of the text \"izsepan\" that appears multiple times throughout the document in the context of coding material and documentation?',\n",
       " '',\n",
       " '2. Describe how the structure of the text is organized and how this organization aids in understanding the content, particularly in the context of coding material and documentation.',\n",
       " '',\n",
       " '3. What is the main theme or topic discussed in the text \"izsepan\" in relation to coding practices or programming concepts? Provide examples of key points or ideas that support this theme.',\n",
       " '',\n",
       " '4. How does the text discuss coding practices or programming concepts in the context of documentation and standards? Provide specific examples or instances mentioned in the text.',\n",
       " '',\n",
       " '5. What is the purpose of including specific terms or phrases such as \"f[kykSus\" and \"fpeVk\" in the text \"izsepan\" and how do these terms contribute to the overall understanding of the content, especially in the context of coding material and documentation?',\n",
       " '',\n",
       " '6. How does the text address the importance of proper documentation and coding standards in programming, specifically in the context of preparing for coding tests? Provide examples from the text that highlight this aspect.',\n",
       " '',\n",
       " '7. What are some of the challenges or obstacles mentioned in the text that programmers or coders may face in their work, particularly in the context of coding tests? How does the text suggest overcoming these challenges?',\n",
       " '',\n",
       " '8. How does the text emphasize the importance of collaboration and communication among programmers or coders in the context of preparing for coding tests? Provide examples of instances where teamwork is highlighted in the text.',\n",
       " '',\n",
       " '9. Discuss the role of problem-solving and critical thinking skills in programming as discussed in the text \"izsepan\" in the context of coding test preparation. How does the text suggest improving these skills?',\n",
       " '',\n",
       " '10. How does the text address the importance of continuous learning and staying updated with new technologies in the field of coding or programming, specifically in the context of preparing for coding tests? What are some strategies mentioned in the text for professional development in this area?']"
      ]
     },
     "execution_count": 59,
     "metadata": {},
     "output_type": "execute_result"
    }
   ],
   "source": [
    "ques_list"
   ]
  },
  {
   "cell_type": "code",
   "execution_count": 60,
   "metadata": {},
   "outputs": [],
   "source": [
    "from langchain.chains import RetrievalQA"
   ]
  },
  {
   "cell_type": "code",
   "execution_count": 61,
   "metadata": {},
   "outputs": [],
   "source": [
    "answer_generation_chain = RetrievalQA.from_chain_type(llm =llm_answer_gen,\n",
    "                                                      chain_type=\"stuff\",\n",
    "                                                      retriever = vector_store.as_retriever())"
   ]
  },
  {
   "cell_type": "code",
   "execution_count": 64,
   "metadata": {},
   "outputs": [
    {
     "name": "stdout",
     "output_type": "stream",
     "text": [
      "Question: 1. What is the significance of the text \"izsepan\" that appears multiple times throughout the document in the context of coding material and documentation?\n",
      "Answer: The text \"izsepan\" that appears multiple times throughout the document does not seem to have a specific significance in the context of coding material and documentation. It appears to be part of the content of the document rather than a specific coding term or instruction.\n",
      "------------------------------------------------------------------\\n\\n\n",
      "Question: \n",
      "Answer: I'm sorry, I don't understand your request. How can I assist you today?\n",
      "------------------------------------------------------------------\\n\\n\n",
      "Question: 2. Describe how the structure of the text is organized and how this organization aids in understanding the content, particularly in the context of coding material and documentation.\n",
      "Answer: The text is organized in a structured and hierarchical manner, with numbered sections and sub-sections. This organization aids in understanding the content by providing a clear outline of the information presented. Each section is labeled with a number and a brief description of the content it covers, making it easier to navigate through the text and locate specific information.\n",
      "\n",
      "In the context of coding material and documentation, this structured organization is crucial for developers and readers. It allows them to quickly find relevant information, understand the relationships between different concepts, and follow the logical flow of the content. This kind of organization is common in technical documentation, where clarity and ease of access to information are essential for effective communication and understanding.\n",
      "------------------------------------------------------------------\\n\\n\n",
      "Question: \n",
      "Answer: I'm sorry, I don't understand your message. How can I assist you today?\n",
      "------------------------------------------------------------------\\n\\n\n",
      "Question: 3. What is the main theme or topic discussed in the text \"izsepan\" in relation to coding practices or programming concepts? Provide examples of key points or ideas that support this theme.\n",
      "Answer: I don't have enough information to provide a specific answer to your question about the main theme or topic discussed in the text \"izsepan\" in relation to coding practices or programming concepts.\n",
      "------------------------------------------------------------------\\n\\n\n",
      "Question: \n",
      "Answer: I'm sorry, I don't understand your message. How can I assist you today?\n",
      "------------------------------------------------------------------\\n\\n\n",
      "Question: 4. How does the text discuss coding practices or programming concepts in the context of documentation and standards? Provide specific examples or instances mentioned in the text.\n",
      "Answer: The text does not discuss coding practices or programming concepts in the context of documentation and standards.\n",
      "------------------------------------------------------------------\\n\\n\n",
      "Question: \n",
      "Answer: I'm sorry, I don't understand your message. How can I assist you today?\n",
      "------------------------------------------------------------------\\n\\n\n",
      "Question: 5. What is the purpose of including specific terms or phrases such as \"f[kykSus\" and \"fpeVk\" in the text \"izsepan\" and how do these terms contribute to the overall understanding of the content, especially in the context of coding material and documentation?\n",
      "Answer: The specific terms like \"f[kykSus\" and \"fpeVk\" in the text \"izsepan\" seem to be part of a specialized language or code used within the content. These terms likely serve as key identifiers or markers within the text, helping to categorize or define certain concepts, actions, or functions. In the context of coding material and documentation, terms like these could represent variables, functions, or specific operations within a program or system. By using such terms consistently throughout the text, it helps maintain clarity and consistency in the communication of technical information. These terms contribute to the overall understanding by providing a structured and organized way to discuss and explain complex coding concepts, making it easier for readers to follow and comprehend the content.\n",
      "------------------------------------------------------------------\\n\\n\n",
      "Question: \n",
      "Answer: I'm sorry, I don't understand your message. How can I assist you today?\n",
      "------------------------------------------------------------------\\n\\n\n",
      "Question: 6. How does the text address the importance of proper documentation and coding standards in programming, specifically in the context of preparing for coding tests? Provide examples from the text that highlight this aspect.\n",
      "Answer: The text does not specifically address the importance of proper documentation and coding standards in programming or in the context of preparing for coding tests. It primarily focuses on different topics related to coding, but it does not delve into the specifics of documentation and coding standards.\n",
      "------------------------------------------------------------------\\n\\n\n",
      "Question: \n",
      "Answer: I'm sorry, I don't understand your message. How can I assist you today?\n",
      "------------------------------------------------------------------\\n\\n\n",
      "Question: 7. What are some of the challenges or obstacles mentioned in the text that programmers or coders may face in their work, particularly in the context of coding tests? How does the text suggest overcoming these challenges?\n",
      "Answer: The text does not specifically mention challenges or obstacles faced by programmers or coders in their work or during coding tests. It primarily discusses different topics related to coding, but it does not provide information on overcoming challenges faced by programmers or coders.\n",
      "------------------------------------------------------------------\\n\\n\n",
      "Question: \n",
      "Answer: I'm sorry, I don't understand your question. How can I assist you today?\n",
      "------------------------------------------------------------------\\n\\n\n",
      "Question: 8. How does the text emphasize the importance of collaboration and communication among programmers or coders in the context of preparing for coding tests? Provide examples of instances where teamwork is highlighted in the text.\n",
      "Answer: The text does not specifically mention the importance of collaboration and communication among programmers or coders in the context of preparing for coding tests. It primarily focuses on various other topics related to coding, but it does not provide examples or instances where teamwork is highlighted.\n",
      "------------------------------------------------------------------\\n\\n\n",
      "Question: \n",
      "Answer: I'm sorry, I don't understand your message. How can I assist you today?\n",
      "------------------------------------------------------------------\\n\\n\n",
      "Question: 9. Discuss the role of problem-solving and critical thinking skills in programming as discussed in the text \"izsepan\" in the context of coding test preparation. How does the text suggest improving these skills?\n",
      "Answer: The text \"izsepan\" does not specifically discuss the role of problem-solving and critical thinking skills in programming or provide guidance on improving these skills in the context of coding test preparation. It primarily focuses on different topics related to various subjects and does not delve into programming or coding test preparation strategies.\n",
      "------------------------------------------------------------------\\n\\n\n",
      "Question: \n",
      "Answer: I'm sorry, I don't understand your request. How can I assist you today?\n",
      "------------------------------------------------------------------\\n\\n\n",
      "Question: 10. How does the text address the importance of continuous learning and staying updated with new technologies in the field of coding or programming, specifically in the context of preparing for coding tests? What are some strategies mentioned in the text for professional development in this area?\n",
      "Answer: The text emphasizes the importance of continuous learning and staying updated with new technologies in the field of coding or programming. It suggests that professionals should regularly update their skills to stay competitive and be prepared for coding tests. Some strategies mentioned in the text for professional development in this area include:\n",
      "\n",
      "1. Regularly updating skills and knowledge through continuous learning.\n",
      "2. Keeping up with new technologies and advancements in coding.\n",
      "3. Practicing coding regularly to improve skills.\n",
      "4. Participating in coding tests and challenges to test and enhance coding abilities.\n",
      "5. Seeking out opportunities for professional growth and development in the coding field.\n",
      "6. Engaging with coding communities and networking with other professionals in the field.\n",
      "7. Taking online courses or attending workshops to learn new coding techniques and technologies.\n",
      "------------------------------------------------------------------\\n\\n\n"
     ]
    }
   ],
   "source": [
    "for question in ques_list:\n",
    "    print(\"Question:\",question)\n",
    "    answer = answer_generation_chain.run(question)\n",
    "    print(\"Answer:\",answer)\n",
    "\n",
    "    print(\"------------------------------------------------------------------\\\\n\\\\n\")\n",
    "\n",
    "    with open(\"answers.text\",\"a\") as f:\n",
    "        f.write(\"Question:\"+question+\"\\\\n\")\n",
    "        f.write(\"Answer:\"+answer+\"\\\\n\")\n",
    "        f.write(\"-----------------------------------------------------------------\\\\n\\\\n\")"
   ]
  },
  {
   "cell_type": "code",
   "execution_count": null,
   "metadata": {},
   "outputs": [],
   "source": []
  }
 ],
 "metadata": {
  "kernelspec": {
   "display_name": "Python (.venv)",
   "language": "python",
   "name": ".venv"
  },
  "language_info": {
   "codemirror_mode": {
    "name": "ipython",
    "version": 3
   },
   "file_extension": ".py",
   "mimetype": "text/x-python",
   "name": "python",
   "nbconvert_exporter": "python",
   "pygments_lexer": "ipython3",
   "version": "3.10.3"
  }
 },
 "nbformat": 4,
 "nbformat_minor": 2
}
